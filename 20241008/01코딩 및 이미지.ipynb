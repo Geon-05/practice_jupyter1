{
 "cells": [
  {
   "cell_type": "code",
   "execution_count": 1,
   "id": "9a093d7b-8df6-4fc1-ba68-11cd069df71d",
   "metadata": {},
   "outputs": [
    {
     "data": {
      "text/plain": [
       "'C:\\\\Users\\\\go121\\\\practice_jupyter\\\\py\\\\데이터분석 및 시각화\\\\05 크롤링_01'"
      ]
     },
     "execution_count": 1,
     "metadata": {},
     "output_type": "execute_result"
    }
   ],
   "source": [
    "pwd"
   ]
  },
  {
   "cell_type": "code",
   "execution_count": 2,
   "id": "2215325f-f9bf-4399-82c2-c241152a5d58",
   "metadata": {},
   "outputs": [],
   "source": [
    "import urllib"
   ]
  },
  {
   "cell_type": "code",
   "execution_count": 4,
   "id": "06e77c41-167a-4a54-8c7a-bb1c6d978afe",
   "metadata": {},
   "outputs": [
    {
     "data": {
      "text/plain": [
       "'%ED%8C%8C%EC%9D%B4%EC%8D%AC'"
      ]
     },
     "execution_count": 4,
     "metadata": {},
     "output_type": "execute_result"
    }
   ],
   "source": [
    "# utf-8로 인코딩\n",
    "urllib.parse.quote('파이썬')"
   ]
  },
  {
   "cell_type": "code",
   "execution_count": 6,
   "id": "a21cfbb6-f0a6-4f5d-9534-312190fa376d",
   "metadata": {},
   "outputs": [
    {
     "data": {
      "text/plain": [
       "'파이썬'"
      ]
     },
     "execution_count": 6,
     "metadata": {},
     "output_type": "execute_result"
    }
   ],
   "source": [
    "# 기본값으로 인코딩\n",
    "urllib.parse.unquote('%ED%8C%8C%EC%9D%B4%EC%8D%AC')"
   ]
  },
  {
   "cell_type": "code",
   "execution_count": 10,
   "id": "0fe606ed-d3f1-47eb-870e-c952e73ce723",
   "metadata": {},
   "outputs": [
    {
     "data": {
      "text/plain": [
       "('./image/abc.jpg', <http.client.HTTPMessage at 0x1af721e3f50>)"
      ]
     },
     "execution_count": 10,
     "metadata": {},
     "output_type": "execute_result"
    }
   ],
   "source": [
    "# 이미지 다운로드\n",
    "# urllib.request.urlretrieve('이미지 URL','저장명')\n",
    "urllib.request.urlretrieve('https://t1.daumcdn.net/cfile/tistory/9966E1365FA24DD233','./image/abc.jpg')"
   ]
  },
  {
   "cell_type": "code",
   "execution_count": null,
   "id": "4e0dcf71-88dd-4094-9407-672b848c5262",
   "metadata": {},
   "outputs": [],
   "source": []
  }
 ],
 "metadata": {
  "kernelspec": {
   "display_name": "Python 3 (ipykernel)",
   "language": "python",
   "name": "python3"
  },
  "language_info": {
   "codemirror_mode": {
    "name": "ipython",
    "version": 3
   },
   "file_extension": ".py",
   "mimetype": "text/x-python",
   "name": "python",
   "nbconvert_exporter": "python",
   "pygments_lexer": "ipython3",
   "version": "3.12.5"
  }
 },
 "nbformat": 4,
 "nbformat_minor": 5
}
