{
 "cells": [
  {
   "cell_type": "code",
   "execution_count": 4,
   "id": "de548197-0495-4498-b909-d30542e1fd4b",
   "metadata": {},
   "outputs": [
    {
     "name": "stdin",
     "output_type": "stream",
     "text": [
      "이미지는 199장 저장됩니다. 진행합니까?(y/n) y\n"
     ]
    },
    {
     "name": "stdout",
     "output_type": "stream",
     "text": [
      "프로그램을 종료합니다.\n"
     ]
    }
   ],
   "source": [
    "import time\n",
    "from selenium import webdriver\n",
    "from selenium.webdriver.chrome.options import Options\n",
    "from selenium.webdriver.chrome.service import Service\n",
    "from webdriver_manager.chrome import ChromeDriverManager\n",
    "from selenium.webdriver.common.keys import Keys\n",
    "from selenium.webdriver.common.by import By\n",
    "from bs4 import BeautifulSoup as bs\n",
    "import pandas as pd\n",
    "import urllib.request\n",
    "import requests\n",
    "import os\n",
    "'''\n",
    "미션\n",
    "픽사베이에서 이미지 다운로드\n",
    "'''\n",
    "options=Options()\n",
    "options.add_experimental_option('detach',True)\n",
    "options.add_argument('--start-maximized')\n",
    "service=Service(ChromeDriverManager().install())\n",
    "\n",
    "driver=webdriver.Chrome(service=service, options=options)\n",
    "\n",
    "# ✨ 기본 검색어 및 url 설정\n",
    "search = '고슴도치'\n",
    "url = f'https://pixabay.com/ko/photos/search/{search}/?pagi=1'\n",
    "# ✨ 이미지 저장시 403에러로 해더 설정\n",
    "user_agent = 'Mozilla/5.0 (Windows NT 10.0; Win64; x64) AppleWebKit/537.36 (KHTML, like Gecko) Chrome/129.0.0.0 Safari/537.36'\n",
    "hdr = {\n",
    "    'User-Agent':user_agent\n",
    "}\n",
    "\n",
    "# ✨ url 접속\n",
    "driver.get(url)\n",
    "time.sleep(2)\n",
    "\n",
    "# ✨ 스크롤 내리기\n",
    "before_location = driver.execute_script(\"return document.body.scrollHeight\")\n",
    "while True:\n",
    "    driver.execute_script(\"window.scrollTo(0,document.body.scrollHeight);\")\n",
    "    time.sleep(1)\n",
    "    after_location = driver.execute_script(\"return document.body.scrollHeight\")\n",
    "    if before_location == after_location:\n",
    "        break\n",
    "    before_location = after_location\n",
    "\n",
    "# ✨ 이미지 선택 및 링크 추출\n",
    "img_elems=driver.find_elements(By.CSS_SELECTOR,'a.link--WHWzm>img')\n",
    "img_srcs=[i.get_attribute('src') for i in img_elems if \"blank\" not in i.get_attribute('src')]\n",
    "\n",
    "# ✨ 마지막 페이지 번호 조회\n",
    "max_page_elem = driver.find_element(By.CSS_SELECTOR,'div.position--YADEi')\n",
    "max_page = int(int(max_page_elem.text.split('/')[1].replace(',',''))/100+1)\n",
    "\n",
    "# ✨ 2페이지 이후 검색 \n",
    "for i in range(2,max_page+1):\n",
    "    new_url = url.replace('pagi=1',f'pagi={i}')\n",
    "    driver.get(new_url)\n",
    "    time.sleep(2)\n",
    "        \n",
    "    # ✨ 이미지 선택 및 링크 추출\n",
    "    img_elems=driver.find_elements(By.CSS_SELECTOR,'a.link--WHWzm>img')\n",
    "    img_tmp=[i.get_attribute('src') for i in img_elems if \"blank\" not in i.get_attribute('src')]\n",
    "    img_srcs.extend(img_tmp)\n",
    "\n",
    "# ✨ 이미지 저장 전 사용자 확인\n",
    "save_res = input(f\"이미지는 {len(img_srcs)}장 저장됩니다. 진행합니까?(y/n)\")\n",
    "if save_res.lower() == 'y':\n",
    "    # ✨ 저장폴더 만들기\n",
    "    path = f'./{search}'\n",
    "    os.makedirs(path, exist_ok=True)\n",
    "\n",
    "    \n",
    "    \n",
    "    # ✨ 이미지 저장\n",
    "    for idx, i in enumerate(img_srcs):\n",
    "        req = requests.get(i,headers=hdr)\n",
    "        with open(f'{path}/{search}{idx:04d}.jpg', \"wb\") as f:\n",
    "            f.write(req.content)\n",
    "            \n",
    "# ✨ 종료\n",
    "driver.quit()\n",
    "print(\"프로그램을 종료합니다.\")"
   ]
  },
  {
   "cell_type": "code",
   "execution_count": null,
   "id": "18843bde-6ed8-45ed-b664-854fc15610d0",
   "metadata": {},
   "outputs": [],
   "source": []
  }
 ],
 "metadata": {
  "kernelspec": {
   "display_name": "Python 3 (ipykernel)",
   "language": "python",
   "name": "python3"
  },
  "language_info": {
   "codemirror_mode": {
    "name": "ipython",
    "version": 3
   },
   "file_extension": ".py",
   "mimetype": "text/x-python",
   "name": "python",
   "nbconvert_exporter": "python",
   "pygments_lexer": "ipython3",
   "version": "3.12.5"
  }
 },
 "nbformat": 4,
 "nbformat_minor": 5
}
