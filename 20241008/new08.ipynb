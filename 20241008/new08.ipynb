{
 "cells": [
  {
   "cell_type": "code",
   "execution_count": 3,
   "id": "810dc493-98c6-48e5-a40c-8bb0a83e30b6",
   "metadata": {},
   "outputs": [
    {
     "name": "stdout",
     "output_type": "stream",
     "text": [
      "193\n",
      "None\n"
     ]
    }
   ],
   "source": [
    "import time\n",
    "from selenium import webdriver\n",
    "from selenium.webdriver.chrome.options import Options\n",
    "from selenium.webdriver.chrome.service import Service\n",
    "from webdriver_manager.chrome import ChromeDriverManager\n",
    "from selenium.webdriver.common.keys import Keys\n",
    "from selenium.webdriver.common.by import By\n",
    "import requests\n",
    "from bs4 import BeautifulSoup as bs\n",
    "import pandas as pd\n",
    "\n",
    "# 크롬드라이브관련 옵션\n",
    "options=Options()\n",
    "options.add_experimental_option('detach',True) #화면이 꺼지지 않고 유지\n",
    "# 주피터에서는 상관없으나 vscode에서는 화면이 꺼지는 경우가 생길 수 있다\n",
    "options.add_argument('--start-maximized') # 화면을 최대화\n",
    "service=Service(ChromeDriverManager().install()) #크롬드라이버 자동 설치\n",
    "\n",
    "driver=webdriver.Chrome(service=service, options=options)\n",
    "\n",
    "def korea(search, pages=1):\n",
    "    '''\n",
    "    미션 / pages=0이라면 모든 자료 가져오\n",
    "    '''\n",
    "    # 처음 접속하는 페이지\n",
    "    url = 'https://www.korea.kr/totalSearch.do?srchFlag=Y&keyword=%EC%B2%AD%EB%85%84%EC%8B%A4%EC%97%85&oldKeyword=%EC%B2%AD%EB%85%84%EC%8B%A4%EC%97%85&resultKeyword=%EC%B2%AD%EB%85%84%EC%8B%A4%EC%97%85&sort=date&scnt=1&punit=10&where=news_korea_2023&dateRange=all&range=ALL&op=and&multiFlag=Y&news_type=pol'\n",
    "    # 드라이버 조작부\n",
    "    driver.get(url)\n",
    "    time.sleep(1)\n",
    "    elem = driver.find_element(By.XPATH,'//*[@id=\"topSearchKeywordSr\"]')\n",
    "    elem.clear()\n",
    "    elem.send_keys(search)\n",
    "    elem.send_keys(Keys.ENTER)\n",
    "    time.sleep(1)\n",
    "    driver.find_element(By.XPATH,'//*[@id=\"news_korea_2023\"]/div[1]/div/ul/li[2]/a').click()\n",
    "    time.sleep(1)\n",
    "    tmp = driver.find_element(By.XPATH,'//*[@id=\"paging\"]/div/a[4]').get_attribute('onclick')\n",
    "    print(int(tmp.strip('pageLink(); return false;')))\n",
    "    html = driver.page_source\n",
    "    res = [html]\n",
    "    # if pages > 1:\n",
    "    #     for i in range(2, pages+1):\n",
    "    #         driver.find_element(By.LINK_TEXT,str(i)).click()\n",
    "    #         time.sleep(1)\n",
    "    #         res.append(driver.page_source)\n",
    "    # return res\n",
    "\n",
    "print(korea('부동산',3))"
   ]
  },
  {
   "cell_type": "code",
   "execution_count": null,
   "id": "5cdfc8c3-7edd-4173-8f25-384abc0d955e",
   "metadata": {},
   "outputs": [],
   "source": []
  }
 ],
 "metadata": {
  "kernelspec": {
   "display_name": "Python 3 (ipykernel)",
   "language": "python",
   "name": "python3"
  },
  "language_info": {
   "codemirror_mode": {
    "name": "ipython",
    "version": 3
   },
   "file_extension": ".py",
   "mimetype": "text/x-python",
   "name": "python",
   "nbconvert_exporter": "python",
   "pygments_lexer": "ipython3",
   "version": "3.12.5"
  }
 },
 "nbformat": 4,
 "nbformat_minor": 5
}
