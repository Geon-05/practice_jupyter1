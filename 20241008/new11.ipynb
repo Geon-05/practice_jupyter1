{
 "cells": [
  {
   "cell_type": "code",
   "execution_count": 11,
   "id": "1bb3c3d6-2f8b-4726-af9f-8cd5396a20dc",
   "metadata": {},
   "outputs": [],
   "source": [
    "import time\n",
    "from selenium import webdriver\n",
    "from selenium.webdriver.chrome.options import Options\n",
    "from selenium.webdriver.chrome.service import Service\n",
    "from webdriver_manager.chrome import ChromeDriverManager\n",
    "from selenium.webdriver.common.keys import Keys\n",
    "from selenium.webdriver.common.by import By\n",
    "from bs4 import BeautifulSoup as bs\n",
    "import pandas as pd\n",
    "from tqdm import tqdm\n",
    "import urllib.request\n",
    "import requests\n",
    "import random\n",
    "\n",
    "options=Options()\n",
    "options.add_experimental_option('detach',True) #화면이 꺼지지 않고 유지\n",
    "options.add_argument('--start-maximized') # 화면을 최대화\n",
    "service=Service(ChromeDriverManager().install()) #크롬드라이버 자동 설치\n",
    "\n",
    "driver=webdriver.Chrome(service=service, options=options)\n",
    "\n",
    "# 1. url생성\n",
    "search = '고양이'\n",
    "url = f'https://search.naver.com/search.naver?ssc=tab.image.all&where=image&sm=tab_jum&query={search}'\n",
    "\n",
    "# 2. url접속\n",
    "# random.uniform(2,4) 2~4까지의 랜덤한 실수 반환\n",
    "driver.get(url)\n",
    "time.sleep(random.uniform(2,4))\n",
    "for i in range(10):\n",
    "    # 수직이동줄 가장 아래까지 드레그\n",
    "    driver.execute_script(\"window.scrollTo(0,document.body.scrollHeight);\")\n",
    "    time.sleep(random.uniform(1,4))\n",
    "\n",
    "html = driver.page_source"
   ]
  },
  {
   "cell_type": "code",
   "execution_count": 15,
   "id": "8f963525-7b95-4f86-84df-3cce602b7e0a",
   "metadata": {},
   "outputs": [],
   "source": [
    "soup = bs(html, 'html')\n",
    "img_tags = soup.find_all('img', '_fe_image_tab_content_thumbnail_image')\n",
    "img_srcs = [i['src'] for i in img_tags]"
   ]
  },
  {
   "cell_type": "code",
   "execution_count": 18,
   "id": "f05dfa56-9170-4a0a-9f45-38c00709e105",
   "metadata": {},
   "outputs": [],
   "source": [
    "import os\n",
    "path=f'./{search}'\n",
    "os.makedirs(path, exist_ok=True)\n",
    "for idx, i in enumerate(img_srcs):\n",
    "    file_name = f'{path}/{search}{idx:03d}.jpg'\n",
    "    urllib.request.urlretrieve(i,file_name)"
   ]
  },
  {
   "cell_type": "code",
   "execution_count": null,
   "id": "1a65c95c-d833-4710-be61-e2b648b61b49",
   "metadata": {},
   "outputs": [],
   "source": []
  }
 ],
 "metadata": {
  "kernelspec": {
   "display_name": "Python 3 (ipykernel)",
   "language": "python",
   "name": "python3"
  },
  "language_info": {
   "codemirror_mode": {
    "name": "ipython",
    "version": 3
   },
   "file_extension": ".py",
   "mimetype": "text/x-python",
   "name": "python",
   "nbconvert_exporter": "python",
   "pygments_lexer": "ipython3",
   "version": "3.12.5"
  }
 },
 "nbformat": 4,
 "nbformat_minor": 5
}
