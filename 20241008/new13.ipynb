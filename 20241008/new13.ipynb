{
 "cells": [
  {
   "cell_type": "code",
   "execution_count": 22,
   "id": "3eab039b-6459-4fcc-9f13-f1de47173771",
   "metadata": {},
   "outputs": [],
   "source": [
    "import time\n",
    "from selenium import webdriver\n",
    "from selenium.webdriver.chrome.options import Options\n",
    "from selenium.webdriver.chrome.service import Service\n",
    "from webdriver_manager.chrome import ChromeDriverManager\n",
    "from selenium.webdriver.common.keys import Keys\n",
    "from selenium.webdriver.common.by import By\n",
    "from bs4 import BeautifulSoup as bs\n",
    "import pandas as pd\n",
    "# from tqdm import tqdm\n",
    "import urllib.request\n",
    "import requests\n",
    "# import random\n",
    "import os\n",
    "\n",
    "options=Options()\n",
    "options.add_experimental_option('detach',True) #화면이 꺼지지 않고 유지\n",
    "options.add_argument('--start-maximized') # 화면을 최대화\n",
    "service=Service(ChromeDriverManager().install()) #크롬드라이버 자동 설치\n",
    "\n",
    "driver=webdriver.Chrome(service=service, options=options)\n",
    "\n",
    "# 1. url생성\n",
    "search = '원숭이'\n",
    "url = f'https://search.daum.net/search?w=img&nil_search=btn&DA=NTB&enc=utf8&q={search}'\n",
    "\n",
    "# 2. url 접속\n",
    "driver.get(url)\n",
    "time.sleep(2)\n",
    "\n",
    "# 3. 수직 스크롤바를 내린다.\n",
    "# 화면을 아래로 내리는 방법\n",
    "before_location = driver.execute_script(\"return document.body.scrollHeight\")\n",
    "\n",
    "while True:\n",
    "    driver.execute_script(\"window.scrollTo(0,document.body.scrollHeight);\")\n",
    "    time.sleep(1)\n",
    "    after_location = driver.execute_script(\"return document.body.scrollHeight\")\n",
    "    if before_location == after_location:\n",
    "        break\n",
    "    before_location = after_location\n",
    "\n",
    "img_elems=driver.find_elements(By.CSS_SELECTOR,'a.thumb_bf>img')\n",
    "img_srcs=[i.get_attribute('src') for i in img_elems]\n",
    "\n",
    "# 6. 폴더 만들기\n",
    "path = f'./{search}'\n",
    "os.makedirs(path, exist_ok=True)\n",
    "\n",
    "# 7. img_srcs에 들어있는 이미지 다운로드\n",
    "for idx, i in enumerate(img_srcs):\n",
    "    file_name = f'{path}/{search}{idx:04d}.jpg'\n",
    "    urllib.request.urlretrieve(i, file_name)"
   ]
  },
  {
   "cell_type": "code",
   "execution_count": null,
   "id": "c769f501-93c1-4a97-9ba2-2c9b3aa8da7e",
   "metadata": {},
   "outputs": [],
   "source": []
  }
 ],
 "metadata": {
  "kernelspec": {
   "display_name": "Python 3 (ipykernel)",
   "language": "python",
   "name": "python3"
  },
  "language_info": {
   "codemirror_mode": {
    "name": "ipython",
    "version": 3
   },
   "file_extension": ".py",
   "mimetype": "text/x-python",
   "name": "python",
   "nbconvert_exporter": "python",
   "pygments_lexer": "ipython3",
   "version": "3.12.5"
  }
 },
 "nbformat": 4,
 "nbformat_minor": 5
}
