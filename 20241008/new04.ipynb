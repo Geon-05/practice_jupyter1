{
 "cells": [
  {
   "cell_type": "code",
   "execution_count": 1,
   "id": "56eeea43-96ab-4956-84e2-f326526d0ced",
   "metadata": {},
   "outputs": [
    {
     "data": {
      "text/plain": [
       "'C:\\\\Users\\\\go121\\\\practice_jupyter\\\\py\\\\데이터분석 및 시각화\\\\05 크롤링_01'"
      ]
     },
     "execution_count": 1,
     "metadata": {},
     "output_type": "execute_result"
    }
   ],
   "source": [
    "pwd"
   ]
  },
  {
   "cell_type": "code",
   "execution_count": 2,
   "id": "e9b11049-fd25-4366-968e-e470002aef82",
   "metadata": {},
   "outputs": [],
   "source": [
    "import requests\n",
    "import pandas as pd\n",
    "from bs4 import BeautifulSoup as bs"
   ]
  },
  {
   "cell_type": "code",
   "execution_count": 19,
   "id": "32629640-a2eb-4b54-86b4-0ba705de0455",
   "metadata": {},
   "outputs": [],
   "source": [
    "def search_kin(query, page=1):\n",
    "    res = []\n",
    "    for i in range(1,(page+1)):\n",
    "        url = f'https://kin.naver.com/search/list.naver?query={query}&page={i}'\n",
    "        html = requests.get(url)\n",
    "        soup = bs(html.text, 'html')\n",
    "        soup_tag = soup.find_all('a', '_nclicks:kin.txt _searchListTitleAnchor')\n",
    "        for j in soup_tag:\n",
    "            tmp = {}\n",
    "            tmp['제목'] = j.text\n",
    "            tmp['링크'] = j['href']\n",
    "            res.append(tmp)\n",
    "    res_df = pd.DataFrame(res)\n",
    "    res_df.to_csv(f'./{query}_네이버지식인.csv')\n",
    "    return res_df"
   ]
  },
  {
   "cell_type": "code",
   "execution_count": 20,
   "id": "0df8a6b8-bc57-4617-b2c6-2af947502827",
   "metadata": {},
   "outputs": [
    {
     "name": "stdout",
     "output_type": "stream",
     "text": [
      "(100, 2)\n"
     ]
    },
    {
     "data": {
      "text/html": [
       "<div>\n",
       "<style scoped>\n",
       "    .dataframe tbody tr th:only-of-type {\n",
       "        vertical-align: middle;\n",
       "    }\n",
       "\n",
       "    .dataframe tbody tr th {\n",
       "        vertical-align: top;\n",
       "    }\n",
       "\n",
       "    .dataframe thead th {\n",
       "        text-align: right;\n",
       "    }\n",
       "</style>\n",
       "<table border=\"1\" class=\"dataframe\">\n",
       "  <thead>\n",
       "    <tr style=\"text-align: right;\">\n",
       "      <th></th>\n",
       "      <th>제목</th>\n",
       "      <th>링크</th>\n",
       "    </tr>\n",
       "  </thead>\n",
       "  <tbody>\n",
       "    <tr>\n",
       "      <th>0</th>\n",
       "      <td>파이썬 입문 질문</td>\n",
       "      <td>https://kin.naver.com/qna/detail.naver?d1id=1&amp;...</td>\n",
       "    </tr>\n",
       "    <tr>\n",
       "      <th>1</th>\n",
       "      <td>파이썬 c언어</td>\n",
       "      <td>https://kin.naver.com/qna/detail.naver?d1id=1&amp;...</td>\n",
       "    </tr>\n",
       "    <tr>\n",
       "      <th>2</th>\n",
       "      <td>파이썬으로 가능한 업무일까요?</td>\n",
       "      <td>https://kin.naver.com/qna/detail.naver?d1id=1&amp;...</td>\n",
       "    </tr>\n",
       "    <tr>\n",
       "      <th>3</th>\n",
       "      <td>파이썬엑셀자동화질문</td>\n",
       "      <td>https://kin.naver.com/qna/detail.naver?d1id=11...</td>\n",
       "    </tr>\n",
       "    <tr>\n",
       "      <th>4</th>\n",
       "      <td>파이썬독학할 때 어떻게 공부를 해야하나요</td>\n",
       "      <td>https://kin.naver.com/qna/detail.naver?d1id=1&amp;...</td>\n",
       "    </tr>\n",
       "  </tbody>\n",
       "</table>\n",
       "</div>"
      ],
      "text/plain": [
       "                       제목                                                 링크\n",
       "0               파이썬 입문 질문  https://kin.naver.com/qna/detail.naver?d1id=1&...\n",
       "1                 파이썬 c언어  https://kin.naver.com/qna/detail.naver?d1id=1&...\n",
       "2        파이썬으로 가능한 업무일까요?  https://kin.naver.com/qna/detail.naver?d1id=1&...\n",
       "3              파이썬엑셀자동화질문  https://kin.naver.com/qna/detail.naver?d1id=11...\n",
       "4  파이썬독학할 때 어떻게 공부를 해야하나요  https://kin.naver.com/qna/detail.naver?d1id=1&..."
      ]
     },
     "execution_count": 20,
     "metadata": {},
     "output_type": "execute_result"
    }
   ],
   "source": [
    "df = search_kin(\"파이썬\", page=10)\n",
    "print(df.shape)\n",
    "df.head()"
   ]
  },
  {
   "cell_type": "code",
   "execution_count": 15,
   "id": "c831228f-de9c-47eb-9016-cbb6d11e2eeb",
   "metadata": {},
   "outputs": [
    {
     "data": {
      "text/plain": [
       "'https://kin.naver.com/qna/detail.naver?d1id=1&dirId=10402&docId=474404973&qb=7YyM7J207I2s&enc=utf8§ion=kin.qna_ency&rank=1&search_sort=0&spq=0'"
      ]
     },
     "execution_count": 15,
     "metadata": {},
     "output_type": "execute_result"
    }
   ],
   "source": [
    "df['링크'][0]"
   ]
  },
  {
   "cell_type": "code",
   "execution_count": 16,
   "id": "5f118feb-809e-4e45-8d4c-2a1e6b553062",
   "metadata": {},
   "outputs": [
    {
     "data": {
      "text/plain": [
       "'https://kin.naver.com/qna/detail.naver?d1id=1&dirId=1040101&docId=475943347&qb=7YyM7J207I2s&enc=utf8§ion=kin.qna_ency&rank=2&search_sort=0&spq=0'"
      ]
     },
     "execution_count": 16,
     "metadata": {},
     "output_type": "execute_result"
    }
   ],
   "source": [
    "df['링크'][1]"
   ]
  },
  {
   "cell_type": "code",
   "execution_count": null,
   "id": "8349904d-21fc-46e6-8c91-7e87771c0b45",
   "metadata": {},
   "outputs": [],
   "source": []
  }
 ],
 "metadata": {
  "kernelspec": {
   "display_name": "Python 3 (ipykernel)",
   "language": "python",
   "name": "python3"
  },
  "language_info": {
   "codemirror_mode": {
    "name": "ipython",
    "version": 3
   },
   "file_extension": ".py",
   "mimetype": "text/x-python",
   "name": "python",
   "nbconvert_exporter": "python",
   "pygments_lexer": "ipython3",
   "version": "3.12.5"
  }
 },
 "nbformat": 4,
 "nbformat_minor": 5
}
