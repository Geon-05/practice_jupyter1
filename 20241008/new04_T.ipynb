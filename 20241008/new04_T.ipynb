{
 "cells": [
  {
   "cell_type": "code",
   "execution_count": 1,
   "id": "56eeea43-96ab-4956-84e2-f326526d0ced",
   "metadata": {},
   "outputs": [
    {
     "data": {
      "text/plain": [
       "'C:\\\\Users\\\\go121\\\\practice_jupyter\\\\py\\\\데이터분석 및 시각화\\\\05 크롤링_01'"
      ]
     },
     "execution_count": 1,
     "metadata": {},
     "output_type": "execute_result"
    }
   ],
   "source": [
    "pwd"
   ]
  },
  {
   "cell_type": "code",
   "execution_count": 2,
   "id": "e9b11049-fd25-4366-968e-e470002aef82",
   "metadata": {},
   "outputs": [],
   "source": [
    "import requests\n",
    "import pandas as pd\n",
    "from bs4 import BeautifulSoup as bs"
   ]
  },
  {
   "cell_type": "code",
   "execution_count": 9,
   "id": "32629640-a2eb-4b54-86b4-0ba705de0455",
   "metadata": {},
   "outputs": [],
   "source": [
    "def search_kin(query, page=1):\n",
    "    res = []\n",
    "    for i in range(1,(page+1)):\n",
    "        url = f'https://kin.naver.com/search/list.naver?query={query}&page={i}'\n",
    "        html = requests.get(url)\n",
    "        soup = bs(html.text, 'html')\n",
    "        soup_tag = soup.find_all('a', '_nclicks:kin.txt _searchListTitleAnchor')\n",
    "        for j in soup_tag:\n",
    "            tmp = {}\n",
    "            tmp['제목'] = j.text\n",
    "            tmp['링크'] = j['href']\n",
    "            res.append(tmp)\n",
    "    res_df = pd.DataFrame(res)\n",
    "    return res_df"
   ]
  },
  {
   "cell_type": "code",
   "execution_count": null,
   "id": "c831228f-de9c-47eb-9016-cbb6d11e2eeb",
   "metadata": {},
   "outputs": [],
   "source": []
  }
 ],
 "metadata": {
  "kernelspec": {
   "display_name": "Python 3 (ipykernel)",
   "language": "python",
   "name": "python3"
  },
  "language_info": {
   "codemirror_mode": {
    "name": "ipython",
    "version": 3
   },
   "file_extension": ".py",
   "mimetype": "text/x-python",
   "name": "python",
   "nbconvert_exporter": "python",
   "pygments_lexer": "ipython3",
   "version": "3.12.5"
  }
 },
 "nbformat": 4,
 "nbformat_minor": 5
}
