{
 "cells": [
  {
   "cell_type": "code",
   "execution_count": 5,
   "id": "35b9eec3-ce6b-4c22-8f22-d0c039848336",
   "metadata": {},
   "outputs": [
    {
     "name": "stdin",
     "output_type": "stream",
     "text": [
      "문자를 입력하세요. 안녕하세요\n"
     ]
    },
    {
     "name": "stdout",
     "output_type": "stream",
     "text": [
      "안녕하세요:D\n"
     ]
    }
   ],
   "source": [
    "def print_with_smile ():\n",
    "    input_str = input(\"문자를 입력하세요.\")\n",
    "    print(input_str + \":D\")\n",
    "print_with_smile ()"
   ]
  },
  {
   "cell_type": "code",
   "execution_count": 7,
   "id": "05d13b03-9eda-4267-b368-fc202146bba6",
   "metadata": {},
   "outputs": [
    {
     "name": "stdin",
     "output_type": "stream",
     "text": [
      "현재 가격을 입력하세요. 10000\n"
     ]
    },
    {
     "name": "stdout",
     "output_type": "stream",
     "text": [
      "13000.0\n"
     ]
    }
   ],
   "source": [
    "def print_upper_price () :\n",
    "    input_price = int(input(\"현재 가격을 입력하세요.\"))\n",
    "    print(input_price * 1.3)\n",
    "print_upper_price ()"
   ]
  },
  {
   "cell_type": "code",
   "execution_count": 9,
   "id": "521a5eba-3944-41ca-878b-5bd218b82462",
   "metadata": {},
   "outputs": [
    {
     "name": "stdin",
     "output_type": "stream",
     "text": [
      "num1 : 5\n",
      "num2 : 8\n"
     ]
    },
    {
     "name": "stdout",
     "output_type": "stream",
     "text": [
      "13\n"
     ]
    }
   ],
   "source": [
    "num1 = int(input(\"num1 :\"))\n",
    "num2 = int(input(\"num2 :\"))\n",
    "\n",
    "def print_sum (num1, num2) :\n",
    "    return num1 + num2\n",
    "\n",
    "print(print_sum (num1, num2))"
   ]
  },
  {
   "cell_type": "code",
   "execution_count": 10,
   "id": "a94ce35b-71b8-4f39-9d1c-f238c88f427b",
   "metadata": {},
   "outputs": [
    {
     "name": "stdout",
     "output_type": "stream",
     "text": [
      "3+4=7\n",
      "3-4=-1\n",
      "3*4=12\n",
      "3/4=0.75\n"
     ]
    }
   ],
   "source": [
    "def print_arithmetic_operation(num1,num2):\n",
    "    print(f'{num1}+{num2}={num1+num2}')\n",
    "    print(f'{num1}-{num2}={num1-num2}')\n",
    "    print(f'{num1}*{num2}={num1*num2}')\n",
    "    print(f'{num1}/{num2}={num1/num2}')\n",
    "\n",
    "print_arithmetic_operation(3, 4)"
   ]
  },
  {
   "cell_type": "code",
   "execution_count": 11,
   "id": "b2254aea-2fd0-42fe-bca8-f0e69d57ccb7",
   "metadata": {},
   "outputs": [
    {
     "name": "stdout",
     "output_type": "stream",
     "text": [
      "19\n"
     ]
    }
   ],
   "source": [
    "def print_max(num1,num2,num3):\n",
    "    if (num1 > num2) and (num1 > num3):\n",
    "        print(num1)\n",
    "    elif (num2 > num1) and (num2 > num3):\n",
    "        print(num2)\n",
    "    else :\n",
    "        print(num3)\n",
    "print_max(5,19,17)"
   ]
  },
  {
   "cell_type": "code",
   "execution_count": 13,
   "id": "9109ba00-2afb-4003-9112-16f83ef260b8",
   "metadata": {},
   "outputs": [
    {
     "name": "stdout",
     "output_type": "stream",
     "text": [
      "nohtyp\n"
     ]
    }
   ],
   "source": [
    "def print_reverse(string) :\n",
    "    string = string[::-1]\n",
    "    print(string)\n",
    "print_reverse(\"python\")"
   ]
  },
  {
   "cell_type": "code",
   "execution_count": 14,
   "id": "1bf945a9-7e5a-4e02-9745-7bb91ded4b57",
   "metadata": {},
   "outputs": [
    {
     "name": "stdout",
     "output_type": "stream",
     "text": [
      "2.0\n"
     ]
    }
   ],
   "source": [
    "def print_score (score):\n",
    "    res = 0\n",
    "    for i in score:\n",
    "        res += i\n",
    "    print(res / len(score))\n",
    "print_score ([1, 2, 3])"
   ]
  },
  {
   "cell_type": "code",
   "execution_count": 15,
   "id": "c215163a-1b6c-456c-a053-157fb36dcc0d",
   "metadata": {},
   "outputs": [
    {
     "name": "stdout",
     "output_type": "stream",
     "text": [
      "2\n",
      "10\n",
      "12\n"
     ]
    }
   ],
   "source": [
    "def print_even (num) :\n",
    "    for i in num:\n",
    "        if i % 2 == 0 :\n",
    "            print(i)\n",
    "print_even ([1, 3, 2, 10, 12, 11, 15])"
   ]
  },
  {
   "cell_type": "code",
   "execution_count": 17,
   "id": "0801714c-81c1-4284-9eed-e85532ee93f9",
   "metadata": {},
   "outputs": [
    {
     "name": "stdout",
     "output_type": "stream",
     "text": [
      "이름\n",
      "나이\n",
      "성별\n"
     ]
    }
   ],
   "source": [
    "def print_keys (dic) :\n",
    "    key_list = dic.keys()\n",
    "    for i in key_list :\n",
    "        print(i)\n",
    "print_keys ({\"이름\":\"김말똥\", \"나이\":30, \"성별\":0})"
   ]
  },
  {
   "cell_type": "code",
   "execution_count": 22,
   "id": "80528052-5bdb-40ce-bca7-ca285cb76599",
   "metadata": {},
   "outputs": [
    {
     "name": "stdout",
     "output_type": "stream",
     "text": [
      "[100, 130, 100, 100]\n"
     ]
    }
   ],
   "source": [
    "my_dict = {\"10/26\" : [100, 130, 100, 100],\n",
    "           \"10/27\" : [10, 12, 10, 11]}\n",
    "def print_value_by_key  (dic, date):\n",
    "    print(dic[date])\n",
    "\n",
    "print_value_by_key  (my_dict, \"10/26\")"
   ]
  },
  {
   "cell_type": "code",
   "execution_count": 30,
   "id": "2f3d8c8a-fb8f-4ef7-b8fc-828b64aee07c",
   "metadata": {},
   "outputs": [
    {
     "name": "stdout",
     "output_type": "stream",
     "text": [
      "아이엠어보\n",
      "이유알어걸\n"
     ]
    }
   ],
   "source": [
    "def print_5xn(string):\n",
    "    i = 0\n",
    "    while i < len(string):\n",
    "        for j in range(5):\n",
    "            print(string[i],end='')\n",
    "            i += 1\n",
    "        print()\n",
    "print_5xn(\"아이엠어보이유알어걸\")"
   ]
  },
  {
   "cell_type": "code",
   "execution_count": 36,
   "id": "1deb0833-842c-4307-ac45-49010993d491",
   "metadata": {},
   "outputs": [
    {
     "name": "stdout",
     "output_type": "stream",
     "text": [
      "아이엠\n",
      "어보이\n",
      "유알어\n",
      "걸\n"
     ]
    }
   ],
   "source": [
    "def printmxn(string, num):\n",
    "    i = 0\n",
    "    while i < len(string):\n",
    "        for j in range(3):\n",
    "            if i == len(string):\n",
    "                break\n",
    "            print(string[i],end='')\n",
    "            i += 1\n",
    "        print()\n",
    "printmxn(\"아이엠어보이유알어걸\", 3)"
   ]
  },
  {
   "cell_type": "code",
   "execution_count": 40,
   "id": "829649ad-05fe-4a13-9edc-212aff8a16d3",
   "metadata": {},
   "outputs": [
    {
     "name": "stdout",
     "output_type": "stream",
     "text": [
      "1000000\n"
     ]
    }
   ],
   "source": [
    "def calc_monthly_salary(annual_salary):\n",
    "    salary = int(annual_salary / 12)\n",
    "    print(salary)\n",
    "calc_monthly_salary(1200000)"
   ]
  },
  {
   "cell_type": "code",
   "execution_count": 42,
   "id": "13603acf-0976-41bd-8743-3a3d3fb7ad25",
   "metadata": {},
   "outputs": [
    {
     "name": "stdout",
     "output_type": "stream",
     "text": [
      "www.naver.com\n"
     ]
    }
   ],
   "source": [
    "def make_url(site):\n",
    "    return \"www.\"+site+\".com\"\n",
    "print(make_url(\"naver\"))"
   ]
  },
  {
   "cell_type": "code",
   "execution_count": 51,
   "id": "ddad66a2-5f56-4fa7-b037-422998592087",
   "metadata": {},
   "outputs": [
    {
     "data": {
      "text/plain": [
       "['a', 'b', 'c', 'd']"
      ]
     },
     "execution_count": 51,
     "metadata": {},
     "output_type": "execute_result"
    }
   ],
   "source": [
    "def make_list(string):\n",
    "    return list(string)\n",
    "\n",
    "make_list(\"abcd\")"
   ]
  },
  {
   "cell_type": "code",
   "execution_count": 52,
   "id": "b2e28e7c-1342-4caa-833a-34f6b59f8f23",
   "metadata": {},
   "outputs": [
    {
     "name": "stdout",
     "output_type": "stream",
     "text": [
      "[4, 6, 8]\n"
     ]
    }
   ],
   "source": [
    "def pickup_even(num_list):\n",
    "    res = []\n",
    "    for i in num_list:\n",
    "        if i % 2 == 0 :\n",
    "            res.append(i)\n",
    "    return res\n",
    "\n",
    "print(pickup_even([3, 4, 5, 6, 7, 8]))"
   ]
  },
  {
   "cell_type": "code",
   "execution_count": 56,
   "id": "e9f4d1ba-93fe-47bb-9073-31611fa515f3",
   "metadata": {},
   "outputs": [
    {
     "name": "stdout",
     "output_type": "stream",
     "text": [
      "1234567\n"
     ]
    }
   ],
   "source": [
    "def convert_int(string) :\n",
    "    return int(string.replace(',',''))\n",
    "print(convert_int(\"1,234,567\"))"
   ]
  },
  {
   "cell_type": "code",
   "execution_count": null,
   "id": "32d59b34-25c8-41dd-b4df-b038b72ae371",
   "metadata": {},
   "outputs": [],
   "source": []
  }
 ],
 "metadata": {
  "kernelspec": {
   "display_name": "Python 3 (ipykernel)",
   "language": "python",
   "name": "python3"
  },
  "language_info": {
   "codemirror_mode": {
    "name": "ipython",
    "version": 3
   },
   "file_extension": ".py",
   "mimetype": "text/x-python",
   "name": "python",
   "nbconvert_exporter": "python",
   "pygments_lexer": "ipython3",
   "version": "3.12.5"
  }
 },
 "nbformat": 4,
 "nbformat_minor": 5
}
