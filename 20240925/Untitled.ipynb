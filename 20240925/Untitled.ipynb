{
 "cells": [
  {
   "cell_type": "code",
   "execution_count": 1,
   "id": "b961d183-fd26-40f8-a689-afd85ba17878",
   "metadata": {},
   "outputs": [
    {
     "data": {
      "text/plain": [
       "'C:\\\\Users\\\\zcode\\\\Desktop\\\\py\\\\2차'"
      ]
     },
     "execution_count": 1,
     "metadata": {},
     "output_type": "execute_result"
    }
   ],
   "source": [
    "pwd"
   ]
  },
  {
   "cell_type": "code",
   "execution_count": 2,
   "id": "7f1b1f47-a23f-49a4-a20b-7670911481e8",
   "metadata": {},
   "outputs": [
    {
     "name": "stdout",
     "output_type": "stream",
     "text": [
      "Collecting qrcode\n",
      "  Downloading qrcode-7.4.2-py3-none-any.whl.metadata (17 kB)\n",
      "Requirement already satisfied: typing-extensions in c:\\users\\zcode\\.conda\\envs\\edu\\lib\\site-packages (from qrcode) (4.11.0)\n",
      "Collecting pypng (from qrcode)\n",
      "  Downloading pypng-0.20220715.0-py3-none-any.whl.metadata (13 kB)\n",
      "Requirement already satisfied: colorama in c:\\users\\zcode\\.conda\\envs\\edu\\lib\\site-packages (from qrcode) (0.4.6)\n",
      "Downloading qrcode-7.4.2-py3-none-any.whl (46 kB)\n",
      "Downloading pypng-0.20220715.0-py3-none-any.whl (58 kB)\n",
      "Installing collected packages: pypng, qrcode\n",
      "Successfully installed pypng-0.20220715.0 qrcode-7.4.2\n"
     ]
    }
   ],
   "source": [
    "!pip install qrcode"
   ]
  },
  {
   "cell_type": "code",
   "execution_count": 3,
   "id": "33391221-f272-4fb6-8c93-b2380b79696d",
   "metadata": {},
   "outputs": [],
   "source": [
    "import qrcode"
   ]
  },
  {
   "cell_type": "code",
   "execution_count": 5,
   "id": "f2ed656e-de2f-4eb3-a440-ffe603ba1984",
   "metadata": {},
   "outputs": [
    {
     "data": {
      "image/jpeg": "[encoded data removed]",
      "image/png": "[encoded data removed]",
      "text/plain": [
       "<qrcode.image.pil.PilImage at 0x168bd143ce0>"
      ]
     },
     "execution_count": 5,
     "metadata": {},
     "output_type": "execute_result"
    }
   ],
   "source": [
    "qr_data = '000아 생일 축하한다. 👍'\n",
    "qr_img = qrcode.make(qr_data)\n",
    "qr_img"
   ]
  },
  {
   "cell_type": "code",
   "execution_count": 6,
   "id": "bcea86f9-ec7d-499e-9a1d-18fcd7d7ebdd",
   "metadata": {},
   "outputs": [
    {
     "name": "stdout",
     "output_type": "stream",
     "text": [
      "['www.naver.com\\n', 'www.daum.net\\n', 'www.google.com']\n"
     ]
    }
   ],
   "source": [
    "f = open('./qr_데이터.txt', 'r')\n",
    "print(list(f))\n",
    "f.close() # 메모리에서 거"
   ]
  },
  {
   "cell_type": "code",
   "execution_count": 9,
   "id": "e37aa51f-e9c7-4a1d-8955-c331ff3ae8c0",
   "metadata": {},
   "outputs": [
    {
     "name": "stdout",
     "output_type": "stream",
     "text": [
      "['www.naver.com', 'www.daum.net', 'www.google.com']\n"
     ]
    }
   ],
   "source": [
    "with open('./qr_데이터.txt', 'r') as f:\n",
    "    data = [i.strip() for i in list(f)]\n",
    "print(data)"
   ]
  },
  {
   "cell_type": "code",
   "execution_count": 25,
   "id": "f783531e-1587-4c64-8a6f-dcc40356c809",
   "metadata": {},
   "outputs": [],
   "source": [
    "# ['www.naver.com', 'www.daum.net', 'www.google.com']\n",
    "# qr_naver.jpg, qr_daum.jpg, qr_google.jpg => QR코드 생성하고 jpg로 저장\n",
    "import qrcode\n",
    "import os\n",
    "\n",
    "with open('./qr_데이터.txt', 'r') as f:\n",
    "    data = [i.strip() for i in list(f)]\n",
    "\n",
    "for qr_data in data :\n",
    "    site = qr_data.split(\".\")[1]\n",
    "    os.makedirs(f'./qrcode/{site}',exist_ok=True)\n",
    "    qr_img = qrcode.make(qr_data)\n",
    "    qr_img.save(f'./qrcode/{site}/qr_{site}.jpg')"
   ]
  },
  {
   "cell_type": "code",
   "execution_count": null,
   "id": "57c7f8c2-fca1-473f-98a1-0c3bf1b1cfa7",
   "metadata": {},
   "outputs": [],
   "source": []
  }
 ],
 "metadata": {
  "kernelspec": {
   "display_name": "Python 3 (ipykernel)",
   "language": "python",
   "name": "python3"
  },
  "language_info": {
   "codemirror_mode": {
    "name": "ipython",
    "version": 3
   },
   "file_extension": ".py",
   "mimetype": "text/x-python",
   "name": "python",
   "nbconvert_exporter": "python",
   "pygments_lexer": "ipython3",
   "version": "3.12.5"
  }
 },
 "nbformat": 4,
 "nbformat_minor": 5
}
