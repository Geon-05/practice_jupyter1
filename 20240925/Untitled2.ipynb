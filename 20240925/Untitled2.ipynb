{
 "cells": [
  {
   "cell_type": "code",
   "execution_count": 27,
   "id": "2b2a7fea-2da7-4600-bcf8-a5779f9f2fd8",
   "metadata": {},
   "outputs": [
    {
     "data": {
      "text/plain": [
       "'C:\\\\Users\\\\zcode\\\\Desktop\\\\py\\\\2차'"
      ]
     },
     "execution_count": 27,
     "metadata": {},
     "output_type": "execute_result"
    }
   ],
   "source": [
    "pwd"
   ]
  },
  {
   "cell_type": "code",
   "execution_count": 32,
   "id": "21b6d0b4-f098-41aa-9aaf-dc9004481c6c",
   "metadata": {},
   "outputs": [
    {
     "name": "stdout",
     "output_type": "stream",
     "text": [
      "5\n",
      "1\n",
      "6\n",
      "1.5\n",
      "end\n"
     ]
    }
   ],
   "source": [
    "def test(a, b) :\n",
    "    print(a+b)\n",
    "    print(a-b)\n",
    "    print(a*b)\n",
    "    print(a/b)\n",
    "\n",
    "test(3,2)\n",
    "print('end')"
   ]
  },
  {
   "cell_type": "code",
   "execution_count": 33,
   "id": "54e6da69-5256-48f2-a5cf-f47892236e4a",
   "metadata": {},
   "outputs": [
    {
     "name": "stdout",
     "output_type": "stream",
     "text": [
      "안녕하세요\n"
     ]
    }
   ],
   "source": [
    "def abc():\n",
    "    print('안녕하세요')\n",
    "abc()"
   ]
  },
  {
   "cell_type": "code",
   "execution_count": 34,
   "id": "38a241b3-202b-4e57-bc44-b82d2fab7541",
   "metadata": {},
   "outputs": [
    {
     "name": "stdout",
     "output_type": "stream",
     "text": [
      "안녕하세요\n"
     ]
    }
   ],
   "source": [
    "abc()"
   ]
  },
  {
   "cell_type": "code",
   "execution_count": 41,
   "id": "a6081438-85e9-4095-a701-8e0dcbcc9b8b",
   "metadata": {},
   "outputs": [
    {
     "name": "stdout",
     "output_type": "stream",
     "text": [
      "b= 5\n"
     ]
    }
   ],
   "source": [
    "def test():\n",
    "    a = 5\n",
    "    # print(a)\n",
    "    return a\n",
    "b = test()\n",
    "print('b=',b)"
   ]
  },
  {
   "cell_type": "code",
   "execution_count": 43,
   "id": "e97b3566-c5d5-4b8c-a9df-2225bfee0fcd",
   "metadata": {},
   "outputs": [
    {
     "name": "stdout",
     "output_type": "stream",
     "text": [
      "8\n",
      "kk= None\n"
     ]
    }
   ],
   "source": [
    "def test(a,b):\n",
    "    print(a+b)\n",
    "kk = test(3,5)\n",
    "print('kk=',kk)"
   ]
  },
  {
   "cell_type": "code",
   "execution_count": 44,
   "id": "054f5683-4974-459a-91ac-2a63f321e3d4",
   "metadata": {},
   "outputs": [
    {
     "name": "stdout",
     "output_type": "stream",
     "text": [
      "안녕하세요\n",
      "None\n"
     ]
    }
   ],
   "source": [
    "p = print('안녕하세요')\n",
    "print(p)"
   ]
  },
  {
   "cell_type": "code",
   "execution_count": 47,
   "id": "cdc28239-9517-4e74-80d5-f458a3448cae",
   "metadata": {},
   "outputs": [
    {
     "name": "stdout",
     "output_type": "stream",
     "text": [
      "7\n",
      "12\n"
     ]
    }
   ],
   "source": [
    "def test(a, b):\n",
    "    return a+b, a*b\n",
    "a1 , b1 = test(3,4)\n",
    "print(a1)\n",
    "print(b1)"
   ]
  },
  {
   "cell_type": "code",
   "execution_count": 50,
   "id": "fd50a10e-9b04-43c1-a786-4c1e8452d2b1",
   "metadata": {},
   "outputs": [
    {
     "name": "stdout",
     "output_type": "stream",
     "text": [
      "None\n"
     ]
    }
   ],
   "source": [
    "def chek_n(value) :\n",
    "    if value < 0 :\n",
    "        return\n",
    "    return value\n",
    "\n",
    "age = chek_n(-3)\n",
    "print(age)"
   ]
  },
  {
   "cell_type": "code",
   "execution_count": 54,
   "id": "7c7839ff-79bf-44b2-8bd2-d98a9f664aee",
   "metadata": {},
   "outputs": [
    {
     "ename": "TypeError",
     "evalue": "f() missing 2 required positional arguments: 'y' and 'z'",
     "output_type": "error",
     "traceback": [
      "\u001b[1;31m---------------------------------------------------------------------------\u001b[0m",
      "\u001b[1;31mTypeError\u001b[0m                                 Traceback (most recent call last)",
      "Cell \u001b[1;32mIn[54], line 7\u001b[0m\n\u001b[0;32m      5\u001b[0m f(agg[\u001b[38;5;241m0\u001b[39m],agg[\u001b[38;5;241m1\u001b[39m],agg[\u001b[38;5;241m2\u001b[39m])\n\u001b[0;32m      6\u001b[0m f(\u001b[38;5;241m*\u001b[39magg)\n\u001b[1;32m----> 7\u001b[0m f(agg)\n",
      "\u001b[1;31mTypeError\u001b[0m: f() missing 2 required positional arguments: 'y' and 'z'"
     ]
    }
   ],
   "source": [
    "def f(x,y,z):\n",
    "    return x + y + z\n",
    "# f(2,3,4)\n",
    "agg = [2,3,4]\n",
    "f(agg[0],agg[1],agg[2])\n",
    "f(*agg)\n",
    "# f(agg) -> 에러 TypeError: f() missing 2 required positional arguments: 'y' and 'z'"
   ]
  },
  {
   "cell_type": "code",
   "execution_count": 56,
   "id": "91eb5e00-59cd-49bc-b54b-e273a91b11d8",
   "metadata": {},
   "outputs": [
    {
     "name": "stdout",
     "output_type": "stream",
     "text": [
      "[6, 15, 24]\n",
      "[6, 15, 24]\n"
     ]
    }
   ],
   "source": [
    "def f(x,y,z):\n",
    "    return x + y + z\n",
    "data = [\n",
    "    [1,2,3],\n",
    "    [4,5,6],\n",
    "    [7,8,9]\n",
    "]\n",
    "\n",
    "res = []\n",
    "for i in data:\n",
    "    res.append(f(*i))\n",
    "print(res)\n",
    "res2 = [f(*i) for i in data]\n",
    "print(res2)"
   ]
  },
  {
   "cell_type": "code",
   "execution_count": null,
   "id": "10c4de06-cf82-42a7-8e0f-7ecd55f79931",
   "metadata": {},
   "outputs": [],
   "source": []
  }
 ],
 "metadata": {
  "kernelspec": {
   "display_name": "Python 3 (ipykernel)",
   "language": "python",
   "name": "python3"
  },
  "language_info": {
   "codemirror_mode": {
    "name": "ipython",
    "version": 3
   },
   "file_extension": ".py",
   "mimetype": "text/x-python",
   "name": "python",
   "nbconvert_exporter": "python",
   "pygments_lexer": "ipython3",
   "version": "3.12.5"
  }
 },
 "nbformat": 4,
 "nbformat_minor": 5
}
