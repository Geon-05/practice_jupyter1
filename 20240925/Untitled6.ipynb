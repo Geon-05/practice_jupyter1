{
 "cells": [
  {
   "cell_type": "code",
   "execution_count": 11,
   "id": "84626832-b1f8-433b-b7a1-03fc417ac65a",
   "metadata": {},
   "outputs": [],
   "source": [
    "class Product:\n",
    "    def __init__(self, name, price, stock):\n",
    "        self.name = name\n",
    "        self.price = price\n",
    "        self.stock = stock\n",
    "\n",
    "    def information(self):\n",
    "        print('상품이름 :', self.name)\n",
    "        print('상품가격 :', self.price)\n",
    "        print('남은재고 :', self.stock)\n",
    "\n",
    "class Member:\n",
    "    def __init__(self, name, join_date):\n",
    "        self.name = name\n",
    "        self.join_date = join_date\n",
    "        self.p_list = []\n",
    "        self.p_amount = 0\n",
    "\n",
    "    def information(self):\n",
    "        print('고객 이름 :', self.name)\n",
    "        print('가입 날짜 :', self.join_date)\n",
    "        print('구매 이력 :', self.p_list)\n",
    "        print('누적 금액 :', self.p_amount)\n",
    "\n",
    "    def buy(self, product, count):\n",
    "        print(f'{self.name}님이 {product.name}을 {count}개 구매했음')\n",
    "        product.stock -= count\n",
    "        self.p_list.append(product.name)\n",
    "        self.p_amount += product.price * count\n",
    "\n",
    "# 제품 인스턴스\n",
    "socks = Product('양말', 1000, 10)\n",
    "books = Product('책', 17500, 15)\n",
    "\n",
    "# 고객 인스턴스\n",
    "park = Member('박', '20240103')\n",
    "hong = Member('홍', '20240505')"
   ]
  },
  {
   "cell_type": "code",
   "execution_count": 4,
   "id": "d43427ff-14fa-4059-96bc-268a029797aa",
   "metadata": {},
   "outputs": [
    {
     "name": "stdout",
     "output_type": "stream",
     "text": [
      "상품이름 : 책\n",
      "상품가격 : 17500\n",
      "남은재고 : 15\n"
     ]
    }
   ],
   "source": [
    "books.information()"
   ]
  },
  {
   "cell_type": "code",
   "execution_count": 6,
   "id": "570d9046-e8a9-4da5-8f11-d621111dd2f1",
   "metadata": {},
   "outputs": [
    {
     "name": "stdout",
     "output_type": "stream",
     "text": [
      "상품이름 : 책\n",
      "상품가격 : 17500\n",
      "남은재고 : 15\n"
     ]
    }
   ],
   "source": [
    "books.information()"
   ]
  },
  {
   "cell_type": "code",
   "execution_count": 7,
   "id": "f0390293-8ab6-4f88-8fd7-345a2db63332",
   "metadata": {},
   "outputs": [
    {
     "name": "stdout",
     "output_type": "stream",
     "text": [
      "고객 이름 : 박\n",
      "가입 날짜 : 20240103\n",
      "구매 이력 : []\n",
      "누적 금액 : 0\n"
     ]
    }
   ],
   "source": [
    "park.information()"
   ]
  },
  {
   "cell_type": "code",
   "execution_count": 8,
   "id": "a89979f4-ce8c-479b-aa3a-e0310a26271a",
   "metadata": {},
   "outputs": [
    {
     "name": "stdout",
     "output_type": "stream",
     "text": [
      "고객 이름 : 홍\n",
      "가입 날짜 : 20240505\n",
      "구매 이력 : []\n",
      "누적 금액 : 0\n"
     ]
    }
   ],
   "source": [
    "hong.information()"
   ]
  },
  {
   "cell_type": "code",
   "execution_count": 12,
   "id": "cd036420-0bb4-4a49-aa4f-b141257997b2",
   "metadata": {},
   "outputs": [
    {
     "name": "stdout",
     "output_type": "stream",
     "text": [
      "박님이 책을 3개 구매했음\n",
      "박님이 책을 1개 구매했음\n",
      "박님이 양말을 10개 구매했음\n",
      "고객 이름 : 박\n",
      "가입 날짜 : 20240103\n",
      "구매 이력 : ['책', '책', '양말']\n",
      "누적 금액 : 80000\n"
     ]
    }
   ],
   "source": [
    "park.buy(books, 3)\n",
    "park.buy(books, 1)\n",
    "park.buy(socks, 10)\n",
    "# 박 정보\n",
    "park.information()\n",
    "\n",
    "# 책 정보\n",
    "\n",
    "# 양말 정보"
   ]
  },
  {
   "cell_type": "code",
   "execution_count": null,
   "id": "d4ae932e-f847-40a5-972a-84a0f54c376d",
   "metadata": {},
   "outputs": [],
   "source": []
  }
 ],
 "metadata": {
  "kernelspec": {
   "display_name": "Python 3 (ipykernel)",
   "language": "python",
   "name": "python3"
  },
  "language_info": {
   "codemirror_mode": {
    "name": "ipython",
    "version": 3
   },
   "file_extension": ".py",
   "mimetype": "text/x-python",
   "name": "python",
   "nbconvert_exporter": "python",
   "pygments_lexer": "ipython3",
   "version": "3.12.5"
  }
 },
 "nbformat": 4,
 "nbformat_minor": 5
}
