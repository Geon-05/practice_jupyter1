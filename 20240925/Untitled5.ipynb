{
 "cells": [
  {
   "cell_type": "code",
   "execution_count": 100,
   "id": "f6c056f4-e982-447f-9183-fde1df6aa8da",
   "metadata": {},
   "outputs": [
    {
     "data": {
      "text/plain": [
       "'C:\\\\Users\\\\zcode\\\\Desktop\\\\py\\\\2차'"
      ]
     },
     "execution_count": 100,
     "metadata": {},
     "output_type": "execute_result"
    }
   ],
   "source": [
    "pwd"
   ]
  },
  {
   "cell_type": "code",
   "execution_count": 123,
   "id": "936bcc15-e59e-4d31-b715-50e984a560ab",
   "metadata": {},
   "outputs": [
    {
     "name": "stdout",
     "output_type": "stream",
     "text": [
      "10 50 500\n",
      "100 500 50000\n",
      "125\n",
      "1205\n"
     ]
    }
   ],
   "source": [
    "class Rect:\n",
    "    def __init__(self,width,height):\n",
    "        # 속성 : 가로, 세로\n",
    "        self.w = width\n",
    "        self.h = height\n",
    "        c = 2 # self를 붙이지 않으면 객체내 다른 함수에서 사용불가 NameError: name 'c' is not defined\n",
    "    def area(self):\n",
    "        self.test = 5\n",
    "        return self.w * self.h\n",
    "    def 둘레(self):\n",
    "        return (self.w + self.h) * 2 + self.test\n",
    "\n",
    "a = Rect(10, 50)\n",
    "b = Rect(100, 500)\n",
    "print(a.w,a.h,a.area())\n",
    "print(b.w,b.h,b.area())\n",
    "print(a.둘레())\n",
    "print(b.둘레())"
   ]
  },
  {
   "cell_type": "code",
   "execution_count": 130,
   "id": "6ff882be-2737-4b12-bd50-cb8fbfc0237b",
   "metadata": {},
   "outputs": [
    {
     "name": "stdout",
     "output_type": "stream",
     "text": [
      "35\n"
     ]
    }
   ],
   "source": [
    "class Rect:\n",
    "    def __init__(self,width,height):\n",
    "        # 속성 : 가로, 세로\n",
    "        self.w = width\n",
    "        self.h = height\n",
    "        self.c = 2 # self를 붙이지 않으면 객체내 다른 함수에서 사용불가 NameError: name 'c' is not defined\n",
    "    def area(self):\n",
    "        self.test = 5\n",
    "        return self.w * self.h + self.c\n",
    "    def 둘레(self):\n",
    "        self.area()\n",
    "        return (self.w + self.h) * 2 + self.test\n",
    "\n",
    "a = Rect(10,5)\n",
    "b = Rect(50,60)\n",
    "print(a.둘레())"
   ]
  },
  {
   "cell_type": "code",
   "execution_count": 139,
   "id": "5376d4c9-9be1-4279-9621-fd9074551dfc",
   "metadata": {},
   "outputs": [
    {
     "name": "stdout",
     "output_type": "stream",
     "text": [
      "5 3 15\n",
      "30 50 1500\n",
      "4\n",
      "4\n",
      "1000\n",
      "3000\n",
      "1\n",
      "4\n"
     ]
    }
   ],
   "source": [
    "class Rect:\n",
    "    n = 0 # 클래스변수\n",
    "    def __init__(self,w,h):\n",
    "        self.w = w # 인스턴스변수\n",
    "        self.h = h\n",
    "        Rect.n += 1\n",
    "    def area(self):\n",
    "        return self.w * self.h\n",
    "\n",
    "a = Rect(5, 3)\n",
    "b = Rect(30, 50)\n",
    "c = Rect(1,1)\n",
    "d = Rect(2,2)\n",
    "\n",
    "print(a.w , a.h, a.area())\n",
    "print(b.w , b.h, b.area())\n",
    "print(a.n)\n",
    "print(b.n)\n",
    "\n",
    "a.w=1000\n",
    "\n",
    "print(a.w)\n",
    "print(a.area())\n",
    "\n",
    "a.n = 1\n",
    "print(a.n)\n",
    "print(b.n)"
   ]
  },
  {
   "cell_type": "code",
   "execution_count": 140,
   "id": "d8d77284-6952-4ec9-9050-f36606a326d4",
   "metadata": {},
   "outputs": [
    {
     "data": {
      "text/plain": [
       "{'w': 1000, 'h': 3, 'n': 1}"
      ]
     },
     "execution_count": 140,
     "metadata": {},
     "output_type": "execute_result"
    }
   ],
   "source": [
    "a.__dict__"
   ]
  },
  {
   "cell_type": "code",
   "execution_count": 141,
   "id": "473968d3-c70b-4899-850a-61f033ea1fcb",
   "metadata": {},
   "outputs": [
    {
     "data": {
      "text/plain": [
       "{'w': 30, 'h': 50}"
      ]
     },
     "execution_count": 141,
     "metadata": {},
     "output_type": "execute_result"
    }
   ],
   "source": [
    "b.__dict__"
   ]
  },
  {
   "cell_type": "code",
   "execution_count": 142,
   "id": "f0554779-3918-45d5-b047-73f2c9112d04",
   "metadata": {},
   "outputs": [
    {
     "data": {
      "text/plain": [
       "mappingproxy({'__module__': '__main__',\n",
       "              'n': 4,\n",
       "              '__init__': <function __main__.Rect.__init__(self, w, h)>,\n",
       "              'area': <function __main__.Rect.area(self)>,\n",
       "              '__dict__': <attribute '__dict__' of 'Rect' objects>,\n",
       "              '__weakref__': <attribute '__weakref__' of 'Rect' objects>,\n",
       "              '__doc__': None})"
      ]
     },
     "execution_count": 142,
     "metadata": {},
     "output_type": "execute_result"
    }
   ],
   "source": [
    "Rect.__dict__"
   ]
  },
  {
   "cell_type": "code",
   "execution_count": 153,
   "id": "93a7a01c-8dee-48fa-8991-6596c3fe60fa",
   "metadata": {},
   "outputs": [
    {
     "name": "stdout",
     "output_type": "stream",
     "text": [
      "15\n",
      "5\n",
      "3\n",
      "1000\n",
      "3000\n"
     ]
    }
   ],
   "source": [
    "class Rect:\n",
    "    n = 0 # 클래스변수\n",
    "    def __init__(self,w,h):\n",
    "        self.__w = w # 인스턴스변수\n",
    "        self.__h = h\n",
    "        Rect.n += 1\n",
    "    def area(self):\n",
    "        return self.__w * self.__h\n",
    "    def get_w(self):\n",
    "        return self.__w\n",
    "    def get_h(self):\n",
    "        return self.__h\n",
    "    def set_w(self, new_w):\n",
    "        self.__w = new_w\n",
    "\n",
    "a = Rect(5, 3)\n",
    "b = Rect(30, 50)\n",
    "\n",
    "print(a.area())\n",
    "print(a.get_w())\n",
    "print(a.get_h())\n",
    "a.set_w(1000)\n",
    "print(a.get_w())\n",
    "print(a.area())"
   ]
  },
  {
   "cell_type": "code",
   "execution_count": null,
   "id": "742a1085-aea0-42b4-b28f-2df9a014a2af",
   "metadata": {},
   "outputs": [],
   "source": []
  }
 ],
 "metadata": {
  "kernelspec": {
   "display_name": "Python 3 (ipykernel)",
   "language": "python",
   "name": "python3"
  },
  "language_info": {
   "codemirror_mode": {
    "name": "ipython",
    "version": 3
   },
   "file_extension": ".py",
   "mimetype": "text/x-python",
   "name": "python",
   "nbconvert_exporter": "python",
   "pygments_lexer": "ipython3",
   "version": "3.12.5"
  }
 },
 "nbformat": 4,
 "nbformat_minor": 5
}
