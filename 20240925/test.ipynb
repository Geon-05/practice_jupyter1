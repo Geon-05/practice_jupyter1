{
 "cells": [
  {
   "cell_type": "code",
   "execution_count": null,
   "id": "35eb0105-c80b-4e66-a48d-2788ab747621",
   "metadata": {},
   "outputs": [],
   "source": []
  }
 ],
 "metadata": {
  "kernelspec": {
   "display_name": "",
   "name": ""
  },
  "language_info": {
   "name": ""
  }
 },
 "nbformat": 4,
 "nbformat_minor": 5
}
