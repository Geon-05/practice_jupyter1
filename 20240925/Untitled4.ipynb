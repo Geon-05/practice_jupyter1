{
 "cells": [
  {
   "cell_type": "code",
   "execution_count": 69,
   "id": "839079b2-8781-49a1-9f57-e082608c1fb7",
   "metadata": {},
   "outputs": [
    {
     "name": "stdout",
     "output_type": "stream",
     "text": [
      "a= 15\n",
      "a= 15\n"
     ]
    }
   ],
   "source": [
    "def f():\n",
    "    global a\n",
    "    a = a + 5\n",
    "    print('a=',a)\n",
    "a = 10\n",
    "f()\n",
    "print('a=',a)"
   ]
  },
  {
   "cell_type": "code",
   "execution_count": 74,
   "id": "dce038d4-e9cc-4708-b36d-233094d43edb",
   "metadata": {},
   "outputs": [
    {
     "data": {
      "text/plain": [
       "(97, 65, 113)"
      ]
     },
     "execution_count": 74,
     "metadata": {},
     "output_type": "execute_result"
    }
   ],
   "source": [
    "ord('a'),ord('A'),ord('q')"
   ]
  },
  {
   "cell_type": "code",
   "execution_count": 75,
   "id": "9691f33a-2aa6-48b1-be75-ae594212e75b",
   "metadata": {},
   "outputs": [
    {
     "data": {
      "text/plain": [
       "('a', 'b', 'q')"
      ]
     },
     "execution_count": 75,
     "metadata": {},
     "output_type": "execute_result"
    }
   ],
   "source": [
    "chr(97),chr(98),chr(113)"
   ]
  },
  {
   "cell_type": "code",
   "execution_count": 78,
   "id": "a790a9f0-a0c3-40bb-91b0-1f465e40ab49",
   "metadata": {},
   "outputs": [
    {
     "data": {
      "text/plain": [
       "[1, 2, 3, 4]"
      ]
     },
     "execution_count": 78,
     "metadata": {},
     "output_type": "execute_result"
    }
   ],
   "source": [
    "a=['1','2','3','4']\n",
    "list(map(int,a))"
   ]
  },
  {
   "cell_type": "code",
   "execution_count": 79,
   "id": "c7041fab-c850-40c9-81a2-5242e74728bb",
   "metadata": {},
   "outputs": [
    {
     "name": "stdout",
     "output_type": "stream",
     "text": [
      "[2, 4, 6, 8, 10]\n"
     ]
    }
   ],
   "source": [
    "def f(value):\n",
    "    return value * 2\n",
    "    \n",
    "a = [1,2,3,4,5]\n",
    "res = []\n",
    "for i in a:\n",
    "    res.append(f(i))\n",
    "print(res)"
   ]
  },
  {
   "cell_type": "code",
   "execution_count": 81,
   "id": "fa9d84df-2d90-4a60-ada2-de742c4fb91d",
   "metadata": {},
   "outputs": [
    {
     "data": {
      "text/plain": [
       "[2, 4, 6, 8, 10]"
      ]
     },
     "execution_count": 81,
     "metadata": {},
     "output_type": "execute_result"
    }
   ],
   "source": [
    "def f(value):\n",
    "    return value * 2\n",
    "    \n",
    "a = [1,2,3,4,5]\n",
    "\n",
    "list(map(f,a))"
   ]
  },
  {
   "cell_type": "code",
   "execution_count": 83,
   "id": "55c075dc-e6b1-4384-a56e-f8facb1ba6e2",
   "metadata": {},
   "outputs": [
    {
     "data": {
      "text/plain": [
       "[2, 4, 6, 8, 10]"
      ]
     },
     "execution_count": 83,
     "metadata": {},
     "output_type": "execute_result"
    }
   ],
   "source": [
    "a = [1,2,3,4,5]\n",
    "list(map(lambda x : x * 2, a))"
   ]
  },
  {
   "cell_type": "code",
   "execution_count": 84,
   "id": "885051d1-54e5-43b0-a941-16571938b6ea",
   "metadata": {},
   "outputs": [
    {
     "name": "stdout",
     "output_type": "stream",
     "text": [
      "[2, 4, 6, 8]\n"
     ]
    }
   ],
   "source": [
    "a = [1,2,3,4]\n",
    "res = [i*2 for i in a]\n",
    "print(res)"
   ]
  },
  {
   "cell_type": "code",
   "execution_count": 86,
   "id": "1fa537a8-3f0b-4258-b428-c42850c69eff",
   "metadata": {},
   "outputs": [
    {
     "name": "stdout",
     "output_type": "stream",
     "text": [
      "[100, 5, 3, 2]\n"
     ]
    }
   ],
   "source": [
    "a = [100, 2, 5, 3]\n",
    "b = sorted(a, reverse=True)\n",
    "print(b)"
   ]
  },
  {
   "cell_type": "code",
   "execution_count": 88,
   "id": "916a6674-96d5-425f-a3f8-8df5b33ccb62",
   "metadata": {},
   "outputs": [
    {
     "name": "stdout",
     "output_type": "stream",
     "text": [
      "[2, 3, 5, 100]\n"
     ]
    }
   ],
   "source": [
    "a = [100, 2, 5, 3]\n",
    "a.sort()\n",
    "print(a)"
   ]
  },
  {
   "cell_type": "code",
   "execution_count": 90,
   "id": "d832e2ea-d43b-4fde-bb84-e1b1432dca38",
   "metadata": {},
   "outputs": [
    {
     "name": "stdout",
     "output_type": "stream",
     "text": [
      "[(1, 5, 10), (3, 5, 6), (4, 2, 100)]\n"
     ]
    }
   ],
   "source": [
    "data = [(1,5,10),(4,2,100),(3,5,6)]\n",
    "data.sort()\n",
    "print(data)"
   ]
  },
  {
   "cell_type": "code",
   "execution_count": 92,
   "id": "239164d1-03a5-41d5-b153-98f10f05b6d5",
   "metadata": {},
   "outputs": [
    {
     "data": {
      "text/plain": [
       "10"
      ]
     },
     "execution_count": 92,
     "metadata": {},
     "output_type": "execute_result"
    }
   ],
   "source": [
    "double = lambda x : x * 2\n",
    "double(5)"
   ]
  },
  {
   "cell_type": "code",
   "execution_count": 93,
   "id": "3f2a2192-1b1b-41dc-b443-ef887453e531",
   "metadata": {},
   "outputs": [
    {
     "data": {
      "text/plain": [
       "[(4, 2), (1, 5), (1, 6)]"
      ]
     },
     "execution_count": 93,
     "metadata": {},
     "output_type": "execute_result"
    }
   ],
   "source": [
    "data = [(1,6),(4,2),(1,5)]\n",
    "sorted(data, key=lambda x : x[-1])"
   ]
  },
  {
   "cell_type": "code",
   "execution_count": 99,
   "id": "bad64de7-e2c5-43ef-be62-08ee5bda0ca6",
   "metadata": {},
   "outputs": [
    {
     "data": {
      "text/plain": [
       "{'국어': 100, '영어': 70, '수학': 50}"
      ]
     },
     "execution_count": 99,
     "metadata": {},
     "output_type": "execute_result"
    }
   ],
   "source": [
    "data = {\n",
    "    '국어' : 100,\n",
    "    '수학' : 50,\n",
    "    '영어' : 70\n",
    "}\n",
    "dict(sorted(data.items(), key=lambda x : x[1], reverse=True))"
   ]
  },
  {
   "cell_type": "code",
   "execution_count": null,
   "id": "1292cbd5-5361-4e47-b56c-28f84812b577",
   "metadata": {},
   "outputs": [],
   "source": []
  }
 ],
 "metadata": {
  "kernelspec": {
   "display_name": "Python 3 (ipykernel)",
   "language": "python",
   "name": "python3"
  },
  "language_info": {
   "codemirror_mode": {
    "name": "ipython",
    "version": 3
   },
   "file_extension": ".py",
   "mimetype": "text/x-python",
   "name": "python",
   "nbconvert_exporter": "python",
   "pygments_lexer": "ipython3",
   "version": "3.12.5"
  }
 },
 "nbformat": 4,
 "nbformat_minor": 5
}
