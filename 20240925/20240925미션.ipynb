{
 "cells": [
  {
   "cell_type": "code",
   "execution_count": 19,
   "id": "69cb5807-e921-4bc8-a78f-576d3ea664ea",
   "metadata": {},
   "outputs": [
    {
     "data": {
      "text/plain": [
       "'C:\\\\Users\\\\zcode\\\\Desktop\\\\py\\\\2차'"
      ]
     },
     "execution_count": 19,
     "metadata": {},
     "output_type": "execute_result"
    }
   ],
   "source": [
    "pwd"
   ]
  },
  {
   "cell_type": "code",
   "execution_count": 3,
   "id": "694e13b9-c4f3-4b5c-b982-ebf194b5bf2b",
   "metadata": {},
   "outputs": [
    {
     "name": "stdout",
     "output_type": "stream",
     "text": [
      "['apple', 'banana', 'lemon', 'grape']\n",
      "['banana', 'grape', 'lemon', 'apple']\n",
      "주어진 단어 : banana\n"
     ]
    },
    {
     "name": "stdin",
     "output_type": "stream",
     "text": [
      "단어의 뜻을 입력하세요. q\n"
     ]
    },
    {
     "name": "stdout",
     "output_type": "stream",
     "text": [
      "게임종료\n"
     ]
    },
    {
     "ename": "SystemExit",
     "evalue": "0",
     "output_type": "error",
     "traceback": [
      "An exception has occurred, use %tb to see the full traceback.\n",
      "\u001b[1;31mSystemExit\u001b[0m\u001b[1;31m:\u001b[0m 0\n"
     ]
    },
    {
     "name": "stderr",
     "output_type": "stream",
     "text": [
      "C:\\Users\\zcode\\.conda\\envs\\edu\\Lib\\site-packages\\IPython\\core\\interactiveshell.py:3585: UserWarning: To exit: use 'exit', 'quit', or Ctrl-D.\n",
      "  warn(\"To exit: use 'exit', 'quit', or Ctrl-D.\", stacklevel=1)\n"
     ]
    }
   ],
   "source": [
    "'''\n",
    "1. 숫자맞추기 (업다운 게임)\n",
    "1~100까지 랜덤한 숫자 만들어서\n",
    "5번만에 맞추기\n",
    "\n",
    "2. 영어 단어 공부\n",
    "기회 : 3번\n",
    "'''\n",
    "import random\n",
    "# # 1. 숫자맞추기게임\n",
    "# # 1) 1~100까지의 랜덤한 숫자를 생성한다.\n",
    "# num = random.randint(1,100)\n",
    "\n",
    "# # 2) life는 5회 부여한다.\n",
    "# life = 1\n",
    "\n",
    "# while life < 6 :\n",
    "#     answer = int(input(\"1~100사이의 숫자를 입력하세요.\"))\n",
    "#     if answer > num :\n",
    "#         print(\"목표 수보다 큽니다.\")\n",
    "#         life += 1\n",
    "#         continue\n",
    "#     if answer < num :\n",
    "#         print(\"목표 수보다 작습니다.\")\n",
    "#         life += 1\n",
    "#         continue\n",
    "#     print(f'목표수는 {num} 정답입니다.')\n",
    "#     break\n",
    "# if life > 5 :\n",
    "#     print(f\"실패! 목표수는 {num}이였습니다.\")\n",
    "# else :\n",
    "#     print(f'{life}회 만에 성공하셨습니다.')\n",
    "# print(\"게임을 종료합니다.\")\n",
    "\n",
    "'''\n",
    "영어 단어 맞추기\n",
    "영어 단어 맞추기 게임을 시작할 때마다 영어 단어가 썩여서 나옴(random.shuffle()함수 활용)\n",
    "사용자에게 단어의 뜻을 입력받고 (만약 사용자가 'q'를 입력하면 '게임종료'를 합니다.\n",
    "맞으면 '정답입니다.', 틀리면 '다시 입력해 주세요', 만약 세번 틀리면 답을 알려 줌\n",
    "제공된 영어 단어 사전이 모두 제시되면 종료됩니다.\n",
    "'''\n",
    "\n",
    "dt = {\n",
    "    \"apple\" : \"사과\", \n",
    "    \"banana\" : \"바나나\", \n",
    "    \"lemon\" : \"레몬\", \n",
    "    \"grape\" : \"포도\"\n",
    "}\n",
    "dt_keys = list(dt.keys())\n",
    "print(dt_keys)\n",
    "random.shuffle(dt_keys)\n",
    "print(dt_keys)\n",
    "for quiz in dt_keys:\n",
    "    print(f\"주어진 단어 : {quiz}\")\n",
    "    for i in range(3):\n",
    "        answer = input(\"단어의 뜻을 입력하세요.\")\n",
    "        if answer == \"q\":\n",
    "            print(\"게임종료\")\n",
    "        elif answer == dt[quiz]:\n",
    "            print(\"정답입니다.\")\n",
    "            break\n",
    "        else :\n",
    "            print(f\"오답입니다. 남은기회는 {2-i}번입니다.\")"
   ]
  },
  {
   "cell_type": "code",
   "execution_count": 2,
   "id": "864f5f3a-4f2d-42ad-a9dd-9bedafbd6d7d",
   "metadata": {},
   "outputs": [
    {
     "data": {
      "text/plain": [
       "'C:\\\\Users\\\\zcode\\\\Desktop\\\\py\\\\20240925'"
      ]
     },
     "execution_count": 2,
     "metadata": {},
     "output_type": "execute_result"
    }
   ],
   "source": [
    "import os\n",
    "os.getcwd()"
   ]
  },
  {
   "cell_type": "code",
   "execution_count": 6,
   "id": "f98dfc1b-32f3-4270-98a3-371fab70c563",
   "metadata": {},
   "outputs": [
    {
     "data": {
      "text/plain": [
       "array([0. , 0.1, 0.2, 0.3, 0.4, 0.5, 0.6, 0.7, 0.8, 0.9, 1. , 1.1, 1.2,\n",
       "       1.3, 1.4, 1.5, 1.6, 1.7, 1.8, 1.9, 2. , 2.1, 2.2, 2.3, 2.4, 2.5,\n",
       "       2.6, 2.7, 2.8, 2.9, 3. , 3.1, 3.2, 3.3, 3.4, 3.5, 3.6, 3.7, 3.8,\n",
       "       3.9, 4. , 4.1, 4.2, 4.3, 4.4, 4.5, 4.6, 4.7, 4.8, 4.9])"
      ]
     },
     "execution_count": 6,
     "metadata": {},
     "output_type": "execute_result"
    }
   ],
   "source": [
    "import numpy\n",
    "numpy.arange(0,5,0.1)"
   ]
  },
  {
   "cell_type": "code",
   "execution_count": 17,
   "id": "51603b62-80ee-468e-a8e6-9d1c5e0b8c16",
   "metadata": {},
   "outputs": [
    {
     "name": "stdout",
     "output_type": "stream",
     "text": [
      "응애응애\n",
      "이름: 모름, 나이: 0, 성별: 모름\n",
      "이름: 아름, 나이: 25, 성별: 여자\n",
      "나의 죽음을 알리지 마라\n"
     ]
    }
   ],
   "source": [
    "class Human:\n",
    "    def __init__(self,이름,나이,성별):\n",
    "        self.이름 = 이름\n",
    "        self.나이 = 나이\n",
    "        self.성별 = 성별\n",
    "        print('응애응애')\n",
    "\n",
    "    def __del__(self):\n",
    "        print(\"나의 죽음을 알리지 마라\")\n",
    "\n",
    "    def who(self):\n",
    "        print(f'이름: {areum.이름}, 나이: {areum.나이}, 성별: {areum.성별}')\n",
    "\n",
    "    def setInfo(self,이름,나이,성별):\n",
    "        self.이름 = 이름\n",
    "        self.나이 = 나이\n",
    "        self.성별 = 성별\n",
    "\n",
    "areum = Human(\"모름\", 0, \"모름\")\n",
    "areum.who()\n",
    "areum.setInfo(\"아름\", 25, \"여자\")\n",
    "areum.who()\n",
    "del(areum)"
   ]
  },
  {
   "cell_type": "code",
   "execution_count": 24,
   "id": "29273d23-89db-4947-8328-d41630eb7d10",
   "metadata": {},
   "outputs": [
    {
     "name": "stdout",
     "output_type": "stream",
     "text": [
      "삼성전자\n",
      "005930\n"
     ]
    }
   ],
   "source": [
    "class Stock:\n",
    "    def __init__(self, 종목명, 종목코드, per, pbr, 배당수익률):\n",
    "        self.종목명 = 종목명\n",
    "        self.종목코드 = 종목코드\n",
    "        self.per = per\n",
    "        self.pbr = pbr\n",
    "        self.배당수익률 = 배당수익률\n",
    "        \n",
    "    def set_name(self, 종목명):\n",
    "        self.종목명 = 종목명\n",
    "        \n",
    "    def set_code(self, 종목코드):\n",
    "        self.종목코드 = 종목코드\n",
    "\n",
    "    def get_name(self):\n",
    "        return self.종목명\n",
    "\n",
    "    def get_code(self):\n",
    "        return self.종목코드\n",
    "\n",
    "# a = Stock(None, None)\n",
    "a.set_name(\"삼성전자\")\n",
    "a.set_code(\"005930\")\n",
    "# 삼성 = Stock(\"삼성전자\",\"005930\")\n",
    "print(삼성.get_name())\n",
    "print(삼성.get_code())\n",
    "삼성전자 = Stock(\"삼성전자\", \"005930\", 15.79, 1.33, 2.83)"
   ]
  },
  {
   "cell_type": "code",
   "execution_count": null,
   "id": "45e0060b-8fd4-4eee-9749-fcf409072a0b",
   "metadata": {},
   "outputs": [],
   "source": []
  }
 ],
 "metadata": {
  "kernelspec": {
   "display_name": "Python 3 (ipykernel)",
   "language": "python",
   "name": "python3"
  },
  "language_info": {
   "codemirror_mode": {
    "name": "ipython",
    "version": 3
   },
   "file_extension": ".py",
   "mimetype": "text/x-python",
   "name": "python",
   "nbconvert_exporter": "python",
   "pygments_lexer": "ipython3",
   "version": "3.12.5"
  }
 },
 "nbformat": 4,
 "nbformat_minor": 5
}
