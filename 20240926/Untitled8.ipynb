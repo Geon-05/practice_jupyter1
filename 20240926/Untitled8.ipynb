{
 "cells": [
  {
   "cell_type": "code",
   "execution_count": 23,
   "id": "07863be2-0b59-4833-95ea-a1e04eddceb6",
   "metadata": {},
   "outputs": [
    {
     "name": "stdout",
     "output_type": "stream",
     "text": [
      "삼성전자\n",
      "15.79\n",
      "현대차\n",
      "8.7\n",
      "LG전자\n",
      "317.34\n"
     ]
    }
   ],
   "source": [
    "class Stock:\n",
    "    def __init__(self, name, code, per, pbr, dividend):\n",
    "        self.name = name\n",
    "        self.code = code\n",
    "        self.per = per\n",
    "        self.pbr = pbr\n",
    "        self.dividend = dividend\n",
    "    \n",
    "    def set_name(self, name):\n",
    "        self.name = name\n",
    "\n",
    "    def set_code(self, code):\n",
    "        self.code = code\n",
    "\n",
    "    def get_name(self):\n",
    "        return self.name\n",
    "\n",
    "    def get_code(self):\n",
    "        return self.code\n",
    "\n",
    "    def set_per(self, per):\n",
    "        self.per = per\n",
    "\n",
    "    def set_pdr(self, pdr):\n",
    "        self.pdr = pdr\n",
    "\n",
    "    def set_dividend(self, dividend):\n",
    "        self.dividend = dividend\n",
    "\n",
    "# 삼성 = Stock(\"삼성전자\", \"005930\", 15.79, 1.33, 2.83)\n",
    "# 삼성.set_per(12.75)\n",
    "# del 삼성\n",
    "\n",
    "삼성 = Stock(\"삼성전자\",\"005930\",15.79,1.33,2.83)\n",
    "현대 = Stock(\"현대차\",\"005380\",8.70,0.35,4.27)\n",
    "LG = Stock(\"LG전자\",\"066570\",317.34,0.69,1.37)\n",
    "\n",
    "리스트 = [삼성, 현대, LG]\n",
    "\n",
    "for i in 리스트:\n",
    "    print(i.name)\n",
    "    print(i.per)"
   ]
  },
  {
   "cell_type": "code",
   "execution_count": null,
   "id": "1076b989-d4d5-40a6-b640-4c34fdaf96a1",
   "metadata": {},
   "outputs": [],
   "source": [
    "import random\n",
    "\n",
    "class Account:\n",
    "    def __init__(self, 은행이름, 잔액=0):\n",
    "        self.은행이름 = 은행이름\n",
    "        self.잔액 = 잔액\n",
    "\n",
    "        random.randint()\n",
    "        self.계좌번호 = "
   ]
  },
  {
   "cell_type": "code",
   "execution_count": null,
   "id": "149e641f-fe7c-4e72-a786-96a99bee72ea",
   "metadata": {},
   "outputs": [],
   "source": []
  }
 ],
 "metadata": {
  "kernelspec": {
   "display_name": "Python 3 (ipykernel)",
   "language": "python",
   "name": "python3"
  },
  "language_info": {
   "codemirror_mode": {
    "name": "ipython",
    "version": 3
   },
   "file_extension": ".py",
   "mimetype": "text/x-python",
   "name": "python",
   "nbconvert_exporter": "python",
   "pygments_lexer": "ipython3",
   "version": "3.12.5"
  }
 },
 "nbformat": 4,
 "nbformat_minor": 5
}
