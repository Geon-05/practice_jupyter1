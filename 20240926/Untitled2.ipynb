{
 "cells": [
  {
   "cell_type": "code",
   "execution_count": 95,
   "id": "f0397823-84c7-47ad-a0cc-b179a13d6bda",
   "metadata": {},
   "outputs": [
    {
     "data": {
      "text/plain": [
       "'C:\\\\Users\\\\zcode\\\\Desktop\\\\py\\\\데이터분석 및 시각화\\\\01판다스'"
      ]
     },
     "execution_count": 95,
     "metadata": {},
     "output_type": "execute_result"
    }
   ],
   "source": [
    "pwd"
   ]
  },
  {
   "cell_type": "code",
   "execution_count": 98,
   "id": "c2504aee-c6fd-4bf7-b6a5-d778ed4ed306",
   "metadata": {},
   "outputs": [
    {
     "name": "stdout",
     "output_type": "stream",
     "text": [
      " C 드라이브의 볼륨에는 이름이 없습니다.\n",
      " 볼륨 일련 번호: 2442-5218\n",
      "\n",
      " C:\\Users\\zcode\\Desktop\\py\\데이터분석 및 시각화\\01판다스 디렉터리\n",
      "\n",
      "2024-09-26  오전 10:04    <DIR>          .\n",
      "2024-09-26  오전 09:14    <DIR>          ..\n",
      "2024-09-26  오전 09:39    <DIR>          .ipynb_checkpoints\n",
      "2022-07-14  오후 10:19           222,679 01 Series 다루기.ipynb\n",
      "2024-09-26  오전 09:16           489,447 02 DataFrame 다루기.ipynb\n",
      "2022-07-14  오후 10:19           424,072 03  DataFrame 열추가_열삭제_계산.ipynb\n",
      "2022-07-14  오후 10:20           378,833 04 결측치(null) 처리.ipynb\n",
      "2022-07-14  오후 10:20            15,855 05. DataFrame column(컬럼)간 상관관계 계산하기 _After.ipynb\n",
      "2022-07-14  오후 10:20             4,471 06. DataFrame NaN 데이터 처리_After.ipynb\n",
      "2022-07-14  오후 10:20             7,994 07. 숫자 데이터와 범주형 데이터의 이해_After.ipynb\n",
      "2022-07-14  오후 10:21            22,265 08. 숫자 데이터의 범주형 데이터화_After.ipynb\n",
      "2022-07-14  오후 10:21            28,643 09. 범주형 데이터 전처리 하기(one-hot encoding)_After.ipynb\n",
      "2022-07-14  오후 10:21             6,751 10. DataFrame group by 이해하기_After.ipynb\n",
      "2022-07-14  오후 10:21             3,612 11. transform 함수의 이해 및 활용하기_After.ipynb\n",
      "2022-07-14  오후 10:21             2,751 12. pivot, pivot_table 함수의 이해 및 활용하기_After.ipynb\n",
      "2022-07-14  오후 10:21            26,426 13. stack, unstack 함수의 이해 및 활용하기_After.ipynb\n",
      "2022-07-14  오후 10:22            22,881 14. Concat 함수로 데이터 프레임 병합하기_After.ipynb\n",
      "2022-07-14  오후 10:22             4,864 15. Merge _ join 함수로 데이터 프레임 병합하기_After.ipynb\n",
      "2024-09-26  오전 09:14    <DIR>          data\n",
      "2024-09-26  오전 09:14    <DIR>          실습\n",
      "2024-09-26  오전 10:03             6,221 엑셀.xlsx\n",
      "2024-09-26  오전 10:05               169 연습.csv\n",
      "2021-06-13  오후 07:18               409 차트에서 한글폰트 _ 마이너스 기호 나오기 하기.txt\n",
      "2022-07-14  오후 10:22           385,988 참고_Groupby 실습.ipynb\n",
      "              19개 파일           2,054,331 바이트\n",
      "               5개 디렉터리  383,023,026,176 바이트 남음\n"
     ]
    }
   ],
   "source": [
    "ls"
   ]
  },
  {
   "cell_type": "code",
   "execution_count": 96,
   "id": "02b28a76-f06f-4ebb-881e-6903f9039e6e",
   "metadata": {},
   "outputs": [],
   "source": [
    "import pandas as pd"
   ]
  },
  {
   "cell_type": "code",
   "execution_count": 99,
   "id": "ab5db134-87ad-48e4-a54b-1a0fe3dd8ba4",
   "metadata": {},
   "outputs": [
    {
     "data": {
      "text/html": [
       "<div>\n",
       "<style scoped>\n",
       "    .dataframe tbody tr th:only-of-type {\n",
       "        vertical-align: middle;\n",
       "    }\n",
       "\n",
       "    .dataframe tbody tr th {\n",
       "        vertical-align: top;\n",
       "    }\n",
       "\n",
       "    .dataframe thead th {\n",
       "        text-align: right;\n",
       "    }\n",
       "</style>\n",
       "<table border=\"1\" class=\"dataframe\">\n",
       "  <thead>\n",
       "    <tr style=\"text-align: right;\">\n",
       "      <th></th>\n",
       "      <th>지역</th>\n",
       "      <th>규모</th>\n",
       "      <th>연도</th>\n",
       "      <th>월</th>\n",
       "      <th>분양가</th>\n",
       "    </tr>\n",
       "  </thead>\n",
       "  <tbody>\n",
       "    <tr>\n",
       "      <th>0</th>\n",
       "      <td>서울</td>\n",
       "      <td>60㎡이하</td>\n",
       "      <td>2015</td>\n",
       "      <td>10</td>\n",
       "      <td>5652</td>\n",
       "    </tr>\n",
       "    <tr>\n",
       "      <th>1</th>\n",
       "      <td>서울</td>\n",
       "      <td>60㎡초과 85㎡이하</td>\n",
       "      <td>2015</td>\n",
       "      <td>10</td>\n",
       "      <td>5882</td>\n",
       "    </tr>\n",
       "    <tr>\n",
       "      <th>2</th>\n",
       "      <td>서울</td>\n",
       "      <td>85㎡초과 102㎡이하</td>\n",
       "      <td>2015</td>\n",
       "      <td>10</td>\n",
       "      <td>5721</td>\n",
       "    </tr>\n",
       "    <tr>\n",
       "      <th>3</th>\n",
       "      <td>서울</td>\n",
       "      <td>102㎡초과</td>\n",
       "      <td>2015</td>\n",
       "      <td>10</td>\n",
       "      <td>5879</td>\n",
       "    </tr>\n",
       "    <tr>\n",
       "      <th>4</th>\n",
       "      <td>인천</td>\n",
       "      <td>60㎡이하</td>\n",
       "      <td>2015</td>\n",
       "      <td>10</td>\n",
       "      <td>3488</td>\n",
       "    </tr>\n",
       "    <tr>\n",
       "      <th>...</th>\n",
       "      <td>...</td>\n",
       "      <td>...</td>\n",
       "      <td>...</td>\n",
       "      <td>...</td>\n",
       "      <td>...</td>\n",
       "    </tr>\n",
       "    <tr>\n",
       "      <th>3288</th>\n",
       "      <td>경남</td>\n",
       "      <td>60㎡초과 85㎡이하</td>\n",
       "      <td>2020</td>\n",
       "      <td>2</td>\n",
       "      <td>3065</td>\n",
       "    </tr>\n",
       "    <tr>\n",
       "      <th>3289</th>\n",
       "      <td>경남</td>\n",
       "      <td>85㎡초과 102㎡이하</td>\n",
       "      <td>2020</td>\n",
       "      <td>2</td>\n",
       "      <td>3247</td>\n",
       "    </tr>\n",
       "    <tr>\n",
       "      <th>3290</th>\n",
       "      <td>제주</td>\n",
       "      <td>60㎡이하</td>\n",
       "      <td>2020</td>\n",
       "      <td>2</td>\n",
       "      <td>4039</td>\n",
       "    </tr>\n",
       "    <tr>\n",
       "      <th>3291</th>\n",
       "      <td>제주</td>\n",
       "      <td>60㎡초과 85㎡이하</td>\n",
       "      <td>2020</td>\n",
       "      <td>2</td>\n",
       "      <td>3962</td>\n",
       "    </tr>\n",
       "    <tr>\n",
       "      <th>3292</th>\n",
       "      <td>제주</td>\n",
       "      <td>102㎡초과</td>\n",
       "      <td>2020</td>\n",
       "      <td>2</td>\n",
       "      <td>3601</td>\n",
       "    </tr>\n",
       "  </tbody>\n",
       "</table>\n",
       "<p>3293 rows × 5 columns</p>\n",
       "</div>"
      ],
      "text/plain": [
       "      지역             규모    연도   월   분양가\n",
       "0     서울          60㎡이하  2015  10  5652\n",
       "1     서울    60㎡초과 85㎡이하  2015  10  5882\n",
       "2     서울   85㎡초과 102㎡이하  2015  10  5721\n",
       "3     서울         102㎡초과  2015  10  5879\n",
       "4     인천          60㎡이하  2015  10  3488\n",
       "...   ..            ...   ...  ..   ...\n",
       "3288  경남    60㎡초과 85㎡이하  2020   2  3065\n",
       "3289  경남   85㎡초과 102㎡이하  2020   2  3247\n",
       "3290  제주          60㎡이하  2020   2  4039\n",
       "3291  제주    60㎡초과 85㎡이하  2020   2  3962\n",
       "3292  제주         102㎡초과  2020   2  3601\n",
       "\n",
       "[3293 rows x 5 columns]"
      ]
     },
     "execution_count": 99,
     "metadata": {},
     "output_type": "execute_result"
    }
   ],
   "source": [
    "df = pd.read_csv(\"./data/house_price_clean.csv\")\n",
    "df"
   ]
  },
  {
   "cell_type": "code",
   "execution_count": 100,
   "id": "f6feac17-1dab-4b24-b33c-754b1796f14b",
   "metadata": {},
   "outputs": [
    {
     "data": {
      "text/plain": [
       "(3293, 5)"
      ]
     },
     "execution_count": 100,
     "metadata": {},
     "output_type": "execute_result"
    }
   ],
   "source": [
    "# 데이터프레임의 행, 열 갯수 확인 - 데이터의 규모를 확인한다.\n",
    "df.shape"
   ]
  },
  {
   "cell_type": "code",
   "execution_count": null,
   "id": "854f5b03-ee3b-4362-bbf3-d930eb71bb20",
   "metadata": {},
   "outputs": [],
   "source": []
  }
 ],
 "metadata": {
  "kernelspec": {
   "display_name": "Python 3 (ipykernel)",
   "language": "python",
   "name": "python3"
  },
  "language_info": {
   "codemirror_mode": {
    "name": "ipython",
    "version": 3
   },
   "file_extension": ".py",
   "mimetype": "text/x-python",
   "name": "python",
   "nbconvert_exporter": "python",
   "pygments_lexer": "ipython3",
   "version": "3.12.5"
  }
 },
 "nbformat": 4,
 "nbformat_minor": 5
}
