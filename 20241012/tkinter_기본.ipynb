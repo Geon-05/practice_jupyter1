{
 "cells": [
  {
   "cell_type": "code",
   "execution_count": 2,
   "id": "c9d593d5-e0db-4466-bb8e-5774eabfce70",
   "metadata": {},
   "outputs": [],
   "source": [
    "from tkinter import *"
   ]
  },
  {
   "cell_type": "code",
   "execution_count": 2,
   "id": "ef0df2bc-079e-4d28-a5b8-f54dec4bf4b9",
   "metadata": {},
   "outputs": [],
   "source": [
    "# def lotto_p():\n",
    "#     import requests\n",
    "#     from bs4 import BeautifulSoup as bs\n",
    "#     url = 'https://dhlottery.co.kr/gameResult.do?method=byWin'\n",
    "#     req = requests.get(url)\n",
    "#     soup = bs(req.text, 'html.parser')\n",
    "#     num_win_list = [i.text for i in soup.find('div','num win').find('p').find_all('span')]\n",
    "#     num_bonus = soup.find('div','num bonus').find('span').text\n",
    "#     print(num_win_list)\n",
    "#     print(num_bonus)"
   ]
  },
  {
   "cell_type": "code",
   "execution_count": 12,
   "id": "abb10b45-843c-44d1-ba13-a4f8cea94518",
   "metadata": {},
   "outputs": [],
   "source": [
    "win = Tk()\n",
    "\n",
    "win.geometry('1000x500')\n",
    "win.title('temp')\n",
    "win.option_add('*Font','맑은고딕 20')\n",
    "\n",
    "# 다음로고\n",
    "img = PhotoImage(file='./img/다음 로고_daum logo.png', master=win).subsample(5)\n",
    "lab_d = Label(win, image=img)\n",
    "lab_d.pack()\n",
    "\n",
    "# ID라벨\n",
    "lab1 = Label(win, text='ID')\n",
    "lab1.pack()\n",
    "\n",
    "# ID입력\n",
    "ent1 = tk.Entry(win)\n",
    "ent1.insert(0,'temp@temp.com')\n",
    "def clear(event):\n",
    "    if ent1.get() == 'temp@temp.com':\n",
    "        ent1.delete(0,len(ent1.get()))\n",
    "def break_ent(event):\n",
    "    if ent1.get() == '':\n",
    "        ent1.insert(0,'temp@temp.com')\n",
    "ent1.bind('<Button-1>',clear)\n",
    "ent1.bind('<FocusOut>',break_ent)\n",
    "ent1.grid()\n",
    "\n",
    "# PW라벨\n",
    "lab2 = Label(win, text='Password')\n",
    "lab2.pack()\n",
    "\n",
    "# PW입력\n",
    "ent2 = Entry(win, show='*')\n",
    "ent2.pack()\n",
    "\n",
    "btn = Button(win, text='로그인')\n",
    "btn.pack()\n",
    "\n",
    "win.mainloop()"
   ]
  },
  {
   "cell_type": "code",
   "execution_count": null,
   "id": "b2f51531-f30a-4a63-8b3d-f15157ff7142",
   "metadata": {},
   "outputs": [],
   "source": []
  }
 ],
 "metadata": {
  "kernelspec": {
   "display_name": "base",
   "language": "python",
   "name": "python3"
  },
  "language_info": {
   "codemirror_mode": {
    "name": "ipython",
    "version": 3
   },
   "file_extension": ".py",
   "mimetype": "text/x-python",
   "name": "python",
   "nbconvert_exporter": "python",
   "pygments_lexer": "ipython3",
   "version": "3.12.4"
  }
 },
 "nbformat": 4,
 "nbformat_minor": 5
}
