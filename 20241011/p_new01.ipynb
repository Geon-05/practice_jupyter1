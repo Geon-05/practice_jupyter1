{
 "cells": [
  {
   "cell_type": "code",
   "execution_count": 1,
   "id": "335337d8-87bb-4573-bdcc-4f05fb791622",
   "metadata": {},
   "outputs": [
    {
     "data": {
      "text/plain": [
       "'C:\\\\Users\\\\go121\\\\practice_jupyter\\\\py\\\\20241011'"
      ]
     },
     "execution_count": 1,
     "metadata": {},
     "output_type": "execute_result"
    }
   ],
   "source": [
    "pwd"
   ]
  },
  {
   "cell_type": "code",
   "execution_count": 2,
   "id": "db10ecb0-6306-4f0d-9e1a-80916f71acff",
   "metadata": {},
   "outputs": [],
   "source": [
    "import pandas as pd\n",
    "import numpy as np\n",
    "from konlpy.tag import Okt\n",
    "from sklearn.feature_extraction.text import TfidfVectorizer"
   ]
  },
  {
   "cell_type": "code",
   "execution_count": 3,
   "id": "1a3fdd32-0c90-4f41-913e-ab4af04fd180",
   "metadata": {
    "scrolled": true
   },
   "outputs": [],
   "source": [
    "df = pd.read_csv('./전세사기 세부내용_네이버지식인_개인.csv')\n",
    "q_list = df['질문'].unique()"
   ]
  },
  {
   "cell_type": "code",
   "execution_count": 10,
   "id": "3b2603bd-a584-4497-bb2e-0cf2550ae935",
   "metadata": {},
   "outputs": [
    {
     "data": {
      "text/plain": [
       "[]"
      ]
     },
     "execution_count": 10,
     "metadata": {},
     "output_type": "execute_result"
    }
   ],
   "source": [
    "text_res = []\n",
    "korean_stopwords = [\"는\", \"은\", \"이\", \"가\", \"을\", \"를\", \"에서\", \"의\", \"으로\", \"하고\", \"도\", \"에\", \"한\", \"으로\", \"고\",'.']\n",
    "\n",
    "okt = Okt()\n",
    "for i in text_res:\n",
    "texts = [\n",
    "    [word for word in okt.nouns(text_res) if word not in korean_stopwords]\n",
    "    for text_res in text_res\n",
    "]"
   ]
  },
  {
   "cell_type": "code",
   "execution_count": 5,
   "id": "af957458-c4c2-410d-a135-20499f51ae61",
   "metadata": {},
   "outputs": [],
   "source": [
    "# 1. 각 문서별 명사, 형용사, 동사 추출[['ㅇㄹ','ㅇㄹ']]\n",
    "text_res = []\n",
    "okt = Okt()\n",
    "for i in q_list:\n",
    "    text_res.append(okt.nouns(i))"
   ]
  },
  {
   "cell_type": "code",
   "execution_count": 7,
   "id": "f19fdcd7-c636-4092-ae95-5885f783b2ef",
   "metadata": {},
   "outputs": [],
   "source": [
    "# 2. 단어리스트 : 모든 문서에 사용된 단어들 (컬럼)\n",
    "key_word = sorted(list(set([j for i in text_res for j in i])))\n",
    "\n"
   ]
  },
  {
   "cell_type": "code",
   "execution_count": null,
   "id": "6448ade4-8c7b-4292-9718-1c8753c4b5a3",
   "metadata": {},
   "outputs": [],
   "source": []
  }
 ],
 "metadata": {
  "kernelspec": {
   "display_name": "Python 3 (ipykernel)",
   "language": "python",
   "name": "python3"
  },
  "language_info": {
   "codemirror_mode": {
    "name": "ipython",
    "version": 3
   },
   "file_extension": ".py",
   "mimetype": "text/x-python",
   "name": "python",
   "nbconvert_exporter": "python",
   "pygments_lexer": "ipython3",
   "version": "3.12.5"
  }
 },
 "nbformat": 4,
 "nbformat_minor": 5
}
