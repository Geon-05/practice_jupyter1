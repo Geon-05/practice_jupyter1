{
 "cells": [
  {
   "cell_type": "code",
   "execution_count": 1,
   "id": "672d28c7-1666-4b35-ac70-aa56f3104318",
   "metadata": {},
   "outputs": [],
   "source": [
    "import numpy as np\n",
    "txt=['파이썬 차트 파이썬 머신러닝',\n",
    "      '차트 파이썬 R 차트',\n",
    "       'R 분석 시각화'\n",
    "      ]"
   ]
  },
  {
   "cell_type": "code",
   "execution_count": 2,
   "id": "fc7ec753-efc6-4f98-a081-16c8411cb712",
   "metadata": {},
   "outputs": [
    {
     "data": {
      "text/plain": [
       "[['파이썬', '차트', '파이썬', '머신러닝'], ['차트', '파이썬', 'R', '차트'], ['R', '분석', '시각화']]"
      ]
     },
     "execution_count": 2,
     "metadata": {},
     "output_type": "execute_result"
    }
   ],
   "source": [
    "txtList=[i.split(' ') for i in txt]\n",
    "txtList"
   ]
  },
  {
   "cell_type": "code",
   "execution_count": 3,
   "id": "742be53a-786d-44bf-8ce9-9a18684840f3",
   "metadata": {},
   "outputs": [],
   "source": [
    "wordList=[]\n",
    "nouns=sorted(list(set([n for i in txtList for n in i])))"
   ]
  },
  {
   "cell_type": "code",
   "execution_count": 4,
   "id": "c1edbd24-602b-4538-91c3-738769512a00",
   "metadata": {},
   "outputs": [],
   "source": [
    "import pandas as pd\n",
    "dtm=[]\n",
    "for i in txtList:\n",
    "    dtm.append([])\n",
    "    for j in nouns:\n",
    "        dtm[-1].append(i.count(j))\n",
    "tf_=pd.DataFrame(dtm, columns=nouns)"
   ]
  },
  {
   "cell_type": "code",
   "execution_count": 5,
   "id": "4042dd7f-dc99-4cfc-a5f2-5548cdc422d9",
   "metadata": {},
   "outputs": [],
   "source": [
    "import numpy as np\n",
    "\n",
    "D=len(tf_) #총문서수\n",
    "df=tf_.astype(bool).sum()\n",
    "idf=D/df"
   ]
  },
  {
   "cell_type": "code",
   "execution_count": 6,
   "id": "ac281d59-c046-4e5b-9be9-8d22ed683751",
   "metadata": {},
   "outputs": [
    {
     "data": {
      "text/html": [
       "<div>\n",
       "<style scoped>\n",
       "    .dataframe tbody tr th:only-of-type {\n",
       "        vertical-align: middle;\n",
       "    }\n",
       "\n",
       "    .dataframe tbody tr th {\n",
       "        vertical-align: top;\n",
       "    }\n",
       "\n",
       "    .dataframe thead th {\n",
       "        text-align: right;\n",
       "    }\n",
       "</style>\n",
       "<table border=\"1\" class=\"dataframe\">\n",
       "  <thead>\n",
       "    <tr style=\"text-align: right;\">\n",
       "      <th></th>\n",
       "      <th>R</th>\n",
       "      <th>머신러닝</th>\n",
       "      <th>분석</th>\n",
       "      <th>시각화</th>\n",
       "      <th>차트</th>\n",
       "      <th>파이썬</th>\n",
       "    </tr>\n",
       "  </thead>\n",
       "  <tbody>\n",
       "    <tr>\n",
       "      <th>0</th>\n",
       "      <td>0.0</td>\n",
       "      <td>3.0</td>\n",
       "      <td>0.0</td>\n",
       "      <td>0.0</td>\n",
       "      <td>1.5</td>\n",
       "      <td>3.0</td>\n",
       "    </tr>\n",
       "    <tr>\n",
       "      <th>1</th>\n",
       "      <td>1.5</td>\n",
       "      <td>0.0</td>\n",
       "      <td>0.0</td>\n",
       "      <td>0.0</td>\n",
       "      <td>3.0</td>\n",
       "      <td>1.5</td>\n",
       "    </tr>\n",
       "    <tr>\n",
       "      <th>2</th>\n",
       "      <td>1.5</td>\n",
       "      <td>0.0</td>\n",
       "      <td>3.0</td>\n",
       "      <td>3.0</td>\n",
       "      <td>0.0</td>\n",
       "      <td>0.0</td>\n",
       "    </tr>\n",
       "  </tbody>\n",
       "</table>\n",
       "</div>"
      ],
      "text/plain": [
       "     R  머신러닝   분석  시각화   차트  파이썬\n",
       "0  0.0   3.0  0.0  0.0  1.5  3.0\n",
       "1  1.5   0.0  0.0  0.0  3.0  1.5\n",
       "2  1.5   0.0  3.0  3.0  0.0  0.0"
      ]
     },
     "execution_count": 6,
     "metadata": {},
     "output_type": "execute_result"
    }
   ],
   "source": [
    "tfidf_=tf_*idf\n",
    "tfidf_"
   ]
  },
  {
   "cell_type": "code",
   "execution_count": 7,
   "id": "aaf37c38-8119-4da2-88aa-2853a536cc24",
   "metadata": {},
   "outputs": [
    {
     "data": {
      "text/html": [
       "<div>\n",
       "<style scoped>\n",
       "    .dataframe tbody tr th:only-of-type {\n",
       "        vertical-align: middle;\n",
       "    }\n",
       "\n",
       "    .dataframe tbody tr th {\n",
       "        vertical-align: top;\n",
       "    }\n",
       "\n",
       "    .dataframe thead th {\n",
       "        text-align: right;\n",
       "    }\n",
       "</style>\n",
       "<table border=\"1\" class=\"dataframe\">\n",
       "  <thead>\n",
       "    <tr style=\"text-align: right;\">\n",
       "      <th></th>\n",
       "      <th>R</th>\n",
       "      <th>머신러닝</th>\n",
       "      <th>분석</th>\n",
       "      <th>시각화</th>\n",
       "      <th>차트</th>\n",
       "      <th>파이썬</th>\n",
       "    </tr>\n",
       "  </thead>\n",
       "  <tbody>\n",
       "    <tr>\n",
       "      <th>R</th>\n",
       "      <td>1.000000</td>\n",
       "      <td>-1.000000</td>\n",
       "      <td>0.500000</td>\n",
       "      <td>0.500000</td>\n",
       "      <td>0.000000</td>\n",
       "      <td>-0.866025</td>\n",
       "    </tr>\n",
       "    <tr>\n",
       "      <th>머신러닝</th>\n",
       "      <td>-1.000000</td>\n",
       "      <td>1.000000</td>\n",
       "      <td>-0.500000</td>\n",
       "      <td>-0.500000</td>\n",
       "      <td>0.000000</td>\n",
       "      <td>0.866025</td>\n",
       "    </tr>\n",
       "    <tr>\n",
       "      <th>분석</th>\n",
       "      <td>0.500000</td>\n",
       "      <td>-0.500000</td>\n",
       "      <td>1.000000</td>\n",
       "      <td>1.000000</td>\n",
       "      <td>-0.866025</td>\n",
       "      <td>-0.866025</td>\n",
       "    </tr>\n",
       "    <tr>\n",
       "      <th>시각화</th>\n",
       "      <td>0.500000</td>\n",
       "      <td>-0.500000</td>\n",
       "      <td>1.000000</td>\n",
       "      <td>1.000000</td>\n",
       "      <td>-0.866025</td>\n",
       "      <td>-0.866025</td>\n",
       "    </tr>\n",
       "    <tr>\n",
       "      <th>차트</th>\n",
       "      <td>0.000000</td>\n",
       "      <td>0.000000</td>\n",
       "      <td>-0.866025</td>\n",
       "      <td>-0.866025</td>\n",
       "      <td>1.000000</td>\n",
       "      <td>0.500000</td>\n",
       "    </tr>\n",
       "    <tr>\n",
       "      <th>파이썬</th>\n",
       "      <td>-0.866025</td>\n",
       "      <td>0.866025</td>\n",
       "      <td>-0.866025</td>\n",
       "      <td>-0.866025</td>\n",
       "      <td>0.500000</td>\n",
       "      <td>1.000000</td>\n",
       "    </tr>\n",
       "  </tbody>\n",
       "</table>\n",
       "</div>"
      ],
      "text/plain": [
       "             R      머신러닝        분석       시각화        차트       파이썬\n",
       "R     1.000000 -1.000000  0.500000  0.500000  0.000000 -0.866025\n",
       "머신러닝 -1.000000  1.000000 -0.500000 -0.500000  0.000000  0.866025\n",
       "분석    0.500000 -0.500000  1.000000  1.000000 -0.866025 -0.866025\n",
       "시각화   0.500000 -0.500000  1.000000  1.000000 -0.866025 -0.866025\n",
       "차트    0.000000  0.000000 -0.866025 -0.866025  1.000000  0.500000\n",
       "파이썬  -0.866025  0.866025 -0.866025 -0.866025  0.500000  1.000000"
      ]
     },
     "execution_count": 7,
     "metadata": {},
     "output_type": "execute_result"
    }
   ],
   "source": [
    "tfidf_.corr()"
   ]
  },
  {
   "cell_type": "code",
   "execution_count": 8,
   "id": "b18e7035-de82-48f1-a444-fb19658bdafa",
   "metadata": {},
   "outputs": [
    {
     "name": "stdout",
     "output_type": "stream",
     "text": [
      "[[ 1.        -1.         0.5        0.5        0.        -0.8660254]\n",
      " [-1.         1.        -0.5       -0.5        0.         0.8660254]\n",
      " [ 0.5       -0.5        1.         1.        -0.8660254 -0.8660254]\n",
      " [ 0.5       -0.5        1.         1.        -0.8660254 -0.8660254]\n",
      " [ 0.         0.        -0.8660254 -0.8660254  1.         0.5      ]\n",
      " [-0.8660254  0.8660254 -0.8660254 -0.8660254  0.5        1.       ]]\n",
      "====================================================================================================\n"
     ]
    },
    {
     "data": {
      "text/html": [
       "<div>\n",
       "<style scoped>\n",
       "    .dataframe tbody tr th:only-of-type {\n",
       "        vertical-align: middle;\n",
       "    }\n",
       "\n",
       "    .dataframe tbody tr th {\n",
       "        vertical-align: top;\n",
       "    }\n",
       "\n",
       "    .dataframe thead th {\n",
       "        text-align: right;\n",
       "    }\n",
       "</style>\n",
       "<table border=\"1\" class=\"dataframe\">\n",
       "  <thead>\n",
       "    <tr style=\"text-align: right;\">\n",
       "      <th></th>\n",
       "      <th>R</th>\n",
       "      <th>머신러닝</th>\n",
       "      <th>분석</th>\n",
       "      <th>시각화</th>\n",
       "      <th>차트</th>\n",
       "      <th>파이썬</th>\n",
       "    </tr>\n",
       "  </thead>\n",
       "  <tbody>\n",
       "    <tr>\n",
       "      <th>R</th>\n",
       "      <td>1.000000</td>\n",
       "      <td>-1.000000</td>\n",
       "      <td>0.500000</td>\n",
       "      <td>0.500000</td>\n",
       "      <td>0.000000</td>\n",
       "      <td>-0.866025</td>\n",
       "    </tr>\n",
       "    <tr>\n",
       "      <th>머신러닝</th>\n",
       "      <td>-1.000000</td>\n",
       "      <td>1.000000</td>\n",
       "      <td>-0.500000</td>\n",
       "      <td>-0.500000</td>\n",
       "      <td>0.000000</td>\n",
       "      <td>0.866025</td>\n",
       "    </tr>\n",
       "    <tr>\n",
       "      <th>분석</th>\n",
       "      <td>0.500000</td>\n",
       "      <td>-0.500000</td>\n",
       "      <td>1.000000</td>\n",
       "      <td>1.000000</td>\n",
       "      <td>-0.866025</td>\n",
       "      <td>-0.866025</td>\n",
       "    </tr>\n",
       "    <tr>\n",
       "      <th>시각화</th>\n",
       "      <td>0.500000</td>\n",
       "      <td>-0.500000</td>\n",
       "      <td>1.000000</td>\n",
       "      <td>1.000000</td>\n",
       "      <td>-0.866025</td>\n",
       "      <td>-0.866025</td>\n",
       "    </tr>\n",
       "    <tr>\n",
       "      <th>차트</th>\n",
       "      <td>0.000000</td>\n",
       "      <td>0.000000</td>\n",
       "      <td>-0.866025</td>\n",
       "      <td>-0.866025</td>\n",
       "      <td>1.000000</td>\n",
       "      <td>0.500000</td>\n",
       "    </tr>\n",
       "    <tr>\n",
       "      <th>파이썬</th>\n",
       "      <td>-0.866025</td>\n",
       "      <td>0.866025</td>\n",
       "      <td>-0.866025</td>\n",
       "      <td>-0.866025</td>\n",
       "      <td>0.500000</td>\n",
       "      <td>1.000000</td>\n",
       "    </tr>\n",
       "  </tbody>\n",
       "</table>\n",
       "</div>"
      ],
      "text/plain": [
       "             R      머신러닝        분석       시각화        차트       파이썬\n",
       "R     1.000000 -1.000000  0.500000  0.500000  0.000000 -0.866025\n",
       "머신러닝 -1.000000  1.000000 -0.500000 -0.500000  0.000000  0.866025\n",
       "분석    0.500000 -0.500000  1.000000  1.000000 -0.866025 -0.866025\n",
       "시각화   0.500000 -0.500000  1.000000  1.000000 -0.866025 -0.866025\n",
       "차트    0.000000  0.000000 -0.866025 -0.866025  1.000000  0.500000\n",
       "파이썬  -0.866025  0.866025 -0.866025 -0.866025  0.500000  1.000000"
      ]
     },
     "execution_count": 8,
     "metadata": {},
     "output_type": "execute_result"
    }
   ],
   "source": [
    "import numpy as np\n",
    "import pandas as pd\n",
    "\n",
    "word_corr=np.corrcoef(tf_,rowvar=False)\n",
    "print(word_corr)\n",
    "\n",
    "print('='*100)\n",
    "vocab=tf_.columns\n",
    "df=pd.DataFrame(word_corr,columns=vocab)\n",
    "df.index=vocab\n",
    "df"
   ]
  },
  {
   "cell_type": "code",
   "execution_count": 9,
   "id": "bf52ac00-3964-4b8a-9acc-6d8a0c89c5bf",
   "metadata": {},
   "outputs": [
    {
     "data": {
      "text/plain": [
       "[('R', '머신러닝', np.float64(-1.0)),\n",
       " ('R', '분석', np.float64(0.4999999999999999)),\n",
       " ('R', '시각화', np.float64(0.4999999999999999)),\n",
       " ('R', '차트', np.float64(0.0)),\n",
       " ('R', '파이썬', np.float64(-0.8660254037844385)),\n",
       " ('머신러닝', '분석', np.float64(-0.5)),\n",
       " ('머신러닝', '시각화', np.float64(-0.5)),\n",
       " ('머신러닝', '차트', np.float64(0.0)),\n",
       " ('머신러닝', '파이썬', np.float64(0.8660254037844387)),\n",
       " ('분석', '시각화', np.float64(0.9999999999999998)),\n",
       " ('분석', '차트', np.float64(-0.8660254037844385)),\n",
       " ('분석', '파이썬', np.float64(-0.8660254037844385)),\n",
       " ('시각화', '차트', np.float64(-0.8660254037844385)),\n",
       " ('시각화', '파이썬', np.float64(-0.8660254037844385)),\n",
       " ('차트', '파이썬', np.float64(0.5))]"
      ]
     },
     "execution_count": 9,
     "metadata": {},
     "output_type": "execute_result"
    }
   ],
   "source": [
    "words=tf_.columns\n",
    "edges = []\n",
    "\n",
    "for i in range(len(words)):\n",
    "    for j in range(i+1, len(words)):\n",
    "        edges.append((words[i],words[j], word_corr[i,j]))\n",
    "edges"
   ]
  },
  {
   "cell_type": "code",
   "execution_count": 10,
   "id": "8aa1cd0c-bc46-4efb-a6a0-f2368d84c098",
   "metadata": {},
   "outputs": [
    {
     "data": {
      "text/plain": [
       "[('분석', '시각화', np.float64(0.9999999999999998)),\n",
       " ('머신러닝', '파이썬', np.float64(0.8660254037844387)),\n",
       " ('차트', '파이썬', np.float64(0.5)),\n",
       " ('R', '분석', np.float64(0.4999999999999999)),\n",
       " ('R', '시각화', np.float64(0.4999999999999999)),\n",
       " ('R', '차트', np.float64(0.0)),\n",
       " ('머신러닝', '차트', np.float64(0.0)),\n",
       " ('머신러닝', '분석', np.float64(-0.5)),\n",
       " ('머신러닝', '시각화', np.float64(-0.5)),\n",
       " ('R', '파이썬', np.float64(-0.8660254037844385)),\n",
       " ('분석', '차트', np.float64(-0.8660254037844385)),\n",
       " ('분석', '파이썬', np.float64(-0.8660254037844385)),\n",
       " ('시각화', '차트', np.float64(-0.8660254037844385)),\n",
       " ('시각화', '파이썬', np.float64(-0.8660254037844385)),\n",
       " ('R', '머신러닝', np.float64(-1.0))]"
      ]
     },
     "execution_count": 10,
     "metadata": {},
     "output_type": "execute_result"
    }
   ],
   "source": [
    "edges = sorted(edges, key=lambda x:x[2],reverse=True)\n",
    "edges "
   ]
  },
  {
   "cell_type": "code",
   "execution_count": 11,
   "id": "8cf3ac1e-5dca-4b74-af12-6d8944c13102",
   "metadata": {},
   "outputs": [
    {
     "name": "stdout",
     "output_type": "stream",
     "text": [
      "Requirement already satisfied: networkx in c:\\users\\go121\\.conda\\envs\\edu\\lib\\site-packages (3.4)\n"
     ]
    }
   ],
   "source": [
    "!pip install networkx"
   ]
  },
  {
   "cell_type": "code",
   "execution_count": 12,
   "id": "2f50a214-70b5-46df-9895-c059b73c156d",
   "metadata": {},
   "outputs": [
    {
     "data": {
      "text/plain": [
       "{('R', '분석'),\n",
       " ('R', '시각화'),\n",
       " ('R', '차트'),\n",
       " ('R', '파이썬'),\n",
       " ('머신러닝', '분석'),\n",
       " ('머신러닝', '시각화'),\n",
       " ('머신러닝', '차트'),\n",
       " ('머신러닝', '파이썬'),\n",
       " ('분석', '시각화'),\n",
       " ('차트', '파이썬')}"
      ]
     },
     "execution_count": 12,
     "metadata": {},
     "output_type": "execute_result"
    }
   ],
   "source": [
    "import networkx as nx\n",
    "\n",
    "G = nx.Graph()\n",
    "rank=10\n",
    "\n",
    "edge_set = set()  \n",
    "for word1, word2, weight in edges[:rank]:   # 상관도가 높은 값에서 101개까지. 여기서는 15개만 있음으로 모두 나옴.\n",
    "    G.add_edge(word1, word2, weight=weight) # 단어1,2 자료와 거기에 해당되는 상관도값(weight)\n",
    "    edge_set.add((word1,word2))\n",
    "edge_set"
   ]
  },
  {
   "cell_type": "code",
   "execution_count": 13,
   "id": "e2a00e4b-cbf7-49a9-9e5f-fa5cfceafe0c",
   "metadata": {},
   "outputs": [
    {
     "data": {
      "text/plain": [
       "[('분석', '시각화', np.float64(0.9999999999999998)),\n",
       " ('머신러닝', '파이썬', np.float64(0.8660254037844387)),\n",
       " ('차트', '파이썬', np.float64(0.5)),\n",
       " ('R', '분석', np.float64(0.4999999999999999)),\n",
       " ('R', '시각화', np.float64(0.4999999999999999)),\n",
       " ('R', '차트', np.float64(0.0)),\n",
       " ('머신러닝', '차트', np.float64(0.0)),\n",
       " ('머신러닝', '분석', np.float64(-0.5)),\n",
       " ('머신러닝', '시각화', np.float64(-0.5)),\n",
       " ('R', '파이썬', np.float64(-0.8660254037844385)),\n",
       " ('분석', '차트', np.float64(-0.8660254037844385)),\n",
       " ('분석', '파이썬', np.float64(-0.8660254037844385)),\n",
       " ('시각화', '차트', np.float64(-0.8660254037844385)),\n",
       " ('시각화', '파이썬', np.float64(-0.8660254037844385)),\n",
       " ('R', '머신러닝', np.float64(-1.0))]"
      ]
     },
     "execution_count": 13,
     "metadata": {},
     "output_type": "execute_result"
    }
   ],
   "source": [
    "edges"
   ]
  },
  {
   "cell_type": "code",
   "execution_count": 14,
   "id": "32e89ce8-7236-4e09-b261-818f7640bd57",
   "metadata": {},
   "outputs": [
    {
     "data": {
      "text/plain": [
       "[('분석', '시각화'),\n",
       " ('머신러닝', '파이썬'),\n",
       " ('차트', '파이썬'),\n",
       " ('R', '분석'),\n",
       " ('R', '시각화'),\n",
       " ('R', '차트'),\n",
       " ('머신러닝', '차트'),\n",
       " ('머신러닝', '분석'),\n",
       " ('머신러닝', '시각화'),\n",
       " ('R', '파이썬'),\n",
       " ('분석', '차트'),\n",
       " ('분석', '파이썬'),\n",
       " ('시각화', '차트'),\n",
       " ('시각화', '파이썬'),\n",
       " ('R', '머신러닝')]"
      ]
     },
     "execution_count": 14,
     "metadata": {},
     "output_type": "execute_result"
    }
   ],
   "source": [
    "edge_list = [(word1,word2) for word1, word2, weight in edges]\n",
    "edge_list"
   ]
  },
  {
   "cell_type": "code",
   "execution_count": 15,
   "id": "2c83e370-c353-44cd-a3a2-70df5ad7f77a",
   "metadata": {},
   "outputs": [
    {
     "name": "stdout",
     "output_type": "stream",
     "text": [
      "\n",
      " ▶ 노드갯수 출력\n",
      "6\n"
     ]
    }
   ],
   "source": [
    "print('\\n ▶ 노드갯수 출력')   # feature 갯수 (R, 분석, 시각화, 머신러닝, 파이썬, 차트)\n",
    "print(G.number_of_nodes())"
   ]
  },
  {
   "cell_type": "code",
   "execution_count": 16,
   "id": "506520c7-ca2a-400e-ae68-4b629d2118f6",
   "metadata": {},
   "outputs": [
    {
     "data": {
      "text/plain": [
       "{'R', '머신러닝', '분석', '시각화', '차트', '파이썬'}"
      ]
     },
     "execution_count": 16,
     "metadata": {},
     "output_type": "execute_result"
    }
   ],
   "source": [
    "set([j for i in list(edge_set) for j in i])"
   ]
  },
  {
   "cell_type": "code",
   "execution_count": 17,
   "id": "6861fdec-fe96-4e13-8e38-8d082e1962af",
   "metadata": {},
   "outputs": [
    {
     "name": "stdout",
     "output_type": "stream",
     "text": [
      "\n",
      " ▶노드값 출력\n",
      "['분석', '시각화', '머신러닝', '파이썬', '차트', 'R']\n"
     ]
    }
   ],
   "source": [
    "print('\\n ▶노드값 출력')\n",
    "print(G.nodes)"
   ]
  },
  {
   "cell_type": "code",
   "execution_count": 18,
   "id": "4beba04c-2f7b-4147-881e-0df91a8b9586",
   "metadata": {},
   "outputs": [
    {
     "name": "stdout",
     "output_type": "stream",
     "text": [
      "\n",
      " ▶ 엣지(word1,word2)값 출력\n",
      "[('분석', '시각화'), ('분석', 'R'), ('분석', '머신러닝'), ('시각화', 'R'), ('시각화', '머신러닝'), ('머신러닝', '파이썬'), ('머신러닝', '차트'), ('파이썬', '차트'), ('파이썬', 'R'), ('차트', 'R')]\n"
     ]
    }
   ],
   "source": [
    "print('\\n ▶ 엣지(word1,word2)값 출력')\n",
    "print(G.edges)"
   ]
  },
  {
   "cell_type": "code",
   "execution_count": 19,
   "id": "82a394fb-77f1-421d-be61-2fba94df7505",
   "metadata": {},
   "outputs": [
    {
     "name": "stdout",
     "output_type": "stream",
     "text": [
      "\n",
      " ▶ 디그리값 출력\n",
      "[('분석', 3), ('시각화', 3), ('머신러닝', 4), ('파이썬', 3), ('차트', 3), ('R', 4)]\n"
     ]
    }
   ],
   "source": [
    "print('\\n ▶ 디그리값 출력')  \n",
    "print(G.degree)"
   ]
  },
  {
   "cell_type": "code",
   "execution_count": 20,
   "id": "faa0f578-d889-41f2-a114-e77e0e07a942",
   "metadata": {},
   "outputs": [
    {
     "name": "stdout",
     "output_type": "stream",
     "text": [
      "\n",
      " ▶ 인접\n",
      "{'분석': {'시각화': {'weight': np.float64(0.9999999999999998)}, 'R': {'weight': np.float64(0.4999999999999999)}, '머신러닝': {'weight': np.float64(-0.5)}}, '시각화': {'분석': {'weight': np.float64(0.9999999999999998)}, 'R': {'weight': np.float64(0.4999999999999999)}, '머신러닝': {'weight': np.float64(-0.5)}}, '머신러닝': {'파이썬': {'weight': np.float64(0.8660254037844387)}, '차트': {'weight': np.float64(0.0)}, '분석': {'weight': np.float64(-0.5)}, '시각화': {'weight': np.float64(-0.5)}}, '파이썬': {'머신러닝': {'weight': np.float64(0.8660254037844387)}, '차트': {'weight': np.float64(0.5)}, 'R': {'weight': np.float64(-0.8660254037844385)}}, '차트': {'파이썬': {'weight': np.float64(0.5)}, 'R': {'weight': np.float64(0.0)}, '머신러닝': {'weight': np.float64(0.0)}}, 'R': {'분석': {'weight': np.float64(0.4999999999999999)}, '시각화': {'weight': np.float64(0.4999999999999999)}, '차트': {'weight': np.float64(0.0)}, '파이썬': {'weight': np.float64(-0.8660254037844385)}}}\n"
     ]
    }
   ],
   "source": [
    "print('\\n ▶ 인접')\n",
    "print(G.adj)"
   ]
  },
  {
   "cell_type": "code",
   "execution_count": 21,
   "id": "7a05a0b9-36fa-4a50-9c04-9fc0582e5082",
   "metadata": {},
   "outputs": [
    {
     "name": "stdout",
     "output_type": "stream",
     "text": [
      "\n",
      " ▶ edges의 갯수\n",
      "10\n"
     ]
    }
   ],
   "source": [
    "print('\\n ▶ edges의 갯수')\n",
    "print(G.number_of_edges())"
   ]
  },
  {
   "cell_type": "code",
   "execution_count": 22,
   "id": "a1de8500-86e8-4256-ab92-100ad3b905d6",
   "metadata": {},
   "outputs": [
    {
     "name": "stdout",
     "output_type": "stream",
     "text": [
      "\n",
      " ▶ 요약 \n",
      "노드의 개수: 6\n",
      "엣지의 개수: 10\n",
      "노드 목록: ['분석', '시각화', '머신러닝', '파이썬', '차트', 'R']\n",
      "엣지 목록: [('분석', '시각화'), ('분석', 'R'), ('분석', '머신러닝'), ('시각화', 'R'), ('시각화', '머신러닝'), ('머신러닝', '파이썬'), ('머신러닝', '차트'), ('파이썬', '차트'), ('파이썬', 'R'), ('차트', 'R')]\n"
     ]
    }
   ],
   "source": [
    "print('\\n ▶ 요약 ')\n",
    "print(f\"노드의 개수: {G.number_of_nodes()}\")\n",
    "print(f\"엣지의 개수: {G.number_of_edges()}\")\n",
    "print(f\"노드 목록: {list(G.nodes())}\")\n",
    "print(f\"엣지 목록: {list(G.edges())}\")"
   ]
  },
  {
   "cell_type": "code",
   "execution_count": 23,
   "id": "1a3c57a4-e1bf-401b-ae7a-21c9058b432b",
   "metadata": {},
   "outputs": [
    {
     "name": "stdout",
     "output_type": "stream",
     "text": [
      "R       2\n",
      "머신러닝    1\n",
      "분석      1\n",
      "시각화     1\n",
      "차트      3\n",
      "파이썬     3\n",
      "dtype: int64\n",
      "====================================================================================================\n",
      "R       1000.0\n",
      "머신러닝       0.0\n",
      "분석         0.0\n",
      "시각화        0.0\n",
      "차트      2000.0\n",
      "파이썬     2000.0\n",
      "dtype: float64\n"
     ]
    },
    {
     "name": "stderr",
     "output_type": "stream",
     "text": [
      "C:\\Users\\go121\\.conda\\envs\\edu\\Lib\\site-packages\\numpy\\_core\\fromnumeric.py:84: FutureWarning: The behavior of DataFrame.sum with axis=None is deprecated, in a future version this will reduce over both axes and return a scalar. To retain the old behavior, pass axis=0 (or do not pass axis)\n",
      "  return reduction(axis=axis, out=out, **passkwargs)\n"
     ]
    }
   ],
   "source": [
    "tmp=np.sum(tf_)\n",
    "print(tmp)\n",
    "print('='*100)\n",
    "nsize=tmp\n",
    "nsize=2000*(nsize-min(nsize))/(max(nsize)-min(nsize))\n",
    "\n",
    "print(nsize)"
   ]
  },
  {
   "cell_type": "code",
   "execution_count": 24,
   "id": "621b9d2a-efcd-4a82-839a-29ec75126f92",
   "metadata": {},
   "outputs": [
    {
     "data": {
      "text/html": [
       "<div>\n",
       "<style scoped>\n",
       "    .dataframe tbody tr th:only-of-type {\n",
       "        vertical-align: middle;\n",
       "    }\n",
       "\n",
       "    .dataframe tbody tr th {\n",
       "        vertical-align: top;\n",
       "    }\n",
       "\n",
       "    .dataframe thead th {\n",
       "        text-align: right;\n",
       "    }\n",
       "</style>\n",
       "<table border=\"1\" class=\"dataframe\">\n",
       "  <thead>\n",
       "    <tr style=\"text-align: right;\">\n",
       "      <th></th>\n",
       "      <th>R</th>\n",
       "      <th>머신러닝</th>\n",
       "      <th>분석</th>\n",
       "      <th>시각화</th>\n",
       "      <th>차트</th>\n",
       "      <th>파이썬</th>\n",
       "    </tr>\n",
       "  </thead>\n",
       "  <tbody>\n",
       "    <tr>\n",
       "      <th>0</th>\n",
       "      <td>0</td>\n",
       "      <td>1</td>\n",
       "      <td>0</td>\n",
       "      <td>0</td>\n",
       "      <td>1</td>\n",
       "      <td>2</td>\n",
       "    </tr>\n",
       "    <tr>\n",
       "      <th>1</th>\n",
       "      <td>1</td>\n",
       "      <td>0</td>\n",
       "      <td>0</td>\n",
       "      <td>0</td>\n",
       "      <td>2</td>\n",
       "      <td>1</td>\n",
       "    </tr>\n",
       "    <tr>\n",
       "      <th>2</th>\n",
       "      <td>1</td>\n",
       "      <td>0</td>\n",
       "      <td>1</td>\n",
       "      <td>1</td>\n",
       "      <td>0</td>\n",
       "      <td>0</td>\n",
       "    </tr>\n",
       "  </tbody>\n",
       "</table>\n",
       "</div>"
      ],
      "text/plain": [
       "   R  머신러닝  분석  시각화  차트  파이썬\n",
       "0  0     1   0    0   1    2\n",
       "1  1     0   0    0   2    1\n",
       "2  1     0   1    1   0    0"
      ]
     },
     "execution_count": 24,
     "metadata": {},
     "output_type": "execute_result"
    }
   ],
   "source": [
    "tf_"
   ]
  },
  {
   "cell_type": "code",
   "execution_count": 34,
   "id": "5cf85433-380c-404b-bd89-5b6688896bce",
   "metadata": {},
   "outputs": [
    {
     "data": {
      "text/plain": [
       "[np.float64(0.9999999999999998),\n",
       " np.float64(0.8660254037844387),\n",
       " np.float64(0.5),\n",
       " np.float64(0.4999999999999999),\n",
       " np.float64(0.4999999999999999),\n",
       " np.float64(0.0),\n",
       " np.float64(0.0),\n",
       " np.float64(-0.5),\n",
       " np.float64(-0.5),\n",
       " np.float64(-0.8660254037844385),\n",
       " np.float64(-0.8660254037844385),\n",
       " np.float64(-0.8660254037844385),\n",
       " np.float64(-0.8660254037844385),\n",
       " np.float64(-0.8660254037844385),\n",
       " np.float64(-1.0)]"
      ]
     },
     "execution_count": 34,
     "metadata": {},
     "output_type": "execute_result"
    }
   ],
   "source": [
    "weight_list=[x[2] for x in edges]   # weight_list = [weight for _, _, weight in edges] 도 사용가능\n",
    "weight_list"
   ]
  },
  {
   "cell_type": "code",
   "execution_count": 36,
   "id": "9bad9217-e0b9-4f1b-8132-ec5d2b315a15",
   "metadata": {},
   "outputs": [
    {
     "name": "stdout",
     "output_type": "stream",
     "text": [
      "[('분석', '시각화', np.float64(0.9999999999999998)), ('머신러닝', '파이썬', np.float64(0.8660254037844387)), ('차트', '파이썬', np.float64(0.5)), ('R', '분석', np.float64(0.4999999999999999)), ('R', '시각화', np.float64(0.4999999999999999)), ('R', '차트', np.float64(0.0)), ('머신러닝', '차트', np.float64(0.0)), ('머신러닝', '분석', np.float64(-0.5)), ('머신러닝', '시각화', np.float64(-0.5)), ('R', '파이썬', np.float64(-0.8660254037844385))]\n"
     ]
    },
    {
     "data": {
      "image/png": "[encoded data removed]",
      "text/plain": [
       "<Figure size 1600x1200 with 1 Axes>"
      ]
     },
     "metadata": {},
     "output_type": "display_data"
    }
   ],
   "source": [
    "import matplotlib.pyplot as plt\n",
    "import matplotlib.font_manager as fm\n",
    "import matplotlib.pyplot as plt\n",
    "plt.rcParams['font.family'] ='Malgun Gothic'\n",
    "plt.rcParams['axes.unicode_minus'] =False\n",
    "\n",
    "plt.figure(figsize=(16,12)); plt.axis('off')\n",
    "\n",
    "fname = fm.FontProperties().get_name()\n",
    "\n",
    "\n",
    "print(edges[:rank])\n",
    "nx.draw_networkx(G, with_labels = True,\n",
    "                 font_family=fname,width=weight_list[:rank],edge_color='lightblue',font_size=15,\n",
    "                 node_size=nsize)"
   ]
  },
  {
   "cell_type": "code",
   "execution_count": 27,
   "id": "105ed601-f202-4e2c-96a3-e0ae5fa90845",
   "metadata": {},
   "outputs": [
    {
     "name": "stderr",
     "output_type": "stream",
     "text": [
      "C:\\Users\\go121\\.conda\\envs\\edu\\Lib\\site-packages\\numpy\\_core\\fromnumeric.py:84: FutureWarning: The behavior of DataFrame.sum with axis=None is deprecated, in a future version this will reduce over both axes and return a scalar. To retain the old behavior, pass axis=0 (or do not pass axis)\n",
      "  return reduction(axis=axis, out=out, **passkwargs)\n"
     ]
    }
   ],
   "source": [
    "a = np.sum(tf_)"
   ]
  },
  {
   "cell_type": "code",
   "execution_count": 28,
   "id": "5228cc13-b262-4cf4-8482-b4c86e0c048e",
   "metadata": {},
   "outputs": [
    {
     "data": {
      "text/plain": [
       "R       1\n",
       "머신러닝    0\n",
       "분석      0\n",
       "시각화     0\n",
       "차트      2\n",
       "파이썬     2\n",
       "dtype: int64"
      ]
     },
     "execution_count": 28,
     "metadata": {},
     "output_type": "execute_result"
    }
   ],
   "source": [
    "a-a.min()"
   ]
  },
  {
   "cell_type": "code",
   "execution_count": 29,
   "id": "5648dadc-4ef7-43c8-863f-789df74c41f0",
   "metadata": {},
   "outputs": [
    {
     "data": {
      "text/plain": [
       "np.int64(2)"
      ]
     },
     "execution_count": 29,
     "metadata": {},
     "output_type": "execute_result"
    }
   ],
   "source": [
    "a.max()-a.min()"
   ]
  },
  {
   "cell_type": "code",
   "execution_count": 30,
   "id": "d728b087-454b-4188-936e-9b7750ac8641",
   "metadata": {},
   "outputs": [
    {
     "data": {
      "text/plain": [
       "R       0.5\n",
       "머신러닝    0.0\n",
       "분석      0.0\n",
       "시각화     0.0\n",
       "차트      1.0\n",
       "파이썬     1.0\n",
       "dtype: float64"
      ]
     },
     "execution_count": 30,
     "metadata": {},
     "output_type": "execute_result"
    }
   ],
   "source": [
    "(a-a.min())/(a.max()-a.min())"
   ]
  },
  {
   "cell_type": "code",
   "execution_count": null,
   "id": "cf39c2d8-cb94-4bfe-adec-cf679e91adfa",
   "metadata": {},
   "outputs": [],
   "source": []
  }
 ],
 "metadata": {
  "kernelspec": {
   "display_name": "Python 3 (ipykernel)",
   "language": "python",
   "name": "python3"
  },
  "language_info": {
   "codemirror_mode": {
    "name": "ipython",
    "version": 3
   },
   "file_extension": ".py",
   "mimetype": "text/x-python",
   "name": "python",
   "nbconvert_exporter": "python",
   "pygments_lexer": "ipython3",
   "version": "3.12.5"
  }
 },
 "nbformat": 4,
 "nbformat_minor": 5
}
