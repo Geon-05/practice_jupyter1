{
 "cells": [
  {
   "cell_type": "code",
   "execution_count": 1,
   "id": "4a41c93f-d7e2-4927-8848-a921167ba441",
   "metadata": {},
   "outputs": [
    {
     "data": {
      "text/plain": [
       "'C:\\\\Users\\\\go121\\\\practice_jupyter\\\\py\\\\데이터분석 및 시각화\\\\06 크롤링_02'"
      ]
     },
     "execution_count": 1,
     "metadata": {},
     "output_type": "execute_result"
    }
   ],
   "source": [
    "pwd"
   ]
  },
  {
   "cell_type": "code",
   "execution_count": 14,
   "id": "da490809-6df7-4211-81f9-69a67efe048b",
   "metadata": {},
   "outputs": [],
   "source": [
    "import time\n",
    "from selenium import webdriver\n",
    "from selenium.webdriver.chrome.options import Options\n",
    "from selenium.webdriver.chrome.service import Service\n",
    "from webdriver_manager.chrome import ChromeDriverManager\n",
    "from selenium.webdriver.common.keys import Keys\n",
    "from selenium.webdriver.common.by import By\n",
    "from bs4 import BeautifulSoup as bs\n",
    "import pandas as pd\n",
    "import urllib.request\n",
    "import requests\n",
    "import os\n",
    "\n",
    "options=Options()\n",
    "options.add_experimental_option('detach',True)\n",
    "options.add_argument('--start-maximized')\n",
    "service=Service(ChromeDriverManager().install())\n",
    "\n",
    "driver=webdriver.Chrome(service=service, options=options)\n",
    "\n",
    "# ✨ 기본 검색어 및 url 설정\n",
    "url = f'https://section.blog.naver.com/Search/Post.naver?pageNo=1&rangeType=ALL&orderBy=sim&keyword=%EA%B5%AD%EB%82%B4%EC%97%AC%ED%96%89'\n",
    "\n",
    "# ✨ url 접속\n",
    "driver.get(url)\n",
    "time.sleep(3)\n",
    "html = driver.page_source\n",
    "html\n",
    "\n",
    "driver.quit()"
   ]
  },
  {
   "cell_type": "code",
   "execution_count": 15,
   "id": "c89d9cc6-f275-49c3-83dc-a0086c9093b0",
   "metadata": {},
   "outputs": [],
   "source": [
    "soup = bs(html, 'html')\n",
    "title_tags = soup.select('a.desc_inner')\n",
    "res = []\n",
    "for i in title_tags:\n",
    "    tmp = {}\n",
    "    tmp['제목'] = i.text.strip()\n",
    "    tmp['링크'] = i['href']\n",
    "    res.append(tmp)"
   ]
  },
  {
   "cell_type": "code",
   "execution_count": 16,
   "id": "44d91ac7-b1f3-474e-a12f-81cc9646e73d",
   "metadata": {},
   "outputs": [
    {
     "data": {
      "text/html": [
       "<div>\n",
       "<style scoped>\n",
       "    .dataframe tbody tr th:only-of-type {\n",
       "        vertical-align: middle;\n",
       "    }\n",
       "\n",
       "    .dataframe tbody tr th {\n",
       "        vertical-align: top;\n",
       "    }\n",
       "\n",
       "    .dataframe thead th {\n",
       "        text-align: right;\n",
       "    }\n",
       "</style>\n",
       "<table border=\"1\" class=\"dataframe\">\n",
       "  <thead>\n",
       "    <tr style=\"text-align: right;\">\n",
       "      <th></th>\n",
       "      <th>제목</th>\n",
       "      <th>링크</th>\n",
       "    </tr>\n",
       "  </thead>\n",
       "  <tbody>\n",
       "    <tr>\n",
       "      <th>0</th>\n",
       "      <td>국내여행코스 울릉도 여행 둘째날 버스투어 A코스 관광</td>\n",
       "      <td>https://blog.naver.com/piil/223596761973</td>\n",
       "    </tr>\n",
       "    <tr>\n",
       "      <th>1</th>\n",
       "      <td>국내여행 무주 창고 대형 카페</td>\n",
       "      <td>https://blog.naver.com/dorothy_bet/223591417000</td>\n",
       "    </tr>\n",
       "    <tr>\n",
       "      <th>2</th>\n",
       "      <td>10월 국내여행 가볼만한곳 충남 공주 부여 백제문화제</td>\n",
       "      <td>https://blog.naver.com/sm011sm/223603389561</td>\n",
       "    </tr>\n",
       "    <tr>\n",
       "      <th>3</th>\n",
       "      <td>[국내여행] 나홀로 목포_해상케이블카 시간 팁!</td>\n",
       "      <td>https://blog.naver.com/sssel_123/223609239066</td>\n",
       "    </tr>\n",
       "    <tr>\n",
       "      <th>4</th>\n",
       "      <td>영주 반띵관광택시 로이쿠 지원할인 받아 국내여행 가볼만한곳</td>\n",
       "      <td>https://blog.naver.com/lemon8363/223582041842</td>\n",
       "    </tr>\n",
       "    <tr>\n",
       "      <th>5</th>\n",
       "      <td>롤리키드 캐리어 가격 착한 국내 여행가방</td>\n",
       "      <td>https://blog.naver.com/lim265/223570345206</td>\n",
       "    </tr>\n",
       "    <tr>\n",
       "      <th>6</th>\n",
       "      <td>자산가를 위한 첫 걸음 - 경매 국내여행 시작</td>\n",
       "      <td>https://blog.naver.com/realaroa/223558388651</td>\n",
       "    </tr>\n",
       "  </tbody>\n",
       "</table>\n",
       "</div>"
      ],
      "text/plain": [
       "                                 제목  \\\n",
       "0     국내여행코스 울릉도 여행 둘째날 버스투어 A코스 관광   \n",
       "1                  국내여행 무주 창고 대형 카페   \n",
       "2     10월 국내여행 가볼만한곳 충남 공주 부여 백제문화제   \n",
       "3        [국내여행] 나홀로 목포_해상케이블카 시간 팁!   \n",
       "4  영주 반띵관광택시 로이쿠 지원할인 받아 국내여행 가볼만한곳   \n",
       "5            롤리키드 캐리어 가격 착한 국내 여행가방   \n",
       "6         자산가를 위한 첫 걸음 - 경매 국내여행 시작   \n",
       "\n",
       "                                                링크  \n",
       "0         https://blog.naver.com/piil/223596761973  \n",
       "1  https://blog.naver.com/dorothy_bet/223591417000  \n",
       "2      https://blog.naver.com/sm011sm/223603389561  \n",
       "3    https://blog.naver.com/sssel_123/223609239066  \n",
       "4    https://blog.naver.com/lemon8363/223582041842  \n",
       "5       https://blog.naver.com/lim265/223570345206  \n",
       "6     https://blog.naver.com/realaroa/223558388651  "
      ]
     },
     "execution_count": 16,
     "metadata": {},
     "output_type": "execute_result"
    }
   ],
   "source": [
    "df=pd.DataFrame(res)\n",
    "df"
   ]
  },
  {
   "cell_type": "code",
   "execution_count": 17,
   "id": "28bc13df-9cc3-4b7a-9c0e-e4c5e8ae71e8",
   "metadata": {},
   "outputs": [],
   "source": [
    "df.to_csv('국내여행_블로그.csv')"
   ]
  },
  {
   "cell_type": "code",
   "execution_count": null,
   "id": "10d7d225-3f64-4030-a37d-569e851d79cb",
   "metadata": {},
   "outputs": [],
   "source": []
  }
 ],
 "metadata": {
  "kernelspec": {
   "display_name": "Python 3 (ipykernel)",
   "language": "python",
   "name": "python3"
  },
  "language_info": {
   "codemirror_mode": {
    "name": "ipython",
    "version": 3
   },
   "file_extension": ".py",
   "mimetype": "text/x-python",
   "name": "python",
   "nbconvert_exporter": "python",
   "pygments_lexer": "ipython3",
   "version": "3.12.5"
  }
 },
 "nbformat": 4,
 "nbformat_minor": 5
}
