{
 "cells": [
  {
   "cell_type": "code",
   "execution_count": 2,
   "id": "f44122ca-c24d-4356-9f67-d0711ced8c75",
   "metadata": {},
   "outputs": [
    {
     "data": {
      "text/plain": [
       "'2024.10'"
      ]
     },
     "execution_count": 2,
     "metadata": {},
     "output_type": "execute_result"
    }
   ],
   "source": [
    "start_day = '2024.10.12'\n",
    "start_day[:7]"
   ]
  },
  {
   "cell_type": "code",
   "execution_count": 3,
   "id": "5760d918-087f-431d-8be7-f7d76d2ece6c",
   "metadata": {},
   "outputs": [
    {
     "data": {
      "text/plain": [
       "'12'"
      ]
     },
     "execution_count": 3,
     "metadata": {},
     "output_type": "execute_result"
    }
   ],
   "source": [
    "start_day[8:]"
   ]
  },
  {
   "cell_type": "code",
   "execution_count": null,
   "id": "a694721d-2c0d-41d0-abdb-6f5eea1b8242",
   "metadata": {},
   "outputs": [],
   "source": []
  }
 ],
 "metadata": {
  "kernelspec": {
   "display_name": "Python 3 (ipykernel)",
   "language": "python",
   "name": "python3"
  },
  "language_info": {
   "codemirror_mode": {
    "name": "ipython",
    "version": 3
   },
   "file_extension": ".py",
   "mimetype": "text/x-python",
   "name": "python",
   "nbconvert_exporter": "python",
   "pygments_lexer": "ipython3",
   "version": "3.12.5"
  }
 },
 "nbformat": 4,
 "nbformat_minor": 5
}
