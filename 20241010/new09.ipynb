{
 "cells": [
  {
   "cell_type": "code",
   "execution_count": 3,
   "id": "de2ab997-51a3-479d-ac29-009c48a2a050",
   "metadata": {},
   "outputs": [],
   "source": [
    "from konlpy.tag import Okt\n",
    "import pandas as pd\n",
    "from wordcloud import WordCloud\n",
    "import matplotlib.pyplot as plt\n",
    "plt.rcParams['font.family'] = 'Malgun Gothic'\n",
    "plt.rc('axes', unicode_minus=False)"
   ]
  },
  {
   "cell_type": "code",
   "execution_count": 4,
   "id": "08a41859-79c6-4ece-bfee-839f9317c2d3",
   "metadata": {},
   "outputs": [],
   "source": [
    "sample= [\n",
    "    '스토리가 진짜 너무 노잼',\n",
    "    '심오한 똥이란 말이 딱이다',\n",
    "    '쓰레기같은 영화 ㄹㅇ 시간아깝다',\n",
    "    '점도 아깝다 ㄹㅇ쓰레기 영화',\n",
    "    '이 드러운 기분을 어쩌지',\n",
    "    '이건 명작임',\n",
    "    '이런 느낌 영화 좋아요',\n",
    "    '죽기전에 봐야할 영화',\n",
    "    '뻔한 로코가아님 대사가 아주 좋아요',\n",
    "    '안봤으면 후회했을거같다감동이다'\n",
    "]"
   ]
  },
  {
   "cell_type": "code",
   "execution_count": 6,
   "id": "62df5bd3-71de-4f3b-a943-40ebf242e08d",
   "metadata": {},
   "outputs": [
    {
     "data": {
      "text/plain": [
       "'스토리가 진짜 너무 노잼 심오한 똥이란 말이 딱이다 쓰레기같은 영화 ㄹㅇ 시간아깝다 점도 아깝다 ㄹㅇ쓰레기 영화 이 드러운 기분을 어쩌지 이건 명작임 이런 느낌 영화 좋아요 죽기전에 봐야할 영화 뻔한 로코가아님 대사가 아주 좋아요 안봤으면 후회했을거같다감동이다'"
      ]
     },
     "execution_count": 6,
     "metadata": {},
     "output_type": "execute_result"
    }
   ],
   "source": [
    "pre_s = ' '.join(sample)\n",
    "pre_s"
   ]
  },
  {
   "cell_type": "code",
   "execution_count": 9,
   "id": "0287e269-68c3-4f3c-8c0b-1af8638d00be",
   "metadata": {},
   "outputs": [
    {
     "data": {
      "text/plain": [
       "['스토리',\n",
       " '진짜',\n",
       " '노잼',\n",
       " '똥',\n",
       " '말',\n",
       " '쓰레기',\n",
       " '영화',\n",
       " '시간',\n",
       " '점도',\n",
       " '쓰레기',\n",
       " '영화',\n",
       " '이',\n",
       " '기분',\n",
       " '이건',\n",
       " '명작',\n",
       " '임',\n",
       " '느낌',\n",
       " '영화',\n",
       " '영화',\n",
       " '로코',\n",
       " '대사',\n",
       " '아주',\n",
       " '후회',\n",
       " '감동']"
      ]
     },
     "execution_count": 9,
     "metadata": {},
     "output_type": "execute_result"
    }
   ],
   "source": [
    "# 1. pre_s 명사 추출\n",
    "okt = Okt()\n",
    "nouns = okt.nouns(pre_s)\n",
    "nouns"
   ]
  },
  {
   "cell_type": "code",
   "execution_count": 17,
   "id": "1215b351-5a0d-43e4-bdc7-50b4d788b6e6",
   "metadata": {},
   "outputs": [
    {
     "data": {
      "text/plain": [
       "[('스토리', 'Noun'),\n",
       " ('진짜', 'Noun'),\n",
       " ('노잼', 'Noun'),\n",
       " ('심오하다', 'Adjective'),\n",
       " ('똥', 'Noun'),\n",
       " ('말', 'Noun'),\n",
       " ('딱이다', 'Adjective'),\n",
       " ('쓰레기', 'Noun'),\n",
       " ('같다', 'Adjective'),\n",
       " ('영화', 'Noun'),\n",
       " ('시간', 'Noun'),\n",
       " ('아깝다', 'Adjective'),\n",
       " ('점도', 'Noun'),\n",
       " ('아깝다', 'Adjective'),\n",
       " ('쓰레기', 'Noun'),\n",
       " ('영화', 'Noun'),\n",
       " ('이', 'Noun'),\n",
       " ('드럽다', 'Adjective'),\n",
       " ('기분', 'Noun'),\n",
       " ('이건', 'Noun'),\n",
       " ('명작', 'Noun'),\n",
       " ('임', 'Noun'),\n",
       " ('이렇다', 'Adjective'),\n",
       " ('느낌', 'Noun'),\n",
       " ('영화', 'Noun'),\n",
       " ('좋다', 'Adjective'),\n",
       " ('죽다', 'Verb'),\n",
       " ('보다', 'Verb'),\n",
       " ('야하다', 'Adjective'),\n",
       " ('영화', 'Noun'),\n",
       " ('뻔하다', 'Adjective'),\n",
       " ('로코', 'Noun'),\n",
       " ('아니다', 'Adjective'),\n",
       " ('대사', 'Noun'),\n",
       " ('아주', 'Noun'),\n",
       " ('좋다', 'Adjective'),\n",
       " ('보다', 'Verb'),\n",
       " ('후회', 'Noun'),\n",
       " ('하다', 'Verb'),\n",
       " ('같다', 'Adjective'),\n",
       " ('감동', 'Noun')]"
      ]
     },
     "execution_count": 17,
     "metadata": {},
     "output_type": "execute_result"
    }
   ],
   "source": [
    "# pre_s에서 명사, 형용사, 동사추출 -> 품사태깅(pos)\n",
    "okt = Okt()\n",
    "[(w,p) for w,p in okt.pos(pre_s, stem=True) if p in ['Noun','Adjective','Verb']]"
   ]
  },
  {
   "cell_type": "code",
   "execution_count": null,
   "id": "06bf24f2-c049-47e2-bdba-4c4a5b77a966",
   "metadata": {},
   "outputs": [],
   "source": []
  }
 ],
 "metadata": {
  "kernelspec": {
   "display_name": "Python 3 (ipykernel)",
   "language": "python",
   "name": "python3"
  },
  "language_info": {
   "codemirror_mode": {
    "name": "ipython",
    "version": 3
   },
   "file_extension": ".py",
   "mimetype": "text/x-python",
   "name": "python",
   "nbconvert_exporter": "python",
   "pygments_lexer": "ipython3",
   "version": "3.12.5"
  }
 },
 "nbformat": 4,
 "nbformat_minor": 5
}
