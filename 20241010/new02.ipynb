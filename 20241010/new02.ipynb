{
 "cells": [
  {
   "cell_type": "code",
   "execution_count": 13,
   "id": "ef1037ef-c368-4b85-9e10-1587929439d1",
   "metadata": {},
   "outputs": [
    {
     "data": {
      "text/plain": [
       "'C:\\\\Users\\\\go121\\\\practice_jupyter\\\\py\\\\데이터분석 및 시각화\\\\06 크롤링_02'"
      ]
     },
     "execution_count": 13,
     "metadata": {},
     "output_type": "execute_result"
    }
   ],
   "source": [
    "pwd"
   ]
  },
  {
   "cell_type": "code",
   "execution_count": 35,
   "id": "d2fd3b47-a7db-4f5e-b9f5-6dea4ae3b524",
   "metadata": {},
   "outputs": [
    {
     "name": "stderr",
     "output_type": "stream",
     "text": [
      "100%|████████████████████████████████████████████████████████████████████████████████████| 7/7 [00:31<00:00,  4.47s/it]\n"
     ]
    }
   ],
   "source": [
    "import time\n",
    "from selenium import webdriver\n",
    "from selenium.webdriver.chrome.options import Options\n",
    "from selenium.webdriver.chrome.service import Service\n",
    "from webdriver_manager.chrome import ChromeDriverManager\n",
    "from selenium.webdriver.common.keys import Keys\n",
    "from selenium.webdriver.common.by import By\n",
    "from bs4 import BeautifulSoup as bs\n",
    "import pandas as pd\n",
    "import urllib.request\n",
    "import requests\n",
    "import os\n",
    "from tqdm import tqdm\n",
    "\n",
    "options=Options()\n",
    "options.add_experimental_option('detach',True)\n",
    "options.add_argument('--start-maximized')\n",
    "service=Service(ChromeDriverManager().install())\n",
    "\n",
    "# driver=webdriver.Chrome(service=service, options=options)\n",
    "\n",
    "# 국내여행.csv 자료 읽기\n",
    "df = pd.read_csv('./국내여행_블로그.csv')\n",
    "# df\n",
    "# 가상 크롬드라이브 객체 생성\n",
    "driver=webdriver.Chrome(service=service, options=options)\n",
    "\n",
    "res = []\n",
    "for i in tqdm(df['링크']):\n",
    "    driver.get(i)\n",
    "    time.sleep(3)\n",
    "    iframe = driver.find_element(By.ID,'mainFrame')\n",
    "    driver.switch_to.frame(iframe)\n",
    "\n",
    "    tmp = driver.find_element(By.CSS_SELECTOR,'div.se-viewer.se-theme-default').text.replace('\\n', ' ')\n",
    "    res.append(tmp)\n",
    "driver.quit()"
   ]
  },
  {
   "cell_type": "code",
   "execution_count": 32,
   "id": "2d067e2c-b6cd-4a48-9618-284be474855a",
   "metadata": {},
   "outputs": [],
   "source": [
    "df['본문'] = res"
   ]
  },
  {
   "cell_type": "code",
   "execution_count": 33,
   "id": "6154f0cd-4640-43a9-9bff-95d4bce794b9",
   "metadata": {},
   "outputs": [
    {
     "data": {
      "text/html": [
       "<div>\n",
       "<style scoped>\n",
       "    .dataframe tbody tr th:only-of-type {\n",
       "        vertical-align: middle;\n",
       "    }\n",
       "\n",
       "    .dataframe tbody tr th {\n",
       "        vertical-align: top;\n",
       "    }\n",
       "\n",
       "    .dataframe thead th {\n",
       "        text-align: right;\n",
       "    }\n",
       "</style>\n",
       "<table border=\"1\" class=\"dataframe\">\n",
       "  <thead>\n",
       "    <tr style=\"text-align: right;\">\n",
       "      <th></th>\n",
       "      <th>Unnamed: 0</th>\n",
       "      <th>제목</th>\n",
       "      <th>링크</th>\n",
       "      <th>본문</th>\n",
       "    </tr>\n",
       "  </thead>\n",
       "  <tbody>\n",
       "    <tr>\n",
       "      <th>0</th>\n",
       "      <td>0</td>\n",
       "      <td>국내여행코스 울릉도 여행 둘째날 버스투어 A코스 관광</td>\n",
       "      <td>https://blog.naver.com/piil/223596761973</td>\n",
       "      <td>경상도 국내여행코스 울릉도 여행 둘째날 버스투어 A코스 관광 세상구경꾼 필 ・ 20...</td>\n",
       "    </tr>\n",
       "    <tr>\n",
       "      <th>1</th>\n",
       "      <td>1</td>\n",
       "      <td>국내여행 무주 창고 대형 카페</td>\n",
       "      <td>https://blog.naver.com/dorothy_bet/223591417000</td>\n",
       "      <td>전라도 국내여행 무주 창고 대형 카페 비현 ・ 2024. 9. 21. 20:50 U...</td>\n",
       "    </tr>\n",
       "    <tr>\n",
       "      <th>2</th>\n",
       "      <td>2</td>\n",
       "      <td>10월 국내여행 가볼만한곳 충남 공주 부여 백제문화제</td>\n",
       "      <td>https://blog.naver.com/sm011sm/223603389561</td>\n",
       "      <td>충청도 10월 국내여행 가볼만한곳 충남 공주 부여 백제문화제 힌둥이 ・ 2024. ...</td>\n",
       "    </tr>\n",
       "    <tr>\n",
       "      <th>3</th>\n",
       "      <td>3</td>\n",
       "      <td>[국내여행] 나홀로 목포_해상케이블카 시간 팁!</td>\n",
       "      <td>https://blog.naver.com/sssel_123/223609239066</td>\n",
       "      <td>여행 기록 [국내여행] 나홀로 목포_해상케이블카 시간 팁! Little Forest...</td>\n",
       "    </tr>\n",
       "    <tr>\n",
       "      <th>4</th>\n",
       "      <td>4</td>\n",
       "      <td>영주 반띵관광택시 로이쿠 지원할인 받아 국내여행 가볼만한곳</td>\n",
       "      <td>https://blog.naver.com/lemon8363/223582041842</td>\n",
       "      <td>여행가요♩ 영주 반띵관광택시 로이쿠 지원할인 받아 국내여행 가볼만한곳 봉봉츄 ・ 2...</td>\n",
       "    </tr>\n",
       "    <tr>\n",
       "      <th>5</th>\n",
       "      <td>5</td>\n",
       "      <td>롤리키드 캐리어 가격 착한 국내 여행가방</td>\n",
       "      <td>https://blog.naver.com/lim265/223570345206</td>\n",
       "      <td>전라도 롤리키드 캐리어 가격 착한 국내 여행가방 임정은 ・ 2024. 9. 3. 9...</td>\n",
       "    </tr>\n",
       "    <tr>\n",
       "      <th>6</th>\n",
       "      <td>6</td>\n",
       "      <td>자산가를 위한 첫 걸음 - 경매 국내여행 시작</td>\n",
       "      <td>https://blog.naver.com/realaroa/223558388651</td>\n",
       "      <td>마인드셋 자산가를 위한 첫 걸음 - 경매 국내여행 시작 지여행 ・ 2024. 8. ...</td>\n",
       "    </tr>\n",
       "  </tbody>\n",
       "</table>\n",
       "</div>"
      ],
      "text/plain": [
       "   Unnamed: 0                                제목  \\\n",
       "0           0     국내여행코스 울릉도 여행 둘째날 버스투어 A코스 관광   \n",
       "1           1                  국내여행 무주 창고 대형 카페   \n",
       "2           2     10월 국내여행 가볼만한곳 충남 공주 부여 백제문화제   \n",
       "3           3        [국내여행] 나홀로 목포_해상케이블카 시간 팁!   \n",
       "4           4  영주 반띵관광택시 로이쿠 지원할인 받아 국내여행 가볼만한곳   \n",
       "5           5            롤리키드 캐리어 가격 착한 국내 여행가방   \n",
       "6           6         자산가를 위한 첫 걸음 - 경매 국내여행 시작   \n",
       "\n",
       "                                                링크  \\\n",
       "0         https://blog.naver.com/piil/223596761973   \n",
       "1  https://blog.naver.com/dorothy_bet/223591417000   \n",
       "2      https://blog.naver.com/sm011sm/223603389561   \n",
       "3    https://blog.naver.com/sssel_123/223609239066   \n",
       "4    https://blog.naver.com/lemon8363/223582041842   \n",
       "5       https://blog.naver.com/lim265/223570345206   \n",
       "6     https://blog.naver.com/realaroa/223558388651   \n",
       "\n",
       "                                                  본문  \n",
       "0  경상도 국내여행코스 울릉도 여행 둘째날 버스투어 A코스 관광 세상구경꾼 필 ・ 20...  \n",
       "1  전라도 국내여행 무주 창고 대형 카페 비현 ・ 2024. 9. 21. 20:50 U...  \n",
       "2  충청도 10월 국내여행 가볼만한곳 충남 공주 부여 백제문화제 힌둥이 ・ 2024. ...  \n",
       "3  여행 기록 [국내여행] 나홀로 목포_해상케이블카 시간 팁! Little Forest...  \n",
       "4  여행가요♩ 영주 반띵관광택시 로이쿠 지원할인 받아 국내여행 가볼만한곳 봉봉츄 ・ 2...  \n",
       "5  전라도 롤리키드 캐리어 가격 착한 국내 여행가방 임정은 ・ 2024. 9. 3. 9...  \n",
       "6  마인드셋 자산가를 위한 첫 걸음 - 경매 국내여행 시작 지여행 ・ 2024. 8. ...  "
      ]
     },
     "execution_count": 33,
     "metadata": {},
     "output_type": "execute_result"
    }
   ],
   "source": [
    "df"
   ]
  },
  {
   "cell_type": "code",
   "execution_count": 34,
   "id": "4e435f28-4533-4948-8b6f-e56e15fbc66c",
   "metadata": {},
   "outputs": [],
   "source": [
    "df.to_csv('./국내여행 블로그 본문까지.csv')"
   ]
  },
  {
   "cell_type": "code",
   "execution_count": null,
   "id": "cbae0ec5-e177-4c0f-a9e3-f47fe1e419c4",
   "metadata": {},
   "outputs": [],
   "source": []
  }
 ],
 "metadata": {
  "kernelspec": {
   "display_name": "Python 3 (ipykernel)",
   "language": "python",
   "name": "python3"
  },
  "language_info": {
   "codemirror_mode": {
    "name": "ipython",
    "version": 3
   },
   "file_extension": ".py",
   "mimetype": "text/x-python",
   "name": "python",
   "nbconvert_exporter": "python",
   "pygments_lexer": "ipython3",
   "version": "3.12.5"
  }
 },
 "nbformat": 4,
 "nbformat_minor": 5
}
