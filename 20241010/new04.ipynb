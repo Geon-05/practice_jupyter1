{
 "cells": [
  {
   "cell_type": "code",
   "execution_count": 16,
   "id": "a41af0f4-e829-482e-a79e-d701361ec20c",
   "metadata": {},
   "outputs": [
    {
     "name": "stdout",
     "output_type": "stream",
     "text": [
      "Requirement already satisfied: konlpy in c:\\users\\go121\\.conda\\envs\\edu\\lib\\site-packages (0.6.0)\n",
      "Requirement already satisfied: JPype1>=0.7.0 in c:\\users\\go121\\.conda\\envs\\edu\\lib\\site-packages (from konlpy) (1.5.0)\n",
      "Requirement already satisfied: lxml>=4.1.0 in c:\\users\\go121\\.conda\\envs\\edu\\lib\\site-packages (from konlpy) (5.3.0)\n",
      "Requirement already satisfied: numpy>=1.6 in c:\\users\\go121\\.conda\\envs\\edu\\lib\\site-packages (from konlpy) (2.1.1)\n",
      "Requirement already satisfied: packaging in c:\\users\\go121\\.conda\\envs\\edu\\lib\\site-packages (from JPype1>=0.7.0->konlpy) (24.1)\n"
     ]
    }
   ],
   "source": [
    "!pip install konlpy"
   ]
  },
  {
   "cell_type": "code",
   "execution_count": 1,
   "id": "5d405043-190e-4293-80e6-054a173bc358",
   "metadata": {},
   "outputs": [],
   "source": [
    "from konlpy.tag import Okt,Kkma,Hannanum"
   ]
  },
  {
   "cell_type": "code",
   "execution_count": 2,
   "id": "7e2e3175-b9ab-47cd-9215-714bc02a2892",
   "metadata": {},
   "outputs": [],
   "source": [
    "txt = '아버지가방에들어가신다.'"
   ]
  },
  {
   "cell_type": "code",
   "execution_count": 3,
   "id": "c68a4dc8-2a4d-43fa-8ca0-a8e23439e5cf",
   "metadata": {},
   "outputs": [],
   "source": [
    "okt=Okt()"
   ]
  },
  {
   "cell_type": "code",
   "execution_count": 4,
   "id": "13adfb5e-4ebf-4fc9-9db5-efbb2ca31189",
   "metadata": {},
   "outputs": [
    {
     "data": {
      "text/plain": [
       "[('아버지', 'Noun'),\n",
       " ('가방', 'Noun'),\n",
       " ('에', 'Josa'),\n",
       " ('들어가신다', 'Verb'),\n",
       " ('.', 'Punctuation')]"
      ]
     },
     "execution_count": 4,
     "metadata": {},
     "output_type": "execute_result"
    }
   ],
   "source": [
    "okt.pos(txt)"
   ]
  },
  {
   "cell_type": "code",
   "execution_count": 5,
   "id": "e2f156ae-6e4d-4293-ba26-fe9c35a0f46b",
   "metadata": {},
   "outputs": [
    {
     "data": {
      "text/plain": [
       "['아버지가방', '아버지', '가방']"
      ]
     },
     "execution_count": 5,
     "metadata": {},
     "output_type": "execute_result"
    }
   ],
   "source": [
    "okt.phrases(txt)"
   ]
  },
  {
   "cell_type": "code",
   "execution_count": null,
   "id": "7ab7da35-9916-47c4-af6b-7c5484dc589a",
   "metadata": {},
   "outputs": [],
   "source": []
  }
 ],
 "metadata": {
  "kernelspec": {
   "display_name": "Python 3 (ipykernel)",
   "language": "python",
   "name": "python3"
  },
  "language_info": {
   "codemirror_mode": {
    "name": "ipython",
    "version": 3
   },
   "file_extension": ".py",
   "mimetype": "text/x-python",
   "name": "python",
   "nbconvert_exporter": "python",
   "pygments_lexer": "ipython3",
   "version": "3.12.5"
  }
 },
 "nbformat": 4,
 "nbformat_minor": 5
}
