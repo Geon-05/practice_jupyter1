{
 "cells": [
  {
   "cell_type": "code",
   "execution_count": 8,
   "id": "3e5b74be-907b-49c3-9fb1-fea5927a8b32",
   "metadata": {},
   "outputs": [
    {
     "ename": "ElementNotInteractableException",
     "evalue": "Message: element not interactable\n  (Session info: chrome=129.0.6668.90)\nStacktrace:\n\tGetHandleVerifier [0x002E5523+24195]\n\t(No symbol) [0x0027AA04]\n\t(No symbol) [0x00171F09]\n\t(No symbol) [0x001B7EDF]\n\t(No symbol) [0x001AD4FD]\n\t(No symbol) [0x001DAB3C]\n\t(No symbol) [0x001ACFB4]\n\t(No symbol) [0x001DADD4]\n\t(No symbol) [0x001F5280]\n\t(No symbol) [0x001DA8D6]\n\t(No symbol) [0x001ABA27]\n\t(No symbol) [0x001AC43D]\n\tGetHandleVerifier [0x005ACE13+2938739]\n\tGetHandleVerifier [0x005FEC69+3274185]\n\tGetHandleVerifier [0x003709C2+594722]\n\tGetHandleVerifier [0x00377EDC+624700]\n\t(No symbol) [0x002837CD]\n\t(No symbol) [0x00280528]\n\t(No symbol) [0x002806C5]\n\t(No symbol) [0x00272CA6]\n\tBaseThreadInitThunk [0x75E57BA9+25]\n\tRtlInitializeExceptionChain [0x778CC0CB+107]\n\tRtlClearBits [0x778CC04F+191]\n\t(No symbol) [0x00000000]\n",
     "output_type": "error",
     "traceback": [
      "\u001b[1;31m---------------------------------------------------------------------------\u001b[0m",
      "\u001b[1;31mElementNotInteractableException\u001b[0m           Traceback (most recent call last)",
      "Cell \u001b[1;32mIn[8], line 55\u001b[0m\n\u001b[0;32m     53\u001b[0m tmp[\u001b[38;5;124m'\u001b[39m\u001b[38;5;124m기자\u001b[39m\u001b[38;5;124m'\u001b[39m] \u001b[38;5;241m=\u001b[39m driver\u001b[38;5;241m.\u001b[39mfind_element(By\u001b[38;5;241m.\u001b[39mXPATH,\u001b[38;5;124m'\u001b[39m\u001b[38;5;124m//*[@id=\u001b[39m\u001b[38;5;124m\"\u001b[39m\u001b[38;5;124mnews-detail-modal\u001b[39m\u001b[38;5;124m\"\u001b[39m\u001b[38;5;124m]/div/div/div[1]/div/div[1]/div[1]/ul/li[2]\u001b[39m\u001b[38;5;124m'\u001b[39m)\u001b[38;5;241m.\u001b[39mtext\n\u001b[0;32m     54\u001b[0m tmp[\u001b[38;5;124m'\u001b[39m\u001b[38;5;124m본문\u001b[39m\u001b[38;5;124m'\u001b[39m] \u001b[38;5;241m=\u001b[39m driver\u001b[38;5;241m.\u001b[39mfind_element(By\u001b[38;5;241m.\u001b[39mXPATH,\u001b[38;5;124m'\u001b[39m\u001b[38;5;124m//*[@id=\u001b[39m\u001b[38;5;124m\"\u001b[39m\u001b[38;5;124mnews-detail-modal\u001b[39m\u001b[38;5;124m\"\u001b[39m\u001b[38;5;124m]/div/div/div[1]/div/div[2]\u001b[39m\u001b[38;5;124m'\u001b[39m)\u001b[38;5;241m.\u001b[39mtext\n\u001b[1;32m---> 55\u001b[0m \u001b[43mdriver\u001b[49m\u001b[38;5;241;43m.\u001b[39;49m\u001b[43mfind_element\u001b[49m\u001b[43m(\u001b[49m\u001b[43mBy\u001b[49m\u001b[38;5;241;43m.\u001b[39;49m\u001b[43mXPATH\u001b[49m\u001b[43m,\u001b[49m\u001b[38;5;124;43m'\u001b[39;49m\u001b[38;5;124;43m//*[@id=\u001b[39;49m\u001b[38;5;124;43m\"\u001b[39;49m\u001b[38;5;124;43mnews-detail-modal\u001b[39;49m\u001b[38;5;124;43m\"\u001b[39;49m\u001b[38;5;124;43m]/div/div/button\u001b[39;49m\u001b[38;5;124;43m'\u001b[39;49m\u001b[43m)\u001b[49m\u001b[38;5;241;43m.\u001b[39;49m\u001b[43mclick\u001b[49m\u001b[43m(\u001b[49m\u001b[43m)\u001b[49m\n\u001b[0;32m     56\u001b[0m time\u001b[38;5;241m.\u001b[39msleep(\u001b[38;5;241m1\u001b[39m)\n\u001b[0;32m     57\u001b[0m \u001b[38;5;28;01mfor\u001b[39;00m i \u001b[38;5;129;01min\u001b[39;00m \u001b[38;5;28mrange\u001b[39m(\u001b[38;5;241m4\u001b[39m):\n",
      "File \u001b[1;32m~\\.conda\\envs\\edu\\Lib\\site-packages\\selenium\\webdriver\\remote\\webelement.py:94\u001b[0m, in \u001b[0;36mWebElement.click\u001b[1;34m(self)\u001b[0m\n\u001b[0;32m     92\u001b[0m \u001b[38;5;28;01mdef\u001b[39;00m \u001b[38;5;21mclick\u001b[39m(\u001b[38;5;28mself\u001b[39m) \u001b[38;5;241m-\u001b[39m\u001b[38;5;241m>\u001b[39m \u001b[38;5;28;01mNone\u001b[39;00m:\n\u001b[0;32m     93\u001b[0m \u001b[38;5;250m    \u001b[39m\u001b[38;5;124;03m\"\"\"Clicks the element.\"\"\"\u001b[39;00m\n\u001b[1;32m---> 94\u001b[0m     \u001b[38;5;28;43mself\u001b[39;49m\u001b[38;5;241;43m.\u001b[39;49m\u001b[43m_execute\u001b[49m\u001b[43m(\u001b[49m\u001b[43mCommand\u001b[49m\u001b[38;5;241;43m.\u001b[39;49m\u001b[43mCLICK_ELEMENT\u001b[49m\u001b[43m)\u001b[49m\n",
      "File \u001b[1;32m~\\.conda\\envs\\edu\\Lib\\site-packages\\selenium\\webdriver\\remote\\webelement.py:395\u001b[0m, in \u001b[0;36mWebElement._execute\u001b[1;34m(self, command, params)\u001b[0m\n\u001b[0;32m    393\u001b[0m     params \u001b[38;5;241m=\u001b[39m {}\n\u001b[0;32m    394\u001b[0m params[\u001b[38;5;124m\"\u001b[39m\u001b[38;5;124mid\u001b[39m\u001b[38;5;124m\"\u001b[39m] \u001b[38;5;241m=\u001b[39m \u001b[38;5;28mself\u001b[39m\u001b[38;5;241m.\u001b[39m_id\n\u001b[1;32m--> 395\u001b[0m \u001b[38;5;28;01mreturn\u001b[39;00m \u001b[38;5;28;43mself\u001b[39;49m\u001b[38;5;241;43m.\u001b[39;49m\u001b[43m_parent\u001b[49m\u001b[38;5;241;43m.\u001b[39;49m\u001b[43mexecute\u001b[49m\u001b[43m(\u001b[49m\u001b[43mcommand\u001b[49m\u001b[43m,\u001b[49m\u001b[43m \u001b[49m\u001b[43mparams\u001b[49m\u001b[43m)\u001b[49m\n",
      "File \u001b[1;32m~\\.conda\\envs\\edu\\Lib\\site-packages\\selenium\\webdriver\\remote\\webdriver.py:354\u001b[0m, in \u001b[0;36mWebDriver.execute\u001b[1;34m(self, driver_command, params)\u001b[0m\n\u001b[0;32m    352\u001b[0m response \u001b[38;5;241m=\u001b[39m \u001b[38;5;28mself\u001b[39m\u001b[38;5;241m.\u001b[39mcommand_executor\u001b[38;5;241m.\u001b[39mexecute(driver_command, params)\n\u001b[0;32m    353\u001b[0m \u001b[38;5;28;01mif\u001b[39;00m response:\n\u001b[1;32m--> 354\u001b[0m     \u001b[38;5;28;43mself\u001b[39;49m\u001b[38;5;241;43m.\u001b[39;49m\u001b[43merror_handler\u001b[49m\u001b[38;5;241;43m.\u001b[39;49m\u001b[43mcheck_response\u001b[49m\u001b[43m(\u001b[49m\u001b[43mresponse\u001b[49m\u001b[43m)\u001b[49m\n\u001b[0;32m    355\u001b[0m     response[\u001b[38;5;124m\"\u001b[39m\u001b[38;5;124mvalue\u001b[39m\u001b[38;5;124m\"\u001b[39m] \u001b[38;5;241m=\u001b[39m \u001b[38;5;28mself\u001b[39m\u001b[38;5;241m.\u001b[39m_unwrap_value(response\u001b[38;5;241m.\u001b[39mget(\u001b[38;5;124m\"\u001b[39m\u001b[38;5;124mvalue\u001b[39m\u001b[38;5;124m\"\u001b[39m, \u001b[38;5;28;01mNone\u001b[39;00m))\n\u001b[0;32m    356\u001b[0m     \u001b[38;5;28;01mreturn\u001b[39;00m response\n",
      "File \u001b[1;32m~\\.conda\\envs\\edu\\Lib\\site-packages\\selenium\\webdriver\\remote\\errorhandler.py:229\u001b[0m, in \u001b[0;36mErrorHandler.check_response\u001b[1;34m(self, response)\u001b[0m\n\u001b[0;32m    227\u001b[0m         alert_text \u001b[38;5;241m=\u001b[39m value[\u001b[38;5;124m\"\u001b[39m\u001b[38;5;124malert\u001b[39m\u001b[38;5;124m\"\u001b[39m]\u001b[38;5;241m.\u001b[39mget(\u001b[38;5;124m\"\u001b[39m\u001b[38;5;124mtext\u001b[39m\u001b[38;5;124m\"\u001b[39m)\n\u001b[0;32m    228\u001b[0m     \u001b[38;5;28;01mraise\u001b[39;00m exception_class(message, screen, stacktrace, alert_text)  \u001b[38;5;66;03m# type: ignore[call-arg]  # mypy is not smart enough here\u001b[39;00m\n\u001b[1;32m--> 229\u001b[0m \u001b[38;5;28;01mraise\u001b[39;00m exception_class(message, screen, stacktrace)\n",
      "\u001b[1;31mElementNotInteractableException\u001b[0m: Message: element not interactable\n  (Session info: chrome=129.0.6668.90)\nStacktrace:\n\tGetHandleVerifier [0x002E5523+24195]\n\t(No symbol) [0x0027AA04]\n\t(No symbol) [0x00171F09]\n\t(No symbol) [0x001B7EDF]\n\t(No symbol) [0x001AD4FD]\n\t(No symbol) [0x001DAB3C]\n\t(No symbol) [0x001ACFB4]\n\t(No symbol) [0x001DADD4]\n\t(No symbol) [0x001F5280]\n\t(No symbol) [0x001DA8D6]\n\t(No symbol) [0x001ABA27]\n\t(No symbol) [0x001AC43D]\n\tGetHandleVerifier [0x005ACE13+2938739]\n\tGetHandleVerifier [0x005FEC69+3274185]\n\tGetHandleVerifier [0x003709C2+594722]\n\tGetHandleVerifier [0x00377EDC+624700]\n\t(No symbol) [0x002837CD]\n\t(No symbol) [0x00280528]\n\t(No symbol) [0x002806C5]\n\t(No symbol) [0x00272CA6]\n\tBaseThreadInitThunk [0x75E57BA9+25]\n\tRtlInitializeExceptionChain [0x778CC0CB+107]\n\tRtlClearBits [0x778CC04F+191]\n\t(No symbol) [0x00000000]\n"
     ]
    }
   ],
   "source": [
    "import time\n",
    "from selenium import webdriver\n",
    "from selenium.webdriver.chrome.options import Options\n",
    "from selenium.webdriver.chrome.service import Service\n",
    "from webdriver_manager.chrome import ChromeDriverManager\n",
    "from selenium.webdriver.support.ui import WebDriverWait\n",
    "from selenium.webdriver.support import expected_conditions as EC\n",
    "from selenium.webdriver.common.keys import Keys\n",
    "from selenium.webdriver.common.by import By\n",
    "from selenium.webdriver.common.action_chains import ActionChains\n",
    "from bs4 import BeautifulSoup as bs\n",
    "import pandas as pd\n",
    "from tqdm import tqdm\n",
    "\n",
    "options=Options()\n",
    "options.add_experimental_option('detach',True)\n",
    "options.add_argument('--start-maximized')\n",
    "service=Service(ChromeDriverManager().install())\n",
    "\n",
    "driver=webdriver.Chrome(service=service, options=options)\n",
    "driver.implicitly_wait(10)\n",
    "\n",
    "# ✨ 기본 검색어 및 url 설정 - 상세검색조건(상업적 이용가능)으로 검색함\n",
    "search = 'AI'\n",
    "url = 'https://www.bigkinds.or.kr/'\n",
    "\n",
    "# ✨ url 접속\n",
    "driver.get(url)\n",
    "time.sleep(2)\n",
    "\n",
    "driver.find_element(By.XPATH,'//*[@id=\"total-search-key\"]').send_keys(search)\n",
    "driver.find_element(By.XPATH,'//*[@id=\"news-search-form\"]/div/div[1]/div[1]/button').click()\n",
    "WebDriverWait(driver, 10).until(EC.presence_of_element_located((By.XPATH,'//*[@id=\"news-results\"]/div[1]/div/div[2]/a/div/strong/span')))\n",
    "\n",
    "time.sleep(2)\n",
    "move_page = driver.find_element(By.XPATH,'//*[@id=\"news-results\"]/div[1]/div/div[2]/div/div/a')\n",
    "actions = ActionChains(driver).move_to_element(move_page)\n",
    "actions.perform()\n",
    "time.sleep(2)\n",
    "\n",
    "res = []\n",
    "for page_num in range(2,10):\n",
    "    for i in range(1,11):\n",
    "        tmp = {}\n",
    "        wait = WebDriverWait(driver, 10)\n",
    "        element = wait.until(EC.element_to_be_clickable((By.XPATH,f'//*[@id=\"news-results\"]/div[{i}]/div/div[2]/a/div/strong/span')))\n",
    "        tmp['언론사'] = driver.find_element(By.XPATH,f'//*[@id=\"news-results\"]/div[{i}]/div/div[2]/div/div/a').text\n",
    "        driver.find_element(By.XPATH,f'//*[@id=\"news-results\"]/div[{i}]/div/div[2]/a/div/strong/span').click()\n",
    "        time.sleep(1)\n",
    "        news_data = driver.find_element(By.CLASS_NAME,'news-view')\n",
    "        tmp['제목'] = news_data.find_element(By.CLASS_NAME,'title').text\n",
    "        tmp['날짜'] = driver.find_element(By.XPATH,'//*[@id=\"news-detail-modal\"]/div/div/div[1]/div/div[1]/div[1]/ul/li[1]').text\n",
    "        tmp['기자'] = driver.find_element(By.XPATH,'//*[@id=\"news-detail-modal\"]/div/div/div[1]/div/div[1]/div[1]/ul/li[2]').text\n",
    "        tmp['본문'] = driver.find_element(By.XPATH,'//*[@id=\"news-detail-modal\"]/div/div/div[1]/div/div[2]').text\n",
    "        driver.find_element(By.XPATH,'//*[@id=\"news-detail-modal\"]/div/div/button').click()\n",
    "        time.sleep(1)\n",
    "        for i in range(4):\n",
    "            driver.find_element(By.TAG_NAME,'body').send_keys(Keys.DOWN)\n",
    "        time.sleep(1)\n",
    "        res.append(tmp)\n",
    "    driver.find_element(By.XPATH,'//*[@id=\"paging_news_result\"]').send_keys(page_num)\n",
    "    driver.find_element(By.XPATH,'//*[@id=\"paging_news_result\"]').send_keys(keys.ENTER)\n",
    "    \n",
    "df = pd.DataFrame(res)\n",
    "df"
   ]
  },
  {
   "cell_type": "code",
   "execution_count": null,
   "id": "6873c2ee-415b-48e4-bd15-3dfe67474e3d",
   "metadata": {},
   "outputs": [],
   "source": []
  }
 ],
 "metadata": {
  "kernelspec": {
   "display_name": "base",
   "language": "python",
   "name": "python3"
  },
  "language_info": {
   "codemirror_mode": {
    "name": "ipython",
    "version": 3
   },
   "file_extension": ".py",
   "mimetype": "text/x-python",
   "name": "python",
   "nbconvert_exporter": "python",
   "pygments_lexer": "ipython3",
   "version": "3.12.4"
  }
 },
 "nbformat": 4,
 "nbformat_minor": 5
}
