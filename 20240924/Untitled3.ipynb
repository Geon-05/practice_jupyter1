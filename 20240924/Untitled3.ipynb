{
 "cells": [
  {
   "cell_type": "code",
   "execution_count": 69,
   "id": "031c34b6-7dc7-4a3a-9fcf-bceebe1e67a0",
   "metadata": {},
   "outputs": [
    {
     "data": {
      "text/plain": [
       "'C:\\\\Users\\\\zcode\\\\Documents\\\\py\\\\1차'"
      ]
     },
     "execution_count": 69,
     "metadata": {},
     "output_type": "execute_result"
    }
   ],
   "source": [
    "pwd"
   ]
  },
  {
   "cell_type": "code",
   "execution_count": 73,
   "id": "8778935c-65d3-4fd7-b4f5-5476221d60df",
   "metadata": {},
   "outputs": [
    {
     "name": "stdout",
     "output_type": "stream",
     "text": [
      "abc-123-567-bbb\n"
     ]
    }
   ],
   "source": [
    "w = 'abc 123.567 bbb' # abc-123-678-bbb\n",
    "a = w.replace(\" \",\"-\").replace(\".\",\"-\")\n",
    "print(a)"
   ]
  },
  {
   "cell_type": "code",
   "execution_count": 76,
   "id": "cd81db8d-eb4b-4b9f-9244-54bb291042be",
   "metadata": {},
   "outputs": [
    {
     "name": "stdout",
     "output_type": "stream",
     "text": [
      "       \t\t\t\t\t\t\n",
      " abc 123 \t\t\t\t\t\t\t\n",
      "   \n"
     ]
    },
    {
     "data": {
      "text/plain": [
       "'abc 123'"
      ]
     },
     "execution_count": 76,
     "metadata": {},
     "output_type": "execute_result"
    }
   ],
   "source": [
    "a = '       \\t\\t\\t\\t\\t\\t\\n abc 123 \\t\\t\\t\\t\\t\\t\\t\\n   '\n",
    "print(a)\n",
    "a.strip()"
   ]
  },
  {
   "cell_type": "code",
   "execution_count": 80,
   "id": "1dd93f95-9d0a-407c-86e4-f0a272152ce7",
   "metadata": {},
   "outputs": [
    {
     "name": "stdout",
     "output_type": "stream",
     "text": [
      "abc\n",
      "abc\n",
      "abc]\n",
      "abc\n",
      "abc\n",
      "abc]]]]]\n"
     ]
    }
   ],
   "source": [
    "a='[abc]' # abc\n",
    "print(a.strip('[] '))\n",
    "print(a.strip('[]'))\n",
    "print(a.strip('['))\n",
    "a='[abc]]]]]' # abc\n",
    "print(a.strip('[] '))\n",
    "print(a.strip('[]'))\n",
    "print(a.strip('['))"
   ]
  },
  {
   "cell_type": "code",
   "execution_count": 83,
   "id": "d3d7517a-b635-47f2-a93e-b57798164b46",
   "metadata": {},
   "outputs": [
    {
     "name": "stdout",
     "output_type": "stream",
     "text": [
      "서울시 영등포구 여의도동 937\n",
      "서울시-영등포구-여의도동-937\n"
     ]
    }
   ],
   "source": [
    "a = ['서울시','영등포구','여의도동','937']\n",
    "b = ' '.join(a)\n",
    "print(b)\n",
    "b = '-'.join(a)\n",
    "print(b)"
   ]
  },
  {
   "cell_type": "code",
   "execution_count": 89,
   "id": "443f6773-eb04-4fee-8211-4b154e0c6c8c",
   "metadata": {},
   "outputs": [
    {
     "name": "stdout",
     "output_type": "stream",
     "text": [
      "['서울시', '강남구', '00동']\n",
      "['서울시', '중랑구', '00동']\n",
      "['서울시', '강남구', '111']\n",
      "['서울시', '강남구', '333']\n",
      "결과 :\n",
      "중랑구 -> 1\n",
      "강남구 -> 3\n"
     ]
    }
   ],
   "source": [
    "'''\n",
    "결과 :\n",
    "강남구 -> 3\n",
    "중랑구 -> 1\n",
    "'''\n",
    "add = [\n",
    "    '서울시 강남구 00동',\n",
    "    '서울시 중랑구 00동',\n",
    "    '서울시 강남구 111',\n",
    "    '서울시 강남구 333'\n",
    "]\n",
    "res = []\n",
    "for i in add:\n",
    "    a = i.split(\" \")\n",
    "    res.append(a[1])\n",
    "uni = list(set(res))\n",
    "\n",
    "print('결과 :')\n",
    "for i in uni :\n",
    "    print(i,'->',res.count(i))"
   ]
  },
  {
   "cell_type": "code",
   "execution_count": 93,
   "id": "69430e46-d5d5-48f6-8998-fd70bf962cff",
   "metadata": {},
   "outputs": [
    {
     "name": "stdout",
     "output_type": "stream",
     "text": [
      "강남구\n",
      "중랑구\n",
      "강남구\n",
      "강남구\n",
      "['중랑구', '강남구']\n",
      "결과 :\n",
      "중랑구 -> 1\n",
      "강남구 -> 3\n"
     ]
    }
   ],
   "source": [
    "'''\n",
    "결과 :\n",
    "강남구 -> 3\n",
    "중랑구 -> 1\n",
    "'''\n",
    "add = [\n",
    "    '서울시 강남구 00동',\n",
    "    '서울시 중랑구 00동',\n",
    "    '서울시 강남구 111',\n",
    "    '서울시 강남구 333'\n",
    "]\n",
    "res = []\n",
    "for i in add:\n",
    "    print(i.split()[1])\n",
    "    res.append(i.split()[1])\n",
    "uni = list(set(res))\n",
    "print(uni)\n",
    "print('결과 :')\n",
    "for i in uni :\n",
    "    print(i,'->',res.count(i))"
   ]
  },
  {
   "cell_type": "code",
   "execution_count": 96,
   "id": "1f609e90-477b-453e-bded-e808ff2c16e9",
   "metadata": {
    "scrolled": true
   },
   "outputs": [
    {
     "name": "stdout",
     "output_type": "stream",
     "text": [
      "서울시 강남구\n",
      "서울시 중랑구\n",
      "서울시 강남구\n",
      "서울시 강남구\n",
      "['서울시 중랑구', '서울시 강남구']\n",
      "결과 :\n",
      "서울시 중랑구 -> 1\n",
      "서울시 강남구 -> 3\n"
     ]
    }
   ],
   "source": [
    "'''\n",
    "결과 :\n",
    "강남구 -> 3\n",
    "중랑구 -> 1\n",
    "'''\n",
    "add = [\n",
    "    '서울시 강남구 00동',\n",
    "    '서울시 중랑구 00동',\n",
    "    '서울시 강남구 111',\n",
    "    '서울시 강남구 333'\n",
    "]\n",
    "res = []\n",
    "for i in add:\n",
    "    print(i.split()[0],i.split()[1])\n",
    "    res.append(i.split()[0]+\" \"+i.split()[1])\n",
    "uni = list(set(res))\n",
    "print(uni)\n",
    "print('결과 :')\n",
    "for i in uni :\n",
    "    print(i,'->',res.count(i))"
   ]
  },
  {
   "cell_type": "code",
   "execution_count": 97,
   "id": "90eda9f0-748c-495b-8b80-4e2d307cebb5",
   "metadata": {},
   "outputs": [
    {
     "name": "stdout",
     "output_type": "stream",
     "text": [
      "['서울시 중랑구', '서울시 강남구']\n",
      "결과 :\n",
      "서울시 중랑구 -> 1\n",
      "서울시 강남구 -> 3\n"
     ]
    }
   ],
   "source": [
    "'''\n",
    "결과 :\n",
    "강남구 -> 3\n",
    "중랑구 -> 1\n",
    "'''\n",
    "add = [\n",
    "    '서울시 강남구 00동',\n",
    "    '서울시 중랑구 00동',\n",
    "    '서울시 강남구 111',\n",
    "    '서울시 강남구 333'\n",
    "]\n",
    "res = []\n",
    "for i in add:\n",
    "    res.append(' '.join(i.split()[:-1]))\n",
    "uni = list(set(res))\n",
    "print(uni)\n",
    "print('결과 :')\n",
    "for i in uni :\n",
    "    print(i,'->',res.count(i))"
   ]
  },
  {
   "cell_type": "code",
   "execution_count": 105,
   "id": "c22bd389-255c-4bd9-9c4e-ac57ecb52e55",
   "metadata": {},
   "outputs": [
    {
     "name": "stdout",
     "output_type": "stream",
     "text": [
      "pyhon.exe\n"
     ]
    }
   ],
   "source": [
    "path = r'C:\\Users\\test\\.conda\\envs\\smart\\pyhon.exe'\n",
    "res = path.split(\"\\\\\")\n",
    "print(res[-1])"
   ]
  },
  {
   "cell_type": "code",
   "execution_count": 111,
   "id": "d272d89b-9356-4d00-a0ce-c26af9502b2d",
   "metadata": {},
   "outputs": [
    {
     "name": "stdout",
     "output_type": "stream",
     "text": [
      "0\n",
      "-1\n",
      "0\n"
     ]
    }
   ],
   "source": [
    "a = '서울 강남구 000동'\n",
    "print(a.find('서울'))\n",
    "print(a.find('부산'))\n",
    "print(a.index('서울'))\n",
    "# print(a.index('부산')) -> ValueError: substring not found"
   ]
  },
  {
   "cell_type": "code",
   "execution_count": 117,
   "id": "0c3696a8-847e-4f1a-992a-b53eab2d0674",
   "metadata": {},
   "outputs": [
    {
     "name": "stdout",
     "output_type": "stream",
     "text": [
      "시작\n",
      "0으로 못 나눔\n",
      "--------------------\n",
      "시작\n",
      "2.5\n",
      "참 잘 했어요\n"
     ]
    }
   ],
   "source": [
    "# 5/0 -> ZeroDivisionError: division by zero\n",
    "try :\n",
    "    print(\"시작\")\n",
    "    print(5/0)\n",
    "    print(\"참 잘 했어요\")\n",
    "except :\n",
    "    print(\"0으로 못 나눔\")\n",
    "    print('-'*20)\n",
    "\n",
    "try :\n",
    "    print(\"시작\")\n",
    "    print(5/2)\n",
    "    print(\"참 잘 했어요\")\n",
    "except :\n",
    "    print(\"0으로 못 나눔\")\n",
    "    print('-'*20)"
   ]
  },
  {
   "cell_type": "code",
   "execution_count": 118,
   "id": "cf09649f-6453-4c38-b9be-51b32241cb1d",
   "metadata": {},
   "outputs": [
    {
     "name": "stdout",
     "output_type": "stream",
     "text": [
      "0\n",
      "없다\n"
     ]
    }
   ],
   "source": [
    "try:\n",
    "    a = '서울 강남구 000동'\n",
    "    print(a.index('서울'))\n",
    "except :\n",
    "    print(\"없다\")\n",
    "\n",
    "try:\n",
    "    a = '서울 강남구 000동'\n",
    "    print(a.index('부산'))\n",
    "except :\n",
    "    print(\"없다\")"
   ]
  },
  {
   "cell_type": "code",
   "execution_count": 121,
   "id": "19a9d6cf-0176-4668-8375-35bab86d9a44",
   "metadata": {},
   "outputs": [
    {
     "name": "stdout",
     "output_type": "stream",
     "text": [
      "a1 = [2, 4, 6, 8]\n",
      "b1 = [200, 400, 600, 800]\n"
     ]
    }
   ],
   "source": [
    "a = [1,2,3,4]\n",
    "b = [100,200,300,400]\n",
    "a1 = []\n",
    "b1 = []\n",
    "# list(range(len(a)))\n",
    "for i in range(len(a)) :\n",
    "    a1.append(a[i]*2)\n",
    "    b1.append(b[i]*2)\n",
    "print('a1 =', a1)\n",
    "print('b1 =', b1)"
   ]
  },
  {
   "cell_type": "code",
   "execution_count": 127,
   "id": "0c73a033-c862-4727-bd99-26a74abcd978",
   "metadata": {},
   "outputs": [
    {
     "name": "stdout",
     "output_type": "stream",
     "text": [
      "1\n",
      "100\n",
      "--------------------\n",
      "2\n",
      "200\n",
      "--------------------\n",
      "3\n",
      "300\n",
      "--------------------\n",
      "4\n",
      "400\n",
      "--------------------\n"
     ]
    }
   ],
   "source": [
    "a = [1,2,3,4]\n",
    "b = [100,200,300,400]\n",
    "for i, j in zip(a,b):\n",
    "    print(i)\n",
    "    print(j)\n",
    "    print('-'*20)"
   ]
  },
  {
   "cell_type": "code",
   "execution_count": 132,
   "id": "d84dd1e3-ca6f-48f4-91f3-3828cf101bb3",
   "metadata": {},
   "outputs": [
    {
     "name": "stdout",
     "output_type": "stream",
     "text": [
      "a1 = [2, 4, 6, 8]\n",
      "b1 = [200, 400, 600, 800]\n"
     ]
    }
   ],
   "source": [
    "a = [1,2,3,4]\n",
    "b = [100,200,300,400]\n",
    "a1 = []\n",
    "b1 = []\n",
    "for i, j in zip(a,b):\n",
    "    a1.append(i*2)\n",
    "    b1.append(j*2)\n",
    "print('a1 =', a1)\n",
    "print('b1 =', b1)"
   ]
  },
  {
   "cell_type": "code",
   "execution_count": 137,
   "id": "83838d49-2e72-4d30-b0dc-60f369ddfafe",
   "metadata": {},
   "outputs": [
    {
     "name": "stdout",
     "output_type": "stream",
     "text": [
      "{'이름': '홍길동', '나이': 25, '직업': '학생'}\n",
      "이름 홍길동\n",
      "나이 25\n",
      "직업 학생\n"
     ]
    }
   ],
   "source": [
    "a = {\n",
    "    '이름' : '홍길동',\n",
    "    '나이' : 25,\n",
    "    '직업' : '학생'\n",
    "}\n",
    "print(a)\n",
    "for i in a:\n",
    "    print(i,a[i])"
   ]
  },
  {
   "cell_type": "code",
   "execution_count": 138,
   "id": "c2f03518-50ea-45e0-a8af-b6003bf1d952",
   "metadata": {},
   "outputs": [
    {
     "name": "stdout",
     "output_type": "stream",
     "text": [
      "{'이름': '홍길동', '나이': 25, '직업': '학생'}\n",
      "이름 홍길동\n",
      "나이 25\n",
      "직업 학생\n"
     ]
    }
   ],
   "source": [
    "a = {\n",
    "    '이름' : '홍길동',\n",
    "    '나이' : 25,\n",
    "    '직업' : '학생'\n",
    "}\n",
    "print(a)\n",
    "for key, value in a.items():\n",
    "    print(key, value)"
   ]
  },
  {
   "cell_type": "code",
   "execution_count": 145,
   "id": "0a0b29da-6832-477f-938d-42088df2a655",
   "metadata": {},
   "outputs": [
    {
     "name": "stdout",
     "output_type": "stream",
     "text": [
      "{'09/05': 10500, '09/06': 10300, '09/07': 10100, '09/08': 10800, '09/09': 11000}\n"
     ]
    }
   ],
   "source": [
    "date = ['09/05', '09/06', '09/07', '09/08', '09/09']\n",
    "close_price = [10500, 10300, 10100, 10800, 11000]\n",
    "date_dict = dict(zip(date, close_price))\n",
    "print(date_dict)"
   ]
  },
  {
   "cell_type": "code",
   "execution_count": null,
   "id": "f3120698-921d-49c6-bfc6-1eac74aaf48a",
   "metadata": {},
   "outputs": [],
   "source": []
  }
 ],
 "metadata": {
  "kernelspec": {
   "display_name": "Python 3 (ipykernel)",
   "language": "python",
   "name": "python3"
  },
  "language_info": {
   "codemirror_mode": {
    "name": "ipython",
    "version": 3
   },
   "file_extension": ".py",
   "mimetype": "text/x-python",
   "name": "python",
   "nbconvert_exporter": "python",
   "pygments_lexer": "ipython3",
   "version": "3.12.5"
  }
 },
 "nbformat": 4,
 "nbformat_minor": 5
}
