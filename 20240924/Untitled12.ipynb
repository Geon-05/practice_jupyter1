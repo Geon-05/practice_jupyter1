{
 "cells": [
  {
   "cell_type": "code",
   "execution_count": 100,
   "id": "c54bb782-e147-44f1-a554-232102cb8761",
   "metadata": {},
   "outputs": [
    {
     "data": {
      "text/plain": [
       "'C:\\\\Users\\\\zcode\\\\Documents\\\\py\\\\2차'"
      ]
     },
     "execution_count": 100,
     "metadata": {},
     "output_type": "execute_result"
    }
   ],
   "source": [
    "pwd"
   ]
  },
  {
   "cell_type": "code",
   "execution_count": 101,
   "id": "43686b76-16d7-4939-9075-060352ba062f",
   "metadata": {},
   "outputs": [],
   "source": [
    "from glob import glob\n",
    "import os\n",
    "import shutil"
   ]
  },
  {
   "cell_type": "code",
   "execution_count": 105,
   "id": "81907e8c-2b7f-4c4f-a901-637f0561a0e3",
   "metadata": {},
   "outputs": [],
   "source": [
    "# os.makedirs('연습') -> 여러번작동시 에러 FileExistsError: [WinError 183] 파일이 이미 있으므로 만들 수 없습니다: '연습'\n",
    "os.makedirs('연습', exist_ok=True)"
   ]
  },
  {
   "cell_type": "code",
   "execution_count": 113,
   "id": "0b316370-c8fd-4a48-b61a-d82e4508c9b6",
   "metadata": {},
   "outputs": [],
   "source": [
    "# 1. 현재 폴더에 '강아지, 고양이' 폴더만들기\n",
    "os.makedirs('./강아지', exist_ok=True)\n",
    "os.makedirs('./고양이', exist_ok=True)\n",
    "\n",
    "# 2. imges폴더의 파일명 불러와서 '강아지' -> '강아지'폴더, '고양이' -> '고양이'폴더\n",
    "file_names = glob('./images/*.jpg')\n",
    "# print(file_names)\n",
    "\n",
    "for file_name in file_names:\n",
    "    name = file_name.split('\\\\')[-1]\n",
    "    if '강아지' in file_name:\n",
    "        shutil.copyfile(file_name,f'./강아지/{name}')\n",
    "    else :\n",
    "        shutil.copyfile(file_name,f'./고양이/{name}')\n"
   ]
  },
  {
   "cell_type": "code",
   "execution_count": 108,
   "id": "e496b74e-e17a-44fd-9f7e-02880e558933",
   "metadata": {},
   "outputs": [
    {
     "data": {
      "text/plain": [
       "True"
      ]
     },
     "execution_count": 108,
     "metadata": {},
     "output_type": "execute_result"
    }
   ],
   "source": [
    "'강아지' in '강아지 고양이 뱀'"
   ]
  },
  {
   "cell_type": "code",
   "execution_count": 109,
   "id": "ebd66b05-5250-4694-804c-283a3bcb6c7e",
   "metadata": {},
   "outputs": [
    {
     "data": {
      "text/plain": [
       "False"
      ]
     },
     "execution_count": 109,
     "metadata": {},
     "output_type": "execute_result"
    }
   ],
   "source": [
    "'독수리' in '강아지 고양이 뱀'"
   ]
  },
  {
   "cell_type": "code",
   "execution_count": null,
   "id": "479e7972-2e29-48ba-939e-986311ca3d42",
   "metadata": {},
   "outputs": [],
   "source": []
  }
 ],
 "metadata": {
  "kernelspec": {
   "display_name": "Python 3 (ipykernel)",
   "language": "python",
   "name": "python3"
  },
  "language_info": {
   "codemirror_mode": {
    "name": "ipython",
    "version": 3
   },
   "file_extension": ".py",
   "mimetype": "text/x-python",
   "name": "python",
   "nbconvert_exporter": "python",
   "pygments_lexer": "ipython3",
   "version": "3.12.5"
  }
 },
 "nbformat": 4,
 "nbformat_minor": 5
}
