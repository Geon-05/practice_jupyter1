{
 "cells": [
  {
   "cell_type": "code",
   "execution_count": null,
   "id": "f6b0e63a-b1ab-4f8f-895f-95daf230fe31",
   "metadata": {},
   "outputs": [],
   "source": []
  }
 ],
 "metadata": {
  "kernelspec": {
   "display_name": "",
   "name": ""
  },
  "language_info": {
   "name": ""
  }
 },
 "nbformat": 4,
 "nbformat_minor": 5
}
