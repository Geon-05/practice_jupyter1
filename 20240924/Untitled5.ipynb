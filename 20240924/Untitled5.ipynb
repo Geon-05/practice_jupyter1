{
 "cells": [
  {
   "cell_type": "code",
   "execution_count": 167,
   "id": "b0f86ec5-7ded-4635-b682-64f9972ebb45",
   "metadata": {},
   "outputs": [
    {
     "data": {
      "text/plain": [
       "'C:\\\\Users\\\\zcode\\\\Documents\\\\py\\\\1차'"
      ]
     },
     "execution_count": 167,
     "metadata": {},
     "output_type": "execute_result"
    }
   ],
   "source": [
    "pwd"
   ]
  },
  {
   "cell_type": "code",
   "execution_count": 183,
   "id": "acc60ef8-1108-4552-952f-330c8ff10120",
   "metadata": {},
   "outputs": [
    {
     "name": "stdout",
     "output_type": "stream",
     "text": [
      "1\n",
      "2\n",
      "Fizz\n",
      "4\n",
      "Buzz\n",
      "Fizz\n",
      "7\n",
      "8\n",
      "Fizz\n",
      "Buzz\n",
      "11\n",
      "Fizz\n",
      "13\n",
      "14\n",
      "Fizzbuzz\n",
      "16\n",
      "17\n",
      "Fizz\n",
      "19\n",
      "Buzz\n",
      "Fizz\n",
      "22\n",
      "23\n",
      "Fizz\n",
      "Buzz\n",
      "26\n",
      "Fizz\n",
      "28\n",
      "29\n",
      "Fizzbuzz\n",
      "31\n",
      "32\n",
      "Fizz\n",
      "34\n",
      "Buzz\n",
      "Fizz\n",
      "37\n",
      "38\n",
      "Fizz\n",
      "Buzz\n",
      "41\n",
      "Fizz\n",
      "43\n",
      "44\n",
      "Fizzbuzz\n",
      "46\n",
      "47\n",
      "Fizz\n",
      "49\n",
      "Buzz\n",
      "Fizz\n",
      "52\n",
      "53\n",
      "Fizz\n",
      "Buzz\n",
      "56\n",
      "Fizz\n",
      "58\n",
      "59\n",
      "Fizzbuzz\n",
      "61\n",
      "62\n",
      "Fizz\n",
      "64\n",
      "Buzz\n",
      "Fizz\n",
      "67\n",
      "68\n",
      "Fizz\n",
      "Buzz\n",
      "71\n",
      "Fizz\n",
      "73\n",
      "74\n",
      "Fizzbuzz\n",
      "76\n",
      "77\n",
      "Fizz\n",
      "79\n",
      "Buzz\n",
      "Fizz\n",
      "82\n",
      "83\n",
      "Fizz\n",
      "Buzz\n",
      "86\n",
      "Fizz\n",
      "88\n",
      "89\n",
      "Fizzbuzz\n",
      "91\n",
      "92\n",
      "Fizz\n",
      "94\n",
      "Buzz\n",
      "Fizz\n",
      "97\n",
      "98\n",
      "Fizz\n",
      "Buzz\n"
     ]
    }
   ],
   "source": [
    "for i in range(1,101):\n",
    "    if (i%3 == 0) and (i%5 == 0):\n",
    "        print('Fizzbuzz')\n",
    "    elif i%3 == 0 :\n",
    "        print('Fizz')\n",
    "    elif i%5 == 0 :\n",
    "        print('Buzz')\n",
    "    else:\n",
    "        print(i)\n",
    "    "
   ]
  },
  {
   "cell_type": "code",
   "execution_count": 171,
   "id": "5d6067bb-f7ab-4885-879b-e873d7d4c236",
   "metadata": {},
   "outputs": [
    {
     "name": "stdout",
     "output_type": "stream",
     "text": [
      "************"
     ]
    }
   ],
   "source": [
    "for i in range(12) :\n",
    "    print('*',end=\"\")"
   ]
  },
  {
   "cell_type": "code",
   "execution_count": 172,
   "id": "0195ac44-b9c9-4ede-b5de-ad4459bc0df0",
   "metadata": {},
   "outputs": [
    {
     "name": "stdout",
     "output_type": "stream",
     "text": [
      "\n",
      "************\n",
      "************\n",
      "************"
     ]
    }
   ],
   "source": [
    "for i in range(3):\n",
    "    print(\"\")\n",
    "    for j in range(12):\n",
    "        print('*',end=\"\")"
   ]
  },
  {
   "cell_type": "code",
   "execution_count": 175,
   "id": "5cfbbe1c-fcc1-4473-af71-f5fc7c1bc931",
   "metadata": {},
   "outputs": [
    {
     "name": "stdout",
     "output_type": "stream",
     "text": [
      "\n",
      "*\n",
      "**\n",
      "***\n",
      "****\n",
      "*****\n",
      "******\n",
      "*******\n",
      "********\n",
      "*********\n",
      "**********"
     ]
    }
   ],
   "source": [
    "for i in range(1,11) :\n",
    "    print(\"\")\n",
    "    for j in range(i) :\n",
    "        print(\"*\", end=\"\")"
   ]
  },
  {
   "cell_type": "code",
   "execution_count": 181,
   "id": "7d268124-7f1b-4446-af12-3b3a1eb95327",
   "metadata": {},
   "outputs": [
    {
     "name": "stdout",
     "output_type": "stream",
     "text": [
      "\n",
      "**********\n",
      "*********\n",
      "********\n",
      "*******\n",
      "******\n",
      "*****\n",
      "****\n",
      "***\n",
      "**\n",
      "*"
     ]
    }
   ],
   "source": [
    "for i in range(10,0,-1) :\n",
    "    print(\"\")\n",
    "    for j in range(i) :\n",
    "        print(\"*\", end=\"\")"
   ]
  },
  {
   "cell_type": "code",
   "execution_count": 182,
   "id": "a70cb7cc-6a73-469c-9b34-4955bd3bd44d",
   "metadata": {},
   "outputs": [
    {
     "name": "stdout",
     "output_type": "stream",
     "text": [
      "          \n",
      "         *\n",
      "        **\n",
      "       ***\n",
      "      ****\n",
      "     *****\n",
      "    ******\n",
      "   *******\n",
      "  ********\n",
      " *********\n"
     ]
    }
   ],
   "source": [
    "for i in range(10,0,-1):\n",
    "    j = 10 - i\n",
    "    star = ' ' * i + '*' * j\n",
    "    print(star)"
   ]
  },
  {
   "cell_type": "code",
   "execution_count": 185,
   "id": "37984c8d-d4da-42c3-ba9c-2776119c0397",
   "metadata": {},
   "outputs": [
    {
     "name": "stdout",
     "output_type": "stream",
     "text": [
      "**********\n",
      " *********\n",
      "  ********\n",
      "   *******\n",
      "    ******\n",
      "     *****\n",
      "      ****\n",
      "       ***\n",
      "        **\n",
      "         *\n"
     ]
    }
   ],
   "source": [
    "for i in range(10,0,-1):\n",
    "    j = 10 - i\n",
    "    star = ' ' * j + '*' * i\n",
    "    print(star)"
   ]
  },
  {
   "cell_type": "code",
   "execution_count": 186,
   "id": "b842fc3e-d353-4796-b7a9-a1c2680d6a36",
   "metadata": {},
   "outputs": [
    {
     "name": "stdout",
     "output_type": "stream",
     "text": [
      "          *          \n",
      "         ***         \n",
      "        *****        \n",
      "       *******       \n",
      "      *********      \n",
      "     ***********     \n",
      "    *************    \n",
      "   ***************   \n",
      "  *****************  \n",
      " ******************* \n"
     ]
    }
   ],
   "source": [
    "for i in range(10,0,-1):\n",
    "    j = 10 - i\n",
    "    star = ' ' * i + '*' * (j *2 + 1) + ' ' * i\n",
    "    print(star)"
   ]
  },
  {
   "cell_type": "code",
   "execution_count": 189,
   "id": "0cb57645-4fa4-4bc9-bf29-eeb3d53ee579",
   "metadata": {},
   "outputs": [
    {
     "name": "stdout",
     "output_type": "stream",
     "text": [
      "*******************\n",
      " ***************** \n",
      "  ***************  \n",
      "   *************   \n",
      "    ***********    \n",
      "     *********     \n",
      "      *******      \n",
      "       *****       \n",
      "        ***        \n",
      "         *         \n"
     ]
    }
   ],
   "source": [
    "for i in range(10):\n",
    "    j = 9 - i\n",
    "    star = ' ' * i + '*' * (j *2 + 1) + ' ' * i\n",
    "    print(star)"
   ]
  },
  {
   "cell_type": "code",
   "execution_count": 198,
   "id": "bcceb678-5ef6-4477-86a3-4240cf44a750",
   "metadata": {},
   "outputs": [
    {
     "name": "stdout",
     "output_type": "stream",
     "text": [
      "\n",
      "1* 1=  1  1* 2=  2  1* 3=  3  1* 4=  4  1* 5=  5  1* 6=  6  1* 7=  7  1* 8=  8  1* 9=  9  \n",
      "2* 1=  2  2* 2=  4  2* 3=  6  2* 4=  8  2* 5= 10  2* 6= 12  2* 7= 14  2* 8= 16  2* 9= 18  \n",
      "3* 1=  3  3* 2=  6  3* 3=  9  3* 4= 12  3* 5= 15  3* 6= 18  3* 7= 21  3* 8= 24  3* 9= 27  \n",
      "4* 1=  4  4* 2=  8  4* 3= 12  4* 4= 16  4* 5= 20  4* 6= 24  4* 7= 28  4* 8= 32  4* 9= 36  \n",
      "5* 1=  5  5* 2= 10  5* 3= 15  5* 4= 20  5* 5= 25  5* 6= 30  5* 7= 35  5* 8= 40  5* 9= 45  \n",
      "6* 1=  6  6* 2= 12  6* 3= 18  6* 4= 24  6* 5= 30  6* 6= 36  6* 7= 42  6* 8= 48  6* 9= 54  \n",
      "7* 1=  7  7* 2= 14  7* 3= 21  7* 4= 28  7* 5= 35  7* 6= 42  7* 7= 49  7* 8= 56  7* 9= 63  \n",
      "8* 1=  8  8* 2= 16  8* 3= 24  8* 4= 32  8* 5= 40  8* 6= 48  8* 7= 56  8* 8= 64  8* 9= 72  \n",
      "9* 1=  9  9* 2= 18  9* 3= 27  9* 4= 36  9* 5= 45  9* 6= 54  9* 7= 63  9* 8= 72  9* 9= 81  "
     ]
    }
   ],
   "source": [
    "for i in range(1,10):\n",
    "    print(\"\")\n",
    "    for j in range(1,10):\n",
    "        print(f\"{i}* {j}= {i*j:2d}\",end=\"  \")"
   ]
  },
  {
   "cell_type": "code",
   "execution_count": 201,
   "id": "562ad544-5a8e-46b2-bae7-57a16ada3b5e",
   "metadata": {},
   "outputs": [
    {
     "name": "stdout",
     "output_type": "stream",
     "text": [
      "-1단-\n",
      "1* 1=  1\n",
      "1* 2=  2\n",
      "1* 3=  3\n",
      "1* 4=  4\n",
      "1* 5=  5\n",
      "1* 6=  6\n",
      "1* 7=  7\n",
      "1* 8=  8\n",
      "1* 9=  9\n",
      "\n",
      "-2단-\n",
      "2* 1=  2\n",
      "2* 2=  4\n",
      "2* 3=  6\n",
      "2* 4=  8\n",
      "2* 5= 10\n",
      "2* 6= 12\n",
      "2* 7= 14\n",
      "2* 8= 16\n",
      "2* 9= 18\n",
      "\n",
      "-3단-\n",
      "3* 1=  3\n",
      "3* 2=  6\n",
      "3* 3=  9\n",
      "3* 4= 12\n",
      "3* 5= 15\n",
      "3* 6= 18\n",
      "3* 7= 21\n",
      "3* 8= 24\n",
      "3* 9= 27\n",
      "\n",
      "-4단-\n",
      "4* 1=  4\n",
      "4* 2=  8\n",
      "4* 3= 12\n",
      "4* 4= 16\n",
      "4* 5= 20\n",
      "4* 6= 24\n",
      "4* 7= 28\n",
      "4* 8= 32\n",
      "4* 9= 36\n",
      "\n",
      "-5단-\n",
      "5* 1=  5\n",
      "5* 2= 10\n",
      "5* 3= 15\n",
      "5* 4= 20\n",
      "5* 5= 25\n",
      "5* 6= 30\n",
      "5* 7= 35\n",
      "5* 8= 40\n",
      "5* 9= 45\n",
      "\n",
      "-6단-\n",
      "6* 1=  6\n",
      "6* 2= 12\n",
      "6* 3= 18\n",
      "6* 4= 24\n",
      "6* 5= 30\n",
      "6* 6= 36\n",
      "6* 7= 42\n",
      "6* 8= 48\n",
      "6* 9= 54\n",
      "\n",
      "-7단-\n",
      "7* 1=  7\n",
      "7* 2= 14\n",
      "7* 3= 21\n",
      "7* 4= 28\n",
      "7* 5= 35\n",
      "7* 6= 42\n",
      "7* 7= 49\n",
      "7* 8= 56\n",
      "7* 9= 63\n",
      "\n",
      "-8단-\n",
      "8* 1=  8\n",
      "8* 2= 16\n",
      "8* 3= 24\n",
      "8* 4= 32\n",
      "8* 5= 40\n",
      "8* 6= 48\n",
      "8* 7= 56\n",
      "8* 8= 64\n",
      "8* 9= 72\n",
      "\n",
      "-9단-\n",
      "9* 1=  9\n",
      "9* 2= 18\n",
      "9* 3= 27\n",
      "9* 4= 36\n",
      "9* 5= 45\n",
      "9* 6= 54\n",
      "9* 7= 63\n",
      "9* 8= 72\n",
      "9* 9= 81\n",
      "\n"
     ]
    }
   ],
   "source": [
    "for i in range(1,10):\n",
    "    print(f\"-{i}단-\")\n",
    "    for j in range(1,10):\n",
    "        print(f\"{i}* {j}= {i*j:2d}\")\n",
    "    print(\"\")"
   ]
  },
  {
   "cell_type": "code",
   "execution_count": 202,
   "id": "ad3f1d68-6261-4a2a-80cb-64e4a8054c94",
   "metadata": {},
   "outputs": [
    {
     "name": "stdin",
     "output_type": "stream",
     "text": [
      "돈을 넣으시오 20\n"
     ]
    },
    {
     "name": "stdout",
     "output_type": "stream",
     "text": [
      "금액이 부족합니다.\n"
     ]
    },
    {
     "name": "stdin",
     "output_type": "stream",
     "text": [
      "돈을 넣으시오 600\n"
     ]
    },
    {
     "name": "stdout",
     "output_type": "stream",
     "text": [
      "옛다 음료수\n",
      "거스름돈 100을 받으세요\n"
     ]
    },
    {
     "name": "stdin",
     "output_type": "stream",
     "text": [
      "돈을 넣으시오 500\n"
     ]
    },
    {
     "name": "stdout",
     "output_type": "stream",
     "text": [
      "옛다 음료수\n"
     ]
    },
    {
     "name": "stdin",
     "output_type": "stream",
     "text": [
      "돈을 넣으시오 500\n"
     ]
    },
    {
     "name": "stdout",
     "output_type": "stream",
     "text": [
      "옛다 음료수\n"
     ]
    },
    {
     "name": "stdin",
     "output_type": "stream",
     "text": [
      "돈을 넣으시오 500\n"
     ]
    },
    {
     "name": "stdout",
     "output_type": "stream",
     "text": [
      "옛다 음료수\n"
     ]
    },
    {
     "name": "stdin",
     "output_type": "stream",
     "text": [
      "돈을 넣으시오 500\n"
     ]
    },
    {
     "name": "stdout",
     "output_type": "stream",
     "text": [
      "옛다 음료수\n",
      "재고가 없습니다.\n"
     ]
    }
   ],
   "source": [
    "stock = 5\n",
    "price = 500\n",
    "\n",
    "while stock > 0:\n",
    "    money = int(input(\"돈을 넣으시오\"))\n",
    "    if money < 500 :\n",
    "        print(\"금액이 부족합니다.\")\n",
    "    elif money == 500:\n",
    "        stock = stock - 1\n",
    "        print(\"옛다 음료수\")\n",
    "    else :\n",
    "        stock = stock - 1\n",
    "        print(\"옛다 음료수\")\n",
    "        money = money - price\n",
    "        print(f\"거스름돈 {money}을 받으세요\")\n",
    "print(\"재고가 없습니다.\")"
   ]
  },
  {
   "cell_type": "code",
   "execution_count": 206,
   "id": "f7be6972-ed7b-4cde-b849-b4ea5b3d727f",
   "metadata": {},
   "outputs": [
    {
     "name": "stdout",
     "output_type": "stream",
     "text": [
      "['합격', '불합격', '합격', '불합격']\n"
     ]
    }
   ],
   "source": [
    "a=[\n",
    "    [80,80,90,100],\n",
    "    [90,100,79,100],\n",
    "    [80,99,100,100],\n",
    "    [80,79,100,100]    \n",
    "]\n",
    "res = []\n",
    "res_chk = []\n",
    "\n",
    "for i in a :\n",
    "    for j in i:\n",
    "        if j >= 80:\n",
    "            res_chk.append(j)\n",
    "    if len(res_chk) == 4:\n",
    "        res.append(\"합격\")\n",
    "    else :\n",
    "        res.append(\"불합격\")\n",
    "    res_chk = []\n",
    "print(res)"
   ]
  },
  {
   "cell_type": "code",
   "execution_count": 235,
   "id": "e5d1845d-d893-4323-a8d3-f3e48b31c4c4",
   "metadata": {},
   "outputs": [
    {
     "name": "stdout",
     "output_type": "stream",
     "text": [
      "최솟값 : 1\n",
      "최댓값 : 200\n"
     ]
    }
   ],
   "source": [
    "a=[4,3,8,2,6,1,200]\n",
    "\n",
    "a = sorted(a)\n",
    "print(\"최솟값 :\",a[0])\n",
    "print(\"최댓값 :\",a[-1])"
   ]
  },
  {
   "cell_type": "code",
   "execution_count": null,
   "id": "c001d3b7-5675-4217-9410-fae9dc45c80b",
   "metadata": {},
   "outputs": [],
   "source": []
  }
 ],
 "metadata": {
  "kernelspec": {
   "display_name": "Python 3 (ipykernel)",
   "language": "python",
   "name": "python3"
  },
  "language_info": {
   "codemirror_mode": {
    "name": "ipython",
    "version": 3
   },
   "file_extension": ".py",
   "mimetype": "text/x-python",
   "name": "python",
   "nbconvert_exporter": "python",
   "pygments_lexer": "ipython3",
   "version": "3.12.5"
  }
 },
 "nbformat": 4,
 "nbformat_minor": 5
}
