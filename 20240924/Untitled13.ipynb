{
 "cells": [
  {
   "cell_type": "code",
   "execution_count": 114,
   "id": "5a337e8f-7543-4f08-8ec6-2ac0fb88bc6c",
   "metadata": {},
   "outputs": [
    {
     "data": {
      "text/plain": [
       "'C:\\\\Users\\\\zcode\\\\Documents\\\\py\\\\2차'"
      ]
     },
     "execution_count": 114,
     "metadata": {},
     "output_type": "execute_result"
    }
   ],
   "source": [
    "pwd"
   ]
  },
  {
   "cell_type": "code",
   "execution_count": 117,
   "id": "f06eaea9-53ce-42f2-a087-aabae0677471",
   "metadata": {},
   "outputs": [],
   "source": [
    "from glob import glob\n",
    "import os\n",
    "import shutil\n",
    "import re"
   ]
  },
  {
   "cell_type": "code",
   "execution_count": 150,
   "id": "0bc96083-8bd4-4677-a0f3-0394a72e33d2",
   "metadata": {},
   "outputs": [],
   "source": [
    "# 1. 파일 목록 가져오기\n",
    "file_names = glob('./images/*.jpg') # [강아지,강아지,고양이,...]\n",
    "# print(file_names)\n",
    "\n",
    "# 2. 만들 폴더명을 찾아야 함 => ['강아지', '고양이']\n",
    "res_folder = []\n",
    "for file_name in file_names :\n",
    "    res_folder.append(re.findall('[가-힣]+',file_name)[0])\n",
    "make_folder = list(set(res_folder))\n",
    "for i in make_folder :\n",
    "    os.makedirs(i,exist_ok=True)\n",
    "\n",
    "# 3. file_names에 동불이름 추출해서 해당 폴더에 복사하기\n",
    "for file_name in file_names :\n",
    "    name = re.findall('[가-힣]+',file_name)[0]\n",
    "    r_name = file_name.split('\\\\')[-1]\n",
    "    shutil.copyfile(file_name,f'./{name}/{r_name}')"
   ]
  },
  {
   "cell_type": "code",
   "execution_count": 159,
   "id": "6dd4aa7b-9fac-43dc-9d06-9a344620038f",
   "metadata": {},
   "outputs": [],
   "source": [
    "# 1. 파일 목록 가져오기\n",
    "file_names = glob('./images/*.jpg') # [강아지,강아지,고양이,...]\n",
    "\n",
    "# 2. 만들 폴더명을 찾아야 함 => ['강아지', '고양이']\n",
    "for file_name in file_names :\n",
    "    name = re.findall('[가-힣]+',file_name)[0]\n",
    "    os.makedirs(name,exist_ok=True)\n",
    "    update_name = file_name.replace('./images',f'./{name}')\n",
    "    shutil.copyfile(file_name, update_name)"
   ]
  },
  {
   "cell_type": "code",
   "execution_count": null,
   "id": "a290d7a7-55af-4a20-a7fa-f378cca6eea9",
   "metadata": {},
   "outputs": [],
   "source": []
  },
  {
   "cell_type": "code",
   "execution_count": 126,
   "id": "a8031cbf-74fe-44a3-a24e-dae145fb6b7b",
   "metadata": {},
   "outputs": [
    {
     "data": {
      "text/plain": [
       "['abc', '123', '10', '2000', '3,000', 'ab', 'c', 'zzz', 'AA', 'SChool']"
      ]
     },
     "execution_count": 126,
     "metadata": {},
     "output_type": "execute_result"
    }
   ],
   "source": [
    "s = 'abc 123 가나다라 ^^ ㅋㅋㅋ 10 2000 3,000 ab c zzz AA SChool'\n",
    "re.findall('[a-zA-Z0-9,]+',s)"
   ]
  },
  {
   "cell_type": "code",
   "execution_count": 129,
   "id": "2a74ffe7-1e35-4f63-96af-febc049c115e",
   "metadata": {},
   "outputs": [
    {
     "data": {
      "text/plain": [
       "['가나다라', '^^', 'ㅋㅋㅋ']"
      ]
     },
     "execution_count": 129,
     "metadata": {},
     "output_type": "execute_result"
    }
   ],
   "source": [
    "s = 'abc 123 가나다라 ^^ ㅋㅋㅋ 10 2000 3,000 ab c zzz AA SChool'\n",
    "re.findall('[가-힣^ㅋ]+',s)"
   ]
  },
  {
   "cell_type": "code",
   "execution_count": 132,
   "id": "c7a19ed5-0daf-4884-ab43-c33ba38282bc",
   "metadata": {},
   "outputs": [
    {
     "data": {
      "text/plain": [
       "['123', '가나다라', '^^', 'ㅋㅋㅋ', '10', '2000', '3,000', 'AA', 'SC', '❤️', '✨']"
      ]
     },
     "execution_count": 132,
     "metadata": {},
     "output_type": "execute_result"
    }
   ],
   "source": [
    "s = 'abc 123 가나다라 ^^ ㅋㅋㅋ 10 2000 3,000 ab c zzz AA SChool ❤️ ✨'\n",
    "re.findall('[^a-z ]+',s)"
   ]
  },
  {
   "cell_type": "code",
   "execution_count": 134,
   "id": "22258b76-6035-4263-81f3-b232e1a407f6",
   "metadata": {},
   "outputs": [
    {
     "data": {
      "text/plain": [
       "['abc 123 가나다라 ', ' ', ' 10 2000 3', '000 ab c zzz AA SChool ', ' ']"
      ]
     },
     "execution_count": 134,
     "metadata": {},
     "output_type": "execute_result"
    }
   ],
   "source": [
    "s = 'abc 123 가나다라 ^^ ㅋㅋㅋ 10 2000 3,000 ab c zzz AA SChool ❤️ ✨'\n",
    "re.findall('[a-zA-Z가-힣0-9 ]+',s)"
   ]
  },
  {
   "cell_type": "code",
   "execution_count": 135,
   "id": "6511f854-209a-4164-b339-939c8866234d",
   "metadata": {},
   "outputs": [
    {
     "data": {
      "text/plain": [
       "['가나다라']"
      ]
     },
     "execution_count": 135,
     "metadata": {},
     "output_type": "execute_result"
    }
   ],
   "source": [
    "s = 'abc 123 가나다라 ^^ ㅋㅋㅋ 10 2000 3,000 ab c zzz AA SChool ❤️ ✨'\n",
    "re.findall('[가-힣]+',s)"
   ]
  },
  {
   "cell_type": "code",
   "execution_count": 136,
   "id": "bd1ed323-e2fa-438f-962a-2b2051518fce",
   "metadata": {},
   "outputs": [
    {
     "data": {
      "text/plain": [
       "'가나다라'"
      ]
     },
     "execution_count": 136,
     "metadata": {},
     "output_type": "execute_result"
    }
   ],
   "source": [
    "s = 'abc 123 가나다라 ^^ ㅋㅋㅋ 10 2000 3,000 ab c zzz AA SChool ❤️ ✨'\n",
    "re.findall('[가-힣]+',s)[0]"
   ]
  },
  {
   "cell_type": "code",
   "execution_count": null,
   "id": "50c34824-f12f-455f-a097-39f1e61e7510",
   "metadata": {},
   "outputs": [],
   "source": []
  }
 ],
 "metadata": {
  "kernelspec": {
   "display_name": "Python 3 (ipykernel)",
   "language": "python",
   "name": "python3"
  },
  "language_info": {
   "codemirror_mode": {
    "name": "ipython",
    "version": 3
   },
   "file_extension": ".py",
   "mimetype": "text/x-python",
   "name": "python",
   "nbconvert_exporter": "python",
   "pygments_lexer": "ipython3",
   "version": "3.12.5"
  }
 },
 "nbformat": 4,
 "nbformat_minor": 5
}
