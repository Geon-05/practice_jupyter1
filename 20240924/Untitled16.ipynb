{
 "cells": [
  {
   "cell_type": "code",
   "execution_count": 186,
   "id": "5baa55fd-179a-4823-b3e5-d1c16d069d18",
   "metadata": {},
   "outputs": [
    {
     "data": {
      "text/plain": [
       "'C:\\\\Users\\\\zcode\\\\Documents\\\\py\\\\2차'"
      ]
     },
     "execution_count": 186,
     "metadata": {},
     "output_type": "execute_result"
    }
   ],
   "source": [
    "pwd"
   ]
  },
  {
   "cell_type": "code",
   "execution_count": 189,
   "id": "b7d7a94d-db4d-4b0d-bc60-40d083a5a25a",
   "metadata": {},
   "outputs": [
    {
     "name": "stdin",
     "output_type": "stream",
     "text": [
      "좋아하는 과일은? 사과\n"
     ]
    },
    {
     "name": "stdout",
     "output_type": "stream",
     "text": [
      "정답입니다.\n"
     ]
    }
   ],
   "source": [
    "fruit = [\"사과\",\"포도\",\"홍시\"]\n",
    "\n",
    "answer = input(\"좋아하는 과일은?\")\n",
    "\n",
    "if answer in fruit:\n",
    "    print(\"정답입니다.\")\n",
    "else :\n",
    "    print(\"오답입니다.\")"
   ]
  },
  {
   "cell_type": "code",
   "execution_count": 190,
   "id": "07898cd7-9b6c-44cc-b4bb-13965a2b1880",
   "metadata": {},
   "outputs": [
    {
     "name": "stdin",
     "output_type": "stream",
     "text": [
      "투자 종목을 입력하세요. Microsoft\n"
     ]
    },
    {
     "name": "stdout",
     "output_type": "stream",
     "text": [
      "투자 경고 종목입니다.\n"
     ]
    }
   ],
   "source": [
    "warn_investment_list = [\"Microsoft\", \"Google\", \"Naver\", \"Kakao\", \"SAMSUNG\", \"LG\"]\n",
    "\n",
    "answer = input(\"투자 종목을 입력하세요.\")\n",
    "\n",
    "if answer in warn_investment_list :\n",
    "    print(\"투자 경고 종목입니다.\")\n",
    "else :\n",
    "    print(\"투자 경고 종목이 아닙니다.\")"
   ]
  },
  {
   "cell_type": "code",
   "execution_count": 194,
   "id": "e0f7da91-8f24-42ca-94d8-b7460f76b340",
   "metadata": {},
   "outputs": [
    {
     "name": "stdin",
     "output_type": "stream",
     "text": [
      "제가좋아하는계절은: 봄\n"
     ]
    },
    {
     "name": "stdout",
     "output_type": "stream",
     "text": [
      "정답입니다.\n"
     ]
    }
   ],
   "source": [
    "fruit = {\"봄\" : \"딸기\", \"여름\" : \"토마토\", \"가을\" : \"사과\"}\n",
    "key_list = fruit.keys()\n",
    "answer = input(\"제가좋아하는계절은:\")\n",
    "if answer in list(key_list) :\n",
    "    print(\"정답입니다.\")\n",
    "else :\n",
    "    print(\"오답입니다.\")"
   ]
  },
  {
   "cell_type": "code",
   "execution_count": 198,
   "id": "cd9900e5-7a55-4d8c-ad4e-8ebb8dbba893",
   "metadata": {},
   "outputs": [
    {
     "name": "stdin",
     "output_type": "stream",
     "text": [
      "영문자를 입력하세요. A\n"
     ]
    },
    {
     "name": "stdout",
     "output_type": "stream",
     "text": [
      "a\n"
     ]
    }
   ],
   "source": [
    "answer_char = input(\"영문자를 입력하세요.\")\n",
    "\n",
    "if answer_char.islower() :\n",
    "    print(answer_char.upper())\n",
    "else :\n",
    "    print(answer_char.lower())"
   ]
  },
  {
   "cell_type": "code",
   "execution_count": 203,
   "id": "9040b480-0fcf-4c30-966a-6e98b0221fb7",
   "metadata": {},
   "outputs": [
    {
     "name": "stdin",
     "output_type": "stream",
     "text": [
      "score: 100\n"
     ]
    },
    {
     "name": "stdout",
     "output_type": "stream",
     "text": [
      "grade is A\n"
     ]
    }
   ],
   "source": [
    "score = int(input(\"score:\"))\n",
    "if score > 80 :\n",
    "    print(\"grade is A\")\n",
    "elif score > 60 :\n",
    "    print(\"grade is B\")\n",
    "elif score > 40 :\n",
    "    print(\"grade is C\")\n",
    "elif score > 20 :\n",
    "    print(\"grade is D\")\n",
    "else :\n",
    "    print(\"grade is E\")"
   ]
  },
  {
   "cell_type": "code",
   "execution_count": 215,
   "id": "81a86392-e503-47e9-aafd-70f94e76ab15",
   "metadata": {},
   "outputs": [
    {
     "name": "stdin",
     "output_type": "stream",
     "text": [
      "입력: 100 달러\n"
     ]
    },
    {
     "name": "stdout",
     "output_type": "stream",
     "text": [
      "116700.00원\n"
     ]
    }
   ],
   "source": [
    "money = input(\"입력:\")\n",
    "a, b =money.split(\" \")\n",
    "name = {\n",
    "    \"달러\" : 1167,\n",
    "    \"엔\" : 1.096,\n",
    "    \"유로\" : 1268,\n",
    "    \"위안\" : 171\n",
    "}\n",
    "change = int(a) * name[b]\n",
    "print(f\"{change:0.2f}원\")"
   ]
  },
  {
   "cell_type": "code",
   "execution_count": 220,
   "id": "371cd759-55d5-4acf-a5bd-5be09bf34392",
   "metadata": {},
   "outputs": [
    {
     "name": "stdin",
     "output_type": "stream",
     "text": [
      "input number1: 36\n",
      "input number2: 67\n",
      "input number3: 55\n"
     ]
    },
    {
     "name": "stdout",
     "output_type": "stream",
     "text": [
      "67\n"
     ]
    }
   ],
   "source": [
    "res = []\n",
    "\n",
    "for i in range(1,4):\n",
    "    res.append(int(input(f\"input number{i}:\")))\n",
    "res.sort()\n",
    "print(res[-1])"
   ]
  },
  {
   "cell_type": "code",
   "execution_count": 222,
   "id": "c37b18a2-8547-4df8-a3ba-585efe6b561f",
   "metadata": {},
   "outputs": [
    {
     "name": "stdin",
     "output_type": "stream",
     "text": [
      "휴대전화 번호 입력: 010-1234-1234\n"
     ]
    },
    {
     "name": "stdout",
     "output_type": "stream",
     "text": [
      "당신은 알수없음 사용자입니다.\n"
     ]
    }
   ],
   "source": [
    "phone = input(\"휴대전화 번호 입력:\")\n",
    "res = \"\"\n",
    "\n",
    "if phone[:3] == \"011\" :\n",
    "    res = \"SKT\"\n",
    "elif phone[:3] == \"016\" :\n",
    "    res = \"KT\"\n",
    "elif phone[:3] == \"019\" :\n",
    "    res = \"LGU\"\n",
    "elif phone[:3] == \"010\" :\n",
    "    res = \"알수없음\"\n",
    "\n",
    "print(f\"당신은 {res} 사용자입니다.\")"
   ]
  },
  {
   "cell_type": "code",
   "execution_count": 239,
   "id": "d9cd9cd5-c339-40c3-bddb-f3701fd4bef0",
   "metadata": {},
   "outputs": [
    {
     "name": "stdout",
     "output_type": "stream",
     "text": [
      "유효하지 않은 주민등록번호입니다.\n"
     ]
    }
   ],
   "source": [
    "id_num = \"821010-1635210\"\n",
    "validation = \"234567 892345\"\n",
    "res = 0\n",
    "for i in range(13):\n",
    "    if i == 6:\n",
    "        continue\n",
    "    res = res + (int(id_num[i]) * int(validation[i]))\n",
    "val_num = 11 - (res % 11)\n",
    "if int(id_num[-1]) == val_num :\n",
    "    print(\"유효한 주민등록번호입니다.\")\n",
    "else :\n",
    "    print(\"유효하지 않은 주민등록번호입니다.\")"
   ]
  },
  {
   "cell_type": "code",
   "execution_count": 240,
   "id": "98de75f8-0f89-44c1-b9d5-cedd31308f2f",
   "metadata": {},
   "outputs": [
    {
     "name": "stdout",
     "output_type": "stream",
     "text": [
      "12\n",
      "18\n"
     ]
    }
   ],
   "source": [
    "리스트 = [13, 21, 12, 14, 30, 18]\n",
    "\n",
    "for i in 리스트 :\n",
    "    if (i < 20) and (i % 3 == 0):\n",
    "        print(i)"
   ]
  },
  {
   "cell_type": "code",
   "execution_count": 241,
   "id": "5d5b7ed3-ff89-4ad8-8ffa-ca72a63c5697",
   "metadata": {},
   "outputs": [
    {
     "name": "stdout",
     "output_type": "stream",
     "text": [
      "study\n",
      "python\n",
      "language\n"
     ]
    }
   ],
   "source": [
    "리스트 = [\"I\", \"study\", \"python\", \"language\", \"!\"]\n",
    "\n",
    "for i in 리스트 :\n",
    "    if len(i) >= 3 :\n",
    "        print(i)"
   ]
  },
  {
   "cell_type": "code",
   "execution_count": 244,
   "id": "93ca09cc-7bca-477b-9dc6-52f677cea857",
   "metadata": {},
   "outputs": [
    {
     "name": "stdout",
     "output_type": "stream",
     "text": [
      "A\n",
      "D\n",
      "------------------------------\n",
      "b\n",
      "c\n"
     ]
    }
   ],
   "source": [
    "리스트 = [\"A\", \"b\", \"c\", \"D\"]\n",
    "\n",
    "for i in 리스트 :\n",
    "    if i.isupper() :\n",
    "        print(i)\n",
    "\n",
    "print('-'*30)\n",
    "\n",
    "for i in 리스트 :\n",
    "    if i.islower() :\n",
    "        print(i)"
   ]
  },
  {
   "cell_type": "code",
   "execution_count": 252,
   "id": "1b3464e7-4fe0-4b49-9495-301e35b4fb26",
   "metadata": {},
   "outputs": [
    {
     "name": "stdout",
     "output_type": "stream",
     "text": [
      "dog\n",
      "cat\n",
      "parrot\n"
     ]
    }
   ],
   "source": [
    "리스트 = ['dog', 'cat', 'parrot']\n",
    "\n",
    "for i in 리스트 :\n",
    "    i[0].replace(i[0],i[0].upper())\n",
    "    print(i)"
   ]
  },
  {
   "cell_type": "code",
   "execution_count": 1,
   "id": "1bc07e08-f982-4f65-a308-028b060c1d98",
   "metadata": {},
   "outputs": [
    {
     "name": "stdout",
     "output_type": "stream",
     "text": [
      "가 나\n",
      "나 다\n",
      "다 라\n"
     ]
    }
   ],
   "source": [
    "my_list = [\"가\", \"나\", \"다\", \"라\"]\n",
    "\n",
    "for i in range(3) :\n",
    "    print(my_list[i],my_list[i+1])"
   ]
  },
  {
   "cell_type": "code",
   "execution_count": 3,
   "id": "79f0d48d-1a0a-4422-91c1-0be7c899e628",
   "metadata": {},
   "outputs": [
    {
     "name": "stdout",
     "output_type": "stream",
     "text": [
      "[['101호', '102호'], ['201호', '202호'], ['301호', '302호']]\n"
     ]
    }
   ],
   "source": [
    "apt = [\n",
    "    ['101호', '102호'],\n",
    "    ['201호', '202호'],\n",
    "    ['301호', '302호']\n",
    "]\n",
    "print(apt)"
   ]
  },
  {
   "cell_type": "code",
   "execution_count": 12,
   "id": "fb2e5a34-3c50-4183-8d5f-1ee8848b6cbd",
   "metadata": {},
   "outputs": [
    {
     "name": "stdout",
     "output_type": "stream",
     "text": [
      "101 호\n",
      "102 호\n",
      "201 호\n",
      "202 호\n",
      "301 호\n",
      "302 호\n"
     ]
    }
   ],
   "source": [
    "apart = [ [101, 102], [201, 202], [301, 302] ]\n",
    "for i in apart :\n",
    "    for j in i :\n",
    "        print(j,'호')"
   ]
  },
  {
   "cell_type": "code",
   "execution_count": 18,
   "id": "18911804-ad0c-4db6-aca6-360b67b29f09",
   "metadata": {},
   "outputs": [
    {
     "name": "stdout",
     "output_type": "stream",
     "text": [
      "100\n",
      "310\n",
      "[40, 30, 10]\n"
     ]
    }
   ],
   "source": [
    "ohlc = [[\"open\", \"high\", \"low\", \"close\"],\n",
    "        [100, 110, 70, 100],\n",
    "        [200, 210, 180, 190],\n",
    "        [300, 310, 300, 310]]\n",
    "close_num = ohlc[0].index('close')\n",
    "open_num = ohlc[0].index('open')\n",
    "high_num = ohlc[0].index('high')\n",
    "low_num = ohlc[0].index('low')\n",
    "volatility = []\n",
    "for i in ohlc[1:] :\n",
    "    if i[close_num] >= i[open_num] :\n",
    "        print(i[close_num])\n",
    "for i in ohlc[1:] :\n",
    "    volatility.append(i[high_num] - i[low_num])\n",
    "print(volatility)"
   ]
  },
  {
   "cell_type": "code",
   "execution_count": null,
   "id": "528461ed-2918-47c3-a97a-d42005b3ff91",
   "metadata": {},
   "outputs": [],
   "source": []
  }
 ],
 "metadata": {
  "kernelspec": {
   "display_name": "Python 3 (ipykernel)",
   "language": "python",
   "name": "python3"
  },
  "language_info": {
   "codemirror_mode": {
    "name": "ipython",
    "version": 3
   },
   "file_extension": ".py",
   "mimetype": "text/x-python",
   "name": "python",
   "nbconvert_exporter": "python",
   "pygments_lexer": "ipython3",
   "version": "3.12.5"
  }
 },
 "nbformat": 4,
 "nbformat_minor": 5
}
