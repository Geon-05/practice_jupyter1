{
 "cells": [
  {
   "cell_type": "code",
   "execution_count": 2,
   "id": "0a6f40e4-72b3-465a-ac6c-217c61e5b6e2",
   "metadata": {},
   "outputs": [
    {
     "data": {
      "text/plain": [
       "'C:\\\\Users\\\\zcode\\\\Documents\\\\py\\\\1차'"
      ]
     },
     "execution_count": 2,
     "metadata": {},
     "output_type": "execute_result"
    }
   ],
   "source": [
    "pwd"
   ]
  },
  {
   "cell_type": "code",
   "execution_count": 5,
   "id": "20ac79bf-bb02-44d5-be44-b685b6c60a29",
   "metadata": {},
   "outputs": [
    {
     "name": "stdin",
     "output_type": "stream",
     "text": [
      "공백으로 나눠 숫자 2개 입력 : 35 60\n"
     ]
    },
    {
     "name": "stdout",
     "output_type": "stream",
     "text": [
      "a = 35 <class 'int'>\n",
      "b = 60 <class 'int'>\n"
     ]
    }
   ],
   "source": [
    "a, b = map(int, input('공백으로 나눠 숫자 2개 입력 :').split())\n",
    "print('a =', a, type(a))\n",
    "print('b =', b, type(b))"
   ]
  },
  {
   "cell_type": "code",
   "execution_count": 7,
   "id": "04c31191-6e49-4355-bd2f-72819b71a8f5",
   "metadata": {},
   "outputs": [
    {
     "name": "stdout",
     "output_type": "stream",
     "text": [
      "내 점수는 3000입니다.\n"
     ]
    }
   ],
   "source": [
    "점수 = 3000\n",
    "print('내 점수는 ' + str(점수) + '입니다.')"
   ]
  },
  {
   "cell_type": "code",
   "execution_count": 10,
   "id": "a720f302-21ff-42ab-952c-8294a20dafc1",
   "metadata": {},
   "outputs": [
    {
     "name": "stdout",
     "output_type": "stream",
     "text": [
      "내 점수는 3,000점 입니다.\n"
     ]
    }
   ],
   "source": [
    "점수 = 3000\n",
    "print(f'내 점수는 {점수:,}점 입니다.')"
   ]
  },
  {
   "cell_type": "code",
   "execution_count": 11,
   "id": "60d62b5c-e49a-404d-8c24-40e3791b0949",
   "metadata": {},
   "outputs": [
    {
     "name": "stdout",
     "output_type": "stream",
     "text": [
      "내 점수는 3,000.356점 입니다.\n"
     ]
    }
   ],
   "source": [
    "점수 = 3000.356\n",
    "print(f'내 점수는 {점수:,}점 입니다.')"
   ]
  },
  {
   "cell_type": "code",
   "execution_count": 14,
   "id": "f64b3cbd-4ff3-41ae-98d8-bdc5a900815c",
   "metadata": {},
   "outputs": [
    {
     "name": "stdout",
     "output_type": "stream",
     "text": [
      "내 점수는 3,000.36점 입니다.\n"
     ]
    }
   ],
   "source": [
    "점수 = 3000.356\n",
    "print(f'내 점수는 {점수:,.2f}점 입니다.')"
   ]
  },
  {
   "cell_type": "code",
   "execution_count": 15,
   "id": "5d08e7b8-4f3d-4f43-9590-096d444bbbaf",
   "metadata": {},
   "outputs": [
    {
     "name": "stdout",
     "output_type": "stream",
     "text": [
      "내 점수는 03점 입니다.\n"
     ]
    }
   ],
   "source": [
    "점수 = 3\n",
    "print(f'내 점수는 {점수:02d}점 입니다.')"
   ]
  },
  {
   "cell_type": "code",
   "execution_count": 16,
   "id": "a55d6526-f9dd-47fd-87c4-2b8ec1ced6b3",
   "metadata": {
    "scrolled": true
   },
   "outputs": [
    {
     "name": "stdout",
     "output_type": "stream",
     "text": [
      "내 점수는 23점 입니다.\n"
     ]
    }
   ],
   "source": [
    "점수 = 23\n",
    "print(f'내 점수는 {점수:02d}점 입니다.')"
   ]
  },
  {
   "cell_type": "code",
   "execution_count": 17,
   "id": "99bee7f0-f20f-4532-bef1-c76e79ec0479",
   "metadata": {},
   "outputs": [],
   "source": [
    "a = []\n",
    "a = list()"
   ]
  },
  {
   "cell_type": "code",
   "execution_count": 18,
   "id": "751c7031-9b71-4561-a131-831fc41cae15",
   "metadata": {},
   "outputs": [
    {
     "name": "stdout",
     "output_type": "stream",
     "text": [
      "[3] <class 'list'>\n",
      "3 <class 'int'>\n",
      "(3,) <class 'tuple'>\n"
     ]
    }
   ],
   "source": [
    "a = [3]\n",
    "print(a, type(a))\n",
    "b = (3)\n",
    "print(b, type(b))\n",
    "b = (3,)\n",
    "print(b, type(b))"
   ]
  },
  {
   "cell_type": "code",
   "execution_count": 25,
   "id": "1c40f81b-ee30-48f4-9d32-e72416c79596",
   "metadata": {},
   "outputs": [
    {
     "name": "stdout",
     "output_type": "stream",
     "text": [
      "['가을']\n",
      "['가을', '3']\n",
      "['가을', '3', [4, 5, 6, 7]]\n",
      "[4, 5, 6, 7]\n",
      "['가을', '3']\n",
      "['가을', '3', [4, 5, 6, 7]]\n",
      "['가을', '3', [4, 5, 6, 7], 4, 5, 6, 7]\n"
     ]
    }
   ],
   "source": [
    "a = []\n",
    "a.append('가을')\n",
    "print(a)\n",
    "a.append('3')\n",
    "print(a)\n",
    "a.append([4,5,6,7])\n",
    "print(a)\n",
    "print(a.pop())\n",
    "print(a)\n",
    "b = [4, 5, 6, 7]\n",
    "a.append(b)\n",
    "print(a)\n",
    "a.extend(b)\n",
    "print(a)"
   ]
  },
  {
   "cell_type": "code",
   "execution_count": null,
   "id": "8a5c261a-c982-482c-a68b-a5b7f33665f2",
   "metadata": {},
   "outputs": [],
   "source": []
  }
 ],
 "metadata": {
  "kernelspec": {
   "display_name": "Python 3 (ipykernel)",
   "language": "python",
   "name": "python3"
  },
  "language_info": {
   "codemirror_mode": {
    "name": "ipython",
    "version": 3
   },
   "file_extension": ".py",
   "mimetype": "text/x-python",
   "name": "python",
   "nbconvert_exporter": "python",
   "pygments_lexer": "ipython3",
   "version": "3.12.5"
  }
 },
 "nbformat": 4,
 "nbformat_minor": 5
}
