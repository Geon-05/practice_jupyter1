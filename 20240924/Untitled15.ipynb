{
 "cells": [
  {
   "cell_type": "code",
   "execution_count": 1,
   "id": "0c245a75-da81-4f8a-b3e2-4303c4e642c6",
   "metadata": {},
   "outputs": [
    {
     "data": {
      "text/plain": [
       "'C:\\\\Users\\\\zcode\\\\Desktop\\\\py\\\\2차'"
      ]
     },
     "execution_count": 1,
     "metadata": {},
     "output_type": "execute_result"
    }
   ],
   "source": [
    "pwd"
   ]
  },
  {
   "cell_type": "code",
   "execution_count": 2,
   "id": "411c3499-ff95-4d46-b909-7344ab4900b6",
   "metadata": {},
   "outputs": [],
   "source": [
    "from PIL import Image\n",
    "from PIL import ImageFilter\n",
    "from glob import glob\n",
    "import os"
   ]
  },
  {
   "cell_type": "code",
   "execution_count": 3,
   "id": "5f810ea5-7c5c-4ac6-b650-34574a0bc15f",
   "metadata": {},
   "outputs": [],
   "source": [
    "filter_list = [ImageFilter.BLUR, ImageFilter.CONTOUR, ImageFilter.DETAIL,\n",
    "               ImageFilter.EDGE_ENHANCE, ImageFilter.EDGE_ENHANCE_MORE, ImageFilter.EMBOSS, ImageFilter.FIND_EDGES,\n",
    "               ImageFilter.SHARPEN, ImageFilter.SMOOTH, ImageFilter.SMOOTH_MORE]\n",
    "\n",
    "file_names = glob('./images/*.jpg')\n",
    "# print(file_names)\n",
    "\n",
    "for file_name in file_names:\n",
    "    real_name = file_name.split(\"\\\\\")[-1]\n",
    "    img = Image.open(file_name)\n",
    "    for i in filter_list:\n",
    "        os.makedirs(f'./images/{i.name}',exist_ok=True)\n",
    "        filter_img = img.filter(i)\n",
    "        filter_img.save(f\"./images/{i.name}/{real_name}\".format(i))"
   ]
  },
  {
   "cell_type": "code",
   "execution_count": 4,
   "id": "51b15db5-b07a-4a8b-9d0f-0d985c1c7ab6",
   "metadata": {},
   "outputs": [],
   "source": []
  },
  {
   "cell_type": "code",
   "execution_count": null,
   "id": "64facdba-3e8b-4b46-89a2-1f28b4068c2b",
   "metadata": {},
   "outputs": [],
   "source": []
  }
 ],
 "metadata": {
  "kernelspec": {
   "display_name": "Python 3 (ipykernel)",
   "language": "python",
   "name": "python3"
  },
  "language_info": {
   "codemirror_mode": {
    "name": "ipython",
    "version": 3
   },
   "file_extension": ".py",
   "mimetype": "text/x-python",
   "name": "python",
   "nbconvert_exporter": "python",
   "pygments_lexer": "ipython3",
   "version": "3.12.5"
  }
 },
 "nbformat": 4,
 "nbformat_minor": 5
}
