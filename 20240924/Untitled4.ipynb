{
 "cells": [
  {
   "cell_type": "code",
   "execution_count": 1,
   "id": "31a0efd4-0982-4538-935b-2ce928dab9e0",
   "metadata": {},
   "outputs": [
    {
     "data": {
      "text/plain": [
       "'C:\\\\Users\\\\zcode\\\\Documents\\\\py\\\\2차'"
      ]
     },
     "execution_count": 1,
     "metadata": {},
     "output_type": "execute_result"
    }
   ],
   "source": [
    "pwd"
   ]
  },
  {
   "cell_type": "code",
   "execution_count": 2,
   "id": "af073b26-4609-4608-b75e-16e180f2a1a8",
   "metadata": {},
   "outputs": [
    {
     "name": "stdout",
     "output_type": "stream",
     "text": [
      "0 100\n",
      "--------------------\n",
      "1 200\n",
      "--------------------\n",
      "2 300\n",
      "--------------------\n"
     ]
    }
   ],
   "source": [
    "a = [100, 200, 300]\n",
    "for i in range(len(a)) :\n",
    "    print(i, a[i])\n",
    "    print(\"-\"*20)"
   ]
  },
  {
   "cell_type": "code",
   "execution_count": 3,
   "id": "07b590b1-2bfc-45cd-879f-6783cbc4b119",
   "metadata": {},
   "outputs": [
    {
     "name": "stdout",
     "output_type": "stream",
     "text": [
      "100\n",
      "200\n",
      "300\n"
     ]
    }
   ],
   "source": [
    "a = [100, 200, 300]\n",
    "for i in a :\n",
    "    print(i)"
   ]
  },
  {
   "cell_type": "code",
   "execution_count": 5,
   "id": "e78e8a29-6108-4123-b4c2-5722fa1c4840",
   "metadata": {},
   "outputs": [
    {
     "data": {
      "text/plain": [
       "[(0, 100), (1, 200), (2, 300)]"
      ]
     },
     "execution_count": 5,
     "metadata": {},
     "output_type": "execute_result"
    }
   ],
   "source": [
    "a = [100, 200, 300]\n",
    "list(enumerate(a))"
   ]
  },
  {
   "cell_type": "code",
   "execution_count": 6,
   "id": "6e2dea28-7e5c-4d02-8298-1a8223f66648",
   "metadata": {},
   "outputs": [
    {
     "name": "stdout",
     "output_type": "stream",
     "text": [
      "0\n",
      "100\n",
      "1\n",
      "200\n",
      "2\n",
      "300\n"
     ]
    }
   ],
   "source": [
    "a = [100, 200, 300]\n",
    "for idx, i in enumerate(a):\n",
    "    print(idx)\n",
    "    print(i)"
   ]
  },
  {
   "cell_type": "code",
   "execution_count": 36,
   "id": "96641fd7-3aad-46f2-b581-767b39ae5533",
   "metadata": {},
   "outputs": [
    {
     "name": "stdout",
     "output_type": "stream",
     "text": [
      "[(0, '서울'), (1, '서울시'), (2, '부산광역시'), (3, '부산직할시')]\n",
      "0 서울\n",
      "서울\n",
      "부산\n",
      "1 서울시\n",
      "서울\n",
      "부산\n",
      "2 부산광역시\n",
      "서울\n",
      "부산\n",
      "3 부산직할시\n",
      "서울\n",
      "부산\n"
     ]
    }
   ],
   "source": [
    "'''\n",
    "data[0]='서울'\n",
    "data[1]='서울'\n",
    "'''\n",
    "\n",
    "data=['서울','서울시','부산광역시','부산직할시'] #data = ['서울','서울','부산','부산']\n",
    "dt = {\n",
    "    \"서울\":[\"서울\",\"서울시\",\"서울특별시\"],\n",
    "    \"부산\":[\"부산\",\"부산시\",\"부산광역시\",\"부산직할시\"]\n",
    "}\n",
    "print(list(enumerate(data)))\n",
    "\n",
    "for idx, i in enumerate(data):\n",
    "    print(idx, i)\n",
    "    for j in dt.keys():\n",
    "        print(j)"
   ]
  },
  {
   "cell_type": "code",
   "execution_count": 35,
   "id": "81dbd832-573f-4854-8f2e-4f2d540213c8",
   "metadata": {},
   "outputs": [
    {
     "name": "stdout",
     "output_type": "stream",
     "text": [
      "['서울', '서울', '부산', '부산', '서울', '부산']\n"
     ]
    }
   ],
   "source": [
    "'''\n",
    "data[0]='서울'\n",
    "data[1]='서울'\n",
    "'''\n",
    "\n",
    "data=['서울','서울시','부산광역시','부산직할시','서울광역시','부산특별시'] #data = ['서울','서울','부산','부산']\n",
    "dt = {\n",
    "    \"서울\":[\"서울\",\"서울시\",\"서울특별시\",\"서울광역시\"],\n",
    "    \"부산\":[\"부산\",\"부산시\",\"부산광역시\",\"부산직할시\",\"부산특별시\"]\n",
    "}\n",
    "for idx, i in enumerate(data):\n",
    "    # print(idx, i)\n",
    "    for k,v in dt.items():\n",
    "        if i in v:\n",
    "            data[idx] = k\n",
    "            break\n",
    "print(data)"
   ]
  },
  {
   "cell_type": "code",
   "execution_count": 24,
   "id": "4a0dda4b-2a56-4ff6-8c33-6af31989ef4f",
   "metadata": {},
   "outputs": [
    {
     "name": "stdout",
     "output_type": "stream",
     "text": [
      "0\n",
      "2\n",
      "4\n",
      "6\n",
      "8\n"
     ]
    }
   ],
   "source": [
    "for i in range(10):\n",
    "    if i % 2 != 0:\n",
    "        continue\n",
    "        print(\"난 홀수\")\n",
    "    print(i)"
   ]
  },
  {
   "cell_type": "code",
   "execution_count": 32,
   "id": "087c0de8-82e5-4ed3-a631-e013d1272cad",
   "metadata": {},
   "outputs": [
    {
     "name": "stdout",
     "output_type": "stream",
     "text": [
      "['합격', '불합격', '합격', '불합격']\n"
     ]
    }
   ],
   "source": [
    "a=[\n",
    "    [80,80,90,100],\n",
    "    [90,100,79,100],\n",
    "    [80,99,100,100],\n",
    "    [80,79,100,100]    \n",
    "]\n",
    "res = []\n",
    "\n",
    "for i in a:\n",
    "    cnt = 0\n",
    "    for j in i:\n",
    "        if j < 80:\n",
    "            cnt = cnt + 1\n",
    "    if cnt > 0 :\n",
    "        res.append(\"불합격\")\n",
    "    else :\n",
    "        res.append(\"합격\")\n",
    "print(res)"
   ]
  },
  {
   "cell_type": "code",
   "execution_count": 49,
   "id": "77c6da5e-bd04-4068-a5b5-6e233a5aa211",
   "metadata": {},
   "outputs": [
    {
     "name": "stdout",
     "output_type": "stream",
     "text": [
      "['합격', '불합격', '합격', '불합격']\n"
     ]
    }
   ],
   "source": [
    "a=[\n",
    "    [80,80,90,100,80,90],\n",
    "    [90,100,79,100],\n",
    "    [80,99,100,100],\n",
    "    [80,79,100,100]    \n",
    "]\n",
    "res =[]\n",
    "\n",
    "for i in a:\n",
    "    # print(i)\n",
    "    # print('-'*20)\n",
    "    n = 0\n",
    "    for j in i:\n",
    "        # print(j)\n",
    "        if j >= 80 :\n",
    "            n += 1\n",
    "    # print(n)\n",
    "    if n == len(i):\n",
    "        res.append(\"합격\")\n",
    "    else :\n",
    "        res.append(\"불합격\")\n",
    "print(res)"
   ]
  },
  {
   "cell_type": "code",
   "execution_count": null,
   "id": "de4e5491-af3b-47a1-a86b-11820213c042",
   "metadata": {},
   "outputs": [],
   "source": []
  }
 ],
 "metadata": {
  "kernelspec": {
   "display_name": "Python 3 (ipykernel)",
   "language": "python",
   "name": "python3"
  },
  "language_info": {
   "codemirror_mode": {
    "name": "ipython",
    "version": 3
   },
   "file_extension": ".py",
   "mimetype": "text/x-python",
   "name": "python",
   "nbconvert_exporter": "python",
   "pygments_lexer": "ipython3",
   "version": "3.12.5"
  }
 },
 "nbformat": 4,
 "nbformat_minor": 5
}
