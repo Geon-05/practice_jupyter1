{
 "cells": [
  {
   "cell_type": "code",
   "execution_count": 59,
   "id": "6efa1dfc-65e7-4271-a388-d8b42c1a3a0d",
   "metadata": {},
   "outputs": [
    {
     "data": {
      "text/plain": [
       "'C:\\\\Users\\\\zcode\\\\Documents\\\\py\\\\2차'"
      ]
     },
     "execution_count": 59,
     "metadata": {},
     "output_type": "execute_result"
    }
   ],
   "source": [
    "pwd"
   ]
  },
  {
   "cell_type": "code",
   "execution_count": 60,
   "id": "c86efc33-7ed2-448b-b9fd-cc2bbd697fe8",
   "metadata": {},
   "outputs": [],
   "source": [
    "from PIL import Image\n",
    "from glob import glob"
   ]
  },
  {
   "cell_type": "code",
   "execution_count": 65,
   "id": "24407f21-0faa-4c0f-ad69-d79ea5bd2874",
   "metadata": {},
   "outputs": [
    {
     "name": "stdout",
     "output_type": "stream",
     "text": [
      "['./images\\\\강아지1.jpg', './images\\\\강아지10.jpg', './images\\\\강아지2.jpg', './images\\\\강아지3.jpg', './images\\\\강아지4.jpg', './images\\\\강아지5.jpg', './images\\\\강아지6.jpg', './images\\\\강아지7.jpg', './images\\\\강아지8.jpg', './images\\\\강아지9.jpg', './images\\\\고양이1.jpg', './images\\\\고양이2.jpg', './images\\\\고양이3.jpg', './images\\\\고양이4.jpg', './images\\\\고양이5.jpg', './images\\\\고양이6.jpg']\n",
      "이미지 파일 이름 : C:\\Users\\zcode\\Documents\\py\\2차\\images\\강아지1.jpg\n",
      "이미지 파일형식(format) : JPEG\n",
      "이미지 용량(size) : (377, 400)\n",
      "이미지 색상모드 : RGB\n",
      "이미지 width : 377\n",
      "이미지 height : 400\n",
      "==============================\n",
      "이미지 파일 이름 : C:\\Users\\zcode\\Documents\\py\\2차\\images\\강아지10.jpg\n",
      "이미지 파일형식(format) : JPEG\n",
      "이미지 용량(size) : (599, 400)\n",
      "이미지 색상모드 : RGB\n",
      "이미지 width : 599\n",
      "이미지 height : 400\n",
      "==============================\n",
      "이미지 파일 이름 : C:\\Users\\zcode\\Documents\\py\\2차\\images\\강아지2.jpg\n",
      "이미지 파일형식(format) : JPEG\n",
      "이미지 용량(size) : (584, 400)\n",
      "이미지 색상모드 : RGB\n",
      "이미지 width : 584\n",
      "이미지 height : 400\n",
      "==============================\n",
      "이미지 파일 이름 : C:\\Users\\zcode\\Documents\\py\\2차\\images\\강아지3.jpg\n",
      "이미지 파일형식(format) : JPEG\n",
      "이미지 용량(size) : (433, 400)\n",
      "이미지 색상모드 : RGB\n",
      "이미지 width : 433\n",
      "이미지 height : 400\n",
      "==============================\n",
      "이미지 파일 이름 : C:\\Users\\zcode\\Documents\\py\\2차\\images\\강아지4.jpg\n",
      "이미지 파일형식(format) : JPEG\n",
      "이미지 용량(size) : (356, 400)\n",
      "이미지 색상모드 : RGB\n",
      "이미지 width : 356\n",
      "이미지 height : 400\n",
      "==============================\n",
      "이미지 파일 이름 : C:\\Users\\zcode\\Documents\\py\\2차\\images\\강아지5.jpg\n",
      "이미지 파일형식(format) : JPEG\n",
      "이미지 용량(size) : (564, 400)\n",
      "이미지 색상모드 : RGB\n",
      "이미지 width : 564\n",
      "이미지 height : 400\n",
      "==============================\n",
      "이미지 파일 이름 : C:\\Users\\zcode\\Documents\\py\\2차\\images\\강아지6.jpg\n",
      "이미지 파일형식(format) : JPEG\n",
      "이미지 용량(size) : (533, 400)\n",
      "이미지 색상모드 : RGB\n",
      "이미지 width : 533\n",
      "이미지 height : 400\n",
      "==============================\n",
      "이미지 파일 이름 : C:\\Users\\zcode\\Documents\\py\\2차\\images\\강아지7.jpg\n",
      "이미지 파일형식(format) : JPEG\n",
      "이미지 용량(size) : (537, 400)\n",
      "이미지 색상모드 : RGB\n",
      "이미지 width : 537\n",
      "이미지 height : 400\n",
      "==============================\n",
      "이미지 파일 이름 : C:\\Users\\zcode\\Documents\\py\\2차\\images\\강아지8.jpg\n",
      "이미지 파일형식(format) : JPEG\n",
      "이미지 용량(size) : (533, 400)\n",
      "이미지 색상모드 : RGB\n",
      "이미지 width : 533\n",
      "이미지 height : 400\n",
      "==============================\n",
      "이미지 파일 이름 : C:\\Users\\zcode\\Documents\\py\\2차\\images\\강아지9.jpg\n",
      "이미지 파일형식(format) : JPEG\n",
      "이미지 용량(size) : (510, 400)\n",
      "이미지 색상모드 : RGB\n",
      "이미지 width : 510\n",
      "이미지 height : 400\n",
      "==============================\n",
      "이미지 파일 이름 : C:\\Users\\zcode\\Documents\\py\\2차\\images\\고양이1.jpg\n",
      "이미지 파일형식(format) : JPEG\n",
      "이미지 용량(size) : (683, 512)\n",
      "이미지 색상모드 : RGB\n",
      "이미지 width : 683\n",
      "이미지 height : 512\n",
      "==============================\n",
      "이미지 파일 이름 : C:\\Users\\zcode\\Documents\\py\\2차\\images\\고양이2.jpg\n",
      "이미지 파일형식(format) : JPEG\n",
      "이미지 용량(size) : (650, 433)\n",
      "이미지 색상모드 : RGB\n",
      "이미지 width : 650\n",
      "이미지 height : 433\n",
      "==============================\n",
      "이미지 파일 이름 : C:\\Users\\zcode\\Documents\\py\\2차\\images\\고양이3.jpg\n",
      "이미지 파일형식(format) : JPEG\n",
      "이미지 용량(size) : (819, 512)\n",
      "이미지 색상모드 : RGB\n",
      "이미지 width : 819\n",
      "이미지 height : 512\n",
      "==============================\n",
      "이미지 파일 이름 : C:\\Users\\zcode\\Documents\\py\\2차\\images\\고양이4.jpg\n",
      "이미지 파일형식(format) : JPEG\n",
      "이미지 용량(size) : (500, 321)\n",
      "이미지 색상모드 : RGB\n",
      "이미지 width : 500\n",
      "이미지 height : 321\n",
      "==============================\n",
      "이미지 파일 이름 : C:\\Users\\zcode\\Documents\\py\\2차\\images\\고양이5.jpg\n",
      "이미지 파일형식(format) : JPEG\n",
      "이미지 용량(size) : (683, 512)\n",
      "이미지 색상모드 : RGB\n",
      "이미지 width : 683\n",
      "이미지 height : 512\n",
      "==============================\n",
      "이미지 파일 이름 : C:\\Users\\zcode\\Documents\\py\\2차\\images\\고양이6.jpg\n",
      "이미지 파일형식(format) : JPEG\n",
      "이미지 용량(size) : (600, 375)\n",
      "이미지 색상모드 : RGB\n",
      "이미지 width : 600\n",
      "이미지 height : 375\n",
      "==============================\n"
     ]
    }
   ],
   "source": [
    "# 파일 목록 가져오기\n",
    "file_names = glob('./images/*.jpg')\n",
    "print(file_names)\n",
    "for file_name in file_names:\n",
    "    img = Image.open(file_name) # 이미지 불러오기\n",
    "    # img.show()\n",
    "    print(f'이미지 파일 이름 : {img.filename}')\n",
    "    print(f'이미지 파일형식(format) : {img.format}')\n",
    "    print(f'이미지 용량(size) : {img.size}')\n",
    "    print(f'이미지 색상모드 : {img.mode}')\n",
    "    print(f'이미지 width : {img.width}')\n",
    "    print(f'이미지 height : {img.height}')\n",
    "    print(\"=\"*30)\n"
   ]
  },
  {
   "cell_type": "code",
   "execution_count": null,
   "id": "93d4c263-af14-40ea-986d-ead8674223b2",
   "metadata": {},
   "outputs": [],
   "source": []
  }
 ],
 "metadata": {
  "kernelspec": {
   "display_name": "Python 3 (ipykernel)",
   "language": "python",
   "name": "python3"
  },
  "language_info": {
   "codemirror_mode": {
    "name": "ipython",
    "version": 3
   },
   "file_extension": ".py",
   "mimetype": "text/x-python",
   "name": "python",
   "nbconvert_exporter": "python",
   "pygments_lexer": "ipython3",
   "version": "3.12.5"
  }
 },
 "nbformat": 4,
 "nbformat_minor": 5
}
