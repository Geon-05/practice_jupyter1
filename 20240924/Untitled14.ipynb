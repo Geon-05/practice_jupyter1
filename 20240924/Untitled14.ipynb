{
 "cells": [
  {
   "cell_type": "code",
   "execution_count": 160,
   "id": "3848c34e-bed7-4ba8-90e2-8f39c245cf84",
   "metadata": {},
   "outputs": [
    {
     "data": {
      "text/plain": [
       "'C:\\\\Users\\\\zcode\\\\Documents\\\\py\\\\2차'"
      ]
     },
     "execution_count": 160,
     "metadata": {},
     "output_type": "execute_result"
    }
   ],
   "source": [
    "pwd"
   ]
  },
  {
   "cell_type": "code",
   "execution_count": 163,
   "id": "ab32cffb-b0f0-4837-bd4e-8d88ec0b7d24",
   "metadata": {},
   "outputs": [],
   "source": [
    "from glob import glob\n",
    "import os\n",
    "import shutil\n",
    "import re"
   ]
  },
  {
   "cell_type": "code",
   "execution_count": null,
   "id": "579d4b02-86d3-4af9-bed2-0876e2edb087",
   "metadata": {},
   "outputs": [],
   "source": [
    "file_names"
   ]
  },
  {
   "cell_type": "code",
   "execution_count": 169,
   "id": "c7853f2a-cc11-46be-bf12-9876e8bb412a",
   "metadata": {},
   "outputs": [],
   "source": [
    "# 1. 파일 목록 불러오기\n",
    "file_names = glob(\"./images/*.jpg\")\n",
    "# print(file_names)\n",
    "\n",
    "for file_name in file_names :\n",
    "    animal_name = re.findall('[가-힣]+',file_name)[0]\n",
    "    os.makedirs(animal_name,exist_ok=True)\n",
    "    new_file_name = file_name.replace('./images',animal_name)\n",
    "    # print(file_name, '--->', new_file_name)\n",
    "    shutil.copyfile(file_name, new_file_name)"
   ]
  },
  {
   "cell_type": "code",
   "execution_count": null,
   "id": "36a0a708-2688-407e-a00f-365f2c409a7a",
   "metadata": {},
   "outputs": [],
   "source": []
  }
 ],
 "metadata": {
  "kernelspec": {
   "display_name": "Python 3 (ipykernel)",
   "language": "python",
   "name": "python3"
  },
  "language_info": {
   "codemirror_mode": {
    "name": "ipython",
    "version": 3
   },
   "file_extension": ".py",
   "mimetype": "text/x-python",
   "name": "python",
   "nbconvert_exporter": "python",
   "pygments_lexer": "ipython3",
   "version": "3.12.5"
  }
 },
 "nbformat": 4,
 "nbformat_minor": 5
}
