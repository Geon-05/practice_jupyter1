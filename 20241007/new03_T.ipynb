{
 "cells": [
  {
   "cell_type": "code",
   "execution_count": 1,
   "id": "20c4c43f-bb99-41b2-a185-5e53d7f097db",
   "metadata": {},
   "outputs": [
    {
     "data": {
      "text/plain": [
       "'C:\\\\Users\\\\go121\\\\practice_jupyter\\\\py\\\\데이터분석 및 시각화\\\\API자료수집\\\\05네이버API'"
      ]
     },
     "execution_count": 1,
     "metadata": {},
     "output_type": "execute_result"
    }
   ],
   "source": [
    "pwd"
   ]
  },
  {
   "cell_type": "code",
   "execution_count": 2,
   "id": "78693566-0bed-4eff-ba45-603430f00825",
   "metadata": {},
   "outputs": [],
   "source": [
    "import os\n",
    "import sys\n",
    "import urllib.request\n",
    "import json\n",
    "import pandas as pd\n",
    "import matplotlib.pyplot as plt\n",
    "\n",
    "plt.rcParams['font.family'] ='Malgun Gothic'\n",
    "plt.rcParams['axes.unicode_minus'] =False"
   ]
  },
  {
   "cell_type": "code",
   "execution_count": 3,
   "id": "2045166b-59ac-4e85-8a7b-13975c09a876",
   "metadata": {},
   "outputs": [],
   "source": [
    "client_id = \"sINqNPstJrYv4dDyStMK\"\n",
    "client_secret = \"SKpquTbQWh\"\n",
    "\n",
    "def blog(search):\n",
    "    encText = urllib.parse.quote(search)\n",
    "    url = \"https://openapi.naver.com/v1/search/blog?query=\" + encText # JSON 결과\n",
    "    # url = \"https://openapi.naver.com/v1/search/blog.xml?query=\" + encText # XML 결과\n",
    "    request = urllib.request.Request(url)\n",
    "    request.add_header(\"X-Naver-Client-Id\",client_id)\n",
    "    request.add_header(\"X-Naver-Client-Secret\",client_secret)\n",
    "    response = urllib.request.urlopen(request)\n",
    "    rescode = response.getcode()\n",
    "    if(rescode==200):\n",
    "        response_body = response.read()\n",
    "        response_dict = json.loads(response_body)\n",
    "        total = response_dict['total']\n",
    "    else:\n",
    "        print(\"Error Code:\" + rescode)\n",
    "        return\n",
    "    return total"
   ]
  },
  {
   "cell_type": "code",
   "execution_count": 4,
   "id": "57ca5dc8-68a4-43eb-bb70-115e6c7cbc71",
   "metadata": {},
   "outputs": [],
   "source": [
    "검색어 = ['메가커피', '이디야', '컴포즈', '빽다방', '스타벅스']\n",
    "res = []"
   ]
  },
  {
   "cell_type": "code",
   "execution_count": 6,
   "id": "29c2b449-18e1-4d46-ba76-16754d47d959",
   "metadata": {},
   "outputs": [],
   "source": [
    "터"
   ]
  },
  {
   "cell_type": "code",
   "execution_count": 7,
   "id": "573b8a69-6960-4e04-b898-af65a887b963",
   "metadata": {},
   "outputs": [
    {
     "data": {
      "text/plain": [
       "[383190, 710538, 223354, 346449, 6005615]"
      ]
     },
     "execution_count": 7,
     "metadata": {},
     "output_type": "execute_result"
    }
   ],
   "source": [
    "res"
   ]
  },
  {
   "cell_type": "code",
   "execution_count": 9,
   "id": "5f78c3ee-21ca-4bb4-a3fa-c9e9012dbc0f",
   "metadata": {},
   "outputs": [
    {
     "data": {
      "text/plain": [
       "<BarContainer object of 4 artists>"
      ]
     },
     "execution_count": 9,
     "metadata": {},
     "output_type": "execute_result"
    },
    {
     "data": {
      "image/png": "[encoded data removed]",
      "text/plain": [
       "<Figure size 640x480 with 1 Axes>"
      ]
     },
     "metadata": {},
     "output_type": "display_data"
    }
   ],
   "source": [
    "plt.bar(x=검색어[:-1], height=res[:-1])"
   ]
  },
  {
   "cell_type": "code",
   "execution_count": null,
   "id": "f43a6d05-0a21-4b42-b238-0f5a9a7558cb",
   "metadata": {},
   "outputs": [],
   "source": []
  }
 ],
 "metadata": {
  "kernelspec": {
   "display_name": "Python 3 (ipykernel)",
   "language": "python",
   "name": "python3"
  },
  "language_info": {
   "codemirror_mode": {
    "name": "ipython",
    "version": 3
   },
   "file_extension": ".py",
   "mimetype": "text/x-python",
   "name": "python",
   "nbconvert_exporter": "python",
   "pygments_lexer": "ipython3",
   "version": "3.12.5"
  }
 },
 "nbformat": 4,
 "nbformat_minor": 5
}
