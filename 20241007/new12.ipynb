{
 "cells": [
  {
   "cell_type": "code",
   "execution_count": 1,
   "id": "aef23e64-1b66-4632-9ad7-7382e5dc925b",
   "metadata": {},
   "outputs": [
    {
     "data": {
      "text/plain": [
       "'C:\\\\Users\\\\go121\\\\practice_jupyter\\\\py\\\\데이터분석 및 시각화\\\\05 크롤링_01'"
      ]
     },
     "execution_count": 1,
     "metadata": {},
     "output_type": "execute_result"
    }
   ],
   "source": [
    "pwd"
   ]
  },
  {
   "cell_type": "code",
   "execution_count": 28,
   "id": "ac4fdb63-b2f4-4123-84e7-c88acdaab6e7",
   "metadata": {},
   "outputs": [
    {
     "data": {
      "text/plain": [
       "['영화순위',\n",
       " '영화개봉',\n",
       " '영화예매',\n",
       " '영화추천',\n",
       " '개봉예정영화',\n",
       " '추석특선영화',\n",
       " '현재상영영화',\n",
       " '영화 대도시의 사랑법 정보',\n",
       " '추석영화',\n",
       " '영화대도시의사랑법',\n",
       " '넷플릭스 영화 추천',\n",
       " '상영중인영화',\n",
       " '영화 룩백 정보',\n",
       " '영화비긴어게인',\n",
       " '영화룩백',\n",
       " '영화파일럿',\n",
       " '영화와일드로봇',\n",
       " '영화예매사이트',\n",
       " '사랑의 하츄핑 영화',\n",
       " '영화 대도시의 사랑법 관람평']"
      ]
     },
     "execution_count": 28,
     "metadata": {},
     "output_type": "execute_result"
    }
   ],
   "source": [
    "from bs4 import BeautifulSoup as bs\n",
    "import requests\n",
    "import pandas as pd\n",
    "\n",
    "search = '영화'\n",
    "url = f'https://kin.naver.com/search/list.naver?query={search}&page=1'\n",
    "html = requests.get(url)\n",
    "\n",
    "soup = bs(html.text, 'html')\n",
    "\n",
    "div_tag = soup.find('div','aside_list aside_word')\n",
    "\n",
    "res = [i.text for i in div_tag.find_all('li')]\n",
    "\n",
    "res"
   ]
  },
  {
   "cell_type": "code",
   "execution_count": null,
   "id": "8965344d-a404-448a-91d3-d198e0d2eef8",
   "metadata": {},
   "outputs": [],
   "source": []
  }
 ],
 "metadata": {
  "kernelspec": {
   "display_name": "Python 3 (ipykernel)",
   "language": "python",
   "name": "python3"
  },
  "language_info": {
   "codemirror_mode": {
    "name": "ipython",
    "version": 3
   },
   "file_extension": ".py",
   "mimetype": "text/x-python",
   "name": "python",
   "nbconvert_exporter": "python",
   "pygments_lexer": "ipython3",
   "version": "3.12.5"
  }
 },
 "nbformat": 4,
 "nbformat_minor": 5
}
