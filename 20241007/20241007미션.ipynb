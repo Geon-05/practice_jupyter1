{
 "cells": [
  {
   "cell_type": "code",
   "execution_count": 1,
   "id": "0e3a0b01-5d7b-44b6-93f3-c5f52ef42031",
   "metadata": {},
   "outputs": [
    {
     "data": {
      "text/plain": [
       "'C:\\\\Users\\\\go121\\\\practice_jupyter\\\\py\\\\데이터분석 및 시각화\\\\05 크롤링_01'"
      ]
     },
     "execution_count": 1,
     "metadata": {},
     "output_type": "execute_result"
    }
   ],
   "source": [
    "pwd"
   ]
  },
  {
   "cell_type": "code",
   "execution_count": 2,
   "id": "1772e4ec-fcbc-46a6-979f-f6044d7c3706",
   "metadata": {},
   "outputs": [],
   "source": [
    "from bs4 import BeautifulSoup as bs\n",
    "import requests\n",
    "import pandas as pd"
   ]
  },
  {
   "cell_type": "code",
   "execution_count": 3,
   "id": "f881e48c-7662-4e70-aa10-ff6de1cda6aa",
   "metadata": {},
   "outputs": [],
   "source": [
    "search = '파이썬'\n",
    "url = f'https://kin.naver.com/search/list.naver?query={search}&page=1'\n",
    "html = requests.get(url)\n",
    "\n",
    "soup = bs(html.text, 'html')"
   ]
  },
  {
   "cell_type": "code",
   "execution_count": 4,
   "id": "112f2020-27fa-4fa8-a506-3b233f0eab03",
   "metadata": {},
   "outputs": [
    {
     "name": "stdout",
     "output_type": "stream",
     "text": [
      "['#자바', '#컴퓨터', '#자바스크립트', '#오류', '#아이클라우드', '#마인크래프트', '#발로란트', '#동영상질문', '#java', '#javascript']\n"
     ]
    }
   ],
   "source": [
    "li_list = soup.find('ul','relate_list').find_all('li')\n",
    "관련태그 = [i.text for i in li_list]\n",
    "print(관련태그)"
   ]
  },
  {
   "cell_type": "code",
   "execution_count": 5,
   "id": "be009922-9bc5-4a95-b439-4e2abe45ecd4",
   "metadata": {},
   "outputs": [
    {
     "data": {
      "text/html": [
       "<div>\n",
       "<style scoped>\n",
       "    .dataframe tbody tr th:only-of-type {\n",
       "        vertical-align: middle;\n",
       "    }\n",
       "\n",
       "    .dataframe tbody tr th {\n",
       "        vertical-align: top;\n",
       "    }\n",
       "\n",
       "    .dataframe thead th {\n",
       "        text-align: right;\n",
       "    }\n",
       "</style>\n",
       "<table border=\"1\" class=\"dataframe\">\n",
       "  <thead>\n",
       "    <tr style=\"text-align: right;\">\n",
       "      <th></th>\n",
       "      <th>제목</th>\n",
       "      <th>링크</th>\n",
       "    </tr>\n",
       "  </thead>\n",
       "  <tbody>\n",
       "    <tr>\n",
       "      <th>0</th>\n",
       "      <td>파이썬 입문 질문</td>\n",
       "      <td>https://kin.naver.com/qna/detail.naver?d1id=1&amp;...</td>\n",
       "    </tr>\n",
       "    <tr>\n",
       "      <th>1</th>\n",
       "      <td>파이썬 c언어</td>\n",
       "      <td>https://kin.naver.com/qna/detail.naver?d1id=1&amp;...</td>\n",
       "    </tr>\n",
       "    <tr>\n",
       "      <th>2</th>\n",
       "      <td>vscode 파이썬</td>\n",
       "      <td>https://kin.naver.com/qna/detail.naver?d1id=1&amp;...</td>\n",
       "    </tr>\n",
       "    <tr>\n",
       "      <th>3</th>\n",
       "      <td>파이썬엑셀자동화질문</td>\n",
       "      <td>https://kin.naver.com/qna/detail.naver?d1id=11...</td>\n",
       "    </tr>\n",
       "    <tr>\n",
       "      <th>4</th>\n",
       "      <td>파이썬독학할 때 어떻게 공부를 해야하나요</td>\n",
       "      <td>https://kin.naver.com/qna/detail.naver?d1id=1&amp;...</td>\n",
       "    </tr>\n",
       "    <tr>\n",
       "      <th>5</th>\n",
       "      <td>파이썬 자동차 만들기</td>\n",
       "      <td>https://kin.naver.com/qna/detail.naver?d1id=10...</td>\n",
       "    </tr>\n",
       "    <tr>\n",
       "      <th>6</th>\n",
       "      <td>파이썬 코딩 질문드립니다ㅠㅠ</td>\n",
       "      <td>https://kin.naver.com/qna/detail.naver?d1id=1&amp;...</td>\n",
       "    </tr>\n",
       "    <tr>\n",
       "      <th>7</th>\n",
       "      <td>파이썬 질문</td>\n",
       "      <td>https://kin.naver.com/qna/detail.naver?d1id=1&amp;...</td>\n",
       "    </tr>\n",
       "    <tr>\n",
       "      <th>8</th>\n",
       "      <td>파이썬관련 질문</td>\n",
       "      <td>https://kin.naver.com/qna/detail.naver?d1id=1&amp;...</td>\n",
       "    </tr>\n",
       "    <tr>\n",
       "      <th>9</th>\n",
       "      <td>공기업 사무직도 파이썬을 배우면 업무를...</td>\n",
       "      <td>https://kin.naver.com/qna/detail.naver?d1id=4&amp;...</td>\n",
       "    </tr>\n",
       "  </tbody>\n",
       "</table>\n",
       "</div>"
      ],
      "text/plain": [
       "                          제목  \\\n",
       "0                  파이썬 입문 질문   \n",
       "1                    파이썬 c언어   \n",
       "2                 vscode 파이썬   \n",
       "3                 파이썬엑셀자동화질문   \n",
       "4     파이썬독학할 때 어떻게 공부를 해야하나요   \n",
       "5                파이썬 자동차 만들기   \n",
       "6            파이썬 코딩 질문드립니다ㅠㅠ   \n",
       "7                     파이썬 질문   \n",
       "8                   파이썬관련 질문   \n",
       "9  공기업 사무직도 파이썬을 배우면 업무를...    \n",
       "\n",
       "                                                  링크  \n",
       "0  https://kin.naver.com/qna/detail.naver?d1id=1&...  \n",
       "1  https://kin.naver.com/qna/detail.naver?d1id=1&...  \n",
       "2  https://kin.naver.com/qna/detail.naver?d1id=1&...  \n",
       "3  https://kin.naver.com/qna/detail.naver?d1id=11...  \n",
       "4  https://kin.naver.com/qna/detail.naver?d1id=1&...  \n",
       "5  https://kin.naver.com/qna/detail.naver?d1id=10...  \n",
       "6  https://kin.naver.com/qna/detail.naver?d1id=1&...  \n",
       "7  https://kin.naver.com/qna/detail.naver?d1id=1&...  \n",
       "8  https://kin.naver.com/qna/detail.naver?d1id=1&...  \n",
       "9  https://kin.naver.com/qna/detail.naver?d1id=4&...  "
      ]
     },
     "execution_count": 5,
     "metadata": {},
     "output_type": "execute_result"
    }
   ],
   "source": [
    "title_list = [i for i in soup.select('ul.basic1 li dl dt a')]\n",
    "res = []\n",
    "for i in title_list:\n",
    "    tmp = {}\n",
    "    if i['target'] == '_blank':\n",
    "        tmp['제목'] = i.text\n",
    "        tmp['링크'] = i['href']\n",
    "        res.append(tmp)\n",
    "res_df = pd.DataFrame(res)\n",
    "res_df"
   ]
  },
  {
   "cell_type": "code",
   "execution_count": null,
   "id": "ce148bd9-3a47-491e-9268-de95ddde2e8c",
   "metadata": {},
   "outputs": [],
   "source": []
  }
 ],
 "metadata": {
  "kernelspec": {
   "display_name": "Python 3 (ipykernel)",
   "language": "python",
   "name": "python3"
  },
  "language_info": {
   "codemirror_mode": {
    "name": "ipython",
    "version": 3
   },
   "file_extension": ".py",
   "mimetype": "text/x-python",
   "name": "python",
   "nbconvert_exporter": "python",
   "pygments_lexer": "ipython3",
   "version": "3.12.5"
  }
 },
 "nbformat": 4,
 "nbformat_minor": 5
}
