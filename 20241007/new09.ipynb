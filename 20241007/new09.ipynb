{
 "cells": [
  {
   "cell_type": "code",
   "execution_count": 1,
   "id": "2956e356-651c-4cfb-a9ed-09384c31e1b4",
   "metadata": {},
   "outputs": [
    {
     "data": {
      "text/plain": [
       "'C:\\\\Users\\\\go121\\\\practice_jupyter\\\\py\\\\데이터분석 및 시각화\\\\05 크롤링_01'"
      ]
     },
     "execution_count": 1,
     "metadata": {},
     "output_type": "execute_result"
    }
   ],
   "source": [
    "pwd"
   ]
  },
  {
   "cell_type": "code",
   "execution_count": 2,
   "id": "69b06f4d-db93-47df-b1fb-3fd90c936d5f",
   "metadata": {},
   "outputs": [],
   "source": [
    "from bs4 import BeautifulSoup as bs"
   ]
  },
  {
   "cell_type": "code",
   "execution_count": 3,
   "id": "ec8d3414-5bcd-4c46-827e-a1e50137b938",
   "metadata": {},
   "outputs": [],
   "source": [
    "html = \"\"\"\n",
    "<html>\n",
    "    <head>\n",
    "        <title>The Dormouse's story</title>\n",
    "    </head>\n",
    "    <body>\n",
    "        <h1>this is h1 area</h1>\n",
    "        <h2>this is h2 area</h2>\n",
    "        <p class=\"title\"><b>The Dormouse's story</b></p>\n",
    "        <p class=\"story\">Once upon a time there were three little sisters\n",
    "            <a href=\"http://example.com/elsie\" class=\"sister\" id=\"link1\">Elsie</a>\n",
    "            <a href=\"http://example.com/lacie\" class=\"sister\" id=\"link2\">Lacie</a>\n",
    "            <a data-io=\"link3\" href=\"http://example.com/tillie\" class=\"sister\" id=\"link3\">Tillie</a>\n",
    "        </p>\n",
    "        <div>\n",
    "            <p class=\"story\">story...</p>\n",
    "        </div>\n",
    "        <a class=\"sister\" data-io=\"link3\" href=\"http://example.com/tillie\" id=\"link4\">연습</a>\n",
    "    </body>\n",
    "</html>\n",
    "\"\"\""
   ]
  },
  {
   "cell_type": "code",
   "execution_count": 4,
   "id": "2f790333-35e2-455e-87f2-90d101a3359e",
   "metadata": {},
   "outputs": [
    {
     "data": {
      "text/plain": [
       "'\\n<html>\\n    <head>\\n        <title>The Dormouse\\'s story</title>\\n    </head>\\n    <body>\\n        <h1>this is h1 area</h1>\\n        <h2>this is h2 area</h2>\\n        <p class=\"title\"><b>The Dormouse\\'s story</b></p>\\n        <p class=\"story\">Once upon a time there were three little sisters\\n            <a href=\"http://example.com/elsie\" class=\"sister\" id=\"link1\">Elsie</a>\\n            <a href=\"http://example.com/lacie\" class=\"sister\" id=\"link2\">Lacie</a>\\n            <a data-io=\"link3\" href=\"http://example.com/tillie\" class=\"sister\" id=\"link3\">Tillie</a>\\n        </p>\\n        <div>\\n            <p class=\"story\">story...</p>\\n        </div>\\n        <a class=\"sister\" data-io=\"link3\" href=\"http://example.com/tillie\" id=\"link4\">연습</a>\\n    </body>\\n</html>\\n'"
      ]
     },
     "execution_count": 4,
     "metadata": {},
     "output_type": "execute_result"
    }
   ],
   "source": [
    "html"
   ]
  },
  {
   "cell_type": "code",
   "execution_count": 5,
   "id": "1e47bd66-79fe-43f8-aa39-60ff90a4b2f2",
   "metadata": {},
   "outputs": [],
   "source": [
    "soup = bs(html, 'html')"
   ]
  },
  {
   "cell_type": "code",
   "execution_count": 6,
   "id": "4d76ed5f-2103-4bf7-bd39-25f95aa5fd7c",
   "metadata": {},
   "outputs": [
    {
     "data": {
      "text/plain": [
       "<h1>this is h1 area</h1>"
      ]
     },
     "execution_count": 6,
     "metadata": {},
     "output_type": "execute_result"
    }
   ],
   "source": [
    "soup.find('h1')"
   ]
  },
  {
   "cell_type": "code",
   "execution_count": 7,
   "id": "430fdd96-3ea3-4be9-9a90-f6721185633f",
   "metadata": {},
   "outputs": [
    {
     "data": {
      "text/plain": [
       "'this is h1 area'"
      ]
     },
     "execution_count": 7,
     "metadata": {},
     "output_type": "execute_result"
    }
   ],
   "source": [
    "soup.find('h1').text"
   ]
  },
  {
   "cell_type": "code",
   "execution_count": 8,
   "id": "7e4151ed-afdc-4183-bbd0-e56f6edc9561",
   "metadata": {},
   "outputs": [
    {
     "data": {
      "text/plain": [
       "<a class=\"sister\" href=\"http://example.com/elsie\" id=\"link1\">Elsie</a>"
      ]
     },
     "execution_count": 8,
     "metadata": {},
     "output_type": "execute_result"
    }
   ],
   "source": [
    "soup.find('a')"
   ]
  },
  {
   "cell_type": "code",
   "execution_count": 9,
   "id": "4521ff2e-63b7-4a04-836e-d594a323ab1a",
   "metadata": {},
   "outputs": [
    {
     "data": {
      "text/plain": [
       "'Elsie'"
      ]
     },
     "execution_count": 9,
     "metadata": {},
     "output_type": "execute_result"
    }
   ],
   "source": [
    "soup.find('a').text"
   ]
  },
  {
   "cell_type": "code",
   "execution_count": 10,
   "id": "b02af4b2-75a6-4f3e-8377-ad580fab8bac",
   "metadata": {},
   "outputs": [
    {
     "data": {
      "text/plain": [
       "[<a class=\"sister\" href=\"http://example.com/elsie\" id=\"link1\">Elsie</a>,\n",
       " <a class=\"sister\" href=\"http://example.com/lacie\" id=\"link2\">Lacie</a>,\n",
       " <a class=\"sister\" data-io=\"link3\" href=\"http://example.com/tillie\" id=\"link3\">Tillie</a>,\n",
       " <a class=\"sister\" data-io=\"link3\" href=\"http://example.com/tillie\" id=\"link4\">연습</a>]"
      ]
     },
     "execution_count": 10,
     "metadata": {},
     "output_type": "execute_result"
    }
   ],
   "source": [
    "soup.find_all('a')"
   ]
  },
  {
   "cell_type": "code",
   "execution_count": 11,
   "id": "5b82d10a-a8fb-41ed-a452-4b59bf3d36d8",
   "metadata": {},
   "outputs": [
    {
     "data": {
      "text/plain": [
       "['Elsie', 'Lacie', 'Tillie', '연습']"
      ]
     },
     "execution_count": 11,
     "metadata": {},
     "output_type": "execute_result"
    }
   ],
   "source": [
    "[i.text for i in soup.find_all('a')]"
   ]
  },
  {
   "cell_type": "code",
   "execution_count": 12,
   "id": "d618b465-ebe0-4533-9b5f-09f03bb89449",
   "metadata": {},
   "outputs": [
    {
     "data": {
      "text/plain": [
       "[<a class=\"sister\" href=\"http://example.com/elsie\" id=\"link1\">Elsie</a>,\n",
       " <a class=\"sister\" href=\"http://example.com/lacie\" id=\"link2\">Lacie</a>,\n",
       " <a class=\"sister\" data-io=\"link3\" href=\"http://example.com/tillie\" id=\"link3\">Tillie</a>,\n",
       " <a class=\"sister\" data-io=\"link3\" href=\"http://example.com/tillie\" id=\"link4\">연습</a>]"
      ]
     },
     "execution_count": 12,
     "metadata": {},
     "output_type": "execute_result"
    }
   ],
   "source": [
    "soup.find_all('a')"
   ]
  },
  {
   "cell_type": "code",
   "execution_count": 13,
   "id": "cc00edd2-3667-4c03-a938-0f4df3701f25",
   "metadata": {},
   "outputs": [
    {
     "data": {
      "text/plain": [
       "['Elsie', 'Lacie', 'Tillie', '연습']"
      ]
     },
     "execution_count": 13,
     "metadata": {},
     "output_type": "execute_result"
    }
   ],
   "source": [
    "[i.text for i in soup.find_all('a')]"
   ]
  },
  {
   "cell_type": "code",
   "execution_count": 14,
   "id": "2755433c-0d0d-4fd1-b5bd-b698f81a3ff7",
   "metadata": {},
   "outputs": [
    {
     "data": {
      "text/plain": [
       "'Elsie'"
      ]
     },
     "execution_count": 14,
     "metadata": {},
     "output_type": "execute_result"
    }
   ],
   "source": [
    "[i.text for i in soup.find_all('a')][0]"
   ]
  },
  {
   "cell_type": "code",
   "execution_count": 15,
   "id": "164f3d83-370a-45b2-8189-37615d2945cd",
   "metadata": {},
   "outputs": [
    {
     "data": {
      "text/plain": [
       "<a class=\"sister\" href=\"http://example.com/lacie\" id=\"link2\">Lacie</a>"
      ]
     },
     "execution_count": 15,
     "metadata": {},
     "output_type": "execute_result"
    }
   ],
   "source": [
    "soup.find('a', id='link2')"
   ]
  },
  {
   "cell_type": "code",
   "execution_count": 16,
   "id": "e0b06024-a001-476f-a4e2-d9b9ec4323e0",
   "metadata": {},
   "outputs": [
    {
     "data": {
      "text/plain": [
       "<a class=\"sister\" href=\"http://example.com/lacie\" id=\"link2\">Lacie</a>"
      ]
     },
     "execution_count": 16,
     "metadata": {},
     "output_type": "execute_result"
    }
   ],
   "source": [
    "soup.find(id='link2')"
   ]
  },
  {
   "cell_type": "code",
   "execution_count": 17,
   "id": "ae47e2a8-d797-42df-88c3-980fbb136186",
   "metadata": {},
   "outputs": [
    {
     "data": {
      "text/plain": [
       "\"The Dormouse's story\""
      ]
     },
     "execution_count": 17,
     "metadata": {},
     "output_type": "execute_result"
    }
   ],
   "source": [
    "soup.find('p','title').text"
   ]
  },
  {
   "cell_type": "code",
   "execution_count": 18,
   "id": "f06195b0-9fad-476f-b28a-851924e33bab",
   "metadata": {},
   "outputs": [
    {
     "data": {
      "text/plain": [
       "<div>\n",
       "<p class=\"story\">story...</p>\n",
       "</div>"
      ]
     },
     "execution_count": 18,
     "metadata": {},
     "output_type": "execute_result"
    }
   ],
   "source": [
    "soup.find('div')"
   ]
  },
  {
   "cell_type": "code",
   "execution_count": 19,
   "id": "95be979d-ce37-4735-b77e-3844fda95ccd",
   "metadata": {},
   "outputs": [
    {
     "data": {
      "text/plain": [
       "bs4.element.Tag"
      ]
     },
     "execution_count": 19,
     "metadata": {},
     "output_type": "execute_result"
    }
   ],
   "source": [
    "type(soup.find('div'))"
   ]
  },
  {
   "cell_type": "code",
   "execution_count": 20,
   "id": "dcedffe7-1e1c-4a4f-9573-bb4b832446f6",
   "metadata": {},
   "outputs": [
    {
     "data": {
      "text/plain": [
       "<p class=\"story\">story...</p>"
      ]
     },
     "execution_count": 20,
     "metadata": {},
     "output_type": "execute_result"
    }
   ],
   "source": [
    "soup.find('div').find('p')"
   ]
  },
  {
   "cell_type": "code",
   "execution_count": 21,
   "id": "49752bf8-5a3a-4539-a801-7d7f5cc69f44",
   "metadata": {},
   "outputs": [
    {
     "data": {
      "text/plain": [
       "'story...'"
      ]
     },
     "execution_count": 21,
     "metadata": {},
     "output_type": "execute_result"
    }
   ],
   "source": [
    "soup.find('div').find('p').text"
   ]
  },
  {
   "cell_type": "code",
   "execution_count": 22,
   "id": "44d22235-f68b-418d-a607-0a1fa94cabe2",
   "metadata": {},
   "outputs": [
    {
     "data": {
      "text/plain": [
       "[<a class=\"sister\" data-io=\"link3\" href=\"http://example.com/tillie\" id=\"link4\">연습</a>]"
      ]
     },
     "execution_count": 22,
     "metadata": {},
     "output_type": "execute_result"
    }
   ],
   "source": [
    "soup.select('#link4')"
   ]
  },
  {
   "cell_type": "code",
   "execution_count": 23,
   "id": "00bc5e4a-5a47-4d44-8580-cc12921a28cf",
   "metadata": {},
   "outputs": [],
   "source": [
    "ex2 = ''' \n",
    "<html> \n",
    "    <head> \n",
    "        <h1> 사야할 과일 \n",
    "    </head> \n",
    "    <body> \n",
    "        <h1> 시장가서 사야할 과일 목록 \n",
    "            <div> <p id='fruits1' class='name1' title='바나나'> 바나나 \n",
    "                  <span class = 'price'> 3000원 </span> \n",
    "                  <span class = 'count'> 10개 </span> \n",
    "                  <span class = 'store'> 바나나가게 </span> \n",
    "                  <a href = 'https://www.banana.com'> banana.com </a> \n",
    "                  </p>\n",
    "            </div> \n",
    "            <div> <p id='fruits2' class='name2' title='체리'> 체리 \n",
    "                <span class = 'price'> 100원 </span> \n",
    "                <span class = 'count'> 50개 </span> \n",
    "                <span class = 'store'> 체리가게</span> \n",
    "                <a href = 'https://www.cherry.com'> cherry.com </a>\n",
    "                </p> \n",
    "            </div> \n",
    "            <div> <p id='fruits3' class='name3' title='오렌지'> 오렌지\n",
    "                <span class = 'price'> 500원 </span> \n",
    "                <span class = 'count'> 20개 </span> \n",
    "                <span class = 'store'> 오렌지가게</span> \n",
    "                <a href = 'https://www.orange.com'> orange.com </a>\n",
    "                </p> \n",
    "            <div> \n",
    "    </body> \n",
    "</html> '''"
   ]
  }
 ],
 "metadata": {
  "kernelspec": {
   "display_name": "Python 3 (ipykernel)",
   "language": "python",
   "name": "python3"
  },
  "language_info": {
   "codemirror_mode": {
    "name": "ipython",
    "version": 3
   },
   "file_extension": ".py",
   "mimetype": "text/x-python",
   "name": "python",
   "nbconvert_exporter": "python",
   "pygments_lexer": "ipython3",
   "version": "3.12.5"
  }
 },
 "nbformat": 4,
 "nbformat_minor": 5
}
