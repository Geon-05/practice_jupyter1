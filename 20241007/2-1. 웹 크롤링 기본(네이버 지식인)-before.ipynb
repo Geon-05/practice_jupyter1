{
 "cells": [
  {
   "cell_type": "markdown",
   "id": "7bd60be6",
   "metadata": {},
   "source": [
    "### 웹 크롤링\n",
    "- 웹 크롤러(Web Crawler)는 웹문서, 이미지 등을 주기적으로 수집하여 자동으로 데이터베이스화하는 프로그램\n",
    "- 크롤러가 하는 작업을 웹 크롤링(Web Carwling)이라 함\n",
    "- requests와 beautifulsoup4 패키지 사용"
   ]
  },
  {
   "attachments": {
    "image.png": {
     "image/png": "[encoded data removed]"
    }
   },
   "cell_type": "markdown",
   "id": "c47c9463",
   "metadata": {},
   "source": [
    "## 1. 웹 문서 전체 가져오기\n",
    "### 1) urllib.request 패키지\n",
    "####  1. url 문자열 변환 url 한글 인코딩 디코딩: \n",
    "- url 에 한글이 포함될 경우 오류가 나는 경우가 있다. \n",
    "-  이때 한글을 url 인코더로 바꿔서 입력해야 한다. \n",
    "\n",
    "<pre>\n",
    "   - urllib 의 quote 와 unquote 사용 \n",
    "   - quote() : 한글 -> url\n",
    "   - unquote() : url -> 한글\n",
    "</pre>\n",
    "![image.png](attachment:image.png)\n",
    "#### 2. 이미지 다운로드\n",
    ">from urllib import request <br>\n",
    ">request.urlretrieve('이미지url주소','파일명')"
   ]
  },
  {
   "cell_type": "code",
   "execution_count": 1,
   "id": "270dfa42",
   "metadata": {},
   "outputs": [
    {
     "name": "stdout",
     "output_type": "stream",
     "text": [
      "%ED%8C%8C%EC%9D%B4%EC%8D%AC\n",
      "파이썬\n"
     ]
    }
   ],
   "source": [
    "#url 한글 인코딩\n",
    "from urllib import parse\n",
    "print(parse.quote('파이썬'))\n",
    "print(parse.unquote('%ED%8C%8C%EC%9D%B4%EC%8D%AC'))"
   ]
  },
  {
   "cell_type": "code",
   "execution_count": 2,
   "id": "3cc2fa17",
   "metadata": {},
   "outputs": [],
   "source": [
    "# url open\n",
    "from urllib.request import urlopen\n",
    "from bs4 import BeautifulSoup as BS\n",
    "\n",
    "#'파이썬' 네이버 지식인\n",
    "\n",
    "html=urlopen('https://search.naver.com/search.naver?where=kin&sm=tab_jum&query=%ED%8C%8C%EC%9D%B4%EC%8D%AC') \n",
    "soup=BS(html,'html.parser')\n",
    "#print(soup)"
   ]
  },
  {
   "cell_type": "code",
   "execution_count": 3,
   "id": "e83bdc0f",
   "metadata": {},
   "outputs": [
    {
     "data": {
      "text/plain": [
       "('img01.jpg', <http.client.HTTPMessage at 0x266eeff0a40>)"
      ]
     },
     "execution_count": 3,
     "metadata": {},
     "output_type": "execute_result"
    }
   ],
   "source": [
    "# 이미지 다운로드\n",
    "from urllib import request\n",
    "request.urlretrieve('https://search.pstatic.net/common/?src=http%3A%2F%2Fblogfiles.naver.net%2FMjAyMjA3MTdfNSAg%2FMDAxNjU4MDU1NDk1MTMx.gYMOxufPdVxeftoxCjvARt0ySZWV_RTDJR27cvThAY0g.gYfUC3nvJImAhTzwHOvq18hYpwof9EQyo9-6Q6Ob9uEg.JPEG.monica32d%2F%25EA%25B0%2595%25EC%2595%2584%25EC%25A7%253F%25EB%25B6%2584%25EC%2596%2591240.jpg&type=a340','img01.jpg')"
   ]
  },
  {
   "cell_type": "code",
   "execution_count": 4,
   "id": "e696210b",
   "metadata": {},
   "outputs": [
    {
     "data": {
      "text/plain": [
       "'C:\\\\Users\\\\go121\\\\practice_jupyter\\\\py\\\\데이터분석 및 시각화\\\\05 크롤링_01'"
      ]
     },
     "execution_count": 4,
     "metadata": {},
     "output_type": "execute_result"
    }
   ],
   "source": [
    "pwd"
   ]
  },
  {
   "cell_type": "markdown",
   "id": "10b14bbf",
   "metadata": {},
   "source": [
    "### 2) requests 패키지"
   ]
  },
  {
   "cell_type": "code",
   "execution_count": 5,
   "id": "52a53a15",
   "metadata": {},
   "outputs": [],
   "source": [
    "import requests\n",
    "from bs4 import BeautifulSoup as bs\n",
    "\n",
    "#'파이썬' 네이버 지식인 검색어:'파이썬'\n",
    "\n",
    "html=requests.get('https://search.naver.com/search.naver?where=kin&sm=tab_jum&query=%ED%8C%8C%EC%9D%B4%EC%8D%AC') \n",
    "soup=BS(html.text,'html.parser')\n",
    "#print(soup))"
   ]
  },
  {
   "cell_type": "markdown",
   "id": "e65716d5",
   "metadata": {},
   "source": [
    "### 3) html 태그로 원하는 정보 추출"
   ]
  },
  {
   "cell_type": "code",
   "execution_count": 6,
   "id": "1470e758",
   "metadata": {},
   "outputs": [
    {
     "data": {
      "text/plain": [
       "[<strong class=\"elss tit\">AI로 사진 속 물체 지우기</strong>,\n",
       " <strong class=\"elss tit\">AI 검색, 아직 안 써봤다면?</strong>,\n",
       " <strong class=\"elss tit\">멤버십 회원이라면 10% 더 적립</strong>,\n",
       " <strong class=\"elss tit\">가을 바람 살랑 불어올 때</strong>]"
      ]
     },
     "execution_count": 6,
     "metadata": {},
     "output_type": "execute_result"
    }
   ],
   "source": [
    "#find_all로 찾기\n",
    "s_tags1=soup.find_all('strong','elss')\n",
    "s_tags1"
   ]
  },
  {
   "cell_type": "code",
   "execution_count": 7,
   "id": "cb3ade0a",
   "metadata": {},
   "outputs": [
    {
     "data": {
      "text/plain": [
       "[<strong class=\"elss tit\">AI로 사진 속 물체 지우기</strong>,\n",
       " <strong class=\"elss tit\">AI 검색, 아직 안 써봤다면?</strong>,\n",
       " <strong class=\"elss tit\">멤버십 회원이라면 10% 더 적립</strong>,\n",
       " <strong class=\"elss tit\">가을 바람 살랑 불어올 때</strong>]"
      ]
     },
     "execution_count": 7,
     "metadata": {},
     "output_type": "execute_result"
    }
   ],
   "source": [
    "#select로 찾기\n",
    "soup.select('strong.elss')"
   ]
  },
  {
   "cell_type": "code",
   "execution_count": 8,
   "id": "a311589b",
   "metadata": {},
   "outputs": [
    {
     "name": "stdout",
     "output_type": "stream",
     "text": [
      "AI로 사진 속 물체 지우기\n",
      "AI 검색, 아직 안 써봤다면?\n",
      "멤버십 회원이라면 10% 더 적립\n",
      "가을 바람 살랑 불어올 때\n"
     ]
    }
   ],
   "source": [
    "#텍스트만 추출\n",
    "for s in s_tags1:\n",
    "    print(s.text)"
   ]
  },
  {
   "cell_type": "markdown",
   "id": "483d2a42",
   "metadata": {},
   "source": [
    "### [미션] 파이썬 연관검색어 정보 추출"
   ]
  },
  {
   "cell_type": "code",
   "execution_count": 9,
   "id": "bc674b4d",
   "metadata": {},
   "outputs": [
    {
     "data": {
      "text/plain": [
       "[<div class=\"tit\">파이썬 자격증</div>,\n",
       " <div class=\"tit\">파이썬 독학</div>,\n",
       " <div class=\"tit\">파이썬 기초</div>,\n",
       " <div class=\"tit\">파이썬 설치</div>,\n",
       " <div class=\"tit\">점프 투 파이썬</div>,\n",
       " <div class=\"tit\">파이썬 책</div>,\n",
       " <div class=\"tit\">파이썬 게임</div>,\n",
       " <div class=\"tit\">아이패드 파이썬</div>,\n",
       " <div class=\"tit\">파이썬 코드</div>,\n",
       " <div class=\"tit\">파이썬 코딩</div>]"
      ]
     },
     "execution_count": 9,
     "metadata": {},
     "output_type": "execute_result"
    }
   ],
   "source": [
    "#find_all\n",
    "soup.find_all('div', 'tit')"
   ]
  },
  {
   "cell_type": "code",
   "execution_count": 10,
   "id": "486d33be",
   "metadata": {},
   "outputs": [],
   "source": [
    "#select\n",
    "tit_list = soup.select('div.tit')"
   ]
  },
  {
   "cell_type": "code",
   "execution_count": 11,
   "id": "5c8f0257",
   "metadata": {},
   "outputs": [
    {
     "name": "stdout",
     "output_type": "stream",
     "text": [
      "파이썬 자격증\n",
      "파이썬 독학\n",
      "파이썬 기초\n",
      "파이썬 설치\n",
      "점프 투 파이썬\n",
      "파이썬 책\n",
      "파이썬 게임\n",
      "아이패드 파이썬\n",
      "파이썬 코드\n",
      "파이썬 코딩\n"
     ]
    }
   ],
   "source": [
    "for i in tit_list:\n",
    "    print(i.text)"
   ]
  },
  {
   "cell_type": "markdown",
   "id": "21bb406a",
   "metadata": {},
   "source": [
    "### [미션] 글 제목만 추출"
   ]
  },
  {
   "cell_type": "code",
   "execution_count": 12,
   "id": "03482177",
   "metadata": {},
   "outputs": [
    {
     "data": {
      "text/plain": [
       "[<a class=\"link_question\" href=\"https://kin.naver.com/qna/detail.naver?d1id=1&amp;dirId=10402&amp;docId=474404973&amp;enc=utf8&amp;kinsrch_src=pc_tab_kin&amp;qb=7YyM7J207I2s&amp;rank=1&amp;search_sort=0&amp;section=kin.qna_ency_cafe&amp;spq=0\" onclick='return goOtherCR(this,\"a=kin*k.title&amp;r=1&amp;i=10000009_00001c46d86d_1&amp;u=\"+urlencode(urlexpand(this.href)))' target=\"_blank\"><mark>파이썬</mark> 입문 질문</a>,\n",
       " <a class=\"link_question\" href=\"https://kin.naver.com/qna/detail.naver?d1id=1&amp;dirId=10402&amp;docId=474404973&amp;enc=utf8&amp;kinsrch_src=pc_tab_kin&amp;qb=7YyM7J207I2s&amp;rank=1&amp;search_sort=0&amp;section=kin.qna_ency_cafe&amp;spq=0\" onclick='return goOtherCR(this,\"a=kin*k.question&amp;r=1&amp;i=10000009_00001c46d86d_1&amp;u=\"+urlencode(urlexpand(this.href)))' target=\"_blank\">점프 투 <mark>파이썬</mark> 사서 <mark>파이썬</mark> 하는중인데 vs코드를 안써도되나요 유튜브를 보고 설치했는데도 너무 복잡하네요 그냥 idle만 써도되나요 일단 기초만 배울 생각입니다</a>,\n",
       " <a class=\"link_question\" href=\"https://kin.naver.com/qna/detail.naver?d1id=1&amp;dirId=1040101&amp;docId=475943347&amp;enc=utf8&amp;kinsrch_src=pc_tab_kin&amp;qb=7YyM7J207I2s&amp;rank=2&amp;search_sort=0&amp;section=kin.qna_ency_cafe&amp;spq=0\" onclick='return goOtherCR(this,\"a=kin*k.title&amp;r=2&amp;i=10000009_00001c5e51b3_1&amp;u=\"+urlencode(urlexpand(this.href)))' target=\"_blank\"><mark>파이썬</mark> c언어</a>,\n",
       " <a class=\"link_question\" href=\"https://kin.naver.com/qna/detail.naver?d1id=1&amp;dirId=1040101&amp;docId=475943347&amp;enc=utf8&amp;kinsrch_src=pc_tab_kin&amp;qb=7YyM7J207I2s&amp;rank=2&amp;search_sort=0&amp;section=kin.qna_ency_cafe&amp;spq=0\" onclick='return goOtherCR(this,\"a=kin*k.question&amp;r=2&amp;i=10000009_00001c5e51b3_1&amp;u=\"+urlencode(urlexpand(this.href)))' target=\"_blank\">C언어는 처음에 stdio.h처럼 라이브러리라고 하나요? 이걸 불러 오잖아요 근데 <mark>파이썬</mark>은 그런 게 없잖아요 왜 그런가요? 그리고 stdio.h 이런 걸 뭐라고 하나요?</a>,\n",
       " <a class=\"link_question\" href=\"https://kin.naver.com/qna/detail.naver?d1id=1&amp;dirId=104&amp;docId=474634231&amp;enc=utf8&amp;kinsrch_src=pc_tab_kin&amp;qb=7YyM7J207I2s&amp;rank=3&amp;search_sort=0&amp;section=kin.qna_ency_cafe&amp;spq=0\" onclick='return goOtherCR(this,\"a=kin*k.title&amp;r=3&amp;i=10000009_00001c4a57f7_1&amp;u=\"+urlencode(urlexpand(this.href)))' target=\"_blank\">vscode <mark>파이썬</mark></a>,\n",
       " <a class=\"link_question\" href=\"https://kin.naver.com/qna/detail.naver?d1id=1&amp;dirId=104&amp;docId=474634231&amp;enc=utf8&amp;kinsrch_src=pc_tab_kin&amp;qb=7YyM7J207I2s&amp;rank=3&amp;search_sort=0&amp;section=kin.qna_ency_cafe&amp;spq=0\" onclick='return goOtherCR(this,\"a=kin*k.question&amp;r=3&amp;i=10000009_00001c4a57f7_1&amp;u=\"+urlencode(urlexpand(this.href)))' target=\"_blank\">크롬에서 <mark>파이썬</mark> 검색후 설치할때 항목 2개 있는거 아래거만 체크해서 설치했습니다. 이후 vscode를 깔고 확장프로그램 한국어랑 <mark>파이썬</mark> 설치한 후에 새로운 폴더, 파일 만들어서 커널환경 <mark>파이썬</mark>으로 바꿔서 시작하려고 했는데 <mark>파이썬</mark>이 설치가 안되어있다고 뜨고...</a>,\n",
       " <a class=\"link_question\" href=\"https://kin.naver.com/qna/detail.naver?d1id=11&amp;dirId=1118&amp;docId=473597949&amp;enc=utf8&amp;kinsrch_src=pc_tab_kin&amp;qb=7YyM7J207I2s&amp;rank=4&amp;search_sort=0&amp;section=kin.qna_ency_cafe&amp;spq=0\" onclick='return goOtherCR(this,\"a=kin*k.title&amp;r=4&amp;i=10000009_00001c3a87fd_1&amp;u=\"+urlencode(urlexpand(this.href)))' target=\"_blank\"><mark>파이썬</mark>엑셀자동화질문</a>,\n",
       " <a class=\"link_question\" href=\"https://kin.naver.com/qna/detail.naver?d1id=11&amp;dirId=1118&amp;docId=473597949&amp;enc=utf8&amp;kinsrch_src=pc_tab_kin&amp;qb=7YyM7J207I2s&amp;rank=4&amp;search_sort=0&amp;section=kin.qna_ency_cafe&amp;spq=0\" onclick='return goOtherCR(this,\"a=kin*k.question&amp;r=4&amp;i=10000009_00001c3a87fd_1&amp;u=\"+urlencode(urlexpand(this.href)))' target=\"_blank\"><mark>파이썬</mark> 엑셀 자동화 시작하려고하는데요 그냥 쌩초보예요 openpyxl부터 설치하라는 글 봐서 <mark>파이썬</mark> 프로그램에 설치하려고하는데 왜 설치가 안될가요?...</a>,\n",
       " <a class=\"link_question\" href=\"https://kin.naver.com/qna/detail.naver?d1id=1&amp;dirId=10406&amp;docId=470741052&amp;enc=utf8&amp;kinsrch_src=pc_tab_kin&amp;qb=7YyM7J207I2s&amp;rank=5&amp;search_sort=0&amp;section=kin.qna_ency_cafe&amp;spq=0\" onclick='return goOtherCR(this,\"a=kin*k.title&amp;r=5&amp;i=10000009_00001c0ef03c_1&amp;u=\"+urlencode(urlexpand(this.href)))' target=\"_blank\"><mark>파이썬</mark>독학할 때 어떻게 공부를 해야하나요</a>,\n",
       " <a class=\"link_question\" href=\"https://kin.naver.com/qna/detail.naver?d1id=1&amp;dirId=10406&amp;docId=470741052&amp;enc=utf8&amp;kinsrch_src=pc_tab_kin&amp;qb=7YyM7J207I2s&amp;rank=5&amp;search_sort=0&amp;section=kin.qna_ency_cafe&amp;spq=0\" onclick='return goOtherCR(this,\"a=kin*k.question&amp;r=5&amp;i=10000009_00001c0ef03c_1&amp;u=\"+urlencode(urlexpand(this.href)))' target=\"_blank\"><mark>파이썬</mark>독학으로 공부하려고 합니다 <mark>파이썬</mark>이 다른 언어에 비해 쉽다고는 하는데 저처럼 비전공자에 코딩 공부를 처음하는데 <mark>파이썬</mark>독학으로 시작하려면 어떻게 공부를 하면 좋을까요? <mark>파이썬</mark>독학 해보신분들 있으시면 자세하게 알려주시면 감사하겠습니다</a>,\n",
       " <a class=\"link_question\" href=\"https://kin.naver.com/qna/detail.naver?d1id=10&amp;dirId=100507&amp;docId=474364540&amp;enc=utf8&amp;kinsrch_src=pc_tab_kin&amp;qb=7YyM7J207I2s&amp;rank=6&amp;search_sort=0&amp;section=kin.qna_ency_cafe&amp;spq=0\" onclick='return goOtherCR(this,\"a=kin*k.title&amp;r=6&amp;i=10000009_00001c463a7c_1&amp;u=\"+urlencode(urlexpand(this.href)))' target=\"_blank\"><mark>파이썬</mark> 자동차 만들기</a>,\n",
       " <a class=\"link_question\" href=\"https://kin.naver.com/qna/detail.naver?d1id=10&amp;dirId=100507&amp;docId=474364540&amp;enc=utf8&amp;kinsrch_src=pc_tab_kin&amp;qb=7YyM7J207I2s&amp;rank=6&amp;search_sort=0&amp;section=kin.qna_ency_cafe&amp;spq=0\" onclick='return goOtherCR(this,\"a=kin*k.question&amp;r=6&amp;i=10000009_00001c463a7c_1&amp;u=\"+urlencode(urlexpand(this.href)))' target=\"_blank\"><mark>파이썬</mark> 찍먹만 해본 고1입니다 <mark>파이썬</mark>으로 자동차를 만들어볼려고 하는데 정말 아무것도 모르고 어떤 하드웨어를 써야 할지 모르겠슺니다. 정말 기초적으로 할수닜는거 알려주세뇨</a>,\n",
       " <a class=\"link_question\" href=\"https://kin.naver.com/qna/detail.naver?d1id=1&amp;dirId=10402&amp;docId=475673221&amp;enc=utf8&amp;kinsrch_src=pc_tab_kin&amp;qb=7YyM7J207I2s&amp;rank=7&amp;search_sort=0&amp;section=kin.qna_ency_cafe&amp;spq=0\" onclick='return goOtherCR(this,\"a=kin*k.title&amp;r=7&amp;i=10000009_00001c5a3285_1&amp;u=\"+urlencode(urlexpand(this.href)))' target=\"_blank\"><mark>파이썬</mark> 코딩 질문드립니다ㅠㅠ</a>,\n",
       " <a class=\"link_question\" href=\"https://kin.naver.com/qna/detail.naver?d1id=1&amp;dirId=10402&amp;docId=475673221&amp;enc=utf8&amp;kinsrch_src=pc_tab_kin&amp;qb=7YyM7J207I2s&amp;rank=7&amp;search_sort=0&amp;section=kin.qna_ency_cafe&amp;spq=0\" onclick='return goOtherCR(this,\"a=kin*k.question&amp;r=7&amp;i=10000009_00001c5a3285_1&amp;u=\"+urlencode(urlexpand(this.href)))' target=\"_blank\">안녕하세요 대학교 과제로 <mark>파이썬</mark> 코딩 과제를 해야하는데 강의를 봐도 도저히 모르겠어서 도움 요청드립니다.ㅠㅠ 코드를 어떻게 짜야 할까요? 부탁드립니다.</a>,\n",
       " <a class=\"link_question\" href=\"https://kin.naver.com/qna/detail.naver?d1id=1&amp;dirId=10402&amp;docId=473344003&amp;enc=utf8&amp;kinsrch_src=pc_tab_kin&amp;qb=7YyM7J207I2s&amp;rank=8&amp;search_sort=0&amp;section=kin.qna_ency_cafe&amp;spq=0\" onclick='return goOtherCR(this,\"a=kin*k.title&amp;r=8&amp;i=10000009_00001c36a803_2&amp;u=\"+urlencode(urlexpand(this.href)))' target=\"_blank\"><mark>파이썬</mark> 질문</a>,\n",
       " <a class=\"link_question\" href=\"https://kin.naver.com/qna/detail.naver?d1id=1&amp;dirId=10402&amp;docId=473344003&amp;enc=utf8&amp;kinsrch_src=pc_tab_kin&amp;qb=7YyM7J207I2s&amp;rank=8&amp;search_sort=0&amp;section=kin.qna_ency_cafe&amp;spq=0\" onclick='return goOtherCR(this,\"a=kin*k.question&amp;r=8&amp;i=10000009_00001c36a803_2&amp;u=\"+urlencode(urlexpand(this.href)))' target=\"_blank\"><mark>파이썬</mark> 완전 초보라 잘 몰라서 질문해봅니당 만약 제가 <mark>파이썬</mark>으로 어떤 프로그램을 만들고 그걸 저장해서 다른 사람한테 보낸다면 그 사람 컴퓨터에 <mark>파이썬</mark>이 없어도 제가 보낸 파일을 실행할 수 있나요?</a>,\n",
       " <a class=\"link_question\" href=\"https://kin.naver.com/qna/detail.naver?d1id=1&amp;dirId=10402&amp;docId=474312215&amp;enc=utf8&amp;kinsrch_src=pc_tab_kin&amp;qb=7YyM7J207I2s&amp;rank=9&amp;search_sort=0&amp;section=kin.qna_ency_cafe&amp;spq=0\" onclick='return goOtherCR(this,\"a=kin*k.title&amp;r=9&amp;i=10000009_00001c456e17_1&amp;u=\"+urlencode(urlexpand(this.href)))' target=\"_blank\"><mark>파이썬</mark>관련 질문</a>,\n",
       " <a class=\"link_question\" href=\"https://kin.naver.com/qna/detail.naver?d1id=1&amp;dirId=10402&amp;docId=474312215&amp;enc=utf8&amp;kinsrch_src=pc_tab_kin&amp;qb=7YyM7J207I2s&amp;rank=9&amp;search_sort=0&amp;section=kin.qna_ency_cafe&amp;spq=0\" onclick='return goOtherCR(this,\"a=kin*k.question&amp;r=9&amp;i=10000009_00001c456e17_1&amp;u=\"+urlencode(urlexpand(this.href)))' target=\"_blank\">반도체관련 공대를 다니고 있는 학생입니다 내년에 3학년을 올라가기 전 <mark>파이썬</mark>과 엑셀을 공부하려고 하는데요 2학년때 이런 프로그램을 이용한 과목을 따라잡기가 너무 힘들더라구요 대학생에게 필요한 <mark>파이썬</mark>, 엑셀 관련 자격증이나 이 외에도 중요한 자격증, 공부가 있다면 무엇이 있을까요?? ㅠ</a>,\n",
       " <a class=\"link_question\" href=\"https://kin.naver.com/qna/detail.naver?d1id=4&amp;dirId=406&amp;docId=475598534&amp;enc=utf8&amp;kinsrch_src=pc_tab_kin&amp;qb=7YyM7J207I2s&amp;rank=10&amp;search_sort=0&amp;section=kin.qna_ency_cafe&amp;spq=0\" onclick='return goOtherCR(this,\"a=kin*k.title&amp;r=10&amp;i=10000009_00001c590ec6_1&amp;u=\"+urlencode(urlexpand(this.href)))' target=\"_blank\">공기업 사무직도 <mark>파이썬</mark>을 배우면 업무를 함에 유용한가요</a>,\n",
       " <a class=\"link_question\" href=\"https://kin.naver.com/qna/detail.naver?d1id=4&amp;dirId=406&amp;docId=475598534&amp;enc=utf8&amp;kinsrch_src=pc_tab_kin&amp;qb=7YyM7J207I2s&amp;rank=10&amp;search_sort=0&amp;section=kin.qna_ency_cafe&amp;spq=0\" onclick='return goOtherCR(this,\"a=kin*k.question&amp;r=10&amp;i=10000009_00001c590ec6_1&amp;u=\"+urlencode(urlexpand(this.href)))' target=\"_blank\">‘<mark>파이썬</mark> 업무자동화’를 검색하다가 람입니다님의 답변을 보고 제 고민을 해결하는데 도움을 주실 수 있는... 3개 강의는 <mark>파이썬</mark> 강의, chat gpt강의, 구글 스프레드시트강의입니다. 제가 생각하는 강의 조합은 <mark>파이썬</mark> + chat gpt 혹은 <mark>파이썬</mark> + 구글 스프레드시트 입니다. 두 강의조합 중...</a>]"
      ]
     },
     "execution_count": 12,
     "metadata": {},
     "output_type": "execute_result"
    }
   ],
   "source": [
    "#find_all \n",
    "soup.select('div.api_subject_bx a.link_question')"
   ]
  },
  {
   "cell_type": "code",
   "execution_count": 30,
   "id": "e5fd2849",
   "metadata": {},
   "outputs": [
    {
     "data": {
      "text/plain": [
       "['파이썬 입문 질문',\n",
       " '파이썬 c언어',\n",
       " 'vscode 파이썬',\n",
       " '파이썬엑셀자동화질문',\n",
       " '파이썬독학할 때 어떻게 공부를 해야하나요',\n",
       " '파이썬 자동차 만들기',\n",
       " '파이썬 코딩 질문드립니다ㅠㅠ',\n",
       " '파이썬 질문',\n",
       " '파이썬관련 질문',\n",
       " '공기업 사무직도 파이썬을 배우면 업무를 함에 유용한가요']"
      ]
     },
     "execution_count": 30,
     "metadata": {},
     "output_type": "execute_result"
    }
   ],
   "source": [
    "title_contant = [i.text for i in soup.select('div.api_subject_bx a.link_question')]\n",
    "title_contant[::2]"
   ]
  },
  {
   "cell_type": "code",
   "execution_count": 13,
   "id": "8d2f8532",
   "metadata": {},
   "outputs": [],
   "source": [
    "#select\n"
   ]
  },
  {
   "cell_type": "code",
   "execution_count": null,
   "id": "18c2af3b",
   "metadata": {},
   "outputs": [],
   "source": []
  },
  {
   "cell_type": "markdown",
   "id": "6a234dbd",
   "metadata": {},
   "source": [
    "### [미션] '글제목'과 '하이퍼링크주소'를 추출하여 데이터프레임 형태로 저장하세요.\n"
   ]
  },
  {
   "cell_type": "code",
   "execution_count": 14,
   "id": "a5bb12e3",
   "metadata": {},
   "outputs": [],
   "source": [
    "import pandas as pd"
   ]
  },
  {
   "cell_type": "code",
   "execution_count": 34,
   "id": "ed1927f3",
   "metadata": {},
   "outputs": [
    {
     "data": {
      "text/plain": [
       "['https://kin.naver.com/qna/detail.naver?d1id=1&dirId=10402&docId=474404973&enc=utf8&kinsrch_src=pc_tab_kin&qb=7YyM7J207I2s&rank=1&search_sort=0&section=kin.qna_ency_cafe&spq=0',\n",
       " 'https://kin.naver.com/qna/detail.naver?d1id=1&dirId=1040101&docId=475943347&enc=utf8&kinsrch_src=pc_tab_kin&qb=7YyM7J207I2s&rank=2&search_sort=0&section=kin.qna_ency_cafe&spq=0',\n",
       " 'https://kin.naver.com/qna/detail.naver?d1id=1&dirId=104&docId=474634231&enc=utf8&kinsrch_src=pc_tab_kin&qb=7YyM7J207I2s&rank=3&search_sort=0&section=kin.qna_ency_cafe&spq=0',\n",
       " 'https://kin.naver.com/qna/detail.naver?d1id=11&dirId=1118&docId=473597949&enc=utf8&kinsrch_src=pc_tab_kin&qb=7YyM7J207I2s&rank=4&search_sort=0&section=kin.qna_ency_cafe&spq=0',\n",
       " 'https://kin.naver.com/qna/detail.naver?d1id=1&dirId=10406&docId=470741052&enc=utf8&kinsrch_src=pc_tab_kin&qb=7YyM7J207I2s&rank=5&search_sort=0&section=kin.qna_ency_cafe&spq=0',\n",
       " 'https://kin.naver.com/qna/detail.naver?d1id=10&dirId=100507&docId=474364540&enc=utf8&kinsrch_src=pc_tab_kin&qb=7YyM7J207I2s&rank=6&search_sort=0&section=kin.qna_ency_cafe&spq=0',\n",
       " 'https://kin.naver.com/qna/detail.naver?d1id=1&dirId=10402&docId=475673221&enc=utf8&kinsrch_src=pc_tab_kin&qb=7YyM7J207I2s&rank=7&search_sort=0&section=kin.qna_ency_cafe&spq=0',\n",
       " 'https://kin.naver.com/qna/detail.naver?d1id=1&dirId=10402&docId=473344003&enc=utf8&kinsrch_src=pc_tab_kin&qb=7YyM7J207I2s&rank=8&search_sort=0&section=kin.qna_ency_cafe&spq=0',\n",
       " 'https://kin.naver.com/qna/detail.naver?d1id=1&dirId=10402&docId=474312215&enc=utf8&kinsrch_src=pc_tab_kin&qb=7YyM7J207I2s&rank=9&search_sort=0&section=kin.qna_ency_cafe&spq=0',\n",
       " 'https://kin.naver.com/qna/detail.naver?d1id=4&dirId=406&docId=475598534&enc=utf8&kinsrch_src=pc_tab_kin&qb=7YyM7J207I2s&rank=10&search_sort=0&section=kin.qna_ency_cafe&spq=0']"
      ]
     },
     "execution_count": 34,
     "metadata": {},
     "output_type": "execute_result"
    }
   ],
   "source": [
    "#find_all \n",
    "title_link = [i['href'] for i in soup.select('div.api_subject_bx a.link_question')]\n",
    "title_link[::2]"
   ]
  },
  {
   "cell_type": "code",
   "execution_count": 36,
   "id": "e4a94747",
   "metadata": {},
   "outputs": [
    {
     "data": {
      "text/html": [
       "<div>\n",
       "<style scoped>\n",
       "    .dataframe tbody tr th:only-of-type {\n",
       "        vertical-align: middle;\n",
       "    }\n",
       "\n",
       "    .dataframe tbody tr th {\n",
       "        vertical-align: top;\n",
       "    }\n",
       "\n",
       "    .dataframe thead th {\n",
       "        text-align: right;\n",
       "    }\n",
       "</style>\n",
       "<table border=\"1\" class=\"dataframe\">\n",
       "  <thead>\n",
       "    <tr style=\"text-align: right;\">\n",
       "      <th></th>\n",
       "      <th>제목</th>\n",
       "      <th>링크</th>\n",
       "    </tr>\n",
       "  </thead>\n",
       "  <tbody>\n",
       "    <tr>\n",
       "      <th>0</th>\n",
       "      <td>파이썬 입문 질문</td>\n",
       "      <td>https://kin.naver.com/qna/detail.naver?d1id=1&amp;...</td>\n",
       "    </tr>\n",
       "    <tr>\n",
       "      <th>1</th>\n",
       "      <td>파이썬 c언어</td>\n",
       "      <td>https://kin.naver.com/qna/detail.naver?d1id=1&amp;...</td>\n",
       "    </tr>\n",
       "    <tr>\n",
       "      <th>2</th>\n",
       "      <td>vscode 파이썬</td>\n",
       "      <td>https://kin.naver.com/qna/detail.naver?d1id=1&amp;...</td>\n",
       "    </tr>\n",
       "    <tr>\n",
       "      <th>3</th>\n",
       "      <td>파이썬엑셀자동화질문</td>\n",
       "      <td>https://kin.naver.com/qna/detail.naver?d1id=11...</td>\n",
       "    </tr>\n",
       "    <tr>\n",
       "      <th>4</th>\n",
       "      <td>파이썬독학할 때 어떻게 공부를 해야하나요</td>\n",
       "      <td>https://kin.naver.com/qna/detail.naver?d1id=1&amp;...</td>\n",
       "    </tr>\n",
       "    <tr>\n",
       "      <th>5</th>\n",
       "      <td>파이썬 자동차 만들기</td>\n",
       "      <td>https://kin.naver.com/qna/detail.naver?d1id=10...</td>\n",
       "    </tr>\n",
       "    <tr>\n",
       "      <th>6</th>\n",
       "      <td>파이썬 코딩 질문드립니다ㅠㅠ</td>\n",
       "      <td>https://kin.naver.com/qna/detail.naver?d1id=1&amp;...</td>\n",
       "    </tr>\n",
       "    <tr>\n",
       "      <th>7</th>\n",
       "      <td>파이썬 질문</td>\n",
       "      <td>https://kin.naver.com/qna/detail.naver?d1id=1&amp;...</td>\n",
       "    </tr>\n",
       "    <tr>\n",
       "      <th>8</th>\n",
       "      <td>파이썬관련 질문</td>\n",
       "      <td>https://kin.naver.com/qna/detail.naver?d1id=1&amp;...</td>\n",
       "    </tr>\n",
       "    <tr>\n",
       "      <th>9</th>\n",
       "      <td>공기업 사무직도 파이썬을 배우면 업무를 함에 유용한가요</td>\n",
       "      <td>https://kin.naver.com/qna/detail.naver?d1id=4&amp;...</td>\n",
       "    </tr>\n",
       "  </tbody>\n",
       "</table>\n",
       "</div>"
      ],
      "text/plain": [
       "                               제목  \\\n",
       "0                       파이썬 입문 질문   \n",
       "1                         파이썬 c언어   \n",
       "2                      vscode 파이썬   \n",
       "3                      파이썬엑셀자동화질문   \n",
       "4          파이썬독학할 때 어떻게 공부를 해야하나요   \n",
       "5                     파이썬 자동차 만들기   \n",
       "6                 파이썬 코딩 질문드립니다ㅠㅠ   \n",
       "7                          파이썬 질문   \n",
       "8                        파이썬관련 질문   \n",
       "9  공기업 사무직도 파이썬을 배우면 업무를 함에 유용한가요   \n",
       "\n",
       "                                                  링크  \n",
       "0  https://kin.naver.com/qna/detail.naver?d1id=1&...  \n",
       "1  https://kin.naver.com/qna/detail.naver?d1id=1&...  \n",
       "2  https://kin.naver.com/qna/detail.naver?d1id=1&...  \n",
       "3  https://kin.naver.com/qna/detail.naver?d1id=11...  \n",
       "4  https://kin.naver.com/qna/detail.naver?d1id=1&...  \n",
       "5  https://kin.naver.com/qna/detail.naver?d1id=10...  \n",
       "6  https://kin.naver.com/qna/detail.naver?d1id=1&...  \n",
       "7  https://kin.naver.com/qna/detail.naver?d1id=1&...  \n",
       "8  https://kin.naver.com/qna/detail.naver?d1id=1&...  \n",
       "9  https://kin.naver.com/qna/detail.naver?d1id=4&...  "
      ]
     },
     "execution_count": 36,
     "metadata": {},
     "output_type": "execute_result"
    }
   ],
   "source": [
    "res = []\n",
    "for i in range(len(title_contant[::2])):\n",
    "    tmp = {}\n",
    "    tmp['제목'] = title_contant[::2][i]\n",
    "    tmp['링크'] = title_link[::2][i]\n",
    "    res.append(tmp)\n",
    "pd.DataFrame(res)"
   ]
  },
  {
   "cell_type": "markdown",
   "id": "15ecb9cb",
   "metadata": {},
   "source": [
    "### [미션] '글제목, 작성자, 요약글, 작성일, href' 을 테이블형태로 수집"
   ]
  },
  {
   "cell_type": "code",
   "execution_count": 41,
   "id": "18070bc5",
   "metadata": {},
   "outputs": [
    {
     "data": {
      "text/plain": [
       "['김현균',\n",
       " '마니',\n",
       " '엑플하나하나',\n",
       " '해온',\n",
       " 'jas0****',\n",
       " '오렌지팜',\n",
       " 'D3fau1t',\n",
       " '푸른하늘',\n",
       " '아인슈페너',\n",
       " '람입니다']"
      ]
     },
     "execution_count": 41,
     "metadata": {},
     "output_type": "execute_result"
    }
   ],
   "source": [
    "작성자 = [i.text for i in soup.select('span.name')]\n",
    "작성자"
   ]
  },
  {
   "cell_type": "code",
   "execution_count": 43,
   "id": "4bb77ece",
   "metadata": {},
   "outputs": [
    {
     "data": {
      "text/plain": [
       "['점프 투 파이썬 사서 파이썬 하는중인데 vs코드를 안써도되나요 유튜브를 보고 설치했는데도 너무 복잡하네요 그냥 idle만 써도되나요 일단 기초만 배울 생각입니다',\n",
       " 'C언어는 처음에 stdio.h처럼 라이브러리라고 하나요? 이걸 불러 오잖아요 근데 파이썬은 그런 게 없잖아요 왜 그런가요? 그리고 stdio.h 이런 걸 뭐라고 하나요?',\n",
       " '크롬에서 파이썬 검색후 설치할때 항목 2개 있는거 아래거만 체크해서 설치했습니다. 이후 vscode를 깔고 확장프로그램 한국어랑 파이썬 설치한 후에 새로운 폴더, 파일 만들어서 커널환경 파이썬으로 바꿔서 시작하려고 했는데 파이썬이 설치가 안되어있다고 뜨고...',\n",
       " '파이썬 엑셀 자동화 시작하려고하는데요 그냥 쌩초보예요 openpyxl부터 설치하라는 글 봐서 파이썬 프로그램에 설치하려고하는데 왜 설치가 안될가요?...',\n",
       " '파이썬독학으로 공부하려고 합니다 파이썬이 다른 언어에 비해 쉽다고는 하는데 저처럼 비전공자에 코딩 공부를 처음하는데 파이썬독학으로 시작하려면 어떻게 공부를 하면 좋을까요? 파이썬독학 해보신분들 있으시면 자세하게 알려주시면 감사하겠습니다',\n",
       " '파이썬 찍먹만 해본 고1입니다 파이썬으로 자동차를 만들어볼려고 하는데 정말 아무것도 모르고 어떤 하드웨어를 써야 할지 모르겠슺니다. 정말 기초적으로 할수닜는거 알려주세뇨',\n",
       " '안녕하세요 대학교 과제로 파이썬 코딩 과제를 해야하는데 강의를 봐도 도저히 모르겠어서 도움 요청드립니다.ㅠㅠ 코드를 어떻게 짜야 할까요? 부탁드립니다.',\n",
       " '파이썬 완전 초보라 잘 몰라서 질문해봅니당 만약 제가 파이썬으로 어떤 프로그램을 만들고 그걸 저장해서 다른 사람한테 보낸다면 그 사람 컴퓨터에 파이썬이 없어도 제가 보낸 파일을 실행할 수 있나요?',\n",
       " '반도체관련 공대를 다니고 있는 학생입니다 내년에 3학년을 올라가기 전 파이썬과 엑셀을 공부하려고 하는데요 2학년때 이런 프로그램을 이용한 과목을 따라잡기가 너무 힘들더라구요 대학생에게 필요한 파이썬, 엑셀 관련 자격증이나 이 외에도 중요한 자격증, 공부가 있다면 무엇이 있을까요?? ㅠ',\n",
       " '‘파이썬 업무자동화’를 검색하다가 람입니다님의 답변을 보고 제 고민을 해결하는데 도움을 주실 수 있는... 3개 강의는 파이썬 강의, chat gpt강의, 구글 스프레드시트강의입니다. 제가 생각하는 강의 조합은 파이썬 + chat gpt 혹은 파이썬 + 구글 스프레드시트 입니다. 두 강의조합 중...']"
      ]
     },
     "execution_count": 43,
     "metadata": {},
     "output_type": "execute_result"
    }
   ],
   "source": [
    "요약글 = [i.text for i in soup.select('div.api_subject_bx a.link_question')]\n",
    "요약글[1::2]"
   ]
  },
  {
   "cell_type": "code",
   "execution_count": 42,
   "id": "11d2fb55",
   "metadata": {},
   "outputs": [
    {
     "data": {
      "text/plain": [
       "['2024.08.24.',\n",
       " '1주 전',\n",
       " '2024.08.29.',\n",
       " '2024.08.14.',\n",
       " '3주 전',\n",
       " '2024.08.23.',\n",
       " '2주 전',\n",
       " '2024.08.02.',\n",
       " '2024.08.22.',\n",
       " '2주 전']"
      ]
     },
     "execution_count": 42,
     "metadata": {},
     "output_type": "execute_result"
    }
   ],
   "source": [
    "작성일 = [i.text for i in soup.select('span.etc.date')]\n",
    "작성일"
   ]
  },
  {
   "cell_type": "code",
   "execution_count": 44,
   "id": "32bca4e5",
   "metadata": {},
   "outputs": [
    {
     "data": {
      "text/html": [
       "<div>\n",
       "<style scoped>\n",
       "    .dataframe tbody tr th:only-of-type {\n",
       "        vertical-align: middle;\n",
       "    }\n",
       "\n",
       "    .dataframe tbody tr th {\n",
       "        vertical-align: top;\n",
       "    }\n",
       "\n",
       "    .dataframe thead th {\n",
       "        text-align: right;\n",
       "    }\n",
       "</style>\n",
       "<table border=\"1\" class=\"dataframe\">\n",
       "  <thead>\n",
       "    <tr style=\"text-align: right;\">\n",
       "      <th></th>\n",
       "      <th>글제목</th>\n",
       "      <th>작성자</th>\n",
       "      <th>요약글</th>\n",
       "      <th>작성일</th>\n",
       "      <th>href</th>\n",
       "    </tr>\n",
       "  </thead>\n",
       "  <tbody>\n",
       "    <tr>\n",
       "      <th>0</th>\n",
       "      <td>파이썬 입문 질문</td>\n",
       "      <td>김현균</td>\n",
       "      <td>점프 투 파이썬 사서 파이썬 하는중인데 vs코드를 안써도되나요 유튜브를 보고 설치했...</td>\n",
       "      <td>2024.08.24.</td>\n",
       "      <td>https://kin.naver.com/qna/detail.naver?d1id=1&amp;...</td>\n",
       "    </tr>\n",
       "    <tr>\n",
       "      <th>1</th>\n",
       "      <td>파이썬 c언어</td>\n",
       "      <td>마니</td>\n",
       "      <td>C언어는 처음에 stdio.h처럼 라이브러리라고 하나요? 이걸 불러 오잖아요 근데 ...</td>\n",
       "      <td>1주 전</td>\n",
       "      <td>https://kin.naver.com/qna/detail.naver?d1id=1&amp;...</td>\n",
       "    </tr>\n",
       "    <tr>\n",
       "      <th>2</th>\n",
       "      <td>vscode 파이썬</td>\n",
       "      <td>엑플하나하나</td>\n",
       "      <td>크롬에서 파이썬 검색후 설치할때 항목 2개 있는거 아래거만 체크해서 설치했습니다. ...</td>\n",
       "      <td>2024.08.29.</td>\n",
       "      <td>https://kin.naver.com/qna/detail.naver?d1id=1&amp;...</td>\n",
       "    </tr>\n",
       "    <tr>\n",
       "      <th>3</th>\n",
       "      <td>파이썬엑셀자동화질문</td>\n",
       "      <td>해온</td>\n",
       "      <td>파이썬 엑셀 자동화 시작하려고하는데요 그냥 쌩초보예요 openpyxl부터 설치하라는...</td>\n",
       "      <td>2024.08.14.</td>\n",
       "      <td>https://kin.naver.com/qna/detail.naver?d1id=11...</td>\n",
       "    </tr>\n",
       "    <tr>\n",
       "      <th>4</th>\n",
       "      <td>파이썬독학할 때 어떻게 공부를 해야하나요</td>\n",
       "      <td>jas0****</td>\n",
       "      <td>파이썬독학으로 공부하려고 합니다 파이썬이 다른 언어에 비해 쉽다고는 하는데 저처럼 ...</td>\n",
       "      <td>3주 전</td>\n",
       "      <td>https://kin.naver.com/qna/detail.naver?d1id=1&amp;...</td>\n",
       "    </tr>\n",
       "    <tr>\n",
       "      <th>5</th>\n",
       "      <td>파이썬 자동차 만들기</td>\n",
       "      <td>오렌지팜</td>\n",
       "      <td>파이썬 찍먹만 해본 고1입니다 파이썬으로 자동차를 만들어볼려고 하는데 정말 아무것도...</td>\n",
       "      <td>2024.08.23.</td>\n",
       "      <td>https://kin.naver.com/qna/detail.naver?d1id=10...</td>\n",
       "    </tr>\n",
       "    <tr>\n",
       "      <th>6</th>\n",
       "      <td>파이썬 코딩 질문드립니다ㅠㅠ</td>\n",
       "      <td>D3fau1t</td>\n",
       "      <td>안녕하세요 대학교 과제로 파이썬 코딩 과제를 해야하는데 강의를 봐도 도저히 모르겠어...</td>\n",
       "      <td>2주 전</td>\n",
       "      <td>https://kin.naver.com/qna/detail.naver?d1id=1&amp;...</td>\n",
       "    </tr>\n",
       "    <tr>\n",
       "      <th>7</th>\n",
       "      <td>파이썬 질문</td>\n",
       "      <td>푸른하늘</td>\n",
       "      <td>파이썬 완전 초보라 잘 몰라서 질문해봅니당 만약 제가 파이썬으로 어떤 프로그램을 만...</td>\n",
       "      <td>2024.08.02.</td>\n",
       "      <td>https://kin.naver.com/qna/detail.naver?d1id=1&amp;...</td>\n",
       "    </tr>\n",
       "    <tr>\n",
       "      <th>8</th>\n",
       "      <td>파이썬관련 질문</td>\n",
       "      <td>아인슈페너</td>\n",
       "      <td>반도체관련 공대를 다니고 있는 학생입니다 내년에 3학년을 올라가기 전 파이썬과 엑셀...</td>\n",
       "      <td>2024.08.22.</td>\n",
       "      <td>https://kin.naver.com/qna/detail.naver?d1id=1&amp;...</td>\n",
       "    </tr>\n",
       "    <tr>\n",
       "      <th>9</th>\n",
       "      <td>공기업 사무직도 파이썬을 배우면 업무를 함에 유용한가요</td>\n",
       "      <td>람입니다</td>\n",
       "      <td>‘파이썬 업무자동화’를 검색하다가 람입니다님의 답변을 보고 제 고민을 해결하는데 도...</td>\n",
       "      <td>2주 전</td>\n",
       "      <td>https://kin.naver.com/qna/detail.naver?d1id=4&amp;...</td>\n",
       "    </tr>\n",
       "  </tbody>\n",
       "</table>\n",
       "</div>"
      ],
      "text/plain": [
       "                              글제목       작성자  \\\n",
       "0                       파이썬 입문 질문       김현균   \n",
       "1                         파이썬 c언어        마니   \n",
       "2                      vscode 파이썬    엑플하나하나   \n",
       "3                      파이썬엑셀자동화질문        해온   \n",
       "4          파이썬독학할 때 어떻게 공부를 해야하나요  jas0****   \n",
       "5                     파이썬 자동차 만들기      오렌지팜   \n",
       "6                 파이썬 코딩 질문드립니다ㅠㅠ   D3fau1t   \n",
       "7                          파이썬 질문      푸른하늘   \n",
       "8                        파이썬관련 질문     아인슈페너   \n",
       "9  공기업 사무직도 파이썬을 배우면 업무를 함에 유용한가요      람입니다   \n",
       "\n",
       "                                                 요약글          작성일  \\\n",
       "0  점프 투 파이썬 사서 파이썬 하는중인데 vs코드를 안써도되나요 유튜브를 보고 설치했...  2024.08.24.   \n",
       "1  C언어는 처음에 stdio.h처럼 라이브러리라고 하나요? 이걸 불러 오잖아요 근데 ...         1주 전   \n",
       "2  크롬에서 파이썬 검색후 설치할때 항목 2개 있는거 아래거만 체크해서 설치했습니다. ...  2024.08.29.   \n",
       "3  파이썬 엑셀 자동화 시작하려고하는데요 그냥 쌩초보예요 openpyxl부터 설치하라는...  2024.08.14.   \n",
       "4  파이썬독학으로 공부하려고 합니다 파이썬이 다른 언어에 비해 쉽다고는 하는데 저처럼 ...         3주 전   \n",
       "5  파이썬 찍먹만 해본 고1입니다 파이썬으로 자동차를 만들어볼려고 하는데 정말 아무것도...  2024.08.23.   \n",
       "6  안녕하세요 대학교 과제로 파이썬 코딩 과제를 해야하는데 강의를 봐도 도저히 모르겠어...         2주 전   \n",
       "7  파이썬 완전 초보라 잘 몰라서 질문해봅니당 만약 제가 파이썬으로 어떤 프로그램을 만...  2024.08.02.   \n",
       "8  반도체관련 공대를 다니고 있는 학생입니다 내년에 3학년을 올라가기 전 파이썬과 엑셀...  2024.08.22.   \n",
       "9  ‘파이썬 업무자동화’를 검색하다가 람입니다님의 답변을 보고 제 고민을 해결하는데 도...         2주 전   \n",
       "\n",
       "                                                href  \n",
       "0  https://kin.naver.com/qna/detail.naver?d1id=1&...  \n",
       "1  https://kin.naver.com/qna/detail.naver?d1id=1&...  \n",
       "2  https://kin.naver.com/qna/detail.naver?d1id=1&...  \n",
       "3  https://kin.naver.com/qna/detail.naver?d1id=11...  \n",
       "4  https://kin.naver.com/qna/detail.naver?d1id=1&...  \n",
       "5  https://kin.naver.com/qna/detail.naver?d1id=10...  \n",
       "6  https://kin.naver.com/qna/detail.naver?d1id=1&...  \n",
       "7  https://kin.naver.com/qna/detail.naver?d1id=1&...  \n",
       "8  https://kin.naver.com/qna/detail.naver?d1id=1&...  \n",
       "9  https://kin.naver.com/qna/detail.naver?d1id=4&...  "
      ]
     },
     "execution_count": 44,
     "metadata": {},
     "output_type": "execute_result"
    }
   ],
   "source": [
    "res = []\n",
    "for i in range(len(title_contant[::2])):\n",
    "    tmp = {} # 글제목, 작성자, 요약글, 작성일, href\n",
    "    tmp['글제목'] = title_contant[::2][i]\n",
    "    tmp['작성자'] = 작성자[i]\n",
    "    tmp['요약글'] = 요약글[1::2][i]\n",
    "    tmp['작성일'] = 작성일[i]\n",
    "    tmp['href'] = title_link[::2][i]\n",
    "    res.append(tmp)\n",
    "pd.DataFrame(res)"
   ]
  },
  {
   "cell_type": "code",
   "execution_count": null,
   "id": "82c9d0c0-5531-48cf-84c6-62b2a663ff1a",
   "metadata": {},
   "outputs": [],
   "source": []
  }
 ],
 "metadata": {
  "kernelspec": {
   "display_name": "Python 3 (ipykernel)",
   "language": "python",
   "name": "python3"
  },
  "language_info": {
   "codemirror_mode": {
    "name": "ipython",
    "version": 3
   },
   "file_extension": ".py",
   "mimetype": "text/x-python",
   "name": "python",
   "nbconvert_exporter": "python",
   "pygments_lexer": "ipython3",
   "version": "3.12.5"
  }
 },
 "nbformat": 4,
 "nbformat_minor": 5
}
