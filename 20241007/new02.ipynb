{
 "cells": [
  {
   "cell_type": "code",
   "execution_count": 14,
   "id": "84f3c46c-febb-41ab-be53-e82a57d30b27",
   "metadata": {},
   "outputs": [
    {
     "data": {
      "text/plain": [
       "'C:\\\\Users\\\\go121\\\\practice_jupyter\\\\py\\\\데이터분석 및 시각화\\\\API자료수집\\\\05네이버API'"
      ]
     },
     "execution_count": 14,
     "metadata": {},
     "output_type": "execute_result"
    }
   ],
   "source": [
    "pwd"
   ]
  },
  {
   "cell_type": "code",
   "execution_count": 64,
   "id": "71c39b71-de37-495e-983b-64f1ea8c5706",
   "metadata": {},
   "outputs": [],
   "source": [
    "import os\n",
    "import sys\n",
    "import urllib.request\n",
    "import json\n",
    "import pandas as pd\n",
    "import matplotlib.pyplot as plt\n",
    "\n",
    "plt.rcParams['font.family'] ='Malgun Gothic'\n",
    "plt.rcParams['axes.unicode_minus'] =False"
   ]
  },
  {
   "cell_type": "code",
   "execution_count": 73,
   "id": "b2320c42-cb8e-464f-b8ab-534a25a90ffe",
   "metadata": {},
   "outputs": [],
   "source": [
    "search_list = ['메가커피', '이디야', '컴포즈', '빽다방', '스타벅스']"
   ]
  },
  {
   "cell_type": "code",
   "execution_count": 74,
   "id": "2c6ab3e3-f63a-4f5a-9180-6b743955079a",
   "metadata": {},
   "outputs": [],
   "source": [
    "client_id = \"sINqNPstJrYv4dDyStMK\"\n",
    "client_secret = \"SKpquTbQWh\"\n",
    "def search_blog(search_title):\n",
    "    encText = urllib.parse.quote(search_title)\n",
    "    url = \"https://openapi.naver.com/v1/search/blog?query=\" + encText # JSON 결과\n",
    "    # url = \"https://openapi.naver.com/v1/search/blog.xml?query=\" + encText # XML 결과\n",
    "    request = urllib.request.Request(url)\n",
    "    request.add_header(\"X-Naver-Client-Id\",client_id)\n",
    "    request.add_header(\"X-Naver-Client-Secret\",client_secret)\n",
    "    response = urllib.request.urlopen(request)\n",
    "    rescode = response.getcode()\n",
    "    if(rescode==200):\n",
    "        response_body = response.read()\n",
    "        return json.loads(response_body)['total'], search_title\n",
    "    else:\n",
    "        print(\"Error Code:\" + rescode)"
   ]
  },
  {
   "cell_type": "code",
   "execution_count": 75,
   "id": "883f6d53-037c-4ced-9ca0-072a5aecb766",
   "metadata": {},
   "outputs": [],
   "source": [
    "res = []\n",
    "for i in search_list:\n",
    "    total, title = search_blog(i)\n",
    "    res.append((total, title))"
   ]
  },
  {
   "cell_type": "code",
   "execution_count": 76,
   "id": "88114a38-f4b0-4cf5-bc99-1051d4d2c837",
   "metadata": {},
   "outputs": [
    {
     "data": {
      "text/html": [
       "<div>\n",
       "<style scoped>\n",
       "    .dataframe tbody tr th:only-of-type {\n",
       "        vertical-align: middle;\n",
       "    }\n",
       "\n",
       "    .dataframe tbody tr th {\n",
       "        vertical-align: top;\n",
       "    }\n",
       "\n",
       "    .dataframe thead th {\n",
       "        text-align: right;\n",
       "    }\n",
       "</style>\n",
       "<table border=\"1\" class=\"dataframe\">\n",
       "  <thead>\n",
       "    <tr style=\"text-align: right;\">\n",
       "      <th></th>\n",
       "      <th>0</th>\n",
       "      <th>1</th>\n",
       "    </tr>\n",
       "  </thead>\n",
       "  <tbody>\n",
       "    <tr>\n",
       "      <th>0</th>\n",
       "      <td>383190</td>\n",
       "      <td>메가커피</td>\n",
       "    </tr>\n",
       "    <tr>\n",
       "      <th>1</th>\n",
       "      <td>710536</td>\n",
       "      <td>이디야</td>\n",
       "    </tr>\n",
       "    <tr>\n",
       "      <th>2</th>\n",
       "      <td>223352</td>\n",
       "      <td>컴포즈</td>\n",
       "    </tr>\n",
       "    <tr>\n",
       "      <th>3</th>\n",
       "      <td>346446</td>\n",
       "      <td>빽다방</td>\n",
       "    </tr>\n",
       "    <tr>\n",
       "      <th>4</th>\n",
       "      <td>6005596</td>\n",
       "      <td>스타벅스</td>\n",
       "    </tr>\n",
       "  </tbody>\n",
       "</table>\n",
       "</div>"
      ],
      "text/plain": [
       "         0     1\n",
       "0   383190  메가커피\n",
       "1   710536   이디야\n",
       "2   223352   컴포즈\n",
       "3   346446   빽다방\n",
       "4  6005596  스타벅스"
      ]
     },
     "execution_count": 76,
     "metadata": {},
     "output_type": "execute_result"
    }
   ],
   "source": [
    "res = pd.DataFrame(res)\n",
    "res"
   ]
  },
  {
   "cell_type": "code",
   "execution_count": 77,
   "id": "ddacb18f-262b-40af-ae6f-e3038d8e7156",
   "metadata": {},
   "outputs": [
    {
     "data": {
      "text/plain": [
       "<BarContainer object of 5 artists>"
      ]
     },
     "execution_count": 77,
     "metadata": {},
     "output_type": "execute_result"
    },
    {
     "data": {
      "image/png": "[encoded data removed]",
      "text/plain": [
       "<Figure size 640x480 with 1 Axes>"
      ]
     },
     "metadata": {},
     "output_type": "display_data"
    }
   ],
   "source": [
    "plt.xlabel('매장명')\n",
    "plt.ylabel('게시 건수')\n",
    "plt.bar(res[1],res[0], data=res)"
   ]
  },
  {
   "cell_type": "code",
   "execution_count": null,
   "id": "f0429639-7f04-42b8-820a-6c8a014db6c5",
   "metadata": {},
   "outputs": [],
   "source": []
  }
 ],
 "metadata": {
  "kernelspec": {
   "display_name": "Python 3 (ipykernel)",
   "language": "python",
   "name": "python3"
  },
  "language_info": {
   "codemirror_mode": {
    "name": "ipython",
    "version": 3
   },
   "file_extension": ".py",
   "mimetype": "text/x-python",
   "name": "python",
   "nbconvert_exporter": "python",
   "pygments_lexer": "ipython3",
   "version": "3.12.5"
  }
 },
 "nbformat": 4,
 "nbformat_minor": 5
}
