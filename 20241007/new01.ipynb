{
 "cells": [
  {
   "cell_type": "code",
   "execution_count": 1,
   "id": "8eb41a28-015c-42bc-965e-aedf0b99ebab",
   "metadata": {},
   "outputs": [
    {
     "data": {
      "text/plain": [
       "'C:\\\\Users\\\\go121\\\\practice_jupyter\\\\py\\\\데이터분석 및 시각화\\\\API자료수집\\\\05네이버API'"
      ]
     },
     "execution_count": 1,
     "metadata": {},
     "output_type": "execute_result"
    }
   ],
   "source": [
    "pwd"
   ]
  },
  {
   "cell_type": "code",
   "execution_count": 2,
   "id": "97322dc3-050a-4c5a-bc6d-ca602fe35afb",
   "metadata": {},
   "outputs": [],
   "source": [
    "# 네이버 검색 API 예제 - 블로그 검색\n",
    "import os\n",
    "import sys\n",
    "import urllib.request\n",
    "import json\n",
    "import pandas as pd"
   ]
  },
  {
   "cell_type": "code",
   "execution_count": 3,
   "id": "ca37c98f-6c58-4fec-93a7-04edf38ddbd0",
   "metadata": {},
   "outputs": [
    {
     "name": "stdout",
     "output_type": "stream",
     "text": [
      "{\n",
      "\t\"lastBuildDate\":\"Mon, 07 Oct 2024 09:37:24 +0900\",\n",
      "\t\"total\":383202,\n",
      "\t\"start\":1,\n",
      "\t\"display\":10,\n",
      "\t\"items\":[\n",
      "\t\t{\n",
      "\t\t\t\"title\":\"<b>메가커피<\\/b> 제로 아이스티 복숭아 샷추가 (아샷추) 변비에... \",\n",
      "\t\t\t\"link\":\"https:\\/\\/blog.naver.com\\/nddoo_\\/223599827308\",\n",
      "\t\t\t\"description\":\"500원인디 <b>메가커피<\\/b>답게 크기가 메가메가혀서 샷추가 한 번으론 효과가 없어요,,, 두 번은 하셔야... 아이스티의 달달한 맛, 커피의 쌉쓰름함이 섞여서 단맛이 중화되어유. 요즘 아샷추가 꽤 알려졌다곤 하지만... \",\n",
      "\t\t\t\"bloggername\":\"뚜뚜뚜루뚜뚜뚜뚜\",\n",
      "\t\t\t\"bloggerlink\":\"blog.naver.com\\/nddoo_\",\n",
      "\t\t\t\"postdate\":\"20240928\"\n",
      "\t\t},\n",
      "\t\t{\n",
      "\t\t\t\"title\":\"<b>메가커피<\\/b> 9월 신메뉴 귤톡톡 &amp; 밤밤 크리미 가을 추천 음료\",\n",
      "\t\t\t\"link\":\"https:\\/\\/blog.naver.com\\/yuna_1024\\/223577650649\",\n",
      "\t\t\t\"description\":\"<b>메가커피<\\/b> 가을 신메뉴 종류 #<b>메가커피<\\/b>9월신메뉴 ! 가을이 다가왔음을 느낄 수 있는 메뉴들로 준비되어 있었는데요. 할메가미숫커피 2,700원 귤 톡톡 젤리스무디 3,900원 귤 톡톡 릴렉싱 티플레저 3,900원 핫 불고기... \",\n",
      "\t\t\t\"bloggername\":\"날마다 좋은 날 ♥\",\n",
      "\t\t\t\"bloggerlink\":\"blog.naver.com\\/yuna_1024\",\n",
      "\t\t\t\"postdate\":\"20240909\"\n",
      "\t\t},\n",
      "\t\t{\n",
      "\t\t\t\"title\":\"보기 드문 매출을 유지하는 대구 <b>메가커피<\\/b> 창업 (양도양수)\",\n",
      "\t\t\t\"link\":\"https:\\/\\/blog.naver.com\\/sunghyun3152\\/223597199896\",\n",
      "\t\t\t\"description\":\"오늘 소개 드릴 대구 <b>메가커피<\\/b> 양도양수 창업 매장은 평균 이상의 매출을 꾸준하게 유지하고 보기 드문... <b>메가커피<\\/b>는 전국적으로 확대되어 있고 현존하는 테이크아웃 카페 중 가장 많은 가맹점을 보유한... \",\n",
      "\t\t\t\"bloggername\":\"창업을시작할때\",\n",
      "\t\t\t\"bloggerlink\":\"blog.naver.com\\/sunghyun3152\",\n",
      "\t\t\t\"postdate\":\"20240926\"\n",
      "\t\t},\n",
      "\t\t{\n",
      "\t\t\t\"title\":\"<b>메가커피<\\/b> 창업비용 저렴하게? 현실을 알려드립니다\",\n",
      "\t\t\t\"link\":\"https:\\/\\/blog.naver.com\\/iameunhee3\\/223594933691\",\n",
      "\t\t\t\"description\":\"오늘은 <b>메가커피<\\/b> 창업비용, 많은 분들이 관심을 갖는 주제인 만큼 정확한 현실을 알려드리겠습니다.... - <b>메가커피<\\/b> 창업비용 많이 알아보는 이유 현재 3200호점이 넘어간 <b>메가커피<\\/b>, 초기에는 초보사장님들이... \",\n",
      "\t\t\t\"bloggername\":\"ᴹᴼᴿᴱ ᴵˢ ᴹᴼᴿᴱ\",\n",
      "\t\t\t\"bloggerlink\":\"blog.naver.com\\/iameunhee3\",\n",
      "\t\t\t\"postdate\":\"20240924\"\n",
      "\t\t},\n",
      "\t\t{\n",
      "\t\t\t\"title\":\"<b>메가커피<\\/b> 메뉴 추천 가을에 어울리는 밤밤 찰떡 프라페\",\n",
      "\t\t\t\"link\":\"https:\\/\\/blog.naver.com\\/darkyoon85\\/223578269584\",\n",
      "\t\t\t\"description\":\"할메가미숫커피까지! 여기에 핫 불고기 &amp; 바베큐 반반 브리또와 브라우니 쿠키 머핀까지 2종의 디저트도 함께 출시했답니다. 그럼 이어서 <b>메가커피<\\/b> 메뉴도 함께 소개해 드릴게요. 아메리카노 1,500원, 32온즈... \",\n",
      "\t\t\t\"bloggername\":\"다크윤의 맛집이야기♥\",\n",
      "\t\t\t\"bloggerlink\":\"blog.naver.com\\/darkyoon85\",\n",
      "\t\t\t\"postdate\":\"20240913\"\n",
      "\t\t},\n",
      "\t\t{\n",
      "\t\t\t\"title\":\"<b>메가커피<\\/b> 메뉴 아메리카노 사랑의 하츄핑 피규어 실물 후기\",\n",
      "\t\t\t\"link\":\"https:\\/\\/blog.naver.com\\/kangsy0203\\/223578896323\",\n",
      "\t\t\t\"description\":\"메뉴 가격 <b>메가커피<\\/b> 메뉴 가격 아메리카노 +15000원 \\/ 2000원 헤이즐넛, 꿀, 바닐라 아메리카노 +2700원 메가리카노 +3000원 등 커피 메뉴는 대부분 2-3천 원대로 가성비 좋게 마실 수 있는 장점이 있어요 특히, 달달한... \",\n",
      "\t\t\t\"bloggername\":\"떵이의 오즈나라\",\n",
      "\t\t\t\"bloggerlink\":\"blog.naver.com\\/kangsy0203\",\n",
      "\t\t\t\"postdate\":\"20240910\"\n",
      "\t\t},\n",
      "\t\t{\n",
      "\t\t\t\"title\":\"<b>메가커피<\\/b> 메뉴 추천 할메가미숫커피 칼로리 후기\",\n",
      "\t\t\t\"link\":\"https:\\/\\/blog.naver.com\\/etienne03\\/223586677517\",\n",
      "\t\t\t\"description\":\"<b>메가커피<\\/b> 메뉴 추천 할메가미숫커피 칼로리 후기 안녕하세요 바비에요. 어제는 친구집 갔다가 근처 <b>메가커피<\\/b> 다녀왔어요. 가을시즌 신메뉴가 여러 가지 나와서 우선 하나씩 맛보고 싶어서 찾아갔는데요. 그중... \",\n",
      "\t\t\t\"bloggername\":\"Barbie's place\",\n",
      "\t\t\t\"bloggerlink\":\"blog.naver.com\\/etienne03\",\n",
      "\t\t\t\"postdate\":\"20240917\"\n",
      "\t\t},\n",
      "\t\t{\n",
      "\t\t\t\"title\":\"<b>메가커피<\\/b> 창업비용 고매출 양도양수 추천\",\n",
      "\t\t\t\"link\":\"https:\\/\\/blog.naver.com\\/jknew1\\/223557264553\",\n",
      "\t\t\t\"description\":\"<b>메가커피<\\/b> 창업비용 고매출 양도양수 추천 현재 국내 창업시장에 수많은 저가커피 프랜차이즈가 존재하지만, 예비자영업자분들이 우선 선택지로 고려하는 브랜드는 단연 <b>메가커피<\\/b>가 아닐까 생각되는데요.... \",\n",
      "\t\t\t\"bloggername\":\"세상사는 이야기\",\n",
      "\t\t\t\"bloggerlink\":\"blog.naver.com\\/jknew1\",\n",
      "\t\t\t\"postdate\":\"20240822\"\n",
      "\t\t},\n",
      "\t\t{\n",
      "\t\t\t\"title\":\"<b>메가커피<\\/b> 지구멜론 스무디+ 지구별 초코 크레페 신메뉴 맛보기\",\n",
      "\t\t\t\"link\":\"https:\\/\\/blog.naver.com\\/hansaramu\\/223513093577\",\n",
      "\t\t\t\"description\":\"<b>메가커피<\\/b> 지구멜론 스무디+ 지구별 초코 크레페 신메뉴 맛보기 애정하는 블친 그림이님의 폿팅을 보고 일찍부터 점찍어둔 곳, 평소 애정하는 가성비 좋은 카페 <b>메가커피<\\/b>의 여름 시즌 신메뉴를 드디어 맛보고... \",\n",
      "\t\t\t\"bloggername\":\"서유당 라이프\",\n",
      "\t\t\t\"bloggerlink\":\"blog.naver.com\\/hansaramu\",\n",
      "\t\t\t\"postdate\":\"20240715\"\n",
      "\t\t},\n",
      "\t\t{\n",
      "\t\t\t\"title\":\"<b>메가커피<\\/b>할인받기\\/SK멤버쉽\\/우주패스혜택\",\n",
      "\t\t\t\"link\":\"https:\\/\\/blog.naver.com\\/nice_guja\\/223563428953\",\n",
      "\t\t\t\"description\":\"요즘 <b>메가커피<\\/b>를 자주 가는 이유 그 이유는 바로바로 SKT우주패스 혜택 받은 영수증! (단, 하루에 한번만 사용가능) SK멤버쉽 우주패스 혜택으로 <b>메가커피<\\/b> 30% 할인 적용받기!! 유독 더웠던 올여름 어쩔 수... \",\n",
      "\t\t\t\"bloggername\":\"시시콜콜\",\n",
      "\t\t\t\"bloggerlink\":\"blog.naver.com\\/nice_guja\",\n",
      "\t\t\t\"postdate\":\"20240828\"\n",
      "\t\t}\n",
      "\t]\n",
      "}\n"
     ]
    }
   ],
   "source": [
    "client_id = \"sINqNPstJrYv4dDyStMK\"\n",
    "client_secret = \"SKpquTbQWh\"\n",
    "encText = urllib.parse.quote(\"메가커피\")\n",
    "url = \"https://openapi.naver.com/v1/search/blog?query=\" + encText # JSON 결과\n",
    "# url = \"https://openapi.naver.com/v1/search/blog.xml?query=\" + encText # XML 결과\n",
    "request = urllib.request.Request(url)\n",
    "request.add_header(\"X-Naver-Client-Id\",client_id)\n",
    "request.add_header(\"X-Naver-Client-Secret\",client_secret)\n",
    "response = urllib.request.urlopen(request)\n",
    "rescode = response.getcode()\n",
    "if(rescode==200):\n",
    "    response_body = response.read()\n",
    "    print(response_body.decode('utf-8'))\n",
    "else:\n",
    "    print(\"Error Code:\" + rescode)"
   ]
  },
  {
   "cell_type": "code",
   "execution_count": 4,
   "id": "2a33a576-fd1d-4a9a-90c4-47ba727ba537",
   "metadata": {},
   "outputs": [
    {
     "data": {
      "text/plain": [
       "str"
      ]
     },
     "execution_count": 4,
     "metadata": {},
     "output_type": "execute_result"
    }
   ],
   "source": [
    "type(response_body.decode('utf-8'))"
   ]
  },
  {
   "cell_type": "code",
   "execution_count": 28,
   "id": "1b76f91c-9c14-4d93-9a9a-e82483981b56",
   "metadata": {},
   "outputs": [
    {
     "data": {
      "text/plain": [
       "{'lastBuildDate': 'Mon, 07 Oct 2024 09:37:24 +0900',\n",
       " 'total': 383202,\n",
       " 'start': 1,\n",
       " 'display': 10,\n",
       " 'items': [{'title': '<b>메가커피</b> 제로 아이스티 복숭아 샷추가 (아샷추) 변비에... ',\n",
       "   'link': 'https://blog.naver.com/nddoo_/223599827308',\n",
       "   'description': '500원인디 <b>메가커피</b>답게 크기가 메가메가혀서 샷추가 한 번으론 효과가 없어요,,, 두 번은 하셔야... 아이스티의 달달한 맛, 커피의 쌉쓰름함이 섞여서 단맛이 중화되어유. 요즘 아샷추가 꽤 알려졌다곤 하지만... ',\n",
       "   'bloggername': '뚜뚜뚜루뚜뚜뚜뚜',\n",
       "   'bloggerlink': 'blog.naver.com/nddoo_',\n",
       "   'postdate': '20240928'},\n",
       "  {'title': '<b>메가커피</b> 9월 신메뉴 귤톡톡 &amp; 밤밤 크리미 가을 추천 음료',\n",
       "   'link': 'https://blog.naver.com/yuna_1024/223577650649',\n",
       "   'description': '<b>메가커피</b> 가을 신메뉴 종류 #<b>메가커피</b>9월신메뉴 ! 가을이 다가왔음을 느낄 수 있는 메뉴들로 준비되어 있었는데요. 할메가미숫커피 2,700원 귤 톡톡 젤리스무디 3,900원 귤 톡톡 릴렉싱 티플레저 3,900원 핫 불고기... ',\n",
       "   'bloggername': '날마다 좋은 날 ♥',\n",
       "   'bloggerlink': 'blog.naver.com/yuna_1024',\n",
       "   'postdate': '20240909'},\n",
       "  {'title': '보기 드문 매출을 유지하는 대구 <b>메가커피</b> 창업 (양도양수)',\n",
       "   'link': 'https://blog.naver.com/sunghyun3152/223597199896',\n",
       "   'description': '오늘 소개 드릴 대구 <b>메가커피</b> 양도양수 창업 매장은 평균 이상의 매출을 꾸준하게 유지하고 보기 드문... <b>메가커피</b>는 전국적으로 확대되어 있고 현존하는 테이크아웃 카페 중 가장 많은 가맹점을 보유한... ',\n",
       "   'bloggername': '창업을시작할때',\n",
       "   'bloggerlink': 'blog.naver.com/sunghyun3152',\n",
       "   'postdate': '20240926'},\n",
       "  {'title': '<b>메가커피</b> 창업비용 저렴하게? 현실을 알려드립니다',\n",
       "   'link': 'https://blog.naver.com/iameunhee3/223594933691',\n",
       "   'description': '오늘은 <b>메가커피</b> 창업비용, 많은 분들이 관심을 갖는 주제인 만큼 정확한 현실을 알려드리겠습니다.... - <b>메가커피</b> 창업비용 많이 알아보는 이유 현재 3200호점이 넘어간 <b>메가커피</b>, 초기에는 초보사장님들이... ',\n",
       "   'bloggername': 'ᴹᴼᴿᴱ ᴵˢ ᴹᴼᴿᴱ',\n",
       "   'bloggerlink': 'blog.naver.com/iameunhee3',\n",
       "   'postdate': '20240924'},\n",
       "  {'title': '<b>메가커피</b> 메뉴 추천 가을에 어울리는 밤밤 찰떡 프라페',\n",
       "   'link': 'https://blog.naver.com/darkyoon85/223578269584',\n",
       "   'description': '할메가미숫커피까지! 여기에 핫 불고기 &amp; 바베큐 반반 브리또와 브라우니 쿠키 머핀까지 2종의 디저트도 함께 출시했답니다. 그럼 이어서 <b>메가커피</b> 메뉴도 함께 소개해 드릴게요. 아메리카노 1,500원, 32온즈... ',\n",
       "   'bloggername': '다크윤의 맛집이야기♥',\n",
       "   'bloggerlink': 'blog.naver.com/darkyoon85',\n",
       "   'postdate': '20240913'},\n",
       "  {'title': '<b>메가커피</b> 메뉴 아메리카노 사랑의 하츄핑 피규어 실물 후기',\n",
       "   'link': 'https://blog.naver.com/kangsy0203/223578896323',\n",
       "   'description': '메뉴 가격 <b>메가커피</b> 메뉴 가격 아메리카노 +15000원 / 2000원 헤이즐넛, 꿀, 바닐라 아메리카노 +2700원 메가리카노 +3000원 등 커피 메뉴는 대부분 2-3천 원대로 가성비 좋게 마실 수 있는 장점이 있어요 특히, 달달한... ',\n",
       "   'bloggername': '떵이의 오즈나라',\n",
       "   'bloggerlink': 'blog.naver.com/kangsy0203',\n",
       "   'postdate': '20240910'},\n",
       "  {'title': '<b>메가커피</b> 메뉴 추천 할메가미숫커피 칼로리 후기',\n",
       "   'link': 'https://blog.naver.com/etienne03/223586677517',\n",
       "   'description': '<b>메가커피</b> 메뉴 추천 할메가미숫커피 칼로리 후기 안녕하세요 바비에요. 어제는 친구집 갔다가 근처 <b>메가커피</b> 다녀왔어요. 가을시즌 신메뉴가 여러 가지 나와서 우선 하나씩 맛보고 싶어서 찾아갔는데요. 그중... ',\n",
       "   'bloggername': \"Barbie's place\",\n",
       "   'bloggerlink': 'blog.naver.com/etienne03',\n",
       "   'postdate': '20240917'},\n",
       "  {'title': '<b>메가커피</b> 창업비용 고매출 양도양수 추천',\n",
       "   'link': 'https://blog.naver.com/jknew1/223557264553',\n",
       "   'description': '<b>메가커피</b> 창업비용 고매출 양도양수 추천 현재 국내 창업시장에 수많은 저가커피 프랜차이즈가 존재하지만, 예비자영업자분들이 우선 선택지로 고려하는 브랜드는 단연 <b>메가커피</b>가 아닐까 생각되는데요.... ',\n",
       "   'bloggername': '세상사는 이야기',\n",
       "   'bloggerlink': 'blog.naver.com/jknew1',\n",
       "   'postdate': '20240822'},\n",
       "  {'title': '<b>메가커피</b> 지구멜론 스무디+ 지구별 초코 크레페 신메뉴 맛보기',\n",
       "   'link': 'https://blog.naver.com/hansaramu/223513093577',\n",
       "   'description': '<b>메가커피</b> 지구멜론 스무디+ 지구별 초코 크레페 신메뉴 맛보기 애정하는 블친 그림이님의 폿팅을 보고 일찍부터 점찍어둔 곳, 평소 애정하는 가성비 좋은 카페 <b>메가커피</b>의 여름 시즌 신메뉴를 드디어 맛보고... ',\n",
       "   'bloggername': '서유당 라이프',\n",
       "   'bloggerlink': 'blog.naver.com/hansaramu',\n",
       "   'postdate': '20240715'},\n",
       "  {'title': '<b>메가커피</b>할인받기/SK멤버쉽/우주패스혜택',\n",
       "   'link': 'https://blog.naver.com/nice_guja/223563428953',\n",
       "   'description': '요즘 <b>메가커피</b>를 자주 가는 이유 그 이유는 바로바로 SKT우주패스 혜택 받은 영수증! (단, 하루에 한번만 사용가능) SK멤버쉽 우주패스 혜택으로 <b>메가커피</b> 30% 할인 적용받기!! 유독 더웠던 올여름 어쩔 수... ',\n",
       "   'bloggername': '시시콜콜',\n",
       "   'bloggerlink': 'blog.naver.com/nice_guja',\n",
       "   'postdate': '20240828'}]}"
      ]
     },
     "execution_count": 28,
     "metadata": {},
     "output_type": "execute_result"
    }
   ],
   "source": [
    "# decode를 안해도 됨!\n",
    "json.loads(response_body)"
   ]
  },
  {
   "cell_type": "code",
   "execution_count": 6,
   "id": "59ade752-88cb-48dc-a536-0c8bf8c8aba7",
   "metadata": {},
   "outputs": [],
   "source": [
    "data_dt = json.loads(response_body)"
   ]
  },
  {
   "cell_type": "code",
   "execution_count": 7,
   "id": "0b655388-280d-4a25-a5dd-666f47c5ebb8",
   "metadata": {},
   "outputs": [
    {
     "data": {
      "text/plain": [
       "10"
      ]
     },
     "execution_count": 7,
     "metadata": {},
     "output_type": "execute_result"
    }
   ],
   "source": [
    "len(data_dt['items'])"
   ]
  },
  {
   "cell_type": "code",
   "execution_count": 9,
   "id": "2615ad91-2964-405e-9eb9-7d6535d663be",
   "metadata": {},
   "outputs": [],
   "source": [
    "df = pd.DataFrame(data_dt['items'])"
   ]
  },
  {
   "cell_type": "code",
   "execution_count": 10,
   "id": "6af36895-b994-41d5-b506-2e33f57ca45e",
   "metadata": {},
   "outputs": [
    {
     "name": "stdout",
     "output_type": "stream",
     "text": [
      "(10, 6)\n"
     ]
    },
    {
     "data": {
      "text/html": [
       "<div>\n",
       "<style scoped>\n",
       "    .dataframe tbody tr th:only-of-type {\n",
       "        vertical-align: middle;\n",
       "    }\n",
       "\n",
       "    .dataframe tbody tr th {\n",
       "        vertical-align: top;\n",
       "    }\n",
       "\n",
       "    .dataframe thead th {\n",
       "        text-align: right;\n",
       "    }\n",
       "</style>\n",
       "<table border=\"1\" class=\"dataframe\">\n",
       "  <thead>\n",
       "    <tr style=\"text-align: right;\">\n",
       "      <th></th>\n",
       "      <th>title</th>\n",
       "      <th>link</th>\n",
       "      <th>description</th>\n",
       "      <th>bloggername</th>\n",
       "      <th>bloggerlink</th>\n",
       "      <th>postdate</th>\n",
       "    </tr>\n",
       "  </thead>\n",
       "  <tbody>\n",
       "    <tr>\n",
       "      <th>0</th>\n",
       "      <td>&lt;b&gt;메가커피&lt;/b&gt; 제로 아이스티 복숭아 샷추가 (아샷추) 변비에...</td>\n",
       "      <td>https://blog.naver.com/nddoo_/223599827308</td>\n",
       "      <td>500원인디 &lt;b&gt;메가커피&lt;/b&gt;답게 크기가 메가메가혀서 샷추가 한 번으론 효과가 ...</td>\n",
       "      <td>뚜뚜뚜루뚜뚜뚜뚜</td>\n",
       "      <td>blog.naver.com/nddoo_</td>\n",
       "      <td>20240928</td>\n",
       "    </tr>\n",
       "    <tr>\n",
       "      <th>1</th>\n",
       "      <td>&lt;b&gt;메가커피&lt;/b&gt; 9월 신메뉴 귤톡톡 &amp;amp; 밤밤 크리미 가을 추천 음료</td>\n",
       "      <td>https://blog.naver.com/yuna_1024/223577650649</td>\n",
       "      <td>&lt;b&gt;메가커피&lt;/b&gt; 가을 신메뉴 종류 #&lt;b&gt;메가커피&lt;/b&gt;9월신메뉴 ! 가을이 ...</td>\n",
       "      <td>날마다 좋은 날 ♥</td>\n",
       "      <td>blog.naver.com/yuna_1024</td>\n",
       "      <td>20240909</td>\n",
       "    </tr>\n",
       "    <tr>\n",
       "      <th>2</th>\n",
       "      <td>보기 드문 매출을 유지하는 대구 &lt;b&gt;메가커피&lt;/b&gt; 창업 (양도양수)</td>\n",
       "      <td>https://blog.naver.com/sunghyun3152/223597199896</td>\n",
       "      <td>오늘 소개 드릴 대구 &lt;b&gt;메가커피&lt;/b&gt; 양도양수 창업 매장은 평균 이상의 매출을...</td>\n",
       "      <td>창업을시작할때</td>\n",
       "      <td>blog.naver.com/sunghyun3152</td>\n",
       "      <td>20240926</td>\n",
       "    </tr>\n",
       "    <tr>\n",
       "      <th>3</th>\n",
       "      <td>&lt;b&gt;메가커피&lt;/b&gt; 창업비용 저렴하게? 현실을 알려드립니다</td>\n",
       "      <td>https://blog.naver.com/iameunhee3/223594933691</td>\n",
       "      <td>오늘은 &lt;b&gt;메가커피&lt;/b&gt; 창업비용, 많은 분들이 관심을 갖는 주제인 만큼 정확한...</td>\n",
       "      <td>ᴹᴼᴿᴱ ᴵˢ ᴹᴼᴿᴱ</td>\n",
       "      <td>blog.naver.com/iameunhee3</td>\n",
       "      <td>20240924</td>\n",
       "    </tr>\n",
       "    <tr>\n",
       "      <th>4</th>\n",
       "      <td>&lt;b&gt;메가커피&lt;/b&gt; 메뉴 추천 가을에 어울리는 밤밤 찰떡 프라페</td>\n",
       "      <td>https://blog.naver.com/darkyoon85/223578269584</td>\n",
       "      <td>할메가미숫커피까지! 여기에 핫 불고기 &amp;amp; 바베큐 반반 브리또와 브라우니 쿠키...</td>\n",
       "      <td>다크윤의 맛집이야기♥</td>\n",
       "      <td>blog.naver.com/darkyoon85</td>\n",
       "      <td>20240913</td>\n",
       "    </tr>\n",
       "  </tbody>\n",
       "</table>\n",
       "</div>"
      ],
      "text/plain": [
       "                                          title  \\\n",
       "0     <b>메가커피</b> 제로 아이스티 복숭아 샷추가 (아샷추) 변비에...    \n",
       "1  <b>메가커피</b> 9월 신메뉴 귤톡톡 &amp; 밤밤 크리미 가을 추천 음료   \n",
       "2       보기 드문 매출을 유지하는 대구 <b>메가커피</b> 창업 (양도양수)   \n",
       "3             <b>메가커피</b> 창업비용 저렴하게? 현실을 알려드립니다   \n",
       "4          <b>메가커피</b> 메뉴 추천 가을에 어울리는 밤밤 찰떡 프라페   \n",
       "\n",
       "                                               link  \\\n",
       "0        https://blog.naver.com/nddoo_/223599827308   \n",
       "1     https://blog.naver.com/yuna_1024/223577650649   \n",
       "2  https://blog.naver.com/sunghyun3152/223597199896   \n",
       "3    https://blog.naver.com/iameunhee3/223594933691   \n",
       "4    https://blog.naver.com/darkyoon85/223578269584   \n",
       "\n",
       "                                         description   bloggername  \\\n",
       "0  500원인디 <b>메가커피</b>답게 크기가 메가메가혀서 샷추가 한 번으론 효과가 ...      뚜뚜뚜루뚜뚜뚜뚜   \n",
       "1  <b>메가커피</b> 가을 신메뉴 종류 #<b>메가커피</b>9월신메뉴 ! 가을이 ...    날마다 좋은 날 ♥   \n",
       "2  오늘 소개 드릴 대구 <b>메가커피</b> 양도양수 창업 매장은 평균 이상의 매출을...       창업을시작할때   \n",
       "3  오늘은 <b>메가커피</b> 창업비용, 많은 분들이 관심을 갖는 주제인 만큼 정확한...  ᴹᴼᴿᴱ ᴵˢ ᴹᴼᴿᴱ   \n",
       "4  할메가미숫커피까지! 여기에 핫 불고기 &amp; 바베큐 반반 브리또와 브라우니 쿠키...   다크윤의 맛집이야기♥   \n",
       "\n",
       "                   bloggerlink  postdate  \n",
       "0        blog.naver.com/nddoo_  20240928  \n",
       "1     blog.naver.com/yuna_1024  20240909  \n",
       "2  blog.naver.com/sunghyun3152  20240926  \n",
       "3    blog.naver.com/iameunhee3  20240924  \n",
       "4    blog.naver.com/darkyoon85  20240913  "
      ]
     },
     "execution_count": 10,
     "metadata": {},
     "output_type": "execute_result"
    }
   ],
   "source": [
    "print(df.shape)\n",
    "df.head()"
   ]
  },
  {
   "cell_type": "code",
   "execution_count": 13,
   "id": "5a38fbe3-5f2d-4bcc-8fde-c00a5430834e",
   "metadata": {},
   "outputs": [
    {
     "data": {
      "text/plain": [
       "0    500원인디 <b>메가커피</b>답게 크기가 메가메가혀서 샷추가 한 번으론 효과가 ...\n",
       "1    <b>메가커피</b> 가을 신메뉴 종류 #<b>메가커피</b>9월신메뉴 ! 가을이 ...\n",
       "2    오늘 소개 드릴 대구 <b>메가커피</b> 양도양수 창업 매장은 평균 이상의 매출을...\n",
       "3    오늘은 <b>메가커피</b> 창업비용, 많은 분들이 관심을 갖는 주제인 만큼 정확한...\n",
       "4    할메가미숫커피까지! 여기에 핫 불고기 &amp; 바베큐 반반 브리또와 브라우니 쿠키...\n",
       "5    메뉴 가격 <b>메가커피</b> 메뉴 가격 아메리카노 +15000원 / 2000원 ...\n",
       "6    <b>메가커피</b> 메뉴 추천 할메가미숫커피 칼로리 후기 안녕하세요 바비에요. 어...\n",
       "7    <b>메가커피</b> 창업비용 고매출 양도양수 추천 현재 국내 창업시장에 수많은 저...\n",
       "8    <b>메가커피</b> 지구멜론 스무디+ 지구별 초코 크레페 신메뉴 맛보기 애정하는 ...\n",
       "9    요즘 <b>메가커피</b>를 자주 가는 이유 그 이유는 바로바로 SKT우주패스 혜택...\n",
       "Name: description, dtype: object"
      ]
     },
     "execution_count": 13,
     "metadata": {},
     "output_type": "execute_result"
    }
   ],
   "source": [
    "df['description']"
   ]
  },
  {
   "cell_type": "code",
   "execution_count": null,
   "id": "26618a60-eed9-450a-b3e7-224efda5c161",
   "metadata": {},
   "outputs": [],
   "source": []
  }
 ],
 "metadata": {
  "kernelspec": {
   "display_name": "Python 3 (ipykernel)",
   "language": "python",
   "name": "python3"
  },
  "language_info": {
   "codemirror_mode": {
    "name": "ipython",
    "version": 3
   },
   "file_extension": ".py",
   "mimetype": "text/x-python",
   "name": "python",
   "nbconvert_exporter": "python",
   "pygments_lexer": "ipython3",
   "version": "3.12.5"
  }
 },
 "nbformat": 4,
 "nbformat_minor": 5
}
