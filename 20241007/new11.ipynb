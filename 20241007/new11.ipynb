{
 "cells": [
  {
   "cell_type": "code",
   "execution_count": 1,
   "id": "72712b3f-aadb-438a-bcd4-97b60b8d6650",
   "metadata": {},
   "outputs": [],
   "source": [
    "from bs4 import BeautifulSoup as bs\n",
    "import pandas as pd"
   ]
  },
  {
   "cell_type": "code",
   "execution_count": 2,
   "id": "4c370533-1228-46bb-a8df-79fd7ad7a090",
   "metadata": {},
   "outputs": [],
   "source": [
    "ex2 = ''' \n",
    "<html> \n",
    "    <head> \n",
    "        <h1> 사야할 과일 \n",
    "    </head> \n",
    "    <body> \n",
    "        <h1> 시장가서 사야할 과일 목록 \n",
    "            <div>\n",
    "                <p id='fruits1' class='name1' title='바나나'> 바나나 \n",
    "                    <span class = 'price'> 3000원 </span> \n",
    "                    <span class = 'count'> 10개 </span> \n",
    "                    <span class = 'store'> 바나나가게 </span> \n",
    "                    <a href = 'https://www.banana.com'> banana.com </a> \n",
    "                </p>\n",
    "            </div> \n",
    "            <div>\n",
    "                <p id='fruits2' class='name2' title='체리'> 체리 \n",
    "                    <span class = 'price'> 100원 </span> \n",
    "                    <span class = 'count'> 50개 </span> \n",
    "                    <span class = 'store'> 체리가게</span> \n",
    "                    <a href = 'https://www.cherry.com'> cherry.com </a>\n",
    "                </p> \n",
    "            </div> \n",
    "            <div>\n",
    "                <p id='fruits3' class='name3' title='오렌지'> 오렌지\n",
    "                    <span class = 'price'> 500원 </span> \n",
    "                    <span class = 'count'> 20개 </span> \n",
    "                    <span class = 'store'> 오렌지가게</span> \n",
    "                    <a href = 'https://www.orange.com'> orange.com </a>\n",
    "                </p> \n",
    "            </div>\n",
    "    </body> \n",
    "</html> '''\n",
    "\n",
    "soup = bs(ex2, \"html\")"
   ]
  },
  {
   "cell_type": "code",
   "execution_count": 3,
   "id": "3bcdef0b-3e3c-4dfa-bd16-0f051812f589",
   "metadata": {},
   "outputs": [
    {
     "data": {
      "text/plain": [
       "[<div>\n",
       " <p class=\"name1\" id=\"fruits1\" title=\"바나나\"> 바나나 \n",
       "                     <span class=\"price\"> 3000원 </span>\n",
       " <span class=\"count\"> 10개 </span>\n",
       " <span class=\"store\"> 바나나가게 </span>\n",
       " <a href=\"https://www.banana.com\"> banana.com </a>\n",
       " </p>\n",
       " </div>,\n",
       " <div>\n",
       " <p class=\"name2\" id=\"fruits2\" title=\"체리\"> 체리 \n",
       "                     <span class=\"price\"> 100원 </span>\n",
       " <span class=\"count\"> 50개 </span>\n",
       " <span class=\"store\"> 체리가게</span>\n",
       " <a href=\"https://www.cherry.com\"> cherry.com </a>\n",
       " </p>\n",
       " </div>,\n",
       " <div>\n",
       " <p class=\"name3\" id=\"fruits3\" title=\"오렌지\"> 오렌지\n",
       "                     <span class=\"price\"> 500원 </span>\n",
       " <span class=\"count\"> 20개 </span>\n",
       " <span class=\"store\"> 오렌지가게</span>\n",
       " <a href=\"https://www.orange.com\"> orange.com </a>\n",
       " </p>\n",
       " </div>]"
      ]
     },
     "execution_count": 3,
     "metadata": {},
     "output_type": "execute_result"
    }
   ],
   "source": [
    "종류 = soup.find_all('div')\n",
    "종류"
   ]
  },
  {
   "cell_type": "code",
   "execution_count": 4,
   "id": "c71f7662-83e0-4eb5-b3da-9de740bed484",
   "metadata": {},
   "outputs": [
    {
     "data": {
      "text/html": [
       "<div>\n",
       "<style scoped>\n",
       "    .dataframe tbody tr th:only-of-type {\n",
       "        vertical-align: middle;\n",
       "    }\n",
       "\n",
       "    .dataframe tbody tr th {\n",
       "        vertical-align: top;\n",
       "    }\n",
       "\n",
       "    .dataframe thead th {\n",
       "        text-align: right;\n",
       "    }\n",
       "</style>\n",
       "<table border=\"1\" class=\"dataframe\">\n",
       "  <thead>\n",
       "    <tr style=\"text-align: right;\">\n",
       "      <th></th>\n",
       "      <th>품명</th>\n",
       "      <th>가격</th>\n",
       "      <th>개수</th>\n",
       "      <th>거래처</th>\n",
       "      <th>거래처링크</th>\n",
       "    </tr>\n",
       "  </thead>\n",
       "  <tbody>\n",
       "    <tr>\n",
       "      <th>0</th>\n",
       "      <td>바나나</td>\n",
       "      <td>3000</td>\n",
       "      <td>10</td>\n",
       "      <td>바나나가게</td>\n",
       "      <td>https://www.banana.com</td>\n",
       "    </tr>\n",
       "    <tr>\n",
       "      <th>1</th>\n",
       "      <td>체리</td>\n",
       "      <td>100</td>\n",
       "      <td>50</td>\n",
       "      <td>체리가게</td>\n",
       "      <td>https://www.cherry.com</td>\n",
       "    </tr>\n",
       "    <tr>\n",
       "      <th>2</th>\n",
       "      <td>오렌지</td>\n",
       "      <td>500</td>\n",
       "      <td>20</td>\n",
       "      <td>오렌지가게</td>\n",
       "      <td>https://www.orange.com</td>\n",
       "    </tr>\n",
       "  </tbody>\n",
       "</table>\n",
       "</div>"
      ],
      "text/plain": [
       "    품명    가격  개수    거래처                   거래처링크\n",
       "0  바나나  3000  10  바나나가게  https://www.banana.com\n",
       "1   체리   100  50   체리가게  https://www.cherry.com\n",
       "2  오렌지   500  20  오렌지가게  https://www.orange.com"
      ]
     },
     "execution_count": 4,
     "metadata": {},
     "output_type": "execute_result"
    }
   ],
   "source": [
    "res = []\n",
    "for i in 종류:\n",
    "    tmp = {}\n",
    "    tmp['품명'] = i.find('p')['title'].strip()\n",
    "    tmp['가격'] = int(i.find('span', 'price').text.strip().replace('원',''))\n",
    "    tmp['개수'] = int(i.find('span', 'count').text.strip().replace('개',''))\n",
    "    tmp['거래처'] = i.find('span', 'store').text.strip()\n",
    "    tmp['거래처링크'] = i.find('a')['href'].strip()\n",
    "    res.append(tmp)\n",
    "pd.DataFrame(res)"
   ]
  },
  {
   "cell_type": "code",
   "execution_count": null,
   "id": "9b7efd1d-7ad2-46fb-9492-f0786e7b9ab2",
   "metadata": {},
   "outputs": [],
   "source": []
  },
  {
   "cell_type": "code",
   "execution_count": null,
   "id": "219dbb53-e4af-4295-b3d3-bdbf6da20d2a",
   "metadata": {},
   "outputs": [],
   "source": []
  },
  {
   "cell_type": "code",
   "execution_count": null,
   "id": "13acd587-c103-4197-97a1-1d351e073fda",
   "metadata": {},
   "outputs": [],
   "source": []
  }
 ],
 "metadata": {
  "kernelspec": {
   "display_name": "Python 3 (ipykernel)",
   "language": "python",
   "name": "python3"
  },
  "language_info": {
   "codemirror_mode": {
    "name": "ipython",
    "version": 3
   },
   "file_extension": ".py",
   "mimetype": "text/x-python",
   "name": "python",
   "nbconvert_exporter": "python",
   "pygments_lexer": "ipython3",
   "version": "3.12.5"
  }
 },
 "nbformat": 4,
 "nbformat_minor": 5
}
