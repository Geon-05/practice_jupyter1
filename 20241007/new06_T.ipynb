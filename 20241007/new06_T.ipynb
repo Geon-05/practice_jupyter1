{
 "cells": [
  {
   "cell_type": "code",
   "execution_count": 1,
   "id": "e2a02f1d-fc36-42e3-b804-542bd094a573",
   "metadata": {},
   "outputs": [
    {
     "data": {
      "text/plain": [
       "'C:\\\\Users\\\\go121\\\\practice_jupyter\\\\py\\\\20241007'"
      ]
     },
     "execution_count": 1,
     "metadata": {},
     "output_type": "execute_result"
    }
   ],
   "source": [
    "pwd"
   ]
  },
  {
   "cell_type": "code",
   "execution_count": 2,
   "id": "1c54cb16-59f1-48a2-9554-b892dafaf41f",
   "metadata": {},
   "outputs": [],
   "source": [
    "# 네이버 검색 API 예제 - 블로그 검색\n",
    "import os\n",
    "import sys\n",
    "import urllib.request\n",
    "import json\n",
    "import pandas as pd\n",
    "\n",
    "client_id = \"sINqNPstJrYv4dDyStMK\"\n",
    "client_secret = \"SKpquTbQWh\"\n",
    "\n",
    "def naver_blog(query,start=1,display=100):\n",
    "    base_url = 'https://openapi.naver.com/v1/search/blog'\n",
    "    p = {\n",
    "        'query':query,\n",
    "        'display':display,\n",
    "        'start':start\n",
    "    }\n",
    "    enc_params = urllib.parse.urlencode(p)\n",
    "    url = f'{base_url}?{enc_params}'\n",
    "    \n",
    "    request = urllib.request.Request(url)\n",
    "    request.add_header(\"X-Naver-Client-Id\",client_id)\n",
    "    request.add_header(\"X-Naver-Client-Secret\",client_secret)\n",
    "    response = urllib.request.urlopen(request)\n",
    "    rescode = response.getcode()\n",
    "    if(rescode==200):\n",
    "        response_body = response.read()\n",
    "        response_dict = json.loads(response_body)\n",
    "        res_df = pd.DataFrame(response_dict['items'])\n",
    "    else:\n",
    "        print(\"Error Code:\" + rescode)\n",
    "        return\n",
    "    return res_df\n",
    "\n",
    "# naver_blog('스타벅스')\n",
    "search = '원피스'\n",
    "res = []\n",
    "for i in range(1,102,100):\n",
    "    tmp = naver_blog(search, start=i)\n",
    "    res.append(tmp)"
   ]
  },
  {
   "cell_type": "code",
   "execution_count": 3,
   "id": "a708bac6-36de-4ef0-bb64-cfa8987c4fda",
   "metadata": {},
   "outputs": [
    {
     "data": {
      "text/plain": [
       "2"
      ]
     },
     "execution_count": 3,
     "metadata": {},
     "output_type": "execute_result"
    }
   ],
   "source": [
    "len(res)"
   ]
  },
  {
   "cell_type": "code",
   "execution_count": 4,
   "id": "231383e2-a79e-4f5e-8b28-bf17726188a2",
   "metadata": {},
   "outputs": [
    {
     "name": "stdout",
     "output_type": "stream",
     "text": [
      "(200, 6)\n"
     ]
    },
    {
     "data": {
      "text/html": [
       "<div>\n",
       "<style scoped>\n",
       "    .dataframe tbody tr th:only-of-type {\n",
       "        vertical-align: middle;\n",
       "    }\n",
       "\n",
       "    .dataframe tbody tr th {\n",
       "        vertical-align: top;\n",
       "    }\n",
       "\n",
       "    .dataframe thead th {\n",
       "        text-align: right;\n",
       "    }\n",
       "</style>\n",
       "<table border=\"1\" class=\"dataframe\">\n",
       "  <thead>\n",
       "    <tr style=\"text-align: right;\">\n",
       "      <th></th>\n",
       "      <th>title</th>\n",
       "      <th>link</th>\n",
       "      <th>description</th>\n",
       "      <th>bloggername</th>\n",
       "      <th>bloggerlink</th>\n",
       "      <th>postdate</th>\n",
       "    </tr>\n",
       "  </thead>\n",
       "  <tbody>\n",
       "    <tr>\n",
       "      <th>0</th>\n",
       "      <td>&lt;b&gt;원피스&lt;/b&gt; 최초 애니메이션(?!) 캡처</td>\n",
       "      <td>https://blog.naver.com/jsi02044/223600114284</td>\n",
       "      <td>제가 얼마전에 애니메이션 하나를 봤는데요, 바로 제가 좋아하는 애니 중 하나인 [&lt;...</td>\n",
       "      <td>『Selenophile』</td>\n",
       "      <td>blog.naver.com/jsi02044</td>\n",
       "      <td>20240929</td>\n",
       "    </tr>\n",
       "    <tr>\n",
       "      <th>1</th>\n",
       "      <td>&lt;b&gt;원피스&lt;/b&gt; 변기 부속품교체 투피스보다 까다로워요</td>\n",
       "      <td>https://blog.naver.com/bwith____/223593466406</td>\n",
       "      <td>고객님 댁에 도착해서 화장실 변기를 확인해보았더니 &lt;b&gt;원피스&lt;/b&gt; 변기였어요. ...</td>\n",
       "      <td>동원설비 [ 전국 1시간 이내 출동 ]</td>\n",
       "      <td>blog.naver.com/bwith____</td>\n",
       "      <td>20240923</td>\n",
       "    </tr>\n",
       "    <tr>\n",
       "      <th>2</th>\n",
       "      <td>발리 쇼핑리스트 꾸따 &lt;b&gt;원피스&lt;/b&gt; 발리기념품</td>\n",
       "      <td>https://blog.naver.com/bom25bom/223592235400</td>\n",
       "      <td>Bali Shopping List 발리 쇼핑리스트 꾸따 뽀삐스거리 &lt;b&gt;원피스&lt;/b...</td>\n",
       "      <td>봄빛씨는 언제나 봄날</td>\n",
       "      <td>blog.naver.com/bom25bom</td>\n",
       "      <td>20240924</td>\n",
       "    </tr>\n",
       "    <tr>\n",
       "      <th>3</th>\n",
       "      <td>코스 COS 세일 기간 시작 &lt;b&gt;원피스&lt;/b&gt; 가방 등 추천템 zip</td>\n",
       "      <td>https://blog.naver.com/dnjstpdms24/223601212182</td>\n",
       "      <td>이거 할인폭 보자마자 소리 질렀는데 안 그래도 매장에서 꽂혀서 입어봤던 COS &lt;b...</td>\n",
       "      <td>[ Won &amp; Only ]</td>\n",
       "      <td>blog.naver.com/dnjstpdms24</td>\n",
       "      <td>20240930</td>\n",
       "    </tr>\n",
       "    <tr>\n",
       "      <th>4</th>\n",
       "      <td>&lt;b&gt;원피스&lt;/b&gt; 1119화 애니 - 코브라 사망 죽음</td>\n",
       "      <td>https://blog.naver.com/ptj0969/223584726406</td>\n",
       "      <td>&lt;b&gt;원피스&lt;/b&gt; 애니 1119화는 제목 그대로에요 오늘 코브라가 죽습니다 하지만...</td>\n",
       "      <td>에레키맨의 무겐 블로그</td>\n",
       "      <td>blog.naver.com/ptj0969</td>\n",
       "      <td>20240915</td>\n",
       "    </tr>\n",
       "  </tbody>\n",
       "</table>\n",
       "</div>"
      ],
      "text/plain": [
       "                                     title  \\\n",
       "0               <b>원피스</b> 최초 애니메이션(?!) 캡처   \n",
       "1          <b>원피스</b> 변기 부속품교체 투피스보다 까다로워요   \n",
       "2             발리 쇼핑리스트 꾸따 <b>원피스</b> 발리기념품   \n",
       "3  코스 COS 세일 기간 시작 <b>원피스</b> 가방 등 추천템 zip   \n",
       "4          <b>원피스</b> 1119화 애니 - 코브라 사망 죽음   \n",
       "\n",
       "                                              link  \\\n",
       "0     https://blog.naver.com/jsi02044/223600114284   \n",
       "1    https://blog.naver.com/bwith____/223593466406   \n",
       "2     https://blog.naver.com/bom25bom/223592235400   \n",
       "3  https://blog.naver.com/dnjstpdms24/223601212182   \n",
       "4      https://blog.naver.com/ptj0969/223584726406   \n",
       "\n",
       "                                         description            bloggername  \\\n",
       "0  제가 얼마전에 애니메이션 하나를 봤는데요, 바로 제가 좋아하는 애니 중 하나인 [<...          『Selenophile』   \n",
       "1  고객님 댁에 도착해서 화장실 변기를 확인해보았더니 <b>원피스</b> 변기였어요. ...  동원설비 [ 전국 1시간 이내 출동 ]   \n",
       "2  Bali Shopping List 발리 쇼핑리스트 꾸따 뽀삐스거리 <b>원피스</b...            봄빛씨는 언제나 봄날   \n",
       "3  이거 할인폭 보자마자 소리 질렀는데 안 그래도 매장에서 꽂혀서 입어봤던 COS <b...         [ Won & Only ]   \n",
       "4  <b>원피스</b> 애니 1119화는 제목 그대로에요 오늘 코브라가 죽습니다 하지만...           에레키맨의 무겐 블로그   \n",
       "\n",
       "                  bloggerlink  postdate  \n",
       "0     blog.naver.com/jsi02044  20240929  \n",
       "1    blog.naver.com/bwith____  20240923  \n",
       "2     blog.naver.com/bom25bom  20240924  \n",
       "3  blog.naver.com/dnjstpdms24  20240930  \n",
       "4      blog.naver.com/ptj0969  20240915  "
      ]
     },
     "execution_count": 4,
     "metadata": {},
     "output_type": "execute_result"
    }
   ],
   "source": [
    "res_df = pd.concat(res,ignore_index=True)\n",
    "print(res_df.shape)\n",
    "res_df.head()"
   ]
  },
  {
   "cell_type": "code",
   "execution_count": 5,
   "id": "2deb5208-c05f-4f34-ad15-e556299c6c28",
   "metadata": {},
   "outputs": [
    {
     "data": {
      "text/plain": [
       "title                            <b>원피스</b> 변기 부속품교체 투피스보다 까다로워요\n",
       "link               https://blog.naver.com/bwith____/223593466406\n",
       "description    고객님 댁에 도착해서 화장실 변기를 확인해보았더니 <b>원피스</b> 변기였어요. ...\n",
       "bloggername                                동원설비 [ 전국 1시간 이내 출동 ]\n",
       "bloggerlink                             blog.naver.com/bwith____\n",
       "postdate                                                20240923\n",
       "Name: 1, dtype: object"
      ]
     },
     "execution_count": 5,
     "metadata": {},
     "output_type": "execute_result"
    }
   ],
   "source": [
    "res_df.iloc[1,:]"
   ]
  },
  {
   "cell_type": "code",
   "execution_count": 6,
   "id": "3b2e449e-d1b6-4d71-88b0-023f4ebef3bb",
   "metadata": {},
   "outputs": [
    {
     "data": {
      "text/plain": [
       "title                       여자 20대 질스튜어트 가방 <b>원피스</b> 키작녀코디 완성!\n",
       "link           https://blog.naver.com/ekdusld910111/223608663177\n",
       "description    저도 질스튜어트 가방과 질스튜어트 <b>원피스</b>를 참 좋아하는데 이번에 발견한...\n",
       "bloggername                                           다깡이의 Diary\n",
       "bloggerlink                         blog.naver.com/ekdusld910111\n",
       "postdate                                                20241006\n",
       "Name: 100, dtype: object"
      ]
     },
     "execution_count": 6,
     "metadata": {},
     "output_type": "execute_result"
    }
   ],
   "source": [
    "res_df.iloc[100,:]"
   ]
  },
  {
   "cell_type": "code",
   "execution_count": 7,
   "id": "d1295d9b-1d52-4f8a-b857-2094a864e529",
   "metadata": {},
   "outputs": [
    {
     "data": {
      "text/html": [
       "<div>\n",
       "<style scoped>\n",
       "    .dataframe tbody tr th:only-of-type {\n",
       "        vertical-align: middle;\n",
       "    }\n",
       "\n",
       "    .dataframe tbody tr th {\n",
       "        vertical-align: top;\n",
       "    }\n",
       "\n",
       "    .dataframe thead th {\n",
       "        text-align: right;\n",
       "    }\n",
       "</style>\n",
       "<table border=\"1\" class=\"dataframe\">\n",
       "  <thead>\n",
       "    <tr style=\"text-align: right;\">\n",
       "      <th></th>\n",
       "      <th>title</th>\n",
       "      <th>link</th>\n",
       "      <th>description</th>\n",
       "      <th>bloggername</th>\n",
       "      <th>bloggerlink</th>\n",
       "      <th>postdate</th>\n",
       "    </tr>\n",
       "  </thead>\n",
       "  <tbody>\n",
       "  </tbody>\n",
       "</table>\n",
       "</div>"
      ],
      "text/plain": [
       "Empty DataFrame\n",
       "Columns: [title, link, description, bloggername, bloggerlink, postdate]\n",
       "Index: []"
      ]
     },
     "execution_count": 7,
     "metadata": {},
     "output_type": "execute_result"
    }
   ],
   "source": [
    "res_df[res_df.duplicated()]"
   ]
  },
  {
   "cell_type": "code",
   "execution_count": 8,
   "id": "823e756d-e032-4e42-a09d-dbf1a979882d",
   "metadata": {},
   "outputs": [
    {
     "data": {
      "text/plain": [
       "'https://blog.naver.com/jsi02044/223600114284'"
      ]
     },
     "execution_count": 8,
     "metadata": {},
     "output_type": "execute_result"
    }
   ],
   "source": [
    "res_df['link'][0]"
   ]
  },
  {
   "cell_type": "code",
   "execution_count": null,
   "id": "a4526e95-7e72-47b7-983e-2839f398cc9d",
   "metadata": {},
   "outputs": [],
   "source": []
  }
 ],
 "metadata": {
  "kernelspec": {
   "display_name": "Python 3 (ipykernel)",
   "language": "python",
   "name": "python3"
  },
  "language_info": {
   "codemirror_mode": {
    "name": "ipython",
    "version": 3
   },
   "file_extension": ".py",
   "mimetype": "text/x-python",
   "name": "python",
   "nbconvert_exporter": "python",
   "pygments_lexer": "ipython3",
   "version": "3.12.5"
  }
 },
 "nbformat": 4,
 "nbformat_minor": 5
}
