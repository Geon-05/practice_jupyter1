{
 "cells": [
  {
   "cell_type": "code",
   "execution_count": 1,
   "id": "345425c7-a993-44f4-a70c-4dfb6514fb18",
   "metadata": {},
   "outputs": [
    {
     "data": {
      "text/plain": [
       "'C:\\\\Users\\\\go121\\\\practice_jupyter\\\\py\\\\데이터분석 및 시각화\\\\05 크롤링_01'"
      ]
     },
     "execution_count": 1,
     "metadata": {},
     "output_type": "execute_result"
    }
   ],
   "source": [
    "pwd"
   ]
  },
  {
   "cell_type": "code",
   "execution_count": 24,
   "id": "43afb395-2ac2-471d-ba17-35eb4d909401",
   "metadata": {},
   "outputs": [],
   "source": [
    "from bs4 import BeautifulSoup as bs\n",
    "import pandas as pd"
   ]
  },
  {
   "cell_type": "code",
   "execution_count": 3,
   "id": "cea01e2f-bfd8-4750-bc17-90ee9fbef521",
   "metadata": {},
   "outputs": [],
   "source": [
    "ex2 = ''' \n",
    "<html> \n",
    "    <head> \n",
    "        <h1> 사야할 과일 \n",
    "    </head> \n",
    "    <body> \n",
    "        <h1> 시장가서 사야할 과일 목록 \n",
    "            <div>\n",
    "                <p id='fruits1' class='name1' title='바나나'> 바나나 \n",
    "                    <span class = 'price'> 3000원 </span> \n",
    "                    <span class = 'count'> 10개 </span> \n",
    "                    <span class = 'store'> 바나나가게 </span> \n",
    "                    <a href = 'https://www.banana.com'> banana.com </a> \n",
    "                </p>\n",
    "            </div> \n",
    "            <div>\n",
    "                <p id='fruits2' class='name2' title='체리'> 체리 \n",
    "                    <span class = 'price'> 100원 </span> \n",
    "                    <span class = 'count'> 50개 </span> \n",
    "                    <span class = 'store'> 체리가게</span> \n",
    "                    <a href = 'https://www.cherry.com'> cherry.com </a>\n",
    "                </p> \n",
    "            </div> \n",
    "            <div>\n",
    "                <p id='fruits3' class='name3' title='오렌지'> 오렌지\n",
    "                    <span class = 'price'> 500원 </span> \n",
    "                    <span class = 'count'> 20개 </span> \n",
    "                    <span class = 'store'> 오렌지가게</span> \n",
    "                    <a href = 'https://www.orange.com'> orange.com </a>\n",
    "                </p> \n",
    "            <div> \n",
    "    </body> \n",
    "</html> '''"
   ]
  },
  {
   "cell_type": "code",
   "execution_count": 4,
   "id": "f9dbb4dd-e93d-4b4c-997e-e77ce1c27789",
   "metadata": {},
   "outputs": [],
   "source": [
    "soup = bs(ex2, 'html')"
   ]
  },
  {
   "cell_type": "code",
   "execution_count": 5,
   "id": "5ec10481-f540-43f7-b947-c270eb2c9256",
   "metadata": {},
   "outputs": [
    {
     "data": {
      "text/plain": [
       "\n",
       "<html>\n",
       "<head>\n",
       "<h1> 사야할 과일 \n",
       "    </h1></head>\n",
       "<body>\n",
       "<h1> 시장가서 사야할 과일 목록 \n",
       "            <div>\n",
       "<p class=\"name1\" id=\"fruits1\" title=\"바나나\"> 바나나 \n",
       "                    <span class=\"price\"> 3000원 </span>\n",
       "<span class=\"count\"> 10개 </span>\n",
       "<span class=\"store\"> 바나나가게 </span>\n",
       "<a href=\"https://www.banana.com\"> banana.com </a>\n",
       "</p>\n",
       "</div>\n",
       "<div>\n",
       "<p class=\"name2\" id=\"fruits2\" title=\"체리\"> 체리 \n",
       "                    <span class=\"price\"> 100원 </span>\n",
       "<span class=\"count\"> 50개 </span>\n",
       "<span class=\"store\"> 체리가게</span>\n",
       "<a href=\"https://www.cherry.com\"> cherry.com </a>\n",
       "</p>\n",
       "</div>\n",
       "<div>\n",
       "<p class=\"name3\" id=\"fruits3\" title=\"오렌지\"> 오렌지\n",
       "                    <span class=\"price\"> 500원 </span>\n",
       "<span class=\"count\"> 20개 </span>\n",
       "<span class=\"store\"> 오렌지가게</span>\n",
       "<a href=\"https://www.orange.com\"> orange.com </a>\n",
       "</p>\n",
       "<div>\n",
       "</div></div></h1></body>\n",
       "</html> "
      ]
     },
     "execution_count": 5,
     "metadata": {},
     "output_type": "execute_result"
    }
   ],
   "source": [
    "soup"
   ]
  },
  {
   "cell_type": "code",
   "execution_count": 6,
   "id": "970dd025-226c-49c2-9bee-67c6644d127a",
   "metadata": {},
   "outputs": [
    {
     "data": {
      "text/plain": [
       "' 50개 '"
      ]
     },
     "execution_count": 6,
     "metadata": {},
     "output_type": "execute_result"
    }
   ],
   "source": [
    "# 법위를 좁힌다(id='fruits2') -> 클래스 속성을 이용하여 해당 태그를 찾는다.\n",
    "soup.find(id='fruits2').find('span', 'count').text"
   ]
  },
  {
   "cell_type": "code",
   "execution_count": 19,
   "id": "bb61d19b-8fe4-417d-84ba-388ad405c918",
   "metadata": {},
   "outputs": [
    {
     "data": {
      "text/plain": [
       "' 50개 '"
      ]
     },
     "execution_count": 19,
     "metadata": {},
     "output_type": "execute_result"
    }
   ],
   "source": [
    "soup.select_one('p#fruits2 span.count').text"
   ]
  },
  {
   "cell_type": "code",
   "execution_count": 8,
   "id": "067c50f2-e4e6-4f13-b47e-c06e8b1e2e66",
   "metadata": {},
   "outputs": [
    {
     "data": {
      "text/plain": [
       "[<span class=\"count\"> 10개 </span>,\n",
       " <span class=\"count\"> 50개 </span>,\n",
       " <span class=\"count\"> 20개 </span>]"
      ]
     },
     "execution_count": 8,
     "metadata": {},
     "output_type": "execute_result"
    }
   ],
   "source": [
    "soup.find_all('span', 'count')"
   ]
  },
  {
   "cell_type": "code",
   "execution_count": 9,
   "id": "3daabd7a-3410-443e-a93c-4990f21f7e0c",
   "metadata": {},
   "outputs": [
    {
     "data": {
      "text/plain": [
       "[' 10개 ', ' 50개 ', ' 20개 ']"
      ]
     },
     "execution_count": 9,
     "metadata": {},
     "output_type": "execute_result"
    }
   ],
   "source": [
    "[i.text for i in soup.find_all('span', 'count')]"
   ]
  },
  {
   "cell_type": "code",
   "execution_count": 10,
   "id": "c19b8bc8-1263-479d-b234-0df9727748eb",
   "metadata": {},
   "outputs": [
    {
     "data": {
      "text/plain": [
       "[<span class=\"count\"> 10개 </span>,\n",
       " <span class=\"count\"> 50개 </span>,\n",
       " <span class=\"count\"> 20개 </span>]"
      ]
     },
     "execution_count": 10,
     "metadata": {},
     "output_type": "execute_result"
    }
   ],
   "source": [
    "soup.select('span.count')"
   ]
  },
  {
   "cell_type": "code",
   "execution_count": 11,
   "id": "c8bed463-98f7-4370-b80c-37821622ae8c",
   "metadata": {},
   "outputs": [
    {
     "data": {
      "text/plain": [
       "[' 10개 ', ' 50개 ', ' 20개 ']"
      ]
     },
     "execution_count": 11,
     "metadata": {},
     "output_type": "execute_result"
    }
   ],
   "source": [
    "[i.text for i in soup.select('span.count')]"
   ]
  },
  {
   "cell_type": "code",
   "execution_count": 12,
   "id": "90992fab-cb7f-4386-a52d-d6d327922a5a",
   "metadata": {},
   "outputs": [
    {
     "data": {
      "text/plain": [
       "[<a href=\"https://www.banana.com\"> banana.com </a>,\n",
       " <a href=\"https://www.cherry.com\"> cherry.com </a>,\n",
       " <a href=\"https://www.orange.com\"> orange.com </a>]"
      ]
     },
     "execution_count": 12,
     "metadata": {},
     "output_type": "execute_result"
    }
   ],
   "source": [
    "soup.find_all('a')"
   ]
  },
  {
   "cell_type": "code",
   "execution_count": 13,
   "id": "35230366-3790-49e0-8902-638eceebe007",
   "metadata": {},
   "outputs": [
    {
     "data": {
      "text/plain": [
       "'https://www.banana.com'"
      ]
     },
     "execution_count": 13,
     "metadata": {},
     "output_type": "execute_result"
    }
   ],
   "source": [
    "soup.find_all('a')[0]['href']"
   ]
  },
  {
   "cell_type": "code",
   "execution_count": 15,
   "id": "2aa29a5e-60e2-4fcc-bb09-fef34036ca76",
   "metadata": {},
   "outputs": [
    {
     "data": {
      "text/plain": [
       "['https://www.banana.com', 'https://www.cherry.com', 'https://www.orange.com']"
      ]
     },
     "execution_count": 15,
     "metadata": {},
     "output_type": "execute_result"
    }
   ],
   "source": [
    "[i['href'] for i in soup.find_all('a')]"
   ]
  },
  {
   "cell_type": "code",
   "execution_count": 18,
   "id": "8ac509e8-dbcc-4618-b082-64d044068fc4",
   "metadata": {},
   "outputs": [
    {
     "data": {
      "text/plain": [
       "'name1'"
      ]
     },
     "execution_count": 18,
     "metadata": {},
     "output_type": "execute_result"
    }
   ],
   "source": [
    "soup.find(id='fruits1')['class'][0]"
   ]
  },
  {
   "cell_type": "code",
   "execution_count": 22,
   "id": "38dc3f94-2b09-4478-8654-ac7bab7dc3d3",
   "metadata": {},
   "outputs": [
    {
     "data": {
      "text/plain": [
       "[' banana.com ', ' cherry.com ', ' orange.com ']"
      ]
     },
     "execution_count": 22,
     "metadata": {},
     "output_type": "execute_result"
    }
   ],
   "source": [
    "[i.text for i in soup.find_all('a')]\n",
    "[i['href'] for i in soup.find_all('a')]"
   ]
  },
  {
   "cell_type": "code",
   "execution_count": 23,
   "id": "a3bf9e2f-f6df-4f13-872b-8eaaaf7cc6ac",
   "metadata": {},
   "outputs": [
    {
     "data": {
      "text/plain": [
       "['https://www.banana.com', 'https://www.cherry.com', 'https://www.orange.com']"
      ]
     },
     "execution_count": 23,
     "metadata": {},
     "output_type": "execute_result"
    }
   ],
   "source": [
    "[i['href'] for i in soup.find_all('a')]"
   ]
  },
  {
   "cell_type": "code",
   "execution_count": 27,
   "id": "f68b91cc-3212-43a8-91a5-f4a78df60001",
   "metadata": {
    "scrolled": true
   },
   "outputs": [
    {
     "data": {
      "text/html": [
       "<div>\n",
       "<style scoped>\n",
       "    .dataframe tbody tr th:only-of-type {\n",
       "        vertical-align: middle;\n",
       "    }\n",
       "\n",
       "    .dataframe tbody tr th {\n",
       "        vertical-align: top;\n",
       "    }\n",
       "\n",
       "    .dataframe thead th {\n",
       "        text-align: right;\n",
       "    }\n",
       "</style>\n",
       "<table border=\"1\" class=\"dataframe\">\n",
       "  <thead>\n",
       "    <tr style=\"text-align: right;\">\n",
       "      <th></th>\n",
       "      <th>0</th>\n",
       "      <th>1</th>\n",
       "    </tr>\n",
       "  </thead>\n",
       "  <tbody>\n",
       "    <tr>\n",
       "      <th>0</th>\n",
       "      <td>https://www.banana.com</td>\n",
       "      <td>banana.com</td>\n",
       "    </tr>\n",
       "    <tr>\n",
       "      <th>1</th>\n",
       "      <td>https://www.cherry.com</td>\n",
       "      <td>cherry.com</td>\n",
       "    </tr>\n",
       "    <tr>\n",
       "      <th>2</th>\n",
       "      <td>https://www.orange.com</td>\n",
       "      <td>orange.com</td>\n",
       "    </tr>\n",
       "  </tbody>\n",
       "</table>\n",
       "</div>"
      ],
      "text/plain": [
       "                        0             1\n",
       "0  https://www.banana.com   banana.com \n",
       "1  https://www.cherry.com   cherry.com \n",
       "2  https://www.orange.com   orange.com "
      ]
     },
     "execution_count": 27,
     "metadata": {},
     "output_type": "execute_result"
    }
   ],
   "source": [
    "res = []\n",
    "for i in soup.select('a'):\n",
    "    link = i['href']\n",
    "    title = i.text\n",
    "    res.append([link,title])\n",
    "pd.DataFrame(res)"
   ]
  },
  {
   "cell_type": "code",
   "execution_count": 28,
   "id": "a026475e-8279-454c-9fdf-fb4d036aea46",
   "metadata": {},
   "outputs": [
    {
     "data": {
      "text/plain": [
       "[<a href=\"https://www.banana.com\"> banana.com </a>,\n",
       " <a href=\"https://www.cherry.com\"> cherry.com </a>,\n",
       " <a href=\"https://www.orange.com\"> orange.com </a>]"
      ]
     },
     "execution_count": 28,
     "metadata": {},
     "output_type": "execute_result"
    }
   ],
   "source": [
    "soup.select('a')"
   ]
  },
  {
   "cell_type": "code",
   "execution_count": 30,
   "id": "34802aea-a4bf-44cd-a73e-185d0bb306aa",
   "metadata": {},
   "outputs": [
    {
     "name": "stdout",
     "output_type": "stream",
     "text": [
      "[{'title': ' banana.com ', 'link': 'https://www.banana.com'}, {'title': ' cherry.com ', 'link': 'https://www.cherry.com'}, {'title': ' orange.com ', 'link': 'https://www.orange.com'}]\n"
     ]
    },
    {
     "data": {
      "text/html": [
       "<div>\n",
       "<style scoped>\n",
       "    .dataframe tbody tr th:only-of-type {\n",
       "        vertical-align: middle;\n",
       "    }\n",
       "\n",
       "    .dataframe tbody tr th {\n",
       "        vertical-align: top;\n",
       "    }\n",
       "\n",
       "    .dataframe thead th {\n",
       "        text-align: right;\n",
       "    }\n",
       "</style>\n",
       "<table border=\"1\" class=\"dataframe\">\n",
       "  <thead>\n",
       "    <tr style=\"text-align: right;\">\n",
       "      <th></th>\n",
       "      <th>title</th>\n",
       "      <th>link</th>\n",
       "    </tr>\n",
       "  </thead>\n",
       "  <tbody>\n",
       "    <tr>\n",
       "      <th>0</th>\n",
       "      <td>banana.com</td>\n",
       "      <td>https://www.banana.com</td>\n",
       "    </tr>\n",
       "    <tr>\n",
       "      <th>1</th>\n",
       "      <td>cherry.com</td>\n",
       "      <td>https://www.cherry.com</td>\n",
       "    </tr>\n",
       "    <tr>\n",
       "      <th>2</th>\n",
       "      <td>orange.com</td>\n",
       "      <td>https://www.orange.com</td>\n",
       "    </tr>\n",
       "  </tbody>\n",
       "</table>\n",
       "</div>"
      ],
      "text/plain": [
       "          title                    link\n",
       "0   banana.com   https://www.banana.com\n",
       "1   cherry.com   https://www.cherry.com\n",
       "2   orange.com   https://www.orange.com"
      ]
     },
     "execution_count": 30,
     "metadata": {},
     "output_type": "execute_result"
    }
   ],
   "source": [
    "res = []\n",
    "for i in soup.select('a'):\n",
    "    tmp = {}\n",
    "    tmp['title'] = i.text\n",
    "    tmp['link'] = i['href']\n",
    "    res.append(tmp)\n",
    "\n",
    "print(res)\n",
    "pd.DataFrame(res)"
   ]
  },
  {
   "cell_type": "code",
   "execution_count": null,
   "id": "bd4830fa-21fa-40d0-94d0-c276d3ae3122",
   "metadata": {},
   "outputs": [],
   "source": []
  }
 ],
 "metadata": {
  "kernelspec": {
   "display_name": "Python 3 (ipykernel)",
   "language": "python",
   "name": "python3"
  },
  "language_info": {
   "codemirror_mode": {
    "name": "ipython",
    "version": 3
   },
   "file_extension": ".py",
   "mimetype": "text/x-python",
   "name": "python",
   "nbconvert_exporter": "python",
   "pygments_lexer": "ipython3",
   "version": "3.12.5"
  }
 },
 "nbformat": 4,
 "nbformat_minor": 5
}
